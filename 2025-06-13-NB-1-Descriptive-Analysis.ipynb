{
 "cells": [
  {
   "cell_type": "markdown",
   "metadata": {},
   "source": [
    "---\n",
    "date: \"Monday June 16th, 2025\"\n",
    "---\n",
    "\n",
    "# Introduction to the 2024-2025 AI Job Market Dataset\n",
    "\n",
    "## Dataset Overview and Context\n",
    "\n",
    "This analysis explores the United States AI Job Market dataset from 2024-2025. The dataset contains detailed information on artificial intelligence and machine learning job postings in the United States. The dataset was sourced from [Kaggle](https://www.kaggle.com/datasets/bismasajjad/global-ai-job-market-and-salary-trends-2025) and represents a comprehensive collection of AI-related positions, including details on compensation, required skills, experience levels, and employment characteristics.\n",
    "\n",
    "## Connection to STEAMe's Mission\n",
    "\n",
    "STEAMe operates as \"The Engine for Workforce Transformation\", providing a platform that connects job seekers, training providers, and employers. Our analysis of this AI job market dataset directly supports STEAMe's mission by:\n",
    "\n",
    "1. Helping **learners** identify in-demand AI skills and promising career pathways.\n",
    "2. Enabling **employers** to benchmark their compensation offerings and skill requirements.\n",
    "3. Guiding **learning providers** in developing curricula aligned with market demands.\n",
    "4. Supporting **workforce intermediaries** in connecting system partners through data-driven insights.\n",
    "\n",
    "## Problem Statement\n",
    "\n",
    "The primary questions we aim to answer through this analysis are:\n",
    "\n",
    "1. What is the current state of the AI job market in terms of compensation, required skills, and experience levels?\n",
    "2. How do factors such as industry, company size, and job characteristics influence salary offerings?\n",
    "3. Which AI and ML skills are most valuable in today's job market?\n",
    "4. What are the optimal pathways for job seekers looking to enter or advance in AI careers?\n",
    "\n",
    "By answering these questions, we will generate actionable insights that can inform STEAMe's platform development and help stakeholders make more informed decisions about training, hiring, and career development in the AI field."
   ]
  },
  {
   "cell_type": "markdown",
   "metadata": {},
   "source": [
    "## Exploratory Data Analysis"
   ]
  },
  {
   "cell_type": "code",
   "execution_count": 31,
   "metadata": {},
   "outputs": [
    {
     "name": "stdout",
     "output_type": "stream",
     "text": [
      "Dataset shape:\n",
      "Rows: 724\n",
      "Columns: 19\n",
      "\n",
      "First 5 rows of the dataset:\n"
     ]
    },
    {
     "data": {
      "text/html": [
       "<div>\n",
       "<style scoped>\n",
       "    .dataframe tbody tr th:only-of-type {\n",
       "        vertical-align: middle;\n",
       "    }\n",
       "\n",
       "    .dataframe tbody tr th {\n",
       "        vertical-align: top;\n",
       "    }\n",
       "\n",
       "    .dataframe thead th {\n",
       "        text-align: right;\n",
       "    }\n",
       "</style>\n",
       "<table border=\"1\" class=\"dataframe\">\n",
       "  <thead>\n",
       "    <tr style=\"text-align: right;\">\n",
       "      <th></th>\n",
       "      <th>job_id</th>\n",
       "      <th>job_title</th>\n",
       "      <th>salary_usd</th>\n",
       "      <th>salary_currency</th>\n",
       "      <th>experience_level</th>\n",
       "      <th>employment_type</th>\n",
       "      <th>company_location</th>\n",
       "      <th>company_size</th>\n",
       "      <th>employee_residence</th>\n",
       "      <th>remote_ratio</th>\n",
       "      <th>required_skills</th>\n",
       "      <th>education_required</th>\n",
       "      <th>years_experience</th>\n",
       "      <th>industry</th>\n",
       "      <th>posting_date</th>\n",
       "      <th>application_deadline</th>\n",
       "      <th>job_description_length</th>\n",
       "      <th>benefits_score</th>\n",
       "      <th>company_name</th>\n",
       "    </tr>\n",
       "  </thead>\n",
       "  <tbody>\n",
       "    <tr>\n",
       "      <th>0</th>\n",
       "      <td>AI00022</td>\n",
       "      <td>Autonomous Systems Engineer</td>\n",
       "      <td>102550</td>\n",
       "      <td>USD</td>\n",
       "      <td>MI</td>\n",
       "      <td>PT</td>\n",
       "      <td>United States</td>\n",
       "      <td>M</td>\n",
       "      <td>United States</td>\n",
       "      <td>0</td>\n",
       "      <td>Tableau, Spark, NLP, TensorFlow, PyTorch</td>\n",
       "      <td>Bachelor</td>\n",
       "      <td>2</td>\n",
       "      <td>Automotive</td>\n",
       "      <td>4/23/2024</td>\n",
       "      <td>6/23/2024</td>\n",
       "      <td>625</td>\n",
       "      <td>10.0</td>\n",
       "      <td>Cognitive Computing</td>\n",
       "    </tr>\n",
       "    <tr>\n",
       "      <th>1</th>\n",
       "      <td>AI00041</td>\n",
       "      <td>Data Scientist</td>\n",
       "      <td>96956</td>\n",
       "      <td>USD</td>\n",
       "      <td>MI</td>\n",
       "      <td>FT</td>\n",
       "      <td>United States</td>\n",
       "      <td>M</td>\n",
       "      <td>China</td>\n",
       "      <td>0</td>\n",
       "      <td>Data Visualization, Azure, Spark, MLOps</td>\n",
       "      <td>Bachelor</td>\n",
       "      <td>2</td>\n",
       "      <td>Telecommunications</td>\n",
       "      <td>2/24/2024</td>\n",
       "      <td>3/9/2024</td>\n",
       "      <td>761</td>\n",
       "      <td>5.3</td>\n",
       "      <td>DataVision Ltd</td>\n",
       "    </tr>\n",
       "    <tr>\n",
       "      <th>2</th>\n",
       "      <td>AI00042</td>\n",
       "      <td>AI Architect</td>\n",
       "      <td>196954</td>\n",
       "      <td>USD</td>\n",
       "      <td>SE</td>\n",
       "      <td>FL</td>\n",
       "      <td>United States</td>\n",
       "      <td>L</td>\n",
       "      <td>United States</td>\n",
       "      <td>50</td>\n",
       "      <td>Java, Mathematics, SQL</td>\n",
       "      <td>Bachelor</td>\n",
       "      <td>8</td>\n",
       "      <td>Finance</td>\n",
       "      <td>3/17/2025</td>\n",
       "      <td>4/16/2025</td>\n",
       "      <td>2290</td>\n",
       "      <td>7.5</td>\n",
       "      <td>DataVision Ltd</td>\n",
       "    </tr>\n",
       "    <tr>\n",
       "      <th>3</th>\n",
       "      <td>AI00046</td>\n",
       "      <td>AI Research Scientist</td>\n",
       "      <td>174663</td>\n",
       "      <td>USD</td>\n",
       "      <td>SE</td>\n",
       "      <td>CT</td>\n",
       "      <td>United States</td>\n",
       "      <td>M</td>\n",
       "      <td>Singapore</td>\n",
       "      <td>50</td>\n",
       "      <td>Data Visualization, Statistics, R</td>\n",
       "      <td>Associate</td>\n",
       "      <td>7</td>\n",
       "      <td>Media</td>\n",
       "      <td>1/10/2024</td>\n",
       "      <td>3/22/2024</td>\n",
       "      <td>1151</td>\n",
       "      <td>5.4</td>\n",
       "      <td>DeepTech Ventures</td>\n",
       "    </tr>\n",
       "    <tr>\n",
       "      <th>4</th>\n",
       "      <td>AI00053</td>\n",
       "      <td>Research Scientist</td>\n",
       "      <td>106579</td>\n",
       "      <td>USD</td>\n",
       "      <td>MI</td>\n",
       "      <td>PT</td>\n",
       "      <td>United States</td>\n",
       "      <td>S</td>\n",
       "      <td>United States</td>\n",
       "      <td>100</td>\n",
       "      <td>Docker, Tableau, Mathematics</td>\n",
       "      <td>Associate</td>\n",
       "      <td>3</td>\n",
       "      <td>Gaming</td>\n",
       "      <td>2/24/2024</td>\n",
       "      <td>5/2/2024</td>\n",
       "      <td>2028</td>\n",
       "      <td>5.4</td>\n",
       "      <td>Cognitive Computing</td>\n",
       "    </tr>\n",
       "  </tbody>\n",
       "</table>\n",
       "</div>"
      ],
      "text/plain": [
       "    job_id                    job_title  salary_usd salary_currency  \\\n",
       "0  AI00022  Autonomous Systems Engineer      102550             USD   \n",
       "1  AI00041               Data Scientist       96956             USD   \n",
       "2  AI00042                 AI Architect      196954             USD   \n",
       "3  AI00046        AI Research Scientist      174663             USD   \n",
       "4  AI00053           Research Scientist      106579             USD   \n",
       "\n",
       "  experience_level employment_type company_location company_size  \\\n",
       "0               MI              PT    United States            M   \n",
       "1               MI              FT    United States            M   \n",
       "2               SE              FL    United States            L   \n",
       "3               SE              CT    United States            M   \n",
       "4               MI              PT    United States            S   \n",
       "\n",
       "  employee_residence  remote_ratio                           required_skills  \\\n",
       "0      United States             0  Tableau, Spark, NLP, TensorFlow, PyTorch   \n",
       "1              China             0   Data Visualization, Azure, Spark, MLOps   \n",
       "2      United States            50                    Java, Mathematics, SQL   \n",
       "3          Singapore            50         Data Visualization, Statistics, R   \n",
       "4      United States           100              Docker, Tableau, Mathematics   \n",
       "\n",
       "  education_required  years_experience            industry posting_date  \\\n",
       "0           Bachelor                 2          Automotive    4/23/2024   \n",
       "1           Bachelor                 2  Telecommunications    2/24/2024   \n",
       "2           Bachelor                 8             Finance    3/17/2025   \n",
       "3          Associate                 7               Media    1/10/2024   \n",
       "4          Associate                 3              Gaming    2/24/2024   \n",
       "\n",
       "  application_deadline  job_description_length  benefits_score  \\\n",
       "0            6/23/2024                     625            10.0   \n",
       "1             3/9/2024                     761             5.3   \n",
       "2            4/16/2025                    2290             7.5   \n",
       "3            3/22/2024                    1151             5.4   \n",
       "4             5/2/2024                    2028             5.4   \n",
       "\n",
       "          company_name  \n",
       "0  Cognitive Computing  \n",
       "1       DataVision Ltd  \n",
       "2       DataVision Ltd  \n",
       "3    DeepTech Ventures  \n",
       "4  Cognitive Computing  "
      ]
     },
     "metadata": {},
     "output_type": "display_data"
    }
   ],
   "source": [
    "# Imports\n",
    "import pandas as pd\n",
    "import numpy as np\n",
    "import matplotlib.pyplot as plt\n",
    "import seaborn as sns\n",
    "import plotly.express as px\n",
    "import plotly.graph_objects as go\n",
    "import plotly.subplots as make_subplots\n",
    "\n",
    "# Set visualization styles\n",
    "plt.style.use(\"seaborn-v0_8-whitegrid\")\n",
    "sns.set_palette(\"colorblind\")\n",
    "\n",
    "# Load the dataset\n",
    "full_df = pd.read_csv(\"./data/ai_job_dataset_united_states.csv\", header=0)\n",
    "\n",
    "# Display the count of the rows and columns\n",
    "print(f\"Dataset shape:\\nRows: {full_df.shape[0]}\\nColumns: {full_df.shape[1]}\")\n",
    "print(\"\\nFirst 5 rows of the dataset:\")\n",
    "display(full_df.head(5))"
   ]
  },
  {
   "cell_type": "code",
   "execution_count": 32,
   "metadata": {},
   "outputs": [
    {
     "name": "stdout",
     "output_type": "stream",
     "text": [
      "Data Types:\n"
     ]
    },
    {
     "data": {
      "text/plain": [
       "job_id                     object\n",
       "job_title                  object\n",
       "salary_usd                  int64\n",
       "salary_currency            object\n",
       "experience_level           object\n",
       "employment_type            object\n",
       "company_location           object\n",
       "company_size               object\n",
       "employee_residence         object\n",
       "remote_ratio                int64\n",
       "required_skills            object\n",
       "education_required         object\n",
       "years_experience            int64\n",
       "industry                   object\n",
       "posting_date               object\n",
       "application_deadline       object\n",
       "job_description_length      int64\n",
       "benefits_score            float64\n",
       "company_name               object\n",
       "dtype: object"
      ]
     },
     "metadata": {},
     "output_type": "display_data"
    }
   ],
   "source": [
    "# Summary of the data types\n",
    "print(\"Data Types:\")\n",
    "display(full_df.dtypes)"
   ]
  },
  {
   "cell_type": "code",
   "execution_count": 33,
   "metadata": {},
   "outputs": [
    {
     "name": "stdout",
     "output_type": "stream",
     "text": [
      "Summary statistics:\n"
     ]
    },
    {
     "data": {
      "text/html": [
       "<div>\n",
       "<style scoped>\n",
       "    .dataframe tbody tr th:only-of-type {\n",
       "        vertical-align: middle;\n",
       "    }\n",
       "\n",
       "    .dataframe tbody tr th {\n",
       "        vertical-align: top;\n",
       "    }\n",
       "\n",
       "    .dataframe thead th {\n",
       "        text-align: right;\n",
       "    }\n",
       "</style>\n",
       "<table border=\"1\" class=\"dataframe\">\n",
       "  <thead>\n",
       "    <tr style=\"text-align: right;\">\n",
       "      <th></th>\n",
       "      <th>salary_usd</th>\n",
       "      <th>remote_ratio</th>\n",
       "      <th>years_experience</th>\n",
       "      <th>job_description_length</th>\n",
       "      <th>benefits_score</th>\n",
       "    </tr>\n",
       "  </thead>\n",
       "  <tbody>\n",
       "    <tr>\n",
       "      <th>count</th>\n",
       "      <td>724.000000</td>\n",
       "      <td>724.000000</td>\n",
       "      <td>724.000000</td>\n",
       "      <td>724.000000</td>\n",
       "      <td>724.000000</td>\n",
       "    </tr>\n",
       "    <tr>\n",
       "      <th>mean</th>\n",
       "      <td>146833.045580</td>\n",
       "      <td>48.895028</td>\n",
       "      <td>6.367403</td>\n",
       "      <td>1493.426796</td>\n",
       "      <td>7.568508</td>\n",
       "    </tr>\n",
       "    <tr>\n",
       "      <th>std</th>\n",
       "      <td>66654.990254</td>\n",
       "      <td>41.648533</td>\n",
       "      <td>5.549260</td>\n",
       "      <td>571.540994</td>\n",
       "      <td>1.469855</td>\n",
       "    </tr>\n",
       "    <tr>\n",
       "      <th>min</th>\n",
       "      <td>54512.000000</td>\n",
       "      <td>0.000000</td>\n",
       "      <td>0.000000</td>\n",
       "      <td>500.000000</td>\n",
       "      <td>5.000000</td>\n",
       "    </tr>\n",
       "    <tr>\n",
       "      <th>25%</th>\n",
       "      <td>93625.750000</td>\n",
       "      <td>0.000000</td>\n",
       "      <td>2.000000</td>\n",
       "      <td>998.000000</td>\n",
       "      <td>6.275000</td>\n",
       "    </tr>\n",
       "    <tr>\n",
       "      <th>50%</th>\n",
       "      <td>128606.000000</td>\n",
       "      <td>50.000000</td>\n",
       "      <td>5.000000</td>\n",
       "      <td>1493.500000</td>\n",
       "      <td>7.700000</td>\n",
       "    </tr>\n",
       "    <tr>\n",
       "      <th>75%</th>\n",
       "      <td>187721.500000</td>\n",
       "      <td>100.000000</td>\n",
       "      <td>10.000000</td>\n",
       "      <td>2002.250000</td>\n",
       "      <td>8.900000</td>\n",
       "    </tr>\n",
       "    <tr>\n",
       "      <th>max</th>\n",
       "      <td>344471.000000</td>\n",
       "      <td>100.000000</td>\n",
       "      <td>19.000000</td>\n",
       "      <td>2493.000000</td>\n",
       "      <td>10.000000</td>\n",
       "    </tr>\n",
       "  </tbody>\n",
       "</table>\n",
       "</div>"
      ],
      "text/plain": [
       "          salary_usd  remote_ratio  years_experience  job_description_length  \\\n",
       "count     724.000000    724.000000        724.000000              724.000000   \n",
       "mean   146833.045580     48.895028          6.367403             1493.426796   \n",
       "std     66654.990254     41.648533          5.549260              571.540994   \n",
       "min     54512.000000      0.000000          0.000000              500.000000   \n",
       "25%     93625.750000      0.000000          2.000000              998.000000   \n",
       "50%    128606.000000     50.000000          5.000000             1493.500000   \n",
       "75%    187721.500000    100.000000         10.000000             2002.250000   \n",
       "max    344471.000000    100.000000         19.000000             2493.000000   \n",
       "\n",
       "       benefits_score  \n",
       "count      724.000000  \n",
       "mean         7.568508  \n",
       "std          1.469855  \n",
       "min          5.000000  \n",
       "25%          6.275000  \n",
       "50%          7.700000  \n",
       "75%          8.900000  \n",
       "max         10.000000  "
      ]
     },
     "metadata": {},
     "output_type": "display_data"
    }
   ],
   "source": [
    "# Summary statistics for numerical columns\n",
    "print(\"Summary statistics:\")\n",
    "display(full_df.describe())"
   ]
  },
  {
   "cell_type": "code",
   "execution_count": 34,
   "metadata": {},
   "outputs": [
    {
     "name": "stdout",
     "output_type": "stream",
     "text": [
      "Missing values:\n",
      "No missing values found.\n"
     ]
    }
   ],
   "source": [
    "# Check for missing values\n",
    "print(\"Missing values:\")\n",
    "missing_values = full_df.isnull().sum()\n",
    "missing_percentage = (missing_values / len(full_df)) * 100\n",
    "missing_info = pd.DataFrame({\n",
    "    \"Missing_Values\": missing_values,\n",
    "    \"Percentage\": missing_percentage\n",
    "})\n",
    "if missing_info[missing_info[\"Missing_Values\"] > 0].to_numpy().tolist() == []:\n",
    "    print(\"No missing values found.\")\n",
    "else:\n",
    "    display(missing_info[missing_info[\"Missing_Values\"] > 0])"
   ]
  },
  {
   "cell_type": "code",
   "execution_count": 35,
   "metadata": {},
   "outputs": [
    {
     "name": "stdout",
     "output_type": "stream",
     "text": [
      "Unique values in categorial columns:\n",
      "job_id: 724 unique values\n",
      "job_title: 20 unique values\n",
      "salary_currency: 1 unique values\n",
      "experience_level: 4 unique values\n",
      "employment_type: 4 unique values\n",
      "company_location: 1 unique values\n",
      "company_size: 3 unique values\n",
      "employee_residence: 20 unique values\n",
      "required_skills: 720 unique values\n",
      "education_required: 4 unique values\n",
      "industry: 15 unique values\n",
      "posting_date: 382 unique values\n",
      "application_deadline: 380 unique values\n",
      "company_name: 16 unique values\n"
     ]
    }
   ],
   "source": [
    "# Count of unique values for categorical columns\n",
    "print(\"Unique values in categorial columns:\")\n",
    "categorical_columns = full_df.select_dtypes(include=[\"object\"]).columns\n",
    "for col in categorical_columns:\n",
    "    print(f\"{col}: {full_df[col].nunique()} unique values\")"
   ]
  },
  {
   "cell_type": "code",
   "execution_count": 36,
   "metadata": {},
   "outputs": [
    {
     "data": {
      "application/vnd.plotly.v1+json": {
       "config": {
        "plotlyServerURL": "https://plot.ly"
       },
       "data": [
        {
         "hovertemplate": "Count=%{x}<br>Job Title=%{y}<br>color=%{marker.color}<extra></extra>",
         "legendgroup": "",
         "marker": {
          "color": {
           "bdata": "KyoqKikoKCgmJQ==",
           "dtype": "i1"
          },
          "coloraxis": "coloraxis",
          "pattern": {
           "shape": ""
          }
         },
         "name": "",
         "orientation": "h",
         "showlegend": false,
         "textposition": "auto",
         "type": "bar",
         "x": {
          "bdata": "KyoqKikoKCgmJQ==",
          "dtype": "i1"
         },
         "xaxis": "x",
         "y": [
          "Data Scientist",
          "Data Analyst",
          "Principal Data Scientist",
          "AI Specialist",
          "AI Architect",
          "Autonomous Systems Engineer",
          "AI Research Scientist",
          "Robotics Engineer",
          "Head of AI",
          "Data Engineer"
         ],
         "yaxis": "y"
        }
       ],
       "layout": {
        "barmode": "relative",
        "coloraxis": {
         "colorbar": {
          "title": {
           "text": "color"
          }
         },
         "colorscale": [
          [
           0,
           "#440154"
          ],
          [
           0.1111111111111111,
           "#482878"
          ],
          [
           0.2222222222222222,
           "#3e4989"
          ],
          [
           0.3333333333333333,
           "#31688e"
          ],
          [
           0.4444444444444444,
           "#26828e"
          ],
          [
           0.5555555555555556,
           "#1f9e89"
          ],
          [
           0.6666666666666666,
           "#35b779"
          ],
          [
           0.7777777777777778,
           "#6ece58"
          ],
          [
           0.8888888888888888,
           "#b5de2b"
          ],
          [
           1,
           "#fde725"
          ]
         ]
        },
        "height": 500,
        "legend": {
         "tracegroupgap": 0
        },
        "template": {
         "data": {
          "bar": [
           {
            "error_x": {
             "color": "#2a3f5f"
            },
            "error_y": {
             "color": "#2a3f5f"
            },
            "marker": {
             "line": {
              "color": "#E5ECF6",
              "width": 0.5
             },
             "pattern": {
              "fillmode": "overlay",
              "size": 10,
              "solidity": 0.2
             }
            },
            "type": "bar"
           }
          ],
          "barpolar": [
           {
            "marker": {
             "line": {
              "color": "#E5ECF6",
              "width": 0.5
             },
             "pattern": {
              "fillmode": "overlay",
              "size": 10,
              "solidity": 0.2
             }
            },
            "type": "barpolar"
           }
          ],
          "carpet": [
           {
            "aaxis": {
             "endlinecolor": "#2a3f5f",
             "gridcolor": "white",
             "linecolor": "white",
             "minorgridcolor": "white",
             "startlinecolor": "#2a3f5f"
            },
            "baxis": {
             "endlinecolor": "#2a3f5f",
             "gridcolor": "white",
             "linecolor": "white",
             "minorgridcolor": "white",
             "startlinecolor": "#2a3f5f"
            },
            "type": "carpet"
           }
          ],
          "choropleth": [
           {
            "colorbar": {
             "outlinewidth": 0,
             "ticks": ""
            },
            "type": "choropleth"
           }
          ],
          "contour": [
           {
            "colorbar": {
             "outlinewidth": 0,
             "ticks": ""
            },
            "colorscale": [
             [
              0,
              "#0d0887"
             ],
             [
              0.1111111111111111,
              "#46039f"
             ],
             [
              0.2222222222222222,
              "#7201a8"
             ],
             [
              0.3333333333333333,
              "#9c179e"
             ],
             [
              0.4444444444444444,
              "#bd3786"
             ],
             [
              0.5555555555555556,
              "#d8576b"
             ],
             [
              0.6666666666666666,
              "#ed7953"
             ],
             [
              0.7777777777777778,
              "#fb9f3a"
             ],
             [
              0.8888888888888888,
              "#fdca26"
             ],
             [
              1,
              "#f0f921"
             ]
            ],
            "type": "contour"
           }
          ],
          "contourcarpet": [
           {
            "colorbar": {
             "outlinewidth": 0,
             "ticks": ""
            },
            "type": "contourcarpet"
           }
          ],
          "heatmap": [
           {
            "colorbar": {
             "outlinewidth": 0,
             "ticks": ""
            },
            "colorscale": [
             [
              0,
              "#0d0887"
             ],
             [
              0.1111111111111111,
              "#46039f"
             ],
             [
              0.2222222222222222,
              "#7201a8"
             ],
             [
              0.3333333333333333,
              "#9c179e"
             ],
             [
              0.4444444444444444,
              "#bd3786"
             ],
             [
              0.5555555555555556,
              "#d8576b"
             ],
             [
              0.6666666666666666,
              "#ed7953"
             ],
             [
              0.7777777777777778,
              "#fb9f3a"
             ],
             [
              0.8888888888888888,
              "#fdca26"
             ],
             [
              1,
              "#f0f921"
             ]
            ],
            "type": "heatmap"
           }
          ],
          "histogram": [
           {
            "marker": {
             "pattern": {
              "fillmode": "overlay",
              "size": 10,
              "solidity": 0.2
             }
            },
            "type": "histogram"
           }
          ],
          "histogram2d": [
           {
            "colorbar": {
             "outlinewidth": 0,
             "ticks": ""
            },
            "colorscale": [
             [
              0,
              "#0d0887"
             ],
             [
              0.1111111111111111,
              "#46039f"
             ],
             [
              0.2222222222222222,
              "#7201a8"
             ],
             [
              0.3333333333333333,
              "#9c179e"
             ],
             [
              0.4444444444444444,
              "#bd3786"
             ],
             [
              0.5555555555555556,
              "#d8576b"
             ],
             [
              0.6666666666666666,
              "#ed7953"
             ],
             [
              0.7777777777777778,
              "#fb9f3a"
             ],
             [
              0.8888888888888888,
              "#fdca26"
             ],
             [
              1,
              "#f0f921"
             ]
            ],
            "type": "histogram2d"
           }
          ],
          "histogram2dcontour": [
           {
            "colorbar": {
             "outlinewidth": 0,
             "ticks": ""
            },
            "colorscale": [
             [
              0,
              "#0d0887"
             ],
             [
              0.1111111111111111,
              "#46039f"
             ],
             [
              0.2222222222222222,
              "#7201a8"
             ],
             [
              0.3333333333333333,
              "#9c179e"
             ],
             [
              0.4444444444444444,
              "#bd3786"
             ],
             [
              0.5555555555555556,
              "#d8576b"
             ],
             [
              0.6666666666666666,
              "#ed7953"
             ],
             [
              0.7777777777777778,
              "#fb9f3a"
             ],
             [
              0.8888888888888888,
              "#fdca26"
             ],
             [
              1,
              "#f0f921"
             ]
            ],
            "type": "histogram2dcontour"
           }
          ],
          "mesh3d": [
           {
            "colorbar": {
             "outlinewidth": 0,
             "ticks": ""
            },
            "type": "mesh3d"
           }
          ],
          "parcoords": [
           {
            "line": {
             "colorbar": {
              "outlinewidth": 0,
              "ticks": ""
             }
            },
            "type": "parcoords"
           }
          ],
          "pie": [
           {
            "automargin": true,
            "type": "pie"
           }
          ],
          "scatter": [
           {
            "fillpattern": {
             "fillmode": "overlay",
             "size": 10,
             "solidity": 0.2
            },
            "type": "scatter"
           }
          ],
          "scatter3d": [
           {
            "line": {
             "colorbar": {
              "outlinewidth": 0,
              "ticks": ""
             }
            },
            "marker": {
             "colorbar": {
              "outlinewidth": 0,
              "ticks": ""
             }
            },
            "type": "scatter3d"
           }
          ],
          "scattercarpet": [
           {
            "marker": {
             "colorbar": {
              "outlinewidth": 0,
              "ticks": ""
             }
            },
            "type": "scattercarpet"
           }
          ],
          "scattergeo": [
           {
            "marker": {
             "colorbar": {
              "outlinewidth": 0,
              "ticks": ""
             }
            },
            "type": "scattergeo"
           }
          ],
          "scattergl": [
           {
            "marker": {
             "colorbar": {
              "outlinewidth": 0,
              "ticks": ""
             }
            },
            "type": "scattergl"
           }
          ],
          "scattermap": [
           {
            "marker": {
             "colorbar": {
              "outlinewidth": 0,
              "ticks": ""
             }
            },
            "type": "scattermap"
           }
          ],
          "scattermapbox": [
           {
            "marker": {
             "colorbar": {
              "outlinewidth": 0,
              "ticks": ""
             }
            },
            "type": "scattermapbox"
           }
          ],
          "scatterpolar": [
           {
            "marker": {
             "colorbar": {
              "outlinewidth": 0,
              "ticks": ""
             }
            },
            "type": "scatterpolar"
           }
          ],
          "scatterpolargl": [
           {
            "marker": {
             "colorbar": {
              "outlinewidth": 0,
              "ticks": ""
             }
            },
            "type": "scatterpolargl"
           }
          ],
          "scatterternary": [
           {
            "marker": {
             "colorbar": {
              "outlinewidth": 0,
              "ticks": ""
             }
            },
            "type": "scatterternary"
           }
          ],
          "surface": [
           {
            "colorbar": {
             "outlinewidth": 0,
             "ticks": ""
            },
            "colorscale": [
             [
              0,
              "#0d0887"
             ],
             [
              0.1111111111111111,
              "#46039f"
             ],
             [
              0.2222222222222222,
              "#7201a8"
             ],
             [
              0.3333333333333333,
              "#9c179e"
             ],
             [
              0.4444444444444444,
              "#bd3786"
             ],
             [
              0.5555555555555556,
              "#d8576b"
             ],
             [
              0.6666666666666666,
              "#ed7953"
             ],
             [
              0.7777777777777778,
              "#fb9f3a"
             ],
             [
              0.8888888888888888,
              "#fdca26"
             ],
             [
              1,
              "#f0f921"
             ]
            ],
            "type": "surface"
           }
          ],
          "table": [
           {
            "cells": {
             "fill": {
              "color": "#EBF0F8"
             },
             "line": {
              "color": "white"
             }
            },
            "header": {
             "fill": {
              "color": "#C8D4E3"
             },
             "line": {
              "color": "white"
             }
            },
            "type": "table"
           }
          ]
         },
         "layout": {
          "annotationdefaults": {
           "arrowcolor": "#2a3f5f",
           "arrowhead": 0,
           "arrowwidth": 1
          },
          "autotypenumbers": "strict",
          "coloraxis": {
           "colorbar": {
            "outlinewidth": 0,
            "ticks": ""
           }
          },
          "colorscale": {
           "diverging": [
            [
             0,
             "#8e0152"
            ],
            [
             0.1,
             "#c51b7d"
            ],
            [
             0.2,
             "#de77ae"
            ],
            [
             0.3,
             "#f1b6da"
            ],
            [
             0.4,
             "#fde0ef"
            ],
            [
             0.5,
             "#f7f7f7"
            ],
            [
             0.6,
             "#e6f5d0"
            ],
            [
             0.7,
             "#b8e186"
            ],
            [
             0.8,
             "#7fbc41"
            ],
            [
             0.9,
             "#4d9221"
            ],
            [
             1,
             "#276419"
            ]
           ],
           "sequential": [
            [
             0,
             "#0d0887"
            ],
            [
             0.1111111111111111,
             "#46039f"
            ],
            [
             0.2222222222222222,
             "#7201a8"
            ],
            [
             0.3333333333333333,
             "#9c179e"
            ],
            [
             0.4444444444444444,
             "#bd3786"
            ],
            [
             0.5555555555555556,
             "#d8576b"
            ],
            [
             0.6666666666666666,
             "#ed7953"
            ],
            [
             0.7777777777777778,
             "#fb9f3a"
            ],
            [
             0.8888888888888888,
             "#fdca26"
            ],
            [
             1,
             "#f0f921"
            ]
           ],
           "sequentialminus": [
            [
             0,
             "#0d0887"
            ],
            [
             0.1111111111111111,
             "#46039f"
            ],
            [
             0.2222222222222222,
             "#7201a8"
            ],
            [
             0.3333333333333333,
             "#9c179e"
            ],
            [
             0.4444444444444444,
             "#bd3786"
            ],
            [
             0.5555555555555556,
             "#d8576b"
            ],
            [
             0.6666666666666666,
             "#ed7953"
            ],
            [
             0.7777777777777778,
             "#fb9f3a"
            ],
            [
             0.8888888888888888,
             "#fdca26"
            ],
            [
             1,
             "#f0f921"
            ]
           ]
          },
          "colorway": [
           "#636efa",
           "#EF553B",
           "#00cc96",
           "#ab63fa",
           "#FFA15A",
           "#19d3f3",
           "#FF6692",
           "#B6E880",
           "#FF97FF",
           "#FECB52"
          ],
          "font": {
           "color": "#2a3f5f"
          },
          "geo": {
           "bgcolor": "white",
           "lakecolor": "white",
           "landcolor": "#E5ECF6",
           "showlakes": true,
           "showland": true,
           "subunitcolor": "white"
          },
          "hoverlabel": {
           "align": "left"
          },
          "hovermode": "closest",
          "mapbox": {
           "style": "light"
          },
          "paper_bgcolor": "white",
          "plot_bgcolor": "#E5ECF6",
          "polar": {
           "angularaxis": {
            "gridcolor": "white",
            "linecolor": "white",
            "ticks": ""
           },
           "bgcolor": "#E5ECF6",
           "radialaxis": {
            "gridcolor": "white",
            "linecolor": "white",
            "ticks": ""
           }
          },
          "scene": {
           "xaxis": {
            "backgroundcolor": "#E5ECF6",
            "gridcolor": "white",
            "gridwidth": 2,
            "linecolor": "white",
            "showbackground": true,
            "ticks": "",
            "zerolinecolor": "white"
           },
           "yaxis": {
            "backgroundcolor": "#E5ECF6",
            "gridcolor": "white",
            "gridwidth": 2,
            "linecolor": "white",
            "showbackground": true,
            "ticks": "",
            "zerolinecolor": "white"
           },
           "zaxis": {
            "backgroundcolor": "#E5ECF6",
            "gridcolor": "white",
            "gridwidth": 2,
            "linecolor": "white",
            "showbackground": true,
            "ticks": "",
            "zerolinecolor": "white"
           }
          },
          "shapedefaults": {
           "line": {
            "color": "#2a3f5f"
           }
          },
          "ternary": {
           "aaxis": {
            "gridcolor": "white",
            "linecolor": "white",
            "ticks": ""
           },
           "baxis": {
            "gridcolor": "white",
            "linecolor": "white",
            "ticks": ""
           },
           "bgcolor": "#E5ECF6",
           "caxis": {
            "gridcolor": "white",
            "linecolor": "white",
            "ticks": ""
           }
          },
          "title": {
           "x": 0.05
          },
          "xaxis": {
           "automargin": true,
           "gridcolor": "white",
           "linecolor": "white",
           "ticks": "",
           "title": {
            "standoff": 15
           },
           "zerolinecolor": "white",
           "zerolinewidth": 2
          },
          "yaxis": {
           "automargin": true,
           "gridcolor": "white",
           "linecolor": "white",
           "ticks": "",
           "title": {
            "standoff": 15
           },
           "zerolinecolor": "white",
           "zerolinewidth": 2
          }
         }
        },
        "title": {
         "text": "Top 10 AI Job Titles"
        },
        "width": 800,
        "xaxis": {
         "anchor": "y",
         "domain": [
          0,
          1
         ],
         "title": {
          "text": "Count"
         }
        },
        "yaxis": {
         "anchor": "x",
         "categoryorder": "total ascending",
         "domain": [
          0,
          1
         ],
         "title": {
          "text": "Job Title"
         }
        }
       }
      }
     },
     "metadata": {},
     "output_type": "display_data"
    }
   ],
   "source": [
    "# Visualize the distribution of job titles\n",
    "job_title_counts = full_df[\"job_title\"].value_counts().sort_values(ascending=False).head(10)\n",
    "fig1 = px.bar(\n",
    "    x=job_title_counts.values,\n",
    "    y=job_title_counts.index,\n",
    "    orientation=\"h\",\n",
    "    title=\"Top 10 AI Job Titles\",\n",
    "    labels={\"x\": \"Count\", \"y\": \"Job Title\"},\n",
    "    color=job_title_counts.values,\n",
    "    color_continuous_scale=\"Viridis\"\n",
    ")\n",
    "fig1.update_layout(\n",
    "    height=500,\n",
    "    width=800,\n",
    "    yaxis={\"categoryorder\": \"total ascending\"}\n",
    ")\n",
    "fig1.show()"
   ]
  },
  {
   "cell_type": "code",
   "execution_count": 37,
   "metadata": {},
   "outputs": [
    {
     "data": {
      "application/vnd.plotly.v1+json": {
       "config": {
        "plotlyServerURL": "https://plot.ly"
       },
       "data": [
        {
         "bingroup": "x",
         "hovertemplate": "Salary (USD)=%{x}<br>count=%{y}<extra></extra>",
         "legendgroup": "",
         "marker": {
          "color": "#636EFA",
          "opacity": 0.7,
          "pattern": {
           "shape": ""
          }
         },
         "name": "",
         "orientation": "v",
         "showlegend": false,
         "type": "histogram",
         "x": {
          "bdata": "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",
          "dtype": "i4"
         },
         "xaxis": "x",
         "yaxis": "y"
        },
        {
         "hovertemplate": "Salary (USD)=%{x}<extra></extra>",
         "legendgroup": "",
         "marker": {
          "color": "#636EFA"
         },
         "name": "",
         "notched": true,
         "showlegend": false,
         "type": "box",
         "x": {
          "bdata": "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",
          "dtype": "i4"
         },
         "xaxis": "x2",
         "yaxis": "y2"
        }
       ],
       "layout": {
        "annotations": [
         {
          "showarrow": false,
          "text": "Mean: $146,833",
          "x": 146833.04558011048,
          "xanchor": "left",
          "xref": "x",
          "y": 1,
          "yanchor": "top",
          "yref": "y domain"
         },
         {
          "showarrow": false,
          "text": "Mean: $146,833",
          "x": 146833.04558011048,
          "xanchor": "left",
          "xref": "x2",
          "y": 1,
          "yanchor": "top",
          "yref": "y2 domain"
         },
         {
          "showarrow": false,
          "text": "Median: $128,606",
          "x": 128606,
          "xanchor": "right",
          "xref": "x",
          "y": 1,
          "yanchor": "top",
          "yref": "y domain"
         },
         {
          "showarrow": false,
          "text": "Median: $128,606",
          "x": 128606,
          "xanchor": "right",
          "xref": "x2",
          "y": 1,
          "yanchor": "top",
          "yref": "y2 domain"
         }
        ],
        "barmode": "relative",
        "height": 500,
        "legend": {
         "tracegroupgap": 0
        },
        "shapes": [
         {
          "line": {
           "color": "red",
           "dash": "dash"
          },
          "type": "line",
          "x0": 146833.04558011048,
          "x1": 146833.04558011048,
          "xref": "x",
          "y0": 0,
          "y1": 1,
          "yref": "y domain"
         },
         {
          "line": {
           "color": "red",
           "dash": "dash"
          },
          "type": "line",
          "x0": 146833.04558011048,
          "x1": 146833.04558011048,
          "xref": "x2",
          "y0": 0,
          "y1": 1,
          "yref": "y2 domain"
         },
         {
          "line": {
           "color": "blue",
           "dash": "dash"
          },
          "type": "line",
          "x0": 128606,
          "x1": 128606,
          "xref": "x",
          "y0": 0,
          "y1": 1,
          "yref": "y domain"
         },
         {
          "line": {
           "color": "blue",
           "dash": "dash"
          },
          "type": "line",
          "x0": 128606,
          "x1": 128606,
          "xref": "x2",
          "y0": 0,
          "y1": 1,
          "yref": "y2 domain"
         }
        ],
        "template": {
         "data": {
          "bar": [
           {
            "error_x": {
             "color": "#2a3f5f"
            },
            "error_y": {
             "color": "#2a3f5f"
            },
            "marker": {
             "line": {
              "color": "#E5ECF6",
              "width": 0.5
             },
             "pattern": {
              "fillmode": "overlay",
              "size": 10,
              "solidity": 0.2
             }
            },
            "type": "bar"
           }
          ],
          "barpolar": [
           {
            "marker": {
             "line": {
              "color": "#E5ECF6",
              "width": 0.5
             },
             "pattern": {
              "fillmode": "overlay",
              "size": 10,
              "solidity": 0.2
             }
            },
            "type": "barpolar"
           }
          ],
          "carpet": [
           {
            "aaxis": {
             "endlinecolor": "#2a3f5f",
             "gridcolor": "white",
             "linecolor": "white",
             "minorgridcolor": "white",
             "startlinecolor": "#2a3f5f"
            },
            "baxis": {
             "endlinecolor": "#2a3f5f",
             "gridcolor": "white",
             "linecolor": "white",
             "minorgridcolor": "white",
             "startlinecolor": "#2a3f5f"
            },
            "type": "carpet"
           }
          ],
          "choropleth": [
           {
            "colorbar": {
             "outlinewidth": 0,
             "ticks": ""
            },
            "type": "choropleth"
           }
          ],
          "contour": [
           {
            "colorbar": {
             "outlinewidth": 0,
             "ticks": ""
            },
            "colorscale": [
             [
              0,
              "#0d0887"
             ],
             [
              0.1111111111111111,
              "#46039f"
             ],
             [
              0.2222222222222222,
              "#7201a8"
             ],
             [
              0.3333333333333333,
              "#9c179e"
             ],
             [
              0.4444444444444444,
              "#bd3786"
             ],
             [
              0.5555555555555556,
              "#d8576b"
             ],
             [
              0.6666666666666666,
              "#ed7953"
             ],
             [
              0.7777777777777778,
              "#fb9f3a"
             ],
             [
              0.8888888888888888,
              "#fdca26"
             ],
             [
              1,
              "#f0f921"
             ]
            ],
            "type": "contour"
           }
          ],
          "contourcarpet": [
           {
            "colorbar": {
             "outlinewidth": 0,
             "ticks": ""
            },
            "type": "contourcarpet"
           }
          ],
          "heatmap": [
           {
            "colorbar": {
             "outlinewidth": 0,
             "ticks": ""
            },
            "colorscale": [
             [
              0,
              "#0d0887"
             ],
             [
              0.1111111111111111,
              "#46039f"
             ],
             [
              0.2222222222222222,
              "#7201a8"
             ],
             [
              0.3333333333333333,
              "#9c179e"
             ],
             [
              0.4444444444444444,
              "#bd3786"
             ],
             [
              0.5555555555555556,
              "#d8576b"
             ],
             [
              0.6666666666666666,
              "#ed7953"
             ],
             [
              0.7777777777777778,
              "#fb9f3a"
             ],
             [
              0.8888888888888888,
              "#fdca26"
             ],
             [
              1,
              "#f0f921"
             ]
            ],
            "type": "heatmap"
           }
          ],
          "histogram": [
           {
            "marker": {
             "pattern": {
              "fillmode": "overlay",
              "size": 10,
              "solidity": 0.2
             }
            },
            "type": "histogram"
           }
          ],
          "histogram2d": [
           {
            "colorbar": {
             "outlinewidth": 0,
             "ticks": ""
            },
            "colorscale": [
             [
              0,
              "#0d0887"
             ],
             [
              0.1111111111111111,
              "#46039f"
             ],
             [
              0.2222222222222222,
              "#7201a8"
             ],
             [
              0.3333333333333333,
              "#9c179e"
             ],
             [
              0.4444444444444444,
              "#bd3786"
             ],
             [
              0.5555555555555556,
              "#d8576b"
             ],
             [
              0.6666666666666666,
              "#ed7953"
             ],
             [
              0.7777777777777778,
              "#fb9f3a"
             ],
             [
              0.8888888888888888,
              "#fdca26"
             ],
             [
              1,
              "#f0f921"
             ]
            ],
            "type": "histogram2d"
           }
          ],
          "histogram2dcontour": [
           {
            "colorbar": {
             "outlinewidth": 0,
             "ticks": ""
            },
            "colorscale": [
             [
              0,
              "#0d0887"
             ],
             [
              0.1111111111111111,
              "#46039f"
             ],
             [
              0.2222222222222222,
              "#7201a8"
             ],
             [
              0.3333333333333333,
              "#9c179e"
             ],
             [
              0.4444444444444444,
              "#bd3786"
             ],
             [
              0.5555555555555556,
              "#d8576b"
             ],
             [
              0.6666666666666666,
              "#ed7953"
             ],
             [
              0.7777777777777778,
              "#fb9f3a"
             ],
             [
              0.8888888888888888,
              "#fdca26"
             ],
             [
              1,
              "#f0f921"
             ]
            ],
            "type": "histogram2dcontour"
           }
          ],
          "mesh3d": [
           {
            "colorbar": {
             "outlinewidth": 0,
             "ticks": ""
            },
            "type": "mesh3d"
           }
          ],
          "parcoords": [
           {
            "line": {
             "colorbar": {
              "outlinewidth": 0,
              "ticks": ""
             }
            },
            "type": "parcoords"
           }
          ],
          "pie": [
           {
            "automargin": true,
            "type": "pie"
           }
          ],
          "scatter": [
           {
            "fillpattern": {
             "fillmode": "overlay",
             "size": 10,
             "solidity": 0.2
            },
            "type": "scatter"
           }
          ],
          "scatter3d": [
           {
            "line": {
             "colorbar": {
              "outlinewidth": 0,
              "ticks": ""
             }
            },
            "marker": {
             "colorbar": {
              "outlinewidth": 0,
              "ticks": ""
             }
            },
            "type": "scatter3d"
           }
          ],
          "scattercarpet": [
           {
            "marker": {
             "colorbar": {
              "outlinewidth": 0,
              "ticks": ""
             }
            },
            "type": "scattercarpet"
           }
          ],
          "scattergeo": [
           {
            "marker": {
             "colorbar": {
              "outlinewidth": 0,
              "ticks": ""
             }
            },
            "type": "scattergeo"
           }
          ],
          "scattergl": [
           {
            "marker": {
             "colorbar": {
              "outlinewidth": 0,
              "ticks": ""
             }
            },
            "type": "scattergl"
           }
          ],
          "scattermap": [
           {
            "marker": {
             "colorbar": {
              "outlinewidth": 0,
              "ticks": ""
             }
            },
            "type": "scattermap"
           }
          ],
          "scattermapbox": [
           {
            "marker": {
             "colorbar": {
              "outlinewidth": 0,
              "ticks": ""
             }
            },
            "type": "scattermapbox"
           }
          ],
          "scatterpolar": [
           {
            "marker": {
             "colorbar": {
              "outlinewidth": 0,
              "ticks": ""
             }
            },
            "type": "scatterpolar"
           }
          ],
          "scatterpolargl": [
           {
            "marker": {
             "colorbar": {
              "outlinewidth": 0,
              "ticks": ""
             }
            },
            "type": "scatterpolargl"
           }
          ],
          "scatterternary": [
           {
            "marker": {
             "colorbar": {
              "outlinewidth": 0,
              "ticks": ""
             }
            },
            "type": "scatterternary"
           }
          ],
          "surface": [
           {
            "colorbar": {
             "outlinewidth": 0,
             "ticks": ""
            },
            "colorscale": [
             [
              0,
              "#0d0887"
             ],
             [
              0.1111111111111111,
              "#46039f"
             ],
             [
              0.2222222222222222,
              "#7201a8"
             ],
             [
              0.3333333333333333,
              "#9c179e"
             ],
             [
              0.4444444444444444,
              "#bd3786"
             ],
             [
              0.5555555555555556,
              "#d8576b"
             ],
             [
              0.6666666666666666,
              "#ed7953"
             ],
             [
              0.7777777777777778,
              "#fb9f3a"
             ],
             [
              0.8888888888888888,
              "#fdca26"
             ],
             [
              1,
              "#f0f921"
             ]
            ],
            "type": "surface"
           }
          ],
          "table": [
           {
            "cells": {
             "fill": {
              "color": "#EBF0F8"
             },
             "line": {
              "color": "white"
             }
            },
            "header": {
             "fill": {
              "color": "#C8D4E3"
             },
             "line": {
              "color": "white"
             }
            },
            "type": "table"
           }
          ]
         },
         "layout": {
          "annotationdefaults": {
           "arrowcolor": "#2a3f5f",
           "arrowhead": 0,
           "arrowwidth": 1
          },
          "autotypenumbers": "strict",
          "coloraxis": {
           "colorbar": {
            "outlinewidth": 0,
            "ticks": ""
           }
          },
          "colorscale": {
           "diverging": [
            [
             0,
             "#8e0152"
            ],
            [
             0.1,
             "#c51b7d"
            ],
            [
             0.2,
             "#de77ae"
            ],
            [
             0.3,
             "#f1b6da"
            ],
            [
             0.4,
             "#fde0ef"
            ],
            [
             0.5,
             "#f7f7f7"
            ],
            [
             0.6,
             "#e6f5d0"
            ],
            [
             0.7,
             "#b8e186"
            ],
            [
             0.8,
             "#7fbc41"
            ],
            [
             0.9,
             "#4d9221"
            ],
            [
             1,
             "#276419"
            ]
           ],
           "sequential": [
            [
             0,
             "#0d0887"
            ],
            [
             0.1111111111111111,
             "#46039f"
            ],
            [
             0.2222222222222222,
             "#7201a8"
            ],
            [
             0.3333333333333333,
             "#9c179e"
            ],
            [
             0.4444444444444444,
             "#bd3786"
            ],
            [
             0.5555555555555556,
             "#d8576b"
            ],
            [
             0.6666666666666666,
             "#ed7953"
            ],
            [
             0.7777777777777778,
             "#fb9f3a"
            ],
            [
             0.8888888888888888,
             "#fdca26"
            ],
            [
             1,
             "#f0f921"
            ]
           ],
           "sequentialminus": [
            [
             0,
             "#0d0887"
            ],
            [
             0.1111111111111111,
             "#46039f"
            ],
            [
             0.2222222222222222,
             "#7201a8"
            ],
            [
             0.3333333333333333,
             "#9c179e"
            ],
            [
             0.4444444444444444,
             "#bd3786"
            ],
            [
             0.5555555555555556,
             "#d8576b"
            ],
            [
             0.6666666666666666,
             "#ed7953"
            ],
            [
             0.7777777777777778,
             "#fb9f3a"
            ],
            [
             0.8888888888888888,
             "#fdca26"
            ],
            [
             1,
             "#f0f921"
            ]
           ]
          },
          "colorway": [
           "#636efa",
           "#EF553B",
           "#00cc96",
           "#ab63fa",
           "#FFA15A",
           "#19d3f3",
           "#FF6692",
           "#B6E880",
           "#FF97FF",
           "#FECB52"
          ],
          "font": {
           "color": "#2a3f5f"
          },
          "geo": {
           "bgcolor": "white",
           "lakecolor": "white",
           "landcolor": "#E5ECF6",
           "showlakes": true,
           "showland": true,
           "subunitcolor": "white"
          },
          "hoverlabel": {
           "align": "left"
          },
          "hovermode": "closest",
          "mapbox": {
           "style": "light"
          },
          "paper_bgcolor": "white",
          "plot_bgcolor": "#E5ECF6",
          "polar": {
           "angularaxis": {
            "gridcolor": "white",
            "linecolor": "white",
            "ticks": ""
           },
           "bgcolor": "#E5ECF6",
           "radialaxis": {
            "gridcolor": "white",
            "linecolor": "white",
            "ticks": ""
           }
          },
          "scene": {
           "xaxis": {
            "backgroundcolor": "#E5ECF6",
            "gridcolor": "white",
            "gridwidth": 2,
            "linecolor": "white",
            "showbackground": true,
            "ticks": "",
            "zerolinecolor": "white"
           },
           "yaxis": {
            "backgroundcolor": "#E5ECF6",
            "gridcolor": "white",
            "gridwidth": 2,
            "linecolor": "white",
            "showbackground": true,
            "ticks": "",
            "zerolinecolor": "white"
           },
           "zaxis": {
            "backgroundcolor": "#E5ECF6",
            "gridcolor": "white",
            "gridwidth": 2,
            "linecolor": "white",
            "showbackground": true,
            "ticks": "",
            "zerolinecolor": "white"
           }
          },
          "shapedefaults": {
           "line": {
            "color": "#2a3f5f"
           }
          },
          "ternary": {
           "aaxis": {
            "gridcolor": "white",
            "linecolor": "white",
            "ticks": ""
           },
           "baxis": {
            "gridcolor": "white",
            "linecolor": "white",
            "ticks": ""
           },
           "bgcolor": "#E5ECF6",
           "caxis": {
            "gridcolor": "white",
            "linecolor": "white",
            "ticks": ""
           }
          },
          "title": {
           "x": 0.05
          },
          "xaxis": {
           "automargin": true,
           "gridcolor": "white",
           "linecolor": "white",
           "ticks": "",
           "title": {
            "standoff": 15
           },
           "zerolinecolor": "white",
           "zerolinewidth": 2
          },
          "yaxis": {
           "automargin": true,
           "gridcolor": "white",
           "linecolor": "white",
           "ticks": "",
           "title": {
            "standoff": 15
           },
           "zerolinecolor": "white",
           "zerolinewidth": 2
          }
         }
        },
        "title": {
         "text": "Distribution of AI Job Salaries 2024-2025"
        },
        "width": 800,
        "xaxis": {
         "anchor": "y",
         "domain": [
          0,
          1
         ],
         "title": {
          "text": "Salary (USD)"
         }
        },
        "xaxis2": {
         "anchor": "y2",
         "domain": [
          0,
          1
         ],
         "matches": "x",
         "showgrid": true,
         "showticklabels": false
        },
        "yaxis": {
         "anchor": "x",
         "domain": [
          0,
          0.8316
         ],
         "title": {
          "text": "count"
         }
        },
        "yaxis2": {
         "anchor": "x2",
         "domain": [
          0.8416,
          1
         ],
         "matches": "y2",
         "showgrid": false,
         "showline": false,
         "showticklabels": false,
         "ticks": ""
        }
       }
      }
     },
     "metadata": {},
     "output_type": "display_data"
    }
   ],
   "source": [
    "# Visualize salary distribution\n",
    "fig2 = px.histogram(\n",
    "    full_df,\n",
    "    x=\"salary_usd\",\n",
    "    marginal=\"box\",\n",
    "    title=\"Distribution of AI Job Salaries 2024-2025\",\n",
    "    labels={\"salary_usd\": \"Salary (USD)\"},\n",
    "    opacity=0.7,\n",
    "    color_discrete_sequence=[\"#636EFA\"]\n",
    ")\n",
    "fig2.add_vline(\n",
    "    x=full_df[\"salary_usd\"].mean(),\n",
    "    line_dash=\"dash\",\n",
    "    line_color=\"red\",\n",
    "    annotation_text=f\"Mean: ${full_df[\"salary_usd\"].mean():,.0f}\",\n",
    "    annotation_position=\"top right\"\n",
    ")\n",
    "fig2.add_vline(\n",
    "    x=full_df[\"salary_usd\"].median(),\n",
    "    line_dash=\"dash\",\n",
    "    line_color=\"blue\",\n",
    "    annotation_text=f\"Median: ${full_df[\"salary_usd\"].median():,.0f}\",\n",
    "    annotation_position=\"top left\"\n",
    ")\n",
    "fig2.update_layout(\n",
    "    height=500,\n",
    "    width=800\n",
    ")\n",
    "fig2.show()"
   ]
  },
  {
   "cell_type": "code",
   "execution_count": 67,
   "metadata": {},
   "outputs": [],
   "source": [
    "# Export salary summary by job title to Excel\n",
    "salary_by_job = full_df.groupby(\"job_title\")[\"salary_usd\"].agg([\"mean\", \"median\", \"std\", \"count\"]).reset_index()\n",
    "salary_by_job.to_csv(\"exports/s1-descriptive/salary_by_job_title.csv\", index=False)"
   ]
  },
  {
   "cell_type": "markdown",
   "metadata": {},
   "source": [
    "## Summary of Descriptive Statistics and Visualizations\n",
    "\n",
    "After examining the dataset containing 724 AI job postings across the United States, we have a solid foundation for deeper analysis. The dataset is complete with no missing values and includes 20 distinct job titles across 15 industries, with salaries ranging from $54,512 to $344,471 annually.\n",
    "\n",
    "Key observations from our initial exploration:\n",
    "\n",
    "- The median salary for AI positions is $128,606, with a mean of $146,833 indicating a right-skewed distribution where higher-paying positions pull the average upward.\n",
    "- There's significant salary variation (standard deviation of $66,655), suggesting potential for targeted career pathing.\n",
    "- Experience requirements span from entry-level (0 years) to highly experienced (19 years), with a median of 5 years.\n",
    "- Remote work options vary widely, with the remote_ratio evenly distributed between full in-office (0%), hybrid (50%), and fully remote (100%) positions.\n",
    "- The dataset includes roles across various employment types: full-time (FT), part-time (PT), contract (CT), and freelance (FL)\n",
    "- Job positings come from companies of different sizes, with varying benefit scores (ranging from 5.0 to 10.0)."
   ]
  },
  {
   "cell_type": "markdown",
   "metadata": {},
   "source": [
    "## Salary Distribution\n",
    "\n",
    "Next, we examine the distribution of salary by job title, experience level, and industry. We also examine the relationship between salary and years of experience. We create a heatmap of salary by experience level and company size. Finaly, we create a salary distribution by employment type."
   ]
  },
  {
   "cell_type": "markdown",
   "metadata": {},
   "source": [
    "## 1. Salary Distribution by Job Title\n",
    "\n",
    "In this section, we examine how compensation varies across different AI job titles to identify which roles command the highest salaries in the market. The boxplot visualization below is particularly valuable for this analysis, as it simultaneously displays median salaries, interquartile ranges, minimum and maximum values, and outliers for each job title. This multi-dimensional view allows us to compare not just typical compensation levels but also the variability and extreme values within each role category. Understanding these patterns helps learners target lucrative career paths and provides employers with benchmarking data for competitive compensation offerings. The visualization reveals significant salary differences between AI specializations and highlights the financial incentives for pursuing specific roles.\n"
   ]
  },
  {
   "cell_type": "code",
   "execution_count": 40,
   "metadata": {},
   "outputs": [
    {
     "data": {
      "application/vnd.plotly.v1+json": {
       "config": {
        "plotlyServerURL": "https://plot.ly"
       },
       "data": [
        {
         "alignmentgroup": "True",
         "hovertemplate": "Job Title=%{x}<br>Salary (USD)=%{y}<extra></extra>",
         "legendgroup": "Autonomous Systems Engineer",
         "marker": {
          "color": "#636efa"
         },
         "name": "Autonomous Systems Engineer",
         "notched": false,
         "offsetgroup": "Autonomous Systems Engineer",
         "orientation": "v",
         "showlegend": true,
         "type": "box",
         "x": [
          "Autonomous Systems Engineer",
          "Autonomous Systems Engineer",
          "Autonomous Systems Engineer",
          "Autonomous Systems Engineer",
          "Autonomous Systems Engineer",
          "Autonomous Systems Engineer",
          "Autonomous Systems Engineer",
          "Autonomous Systems Engineer",
          "Autonomous Systems Engineer",
          "Autonomous Systems Engineer",
          "Autonomous Systems Engineer",
          "Autonomous Systems Engineer",
          "Autonomous Systems Engineer",
          "Autonomous Systems Engineer",
          "Autonomous Systems Engineer",
          "Autonomous Systems Engineer",
          "Autonomous Systems Engineer",
          "Autonomous Systems Engineer",
          "Autonomous Systems Engineer",
          "Autonomous Systems Engineer",
          "Autonomous Systems Engineer",
          "Autonomous Systems Engineer",
          "Autonomous Systems Engineer",
          "Autonomous Systems Engineer",
          "Autonomous Systems Engineer",
          "Autonomous Systems Engineer",
          "Autonomous Systems Engineer",
          "Autonomous Systems Engineer",
          "Autonomous Systems Engineer",
          "Autonomous Systems Engineer",
          "Autonomous Systems Engineer",
          "Autonomous Systems Engineer",
          "Autonomous Systems Engineer",
          "Autonomous Systems Engineer",
          "Autonomous Systems Engineer",
          "Autonomous Systems Engineer",
          "Autonomous Systems Engineer",
          "Autonomous Systems Engineer",
          "Autonomous Systems Engineer",
          "Autonomous Systems Engineer"
         ],
         "x0": " ",
         "xaxis": "x",
         "y": {
          "bdata": "lpABAFqOAQDTnwIAXQUDAI/3AQA7KAEA0BsCACNtAwB7BgIAXWQCAKGnAQB0JwIAstQBAGB3AgBRrgMAR90CAEv3AwA/TQIAyPgBAEc5AgCdTAEA2h0CANCoAQAVTwEA6nQCANLHAQCoKAEANAgEAPKYAQCLZwIAhgUCACKpAwBiiwEA83IDAGO4AwCbDwEAQi4EANplAwDuowEAE9YAAA==",
          "dtype": "i4"
         },
         "y0": " ",
         "yaxis": "y"
        },
        {
         "alignmentgroup": "True",
         "hovertemplate": "Job Title=%{x}<br>Salary (USD)=%{y}<extra></extra>",
         "legendgroup": "Data Scientist",
         "marker": {
          "color": "#EF553B"
         },
         "name": "Data Scientist",
         "notched": false,
         "offsetgroup": "Data Scientist",
         "orientation": "v",
         "showlegend": true,
         "type": "box",
         "x": [
          "Data Scientist",
          "Data Scientist",
          "Data Scientist",
          "Data Scientist",
          "Data Scientist",
          "Data Scientist",
          "Data Scientist",
          "Data Scientist",
          "Data Scientist",
          "Data Scientist",
          "Data Scientist",
          "Data Scientist",
          "Data Scientist",
          "Data Scientist",
          "Data Scientist",
          "Data Scientist",
          "Data Scientist",
          "Data Scientist",
          "Data Scientist",
          "Data Scientist",
          "Data Scientist",
          "Data Scientist",
          "Data Scientist",
          "Data Scientist",
          "Data Scientist",
          "Data Scientist",
          "Data Scientist",
          "Data Scientist",
          "Data Scientist",
          "Data Scientist",
          "Data Scientist",
          "Data Scientist",
          "Data Scientist",
          "Data Scientist",
          "Data Scientist",
          "Data Scientist",
          "Data Scientist",
          "Data Scientist",
          "Data Scientist",
          "Data Scientist",
          "Data Scientist",
          "Data Scientist",
          "Data Scientist"
         ],
         "x0": " ",
         "xaxis": "x",
         "y": {
          "bdata": "vHoBAMr+AADhggEA/AgCAIZyAQDhdwEAl10BADDFAQCoqQEAlmQBAIEtAQA+KQEAoRIBAJmZAwC8hgIAsa0CAC9UAgA5YgMA/BMBAM2WAQDTHQEANP8CAB2KAQDw9AEAcLQDAE8nAwDaCQQAzv8AAAcQAQB07gQAH60CALiPAQBLYgMAgOgBACJUAQBz0QEAQDUFANA4AgCDCwIAeUkBAEwYAwBMBwIAxgYCAA==",
          "dtype": "i4"
         },
         "y0": " ",
         "yaxis": "y"
        },
        {
         "alignmentgroup": "True",
         "hovertemplate": "Job Title=%{x}<br>Salary (USD)=%{y}<extra></extra>",
         "legendgroup": "AI Architect",
         "marker": {
          "color": "#00cc96"
         },
         "name": "AI Architect",
         "notched": false,
         "offsetgroup": "AI Architect",
         "orientation": "v",
         "showlegend": true,
         "type": "box",
         "x": [
          "AI Architect",
          "AI Architect",
          "AI Architect",
          "AI Architect",
          "AI Architect",
          "AI Architect",
          "AI Architect",
          "AI Architect",
          "AI Architect",
          "AI Architect",
          "AI Architect",
          "AI Architect",
          "AI Architect",
          "AI Architect",
          "AI Architect",
          "AI Architect",
          "AI Architect",
          "AI Architect",
          "AI Architect",
          "AI Architect",
          "AI Architect",
          "AI Architect",
          "AI Architect",
          "AI Architect",
          "AI Architect",
          "AI Architect",
          "AI Architect",
          "AI Architect",
          "AI Architect",
          "AI Architect",
          "AI Architect",
          "AI Architect",
          "AI Architect",
          "AI Architect",
          "AI Architect",
          "AI Architect",
          "AI Architect",
          "AI Architect",
          "AI Architect",
          "AI Architect",
          "AI Architect"
         ],
         "x0": " ",
         "xaxis": "x",
         "y": {
          "bdata": "WgEDAHGjAwBnOgIAnB8BAMojAgDB7AIA7+cCABgEAwAWqgMAUbkBAOLVAQAlmQMAyNEBAKJxAgDrtQMAt9oBAHLaAQCilgEA/4wCAHd2BADG/wIAt98CAOatAwAqggQAXhIBAJ1WAgBHkAEA+gwEAA63AQBWaAMAdzUBALWXAQA/awEATIsBAMOKAQCx8AMAvlQDAIaLAwD/SQEAOWQCAJVnBAA=",
          "dtype": "i4"
         },
         "y0": " ",
         "yaxis": "y"
        },
        {
         "alignmentgroup": "True",
         "hovertemplate": "Job Title=%{x}<br>Salary (USD)=%{y}<extra></extra>",
         "legendgroup": "AI Research Scientist",
         "marker": {
          "color": "#ab63fa"
         },
         "name": "AI Research Scientist",
         "notched": false,
         "offsetgroup": "AI Research Scientist",
         "orientation": "v",
         "showlegend": true,
         "type": "box",
         "x": [
          "AI Research Scientist",
          "AI Research Scientist",
          "AI Research Scientist",
          "AI Research Scientist",
          "AI Research Scientist",
          "AI Research Scientist",
          "AI Research Scientist",
          "AI Research Scientist",
          "AI Research Scientist",
          "AI Research Scientist",
          "AI Research Scientist",
          "AI Research Scientist",
          "AI Research Scientist",
          "AI Research Scientist",
          "AI Research Scientist",
          "AI Research Scientist",
          "AI Research Scientist",
          "AI Research Scientist",
          "AI Research Scientist",
          "AI Research Scientist",
          "AI Research Scientist",
          "AI Research Scientist",
          "AI Research Scientist",
          "AI Research Scientist",
          "AI Research Scientist",
          "AI Research Scientist",
          "AI Research Scientist",
          "AI Research Scientist",
          "AI Research Scientist",
          "AI Research Scientist",
          "AI Research Scientist",
          "AI Research Scientist",
          "AI Research Scientist",
          "AI Research Scientist",
          "AI Research Scientist",
          "AI Research Scientist",
          "AI Research Scientist",
          "AI Research Scientist",
          "AI Research Scientist",
          "AI Research Scientist"
         ],
         "x0": " ",
         "xaxis": "x",
         "y": {
          "bdata": "R6oCAEZXBACoswEAa/wCAA+nAgClOgIAtVEBAO8nAwBwJgMAgm8BADc7BADhiAEA63QBAL4KAwBmygEAz5oCAEU3AQAvEAEAYCICAFO+AQBCwwMAUjoBAHGHAQDZ/wEAR4sBAAUGAwD9dwIAdmYBANW0AQDKbQEAVu0BAGCtAgAiiQEAmqkCAGbEAQBn1wMAWUQBABpiAQAwIAEA3vMBAA==",
          "dtype": "i4"
         },
         "y0": " ",
         "yaxis": "y"
        },
        {
         "alignmentgroup": "True",
         "hovertemplate": "Job Title=%{x}<br>Salary (USD)=%{y}<extra></extra>",
         "legendgroup": "Research Scientist",
         "marker": {
          "color": "#FFA15A"
         },
         "name": "Research Scientist",
         "notched": false,
         "offsetgroup": "Research Scientist",
         "orientation": "v",
         "showlegend": true,
         "type": "box",
         "x": [
          "Research Scientist",
          "Research Scientist",
          "Research Scientist",
          "Research Scientist",
          "Research Scientist",
          "Research Scientist",
          "Research Scientist",
          "Research Scientist",
          "Research Scientist",
          "Research Scientist",
          "Research Scientist",
          "Research Scientist",
          "Research Scientist",
          "Research Scientist",
          "Research Scientist",
          "Research Scientist",
          "Research Scientist",
          "Research Scientist",
          "Research Scientist",
          "Research Scientist",
          "Research Scientist",
          "Research Scientist",
          "Research Scientist",
          "Research Scientist",
          "Research Scientist",
          "Research Scientist",
          "Research Scientist",
          "Research Scientist",
          "Research Scientist",
          "Research Scientist",
          "Research Scientist",
          "Research Scientist",
          "Research Scientist",
          "Research Scientist",
          "Research Scientist"
         ],
         "x0": " ",
         "xaxis": "x",
         "y": {
          "bdata": "U6ABAK3XAQC+5gMA4mcDAC4sAQDduwEAzRcBADEWAQBdtQIAuxYFAF1HAgCKIAIAPbACAJD/AQBNewMAqgoEAGclAwB/igIAROIDAIicAQDomwEAvHQBAHEBAwDw9QAAWWkCAMIZAQCYUQEA3FsCAEbuAwBIagEA7RACAKWdAQATXgEAnRgEAFxcAQA=",
          "dtype": "i4"
         },
         "y0": " ",
         "yaxis": "y"
        },
        {
         "alignmentgroup": "True",
         "hovertemplate": "Job Title=%{x}<br>Salary (USD)=%{y}<extra></extra>",
         "legendgroup": "AI Specialist",
         "marker": {
          "color": "#19d3f3"
         },
         "name": "AI Specialist",
         "notched": false,
         "offsetgroup": "AI Specialist",
         "orientation": "v",
         "showlegend": true,
         "type": "box",
         "x": [
          "AI Specialist",
          "AI Specialist",
          "AI Specialist",
          "AI Specialist",
          "AI Specialist",
          "AI Specialist",
          "AI Specialist",
          "AI Specialist",
          "AI Specialist",
          "AI Specialist",
          "AI Specialist",
          "AI Specialist",
          "AI Specialist",
          "AI Specialist",
          "AI Specialist",
          "AI Specialist",
          "AI Specialist",
          "AI Specialist",
          "AI Specialist",
          "AI Specialist",
          "AI Specialist",
          "AI Specialist",
          "AI Specialist",
          "AI Specialist",
          "AI Specialist",
          "AI Specialist",
          "AI Specialist",
          "AI Specialist",
          "AI Specialist",
          "AI Specialist",
          "AI Specialist",
          "AI Specialist",
          "AI Specialist",
          "AI Specialist",
          "AI Specialist",
          "AI Specialist",
          "AI Specialist",
          "AI Specialist",
          "AI Specialist",
          "AI Specialist",
          "AI Specialist",
          "AI Specialist"
         ],
         "x0": " ",
         "xaxis": "x",
         "y": {
          "bdata": "GhEBAIHEAQB2gAEA3rcBALMxAwDEBgMAzKkBADaHAQD9owEASSYEAF4aBABJgQIAoDECAIgHAwCbngEAUtgBAHKvAQB7NwUA5iIDADr6AABKBQEAgHICAMNxAgDT7QIAKY4BAExTAQDEDwMAoCABAIGFAgALagEArsQCANk/AQCRZQQAowUDAJfoAQB/PAEA9n0CAPteAQCV8wAAnasEAEgVAgBrFwIA",
          "dtype": "i4"
         },
         "y0": " ",
         "yaxis": "y"
        },
        {
         "alignmentgroup": "True",
         "hovertemplate": "Job Title=%{x}<br>Salary (USD)=%{y}<extra></extra>",
         "legendgroup": "Machine Learning Researcher",
         "marker": {
          "color": "#FF6692"
         },
         "name": "Machine Learning Researcher",
         "notched": false,
         "offsetgroup": "Machine Learning Researcher",
         "orientation": "v",
         "showlegend": true,
         "type": "box",
         "x": [
          "Machine Learning Researcher",
          "Machine Learning Researcher",
          "Machine Learning Researcher",
          "Machine Learning Researcher",
          "Machine Learning Researcher",
          "Machine Learning Researcher",
          "Machine Learning Researcher",
          "Machine Learning Researcher",
          "Machine Learning Researcher",
          "Machine Learning Researcher",
          "Machine Learning Researcher",
          "Machine Learning Researcher",
          "Machine Learning Researcher",
          "Machine Learning Researcher",
          "Machine Learning Researcher",
          "Machine Learning Researcher",
          "Machine Learning Researcher",
          "Machine Learning Researcher",
          "Machine Learning Researcher",
          "Machine Learning Researcher",
          "Machine Learning Researcher",
          "Machine Learning Researcher",
          "Machine Learning Researcher",
          "Machine Learning Researcher",
          "Machine Learning Researcher",
          "Machine Learning Researcher",
          "Machine Learning Researcher",
          "Machine Learning Researcher",
          "Machine Learning Researcher",
          "Machine Learning Researcher",
          "Machine Learning Researcher"
         ],
         "x0": " ",
         "xaxis": "x",
         "y": {
          "bdata": "LSIDAJGtAQC2iwEAsSUDAEpYAwDKNQQAelYEAM9+AQDGogEAXOkBAO41AQAHDwQAWrwCAAORAgDkZAEA0Y4CACo1AQBS4gMA9iMDAKJnAQCFEQMAXXkBAGBFAQBtaQIABXMBAH9xAgBlDgMAFBMEAFNQAwDEewIA7C0CAA==",
          "dtype": "i4"
         },
         "y0": " ",
         "yaxis": "y"
        },
        {
         "alignmentgroup": "True",
         "hovertemplate": "Job Title=%{x}<br>Salary (USD)=%{y}<extra></extra>",
         "legendgroup": "NLP Engineer",
         "marker": {
          "color": "#B6E880"
         },
         "name": "NLP Engineer",
         "notched": false,
         "offsetgroup": "NLP Engineer",
         "orientation": "v",
         "showlegend": true,
         "type": "box",
         "x": [
          "NLP Engineer",
          "NLP Engineer",
          "NLP Engineer",
          "NLP Engineer",
          "NLP Engineer",
          "NLP Engineer",
          "NLP Engineer",
          "NLP Engineer",
          "NLP Engineer",
          "NLP Engineer",
          "NLP Engineer",
          "NLP Engineer",
          "NLP Engineer",
          "NLP Engineer",
          "NLP Engineer",
          "NLP Engineer",
          "NLP Engineer",
          "NLP Engineer",
          "NLP Engineer",
          "NLP Engineer",
          "NLP Engineer",
          "NLP Engineer",
          "NLP Engineer",
          "NLP Engineer",
          "NLP Engineer",
          "NLP Engineer",
          "NLP Engineer",
          "NLP Engineer",
          "NLP Engineer",
          "NLP Engineer",
          "NLP Engineer",
          "NLP Engineer",
          "NLP Engineer",
          "NLP Engineer",
          "NLP Engineer"
         ],
         "x0": " ",
         "xaxis": "x",
         "y": {
          "bdata": "f+4AADpQAgAcqwEAEhABAKAgAgCs+AAAst8CAEL/AgAV7QEAL7cCAB1KAgDVHQIA7ukBAO+gAQBpYwIA8RICAM2BAwCAwAEAUEkBAAodBADJKgIA/FgBAMzQAQAVsQIAQ0IBAL2NAgDm4wEAnCYDABOwAgCKtgIAez0CAJ5uBADPTgEAQ54BANPZAQA=",
          "dtype": "i4"
         },
         "y0": " ",
         "yaxis": "y"
        },
        {
         "alignmentgroup": "True",
         "hovertemplate": "Job Title=%{x}<br>Salary (USD)=%{y}<extra></extra>",
         "legendgroup": "ML Ops Engineer",
         "marker": {
          "color": "#FF97FF"
         },
         "name": "ML Ops Engineer",
         "notched": false,
         "offsetgroup": "ML Ops Engineer",
         "orientation": "v",
         "showlegend": true,
         "type": "box",
         "x": [
          "ML Ops Engineer",
          "ML Ops Engineer",
          "ML Ops Engineer",
          "ML Ops Engineer",
          "ML Ops Engineer",
          "ML Ops Engineer",
          "ML Ops Engineer",
          "ML Ops Engineer",
          "ML Ops Engineer",
          "ML Ops Engineer",
          "ML Ops Engineer",
          "ML Ops Engineer",
          "ML Ops Engineer",
          "ML Ops Engineer",
          "ML Ops Engineer",
          "ML Ops Engineer",
          "ML Ops Engineer",
          "ML Ops Engineer",
          "ML Ops Engineer",
          "ML Ops Engineer",
          "ML Ops Engineer",
          "ML Ops Engineer",
          "ML Ops Engineer",
          "ML Ops Engineer",
          "ML Ops Engineer",
          "ML Ops Engineer",
          "ML Ops Engineer",
          "ML Ops Engineer",
          "ML Ops Engineer",
          "ML Ops Engineer"
         ],
         "x0": " ",
         "xaxis": "x",
         "y": {
          "bdata": "m5gCAEssAQDkNgEA2i0BAGwIBADZ8AEAPEMDALX/AwBV2AEAnw4BABnZAgD+jgEAjO0BALAzAgDCYwEAlhoCAL0+AQB7WQEAOO0AALvYAwDQ6AAADyQCAGmWAQAhugEAkGYDAAfwAAD0jQEA1tgCAHwzAQBZywMA",
          "dtype": "i4"
         },
         "y0": " ",
         "yaxis": "y"
        },
        {
         "alignmentgroup": "True",
         "hovertemplate": "Job Title=%{x}<br>Salary (USD)=%{y}<extra></extra>",
         "legendgroup": "AI Product Manager",
         "marker": {
          "color": "#FECB52"
         },
         "name": "AI Product Manager",
         "notched": false,
         "offsetgroup": "AI Product Manager",
         "orientation": "v",
         "showlegend": true,
         "type": "box",
         "x": [
          "AI Product Manager",
          "AI Product Manager",
          "AI Product Manager",
          "AI Product Manager",
          "AI Product Manager",
          "AI Product Manager",
          "AI Product Manager",
          "AI Product Manager",
          "AI Product Manager",
          "AI Product Manager",
          "AI Product Manager",
          "AI Product Manager",
          "AI Product Manager",
          "AI Product Manager",
          "AI Product Manager",
          "AI Product Manager",
          "AI Product Manager",
          "AI Product Manager",
          "AI Product Manager",
          "AI Product Manager",
          "AI Product Manager",
          "AI Product Manager",
          "AI Product Manager",
          "AI Product Manager",
          "AI Product Manager",
          "AI Product Manager",
          "AI Product Manager",
          "AI Product Manager",
          "AI Product Manager",
          "AI Product Manager",
          "AI Product Manager",
          "AI Product Manager",
          "AI Product Manager",
          "AI Product Manager",
          "AI Product Manager",
          "AI Product Manager"
         ],
         "x0": " ",
         "xaxis": "x",
         "y": {
          "bdata": "HMACAJtvAgDOmgIAV6ABAIvgAQCkMQEAWicBAFi9AgDrMAEANTMCAGcsAQBUowQASM0CAPGnAwBF+wIAz+UBAESHAgD0xgEAoJkCAJ0XAwCU+gEA+f0CAL1zAwBi4AEAu7gBAMdXAQA5GAEA5gkCABSnAQACnQEAShIBALmJAQAfoAIANV0DAEpvAQCIxwEA",
          "dtype": "i4"
         },
         "y0": " ",
         "yaxis": "y"
        },
        {
         "alignmentgroup": "True",
         "hovertemplate": "Job Title=%{x}<br>Salary (USD)=%{y}<extra></extra>",
         "legendgroup": "Principal Data Scientist",
         "marker": {
          "color": "#636efa"
         },
         "name": "Principal Data Scientist",
         "notched": false,
         "offsetgroup": "Principal Data Scientist",
         "orientation": "v",
         "showlegend": true,
         "type": "box",
         "x": [
          "Principal Data Scientist",
          "Principal Data Scientist",
          "Principal Data Scientist",
          "Principal Data Scientist",
          "Principal Data Scientist",
          "Principal Data Scientist",
          "Principal Data Scientist",
          "Principal Data Scientist",
          "Principal Data Scientist",
          "Principal Data Scientist",
          "Principal Data Scientist",
          "Principal Data Scientist",
          "Principal Data Scientist",
          "Principal Data Scientist",
          "Principal Data Scientist",
          "Principal Data Scientist",
          "Principal Data Scientist",
          "Principal Data Scientist",
          "Principal Data Scientist",
          "Principal Data Scientist",
          "Principal Data Scientist",
          "Principal Data Scientist",
          "Principal Data Scientist",
          "Principal Data Scientist",
          "Principal Data Scientist",
          "Principal Data Scientist",
          "Principal Data Scientist",
          "Principal Data Scientist",
          "Principal Data Scientist",
          "Principal Data Scientist",
          "Principal Data Scientist",
          "Principal Data Scientist",
          "Principal Data Scientist",
          "Principal Data Scientist",
          "Principal Data Scientist",
          "Principal Data Scientist",
          "Principal Data Scientist",
          "Principal Data Scientist",
          "Principal Data Scientist",
          "Principal Data Scientist",
          "Principal Data Scientist",
          "Principal Data Scientist"
         ],
         "x0": " ",
         "xaxis": "x",
         "y": {
          "bdata": "rxABANEkAgBkKgQApgoBADdNAQDSeAEAK6kBADhhAwAtLAEAJDYBAH+XAgDq9AEAqqACAF6BAQA5+gEAS04BADcjAQBfNQEAlTgDAG8hAQCt4gEA0v8BAN/PAQDfewEAX20BAPTbAwAXNgEAkUUBAAq6AwACDwIAj2QDAAg1AQDmRwEAansEAAnsAgAMCgIAdxICAOHfAQC2qAEA2aIDACWwBADEEgIA",
          "dtype": "i4"
         },
         "y0": " ",
         "yaxis": "y"
        },
        {
         "alignmentgroup": "True",
         "hovertemplate": "Job Title=%{x}<br>Salary (USD)=%{y}<extra></extra>",
         "legendgroup": "AI Consultant",
         "marker": {
          "color": "#EF553B"
         },
         "name": "AI Consultant",
         "notched": false,
         "offsetgroup": "AI Consultant",
         "orientation": "v",
         "showlegend": true,
         "type": "box",
         "x": [
          "AI Consultant",
          "AI Consultant",
          "AI Consultant",
          "AI Consultant",
          "AI Consultant",
          "AI Consultant",
          "AI Consultant",
          "AI Consultant",
          "AI Consultant",
          "AI Consultant",
          "AI Consultant",
          "AI Consultant",
          "AI Consultant",
          "AI Consultant",
          "AI Consultant",
          "AI Consultant",
          "AI Consultant",
          "AI Consultant",
          "AI Consultant",
          "AI Consultant",
          "AI Consultant",
          "AI Consultant",
          "AI Consultant",
          "AI Consultant",
          "AI Consultant",
          "AI Consultant",
          "AI Consultant",
          "AI Consultant",
          "AI Consultant",
          "AI Consultant",
          "AI Consultant",
          "AI Consultant"
         ],
         "x0": " ",
         "xaxis": "x",
         "y": {
          "bdata": "3T8BAPTwAACOWQEAkSIBAC7TAQBDDwQAAmQEACegAgAFWwEA7SoBAEwvAQCRCwIAmjgBAApBAwDGtwEApBcCAORnAgDMLwEAYVUBAHr1AQB+vAEA20sCAFHdAgCAxQEALf0DAAWZAQBE/QEAeEEDAPDUAACpDAEApbYBADr8AwA=",
          "dtype": "i4"
         },
         "y0": " ",
         "yaxis": "y"
        },
        {
         "alignmentgroup": "True",
         "hovertemplate": "Job Title=%{x}<br>Salary (USD)=%{y}<extra></extra>",
         "legendgroup": "Robotics Engineer",
         "marker": {
          "color": "#00cc96"
         },
         "name": "Robotics Engineer",
         "notched": false,
         "offsetgroup": "Robotics Engineer",
         "orientation": "v",
         "showlegend": true,
         "type": "box",
         "x": [
          "Robotics Engineer",
          "Robotics Engineer",
          "Robotics Engineer",
          "Robotics Engineer",
          "Robotics Engineer",
          "Robotics Engineer",
          "Robotics Engineer",
          "Robotics Engineer",
          "Robotics Engineer",
          "Robotics Engineer",
          "Robotics Engineer",
          "Robotics Engineer",
          "Robotics Engineer",
          "Robotics Engineer",
          "Robotics Engineer",
          "Robotics Engineer",
          "Robotics Engineer",
          "Robotics Engineer",
          "Robotics Engineer",
          "Robotics Engineer",
          "Robotics Engineer",
          "Robotics Engineer",
          "Robotics Engineer",
          "Robotics Engineer",
          "Robotics Engineer",
          "Robotics Engineer",
          "Robotics Engineer",
          "Robotics Engineer",
          "Robotics Engineer",
          "Robotics Engineer",
          "Robotics Engineer",
          "Robotics Engineer",
          "Robotics Engineer",
          "Robotics Engineer",
          "Robotics Engineer",
          "Robotics Engineer",
          "Robotics Engineer",
          "Robotics Engineer",
          "Robotics Engineer",
          "Robotics Engineer"
         ],
         "x0": " ",
         "xaxis": "x",
         "y": {
          "bdata": "vQkCAKYGBADdmgIAslwBAE81AgAhHAUAXEwBAInTAwCaJQUAAOgBANjCAQAidwEAOWEBAD1AAQBo3AAAUUQDALzDAQA/9AEAUkIBAN0yAQBBaAMACAkBAP1/AgB2PgIAOhYBANtzAgCtVgEAS90BAAzUAQC7DQEA8hsCAEY0AgCRcgEAVZYBAIhvAQDhyAIAZgkCAJ+hAgAzLgQAyHwBAA==",
          "dtype": "i4"
         },
         "y0": " ",
         "yaxis": "y"
        },
        {
         "alignmentgroup": "True",
         "hovertemplate": "Job Title=%{x}<br>Salary (USD)=%{y}<extra></extra>",
         "legendgroup": "AI Software Engineer",
         "marker": {
          "color": "#ab63fa"
         },
         "name": "AI Software Engineer",
         "notched": false,
         "offsetgroup": "AI Software Engineer",
         "orientation": "v",
         "showlegend": true,
         "type": "box",
         "x": [
          "AI Software Engineer",
          "AI Software Engineer",
          "AI Software Engineer",
          "AI Software Engineer",
          "AI Software Engineer",
          "AI Software Engineer",
          "AI Software Engineer",
          "AI Software Engineer",
          "AI Software Engineer",
          "AI Software Engineer",
          "AI Software Engineer",
          "AI Software Engineer",
          "AI Software Engineer",
          "AI Software Engineer",
          "AI Software Engineer",
          "AI Software Engineer",
          "AI Software Engineer",
          "AI Software Engineer",
          "AI Software Engineer",
          "AI Software Engineer",
          "AI Software Engineer",
          "AI Software Engineer",
          "AI Software Engineer",
          "AI Software Engineer",
          "AI Software Engineer",
          "AI Software Engineer",
          "AI Software Engineer",
          "AI Software Engineer",
          "AI Software Engineer",
          "AI Software Engineer",
          "AI Software Engineer",
          "AI Software Engineer",
          "AI Software Engineer"
         ],
         "x0": " ",
         "xaxis": "x",
         "y": {
          "bdata": "RokBAFxvAQB+lQEAVHUCAD3VAgA7dgIA72UCAFjzAAD4ggEAUkICAB/kAQBhAwMAMPQBADGTAQDvEAMA/oQBAJpCAQB6AQQAJ8cCACxKBABLBwIAAp0BAPQoAQDyAgQACkABACbDAQDurwEAUCYBAKxBAgAJMwEA0fQBAF+pAwAz1AMA",
          "dtype": "i4"
         },
         "y0": " ",
         "yaxis": "y"
        },
        {
         "alignmentgroup": "True",
         "hovertemplate": "Job Title=%{x}<br>Salary (USD)=%{y}<extra></extra>",
         "legendgroup": "Machine Learning Engineer",
         "marker": {
          "color": "#FFA15A"
         },
         "name": "Machine Learning Engineer",
         "notched": false,
         "offsetgroup": "Machine Learning Engineer",
         "orientation": "v",
         "showlegend": true,
         "type": "box",
         "x": [
          "Machine Learning Engineer",
          "Machine Learning Engineer",
          "Machine Learning Engineer",
          "Machine Learning Engineer",
          "Machine Learning Engineer",
          "Machine Learning Engineer",
          "Machine Learning Engineer",
          "Machine Learning Engineer",
          "Machine Learning Engineer",
          "Machine Learning Engineer",
          "Machine Learning Engineer",
          "Machine Learning Engineer",
          "Machine Learning Engineer",
          "Machine Learning Engineer",
          "Machine Learning Engineer",
          "Machine Learning Engineer",
          "Machine Learning Engineer",
          "Machine Learning Engineer",
          "Machine Learning Engineer",
          "Machine Learning Engineer",
          "Machine Learning Engineer",
          "Machine Learning Engineer",
          "Machine Learning Engineer",
          "Machine Learning Engineer",
          "Machine Learning Engineer",
          "Machine Learning Engineer",
          "Machine Learning Engineer",
          "Machine Learning Engineer",
          "Machine Learning Engineer",
          "Machine Learning Engineer"
         ],
         "x0": " ",
         "xaxis": "x",
         "y": {
          "bdata": "cEUCAKKGAwAy+QAAINABAKEtAgA+6wEA2jgCAGM8AgCS3wAA8zoBADXOAgCjFQIADtcBAIh9AwCe2AMAa0EFAB6FAgBm1QEAnVcBAIkwAgCpGwEAJTkCAMn+AgBdKAMAhzACAFuDAgCIwAEAH1ABAOsYAQC8aQIA",
          "dtype": "i4"
         },
         "y0": " ",
         "yaxis": "y"
        },
        {
         "alignmentgroup": "True",
         "hovertemplate": "Job Title=%{x}<br>Salary (USD)=%{y}<extra></extra>",
         "legendgroup": "Data Engineer",
         "marker": {
          "color": "#19d3f3"
         },
         "name": "Data Engineer",
         "notched": false,
         "offsetgroup": "Data Engineer",
         "orientation": "v",
         "showlegend": true,
         "type": "box",
         "x": [
          "Data Engineer",
          "Data Engineer",
          "Data Engineer",
          "Data Engineer",
          "Data Engineer",
          "Data Engineer",
          "Data Engineer",
          "Data Engineer",
          "Data Engineer",
          "Data Engineer",
          "Data Engineer",
          "Data Engineer",
          "Data Engineer",
          "Data Engineer",
          "Data Engineer",
          "Data Engineer",
          "Data Engineer",
          "Data Engineer",
          "Data Engineer",
          "Data Engineer",
          "Data Engineer",
          "Data Engineer",
          "Data Engineer",
          "Data Engineer",
          "Data Engineer",
          "Data Engineer",
          "Data Engineer",
          "Data Engineer",
          "Data Engineer",
          "Data Engineer",
          "Data Engineer",
          "Data Engineer",
          "Data Engineer",
          "Data Engineer",
          "Data Engineer",
          "Data Engineer",
          "Data Engineer"
         ],
         "x0": " ",
         "xaxis": "x",
         "y": {
          "bdata": "xIkCAOEWBADA8wEAXbEBAGNUAQCsFQEAwtIBALr1AAAfsgEA2q8BAJXeAQDDDQEAEjUCAOU1AgD1bwEABkgBAO8hAgCsmQMAGPMBAPioAQBmQAIABq8BAJ5sAQB+XAEAjPwAAAN+AQDkrwEAvQ8CAJ1jAQB64gIAKCgBAOifAgCRHQEAH80DAJxqAQA0LwEAXp4BAA==",
          "dtype": "i4"
         },
         "y0": " ",
         "yaxis": "y"
        },
        {
         "alignmentgroup": "True",
         "hovertemplate": "Job Title=%{x}<br>Salary (USD)=%{y}<extra></extra>",
         "legendgroup": "Data Analyst",
         "marker": {
          "color": "#FF6692"
         },
         "name": "Data Analyst",
         "notched": false,
         "offsetgroup": "Data Analyst",
         "orientation": "v",
         "showlegend": true,
         "type": "box",
         "x": [
          "Data Analyst",
          "Data Analyst",
          "Data Analyst",
          "Data Analyst",
          "Data Analyst",
          "Data Analyst",
          "Data Analyst",
          "Data Analyst",
          "Data Analyst",
          "Data Analyst",
          "Data Analyst",
          "Data Analyst",
          "Data Analyst",
          "Data Analyst",
          "Data Analyst",
          "Data Analyst",
          "Data Analyst",
          "Data Analyst",
          "Data Analyst",
          "Data Analyst",
          "Data Analyst",
          "Data Analyst",
          "Data Analyst",
          "Data Analyst",
          "Data Analyst",
          "Data Analyst",
          "Data Analyst",
          "Data Analyst",
          "Data Analyst",
          "Data Analyst",
          "Data Analyst",
          "Data Analyst",
          "Data Analyst",
          "Data Analyst",
          "Data Analyst",
          "Data Analyst",
          "Data Analyst",
          "Data Analyst",
          "Data Analyst",
          "Data Analyst",
          "Data Analyst",
          "Data Analyst"
         ],
         "x0": " ",
         "xaxis": "x",
         "y": {
          "bdata": "Sh8CAGCmAQC/8gAAGnACAICSAQC6PgEAXE8BAN47AwDFTwEAN4kCAAgkBQCR3AEArKMBAImgAQB9BQEAcK8BAAyUAgB0twEA//UEAMv2AgCHLAEAhrcCAD6cAQCM3wIATWUBALdZAQBrzQEA2S8BAAOLAgAgXAEApWsCAD7TAQCXQQUAcgsDAMc8AQDD6QIAxxYBAGwWAQB8FwQAMvcCALLgAQCTcgEA",
          "dtype": "i4"
         },
         "y0": " ",
         "yaxis": "y"
        },
        {
         "alignmentgroup": "True",
         "hovertemplate": "Job Title=%{x}<br>Salary (USD)=%{y}<extra></extra>",
         "legendgroup": "Head of AI",
         "marker": {
          "color": "#B6E880"
         },
         "name": "Head of AI",
         "notched": false,
         "offsetgroup": "Head of AI",
         "orientation": "v",
         "showlegend": true,
         "type": "box",
         "x": [
          "Head of AI",
          "Head of AI",
          "Head of AI",
          "Head of AI",
          "Head of AI",
          "Head of AI",
          "Head of AI",
          "Head of AI",
          "Head of AI",
          "Head of AI",
          "Head of AI",
          "Head of AI",
          "Head of AI",
          "Head of AI",
          "Head of AI",
          "Head of AI",
          "Head of AI",
          "Head of AI",
          "Head of AI",
          "Head of AI",
          "Head of AI",
          "Head of AI",
          "Head of AI",
          "Head of AI",
          "Head of AI",
          "Head of AI",
          "Head of AI",
          "Head of AI",
          "Head of AI",
          "Head of AI",
          "Head of AI",
          "Head of AI",
          "Head of AI",
          "Head of AI",
          "Head of AI",
          "Head of AI",
          "Head of AI",
          "Head of AI"
         ],
         "x0": " ",
         "xaxis": "x",
         "y": {
          "bdata": "f5sDALMfAgDv2wIAAJ8DAHw1AQAAOQUA8PsBACdqAQA+ZgQArfMDALtUAgDWbwEAJl8CANlXAQDQTQEACxQBAAWAAgCNFgUAiksBAPs+BQAhRwIACTQBADYqBACsigEAJzACAKO/AwCu0AEAWtcBAM6iAQCSwAEA26ABAEobAQCJbQEAakcDAJ4UAQC2IgEAbRAEAB1CAgA=",
          "dtype": "i4"
         },
         "y0": " ",
         "yaxis": "y"
        },
        {
         "alignmentgroup": "True",
         "hovertemplate": "Job Title=%{x}<br>Salary (USD)=%{y}<extra></extra>",
         "legendgroup": "Deep Learning Engineer",
         "marker": {
          "color": "#FF97FF"
         },
         "name": "Deep Learning Engineer",
         "notched": false,
         "offsetgroup": "Deep Learning Engineer",
         "orientation": "v",
         "showlegend": true,
         "type": "box",
         "x": [
          "Deep Learning Engineer",
          "Deep Learning Engineer",
          "Deep Learning Engineer",
          "Deep Learning Engineer",
          "Deep Learning Engineer",
          "Deep Learning Engineer",
          "Deep Learning Engineer",
          "Deep Learning Engineer",
          "Deep Learning Engineer",
          "Deep Learning Engineer",
          "Deep Learning Engineer",
          "Deep Learning Engineer",
          "Deep Learning Engineer",
          "Deep Learning Engineer",
          "Deep Learning Engineer",
          "Deep Learning Engineer",
          "Deep Learning Engineer",
          "Deep Learning Engineer",
          "Deep Learning Engineer",
          "Deep Learning Engineer",
          "Deep Learning Engineer",
          "Deep Learning Engineer",
          "Deep Learning Engineer",
          "Deep Learning Engineer",
          "Deep Learning Engineer",
          "Deep Learning Engineer",
          "Deep Learning Engineer",
          "Deep Learning Engineer",
          "Deep Learning Engineer",
          "Deep Learning Engineer",
          "Deep Learning Engineer",
          "Deep Learning Engineer",
          "Deep Learning Engineer"
         ],
         "x0": " ",
         "xaxis": "x",
         "y": {
          "bdata": "BK0CANa6AQALuQIAQc8DAAsqBQBCVwMAPgsCAK4gAwCj+gEA7aACALRfAgDzjAEAzzsBADFBAQB2JAEApyUEAMVIAgBC9wEAuNYDAKX6AQDhFwEAwwkBANcLAQA4NwIA1+wAALcpAgC3RwEAXtMBANrlAwBfgAEAEFMCAFviAQANMwQA",
          "dtype": "i4"
         },
         "y0": " ",
         "yaxis": "y"
        }
       ],
       "layout": {
        "boxmode": "overlay",
        "height": 600,
        "legend": {
         "title": {
          "text": "Job Title"
         },
         "tracegroupgap": 0
        },
        "showlegend": false,
        "template": {
         "data": {
          "bar": [
           {
            "error_x": {
             "color": "#2a3f5f"
            },
            "error_y": {
             "color": "#2a3f5f"
            },
            "marker": {
             "line": {
              "color": "#E5ECF6",
              "width": 0.5
             },
             "pattern": {
              "fillmode": "overlay",
              "size": 10,
              "solidity": 0.2
             }
            },
            "type": "bar"
           }
          ],
          "barpolar": [
           {
            "marker": {
             "line": {
              "color": "#E5ECF6",
              "width": 0.5
             },
             "pattern": {
              "fillmode": "overlay",
              "size": 10,
              "solidity": 0.2
             }
            },
            "type": "barpolar"
           }
          ],
          "carpet": [
           {
            "aaxis": {
             "endlinecolor": "#2a3f5f",
             "gridcolor": "white",
             "linecolor": "white",
             "minorgridcolor": "white",
             "startlinecolor": "#2a3f5f"
            },
            "baxis": {
             "endlinecolor": "#2a3f5f",
             "gridcolor": "white",
             "linecolor": "white",
             "minorgridcolor": "white",
             "startlinecolor": "#2a3f5f"
            },
            "type": "carpet"
           }
          ],
          "choropleth": [
           {
            "colorbar": {
             "outlinewidth": 0,
             "ticks": ""
            },
            "type": "choropleth"
           }
          ],
          "contour": [
           {
            "colorbar": {
             "outlinewidth": 0,
             "ticks": ""
            },
            "colorscale": [
             [
              0,
              "#0d0887"
             ],
             [
              0.1111111111111111,
              "#46039f"
             ],
             [
              0.2222222222222222,
              "#7201a8"
             ],
             [
              0.3333333333333333,
              "#9c179e"
             ],
             [
              0.4444444444444444,
              "#bd3786"
             ],
             [
              0.5555555555555556,
              "#d8576b"
             ],
             [
              0.6666666666666666,
              "#ed7953"
             ],
             [
              0.7777777777777778,
              "#fb9f3a"
             ],
             [
              0.8888888888888888,
              "#fdca26"
             ],
             [
              1,
              "#f0f921"
             ]
            ],
            "type": "contour"
           }
          ],
          "contourcarpet": [
           {
            "colorbar": {
             "outlinewidth": 0,
             "ticks": ""
            },
            "type": "contourcarpet"
           }
          ],
          "heatmap": [
           {
            "colorbar": {
             "outlinewidth": 0,
             "ticks": ""
            },
            "colorscale": [
             [
              0,
              "#0d0887"
             ],
             [
              0.1111111111111111,
              "#46039f"
             ],
             [
              0.2222222222222222,
              "#7201a8"
             ],
             [
              0.3333333333333333,
              "#9c179e"
             ],
             [
              0.4444444444444444,
              "#bd3786"
             ],
             [
              0.5555555555555556,
              "#d8576b"
             ],
             [
              0.6666666666666666,
              "#ed7953"
             ],
             [
              0.7777777777777778,
              "#fb9f3a"
             ],
             [
              0.8888888888888888,
              "#fdca26"
             ],
             [
              1,
              "#f0f921"
             ]
            ],
            "type": "heatmap"
           }
          ],
          "histogram": [
           {
            "marker": {
             "pattern": {
              "fillmode": "overlay",
              "size": 10,
              "solidity": 0.2
             }
            },
            "type": "histogram"
           }
          ],
          "histogram2d": [
           {
            "colorbar": {
             "outlinewidth": 0,
             "ticks": ""
            },
            "colorscale": [
             [
              0,
              "#0d0887"
             ],
             [
              0.1111111111111111,
              "#46039f"
             ],
             [
              0.2222222222222222,
              "#7201a8"
             ],
             [
              0.3333333333333333,
              "#9c179e"
             ],
             [
              0.4444444444444444,
              "#bd3786"
             ],
             [
              0.5555555555555556,
              "#d8576b"
             ],
             [
              0.6666666666666666,
              "#ed7953"
             ],
             [
              0.7777777777777778,
              "#fb9f3a"
             ],
             [
              0.8888888888888888,
              "#fdca26"
             ],
             [
              1,
              "#f0f921"
             ]
            ],
            "type": "histogram2d"
           }
          ],
          "histogram2dcontour": [
           {
            "colorbar": {
             "outlinewidth": 0,
             "ticks": ""
            },
            "colorscale": [
             [
              0,
              "#0d0887"
             ],
             [
              0.1111111111111111,
              "#46039f"
             ],
             [
              0.2222222222222222,
              "#7201a8"
             ],
             [
              0.3333333333333333,
              "#9c179e"
             ],
             [
              0.4444444444444444,
              "#bd3786"
             ],
             [
              0.5555555555555556,
              "#d8576b"
             ],
             [
              0.6666666666666666,
              "#ed7953"
             ],
             [
              0.7777777777777778,
              "#fb9f3a"
             ],
             [
              0.8888888888888888,
              "#fdca26"
             ],
             [
              1,
              "#f0f921"
             ]
            ],
            "type": "histogram2dcontour"
           }
          ],
          "mesh3d": [
           {
            "colorbar": {
             "outlinewidth": 0,
             "ticks": ""
            },
            "type": "mesh3d"
           }
          ],
          "parcoords": [
           {
            "line": {
             "colorbar": {
              "outlinewidth": 0,
              "ticks": ""
             }
            },
            "type": "parcoords"
           }
          ],
          "pie": [
           {
            "automargin": true,
            "type": "pie"
           }
          ],
          "scatter": [
           {
            "fillpattern": {
             "fillmode": "overlay",
             "size": 10,
             "solidity": 0.2
            },
            "type": "scatter"
           }
          ],
          "scatter3d": [
           {
            "line": {
             "colorbar": {
              "outlinewidth": 0,
              "ticks": ""
             }
            },
            "marker": {
             "colorbar": {
              "outlinewidth": 0,
              "ticks": ""
             }
            },
            "type": "scatter3d"
           }
          ],
          "scattercarpet": [
           {
            "marker": {
             "colorbar": {
              "outlinewidth": 0,
              "ticks": ""
             }
            },
            "type": "scattercarpet"
           }
          ],
          "scattergeo": [
           {
            "marker": {
             "colorbar": {
              "outlinewidth": 0,
              "ticks": ""
             }
            },
            "type": "scattergeo"
           }
          ],
          "scattergl": [
           {
            "marker": {
             "colorbar": {
              "outlinewidth": 0,
              "ticks": ""
             }
            },
            "type": "scattergl"
           }
          ],
          "scattermap": [
           {
            "marker": {
             "colorbar": {
              "outlinewidth": 0,
              "ticks": ""
             }
            },
            "type": "scattermap"
           }
          ],
          "scattermapbox": [
           {
            "marker": {
             "colorbar": {
              "outlinewidth": 0,
              "ticks": ""
             }
            },
            "type": "scattermapbox"
           }
          ],
          "scatterpolar": [
           {
            "marker": {
             "colorbar": {
              "outlinewidth": 0,
              "ticks": ""
             }
            },
            "type": "scatterpolar"
           }
          ],
          "scatterpolargl": [
           {
            "marker": {
             "colorbar": {
              "outlinewidth": 0,
              "ticks": ""
             }
            },
            "type": "scatterpolargl"
           }
          ],
          "scatterternary": [
           {
            "marker": {
             "colorbar": {
              "outlinewidth": 0,
              "ticks": ""
             }
            },
            "type": "scatterternary"
           }
          ],
          "surface": [
           {
            "colorbar": {
             "outlinewidth": 0,
             "ticks": ""
            },
            "colorscale": [
             [
              0,
              "#0d0887"
             ],
             [
              0.1111111111111111,
              "#46039f"
             ],
             [
              0.2222222222222222,
              "#7201a8"
             ],
             [
              0.3333333333333333,
              "#9c179e"
             ],
             [
              0.4444444444444444,
              "#bd3786"
             ],
             [
              0.5555555555555556,
              "#d8576b"
             ],
             [
              0.6666666666666666,
              "#ed7953"
             ],
             [
              0.7777777777777778,
              "#fb9f3a"
             ],
             [
              0.8888888888888888,
              "#fdca26"
             ],
             [
              1,
              "#f0f921"
             ]
            ],
            "type": "surface"
           }
          ],
          "table": [
           {
            "cells": {
             "fill": {
              "color": "#EBF0F8"
             },
             "line": {
              "color": "white"
             }
            },
            "header": {
             "fill": {
              "color": "#C8D4E3"
             },
             "line": {
              "color": "white"
             }
            },
            "type": "table"
           }
          ]
         },
         "layout": {
          "annotationdefaults": {
           "arrowcolor": "#2a3f5f",
           "arrowhead": 0,
           "arrowwidth": 1
          },
          "autotypenumbers": "strict",
          "coloraxis": {
           "colorbar": {
            "outlinewidth": 0,
            "ticks": ""
           }
          },
          "colorscale": {
           "diverging": [
            [
             0,
             "#8e0152"
            ],
            [
             0.1,
             "#c51b7d"
            ],
            [
             0.2,
             "#de77ae"
            ],
            [
             0.3,
             "#f1b6da"
            ],
            [
             0.4,
             "#fde0ef"
            ],
            [
             0.5,
             "#f7f7f7"
            ],
            [
             0.6,
             "#e6f5d0"
            ],
            [
             0.7,
             "#b8e186"
            ],
            [
             0.8,
             "#7fbc41"
            ],
            [
             0.9,
             "#4d9221"
            ],
            [
             1,
             "#276419"
            ]
           ],
           "sequential": [
            [
             0,
             "#0d0887"
            ],
            [
             0.1111111111111111,
             "#46039f"
            ],
            [
             0.2222222222222222,
             "#7201a8"
            ],
            [
             0.3333333333333333,
             "#9c179e"
            ],
            [
             0.4444444444444444,
             "#bd3786"
            ],
            [
             0.5555555555555556,
             "#d8576b"
            ],
            [
             0.6666666666666666,
             "#ed7953"
            ],
            [
             0.7777777777777778,
             "#fb9f3a"
            ],
            [
             0.8888888888888888,
             "#fdca26"
            ],
            [
             1,
             "#f0f921"
            ]
           ],
           "sequentialminus": [
            [
             0,
             "#0d0887"
            ],
            [
             0.1111111111111111,
             "#46039f"
            ],
            [
             0.2222222222222222,
             "#7201a8"
            ],
            [
             0.3333333333333333,
             "#9c179e"
            ],
            [
             0.4444444444444444,
             "#bd3786"
            ],
            [
             0.5555555555555556,
             "#d8576b"
            ],
            [
             0.6666666666666666,
             "#ed7953"
            ],
            [
             0.7777777777777778,
             "#fb9f3a"
            ],
            [
             0.8888888888888888,
             "#fdca26"
            ],
            [
             1,
             "#f0f921"
            ]
           ]
          },
          "colorway": [
           "#636efa",
           "#EF553B",
           "#00cc96",
           "#ab63fa",
           "#FFA15A",
           "#19d3f3",
           "#FF6692",
           "#B6E880",
           "#FF97FF",
           "#FECB52"
          ],
          "font": {
           "color": "#2a3f5f"
          },
          "geo": {
           "bgcolor": "white",
           "lakecolor": "white",
           "landcolor": "#E5ECF6",
           "showlakes": true,
           "showland": true,
           "subunitcolor": "white"
          },
          "hoverlabel": {
           "align": "left"
          },
          "hovermode": "closest",
          "mapbox": {
           "style": "light"
          },
          "paper_bgcolor": "white",
          "plot_bgcolor": "#E5ECF6",
          "polar": {
           "angularaxis": {
            "gridcolor": "white",
            "linecolor": "white",
            "ticks": ""
           },
           "bgcolor": "#E5ECF6",
           "radialaxis": {
            "gridcolor": "white",
            "linecolor": "white",
            "ticks": ""
           }
          },
          "scene": {
           "xaxis": {
            "backgroundcolor": "#E5ECF6",
            "gridcolor": "white",
            "gridwidth": 2,
            "linecolor": "white",
            "showbackground": true,
            "ticks": "",
            "zerolinecolor": "white"
           },
           "yaxis": {
            "backgroundcolor": "#E5ECF6",
            "gridcolor": "white",
            "gridwidth": 2,
            "linecolor": "white",
            "showbackground": true,
            "ticks": "",
            "zerolinecolor": "white"
           },
           "zaxis": {
            "backgroundcolor": "#E5ECF6",
            "gridcolor": "white",
            "gridwidth": 2,
            "linecolor": "white",
            "showbackground": true,
            "ticks": "",
            "zerolinecolor": "white"
           }
          },
          "shapedefaults": {
           "line": {
            "color": "#2a3f5f"
           }
          },
          "ternary": {
           "aaxis": {
            "gridcolor": "white",
            "linecolor": "white",
            "ticks": ""
           },
           "baxis": {
            "gridcolor": "white",
            "linecolor": "white",
            "ticks": ""
           },
           "bgcolor": "#E5ECF6",
           "caxis": {
            "gridcolor": "white",
            "linecolor": "white",
            "ticks": ""
           }
          },
          "title": {
           "x": 0.05
          },
          "xaxis": {
           "automargin": true,
           "gridcolor": "white",
           "linecolor": "white",
           "ticks": "",
           "title": {
            "standoff": 15
           },
           "zerolinecolor": "white",
           "zerolinewidth": 2
          },
          "yaxis": {
           "automargin": true,
           "gridcolor": "white",
           "linecolor": "white",
           "ticks": "",
           "title": {
            "standoff": 15
           },
           "zerolinecolor": "white",
           "zerolinewidth": 2
          }
         }
        },
        "title": {
         "text": "Salary Distribution by AI Job Titles"
        },
        "width": 800,
        "xaxis": {
         "anchor": "y",
         "categoryarray": [
          "Autonomous Systems Engineer",
          "Data Scientist",
          "AI Architect",
          "AI Research Scientist",
          "Research Scientist",
          "AI Specialist",
          "Machine Learning Researcher",
          "NLP Engineer",
          "ML Ops Engineer",
          "AI Product Manager",
          "Principal Data Scientist",
          "AI Consultant",
          "Robotics Engineer",
          "AI Software Engineer",
          "Machine Learning Engineer",
          "Data Engineer",
          "Data Analyst",
          "Head of AI",
          "Deep Learning Engineer"
         ],
         "categoryorder": "median descending",
         "domain": [
          0,
          1
         ],
         "title": {
          "text": "Job Title"
         }
        },
        "yaxis": {
         "anchor": "x",
         "domain": [
          0,
          1
         ],
         "title": {
          "text": "Salary (USD)"
         }
        }
       }
      }
     },
     "metadata": {},
     "output_type": "display_data"
    }
   ],
   "source": [
    "# 1. Salary analysis by job title\n",
    "# Calculate statistics for top job titles by count\n",
    "job_titles = full_df[\"job_title\"].value_counts().head(19).index.tolist()\n",
    "job_salary_df = full_df[full_df[\"job_title\"].isin(job_titles)]\n",
    "\n",
    "fig1 = px.box(\n",
    "    job_salary_df,\n",
    "    x=\"job_title\",\n",
    "    y=\"salary_usd\",\n",
    "    color=\"job_title\",\n",
    "    title=\"Salary Distribution by AI Job Titles\",\n",
    "    labels={\"salary_usd\": \"Salary (USD)\", \"job_title\": \"Job Title\"},\n",
    "    height=600,\n",
    "    width=800\n",
    ")\n",
    "fig1.update_layout(\n",
    "    xaxis={\"categoryorder\": \"median descending\"},\n",
    "    showlegend=False\n",
    ")\n",
    "fig1.show()"
   ]
  },
  {
   "cell_type": "code",
   "execution_count": 41,
   "metadata": {},
   "outputs": [
    {
     "name": "stdout",
     "output_type": "stream",
     "text": [
      "Job Title Salary Statistics:\n"
     ]
    },
    {
     "data": {
      "text/html": [
       "<div>\n",
       "<style scoped>\n",
       "    .dataframe tbody tr th:only-of-type {\n",
       "        vertical-align: middle;\n",
       "    }\n",
       "\n",
       "    .dataframe tbody tr th {\n",
       "        vertical-align: top;\n",
       "    }\n",
       "\n",
       "    .dataframe thead th {\n",
       "        text-align: right;\n",
       "    }\n",
       "</style>\n",
       "<table border=\"1\" class=\"dataframe\">\n",
       "  <thead>\n",
       "    <tr style=\"text-align: right;\">\n",
       "      <th></th>\n",
       "      <th>mean</th>\n",
       "      <th>median</th>\n",
       "      <th>min</th>\n",
       "      <th>max</th>\n",
       "      <th>count</th>\n",
       "    </tr>\n",
       "    <tr>\n",
       "      <th>job_title</th>\n",
       "      <th></th>\n",
       "      <th></th>\n",
       "      <th></th>\n",
       "      <th></th>\n",
       "      <th></th>\n",
       "    </tr>\n",
       "  </thead>\n",
       "  <tbody>\n",
       "    <tr>\n",
       "      <th>Machine Learning Researcher</th>\n",
       "      <td>164528.967742</td>\n",
       "      <td>162756.0</td>\n",
       "      <td>79146</td>\n",
       "      <td>284282</td>\n",
       "      <td>31</td>\n",
       "    </tr>\n",
       "    <tr>\n",
       "      <th>Computer Vision Engineer</th>\n",
       "      <td>175080.791667</td>\n",
       "      <td>161474.0</td>\n",
       "      <td>75675</td>\n",
       "      <td>319984</td>\n",
       "      <td>24</td>\n",
       "    </tr>\n",
       "    <tr>\n",
       "      <th>AI Architect</th>\n",
       "      <td>170238.756098</td>\n",
       "      <td>160162.0</td>\n",
       "      <td>70238</td>\n",
       "      <td>295466</td>\n",
       "      <td>41</td>\n",
       "    </tr>\n",
       "    <tr>\n",
       "      <th>Machine Learning Engineer</th>\n",
       "      <td>146827.000000</td>\n",
       "      <td>143496.0</td>\n",
       "      <td>57234</td>\n",
       "      <td>344427</td>\n",
       "      <td>30</td>\n",
       "    </tr>\n",
       "    <tr>\n",
       "      <th>NLP Engineer</th>\n",
       "      <td>143023.485714</td>\n",
       "      <td>138709.0</td>\n",
       "      <td>61055</td>\n",
       "      <td>290462</td>\n",
       "      <td>35</td>\n",
       "    </tr>\n",
       "    <tr>\n",
       "      <th>Autonomous Systems Engineer</th>\n",
       "      <td>151197.350000</td>\n",
       "      <td>138453.0</td>\n",
       "      <td>54803</td>\n",
       "      <td>273986</td>\n",
       "      <td>40</td>\n",
       "    </tr>\n",
       "    <tr>\n",
       "      <th>Research Scientist</th>\n",
       "      <td>152662.800000</td>\n",
       "      <td>135405.0</td>\n",
       "      <td>62960</td>\n",
       "      <td>333499</td>\n",
       "      <td>35</td>\n",
       "    </tr>\n",
       "    <tr>\n",
       "      <th>Head of AI</th>\n",
       "      <td>159591.289474</td>\n",
       "      <td>134609.5</td>\n",
       "      <td>70667</td>\n",
       "      <td>343803</td>\n",
       "      <td>38</td>\n",
       "    </tr>\n",
       "  </tbody>\n",
       "</table>\n",
       "</div>"
      ],
      "text/plain": [
       "                                      mean    median    min     max  count\n",
       "job_title                                                                 \n",
       "Machine Learning Researcher  164528.967742  162756.0  79146  284282     31\n",
       "Computer Vision Engineer     175080.791667  161474.0  75675  319984     24\n",
       "AI Architect                 170238.756098  160162.0  70238  295466     41\n",
       "Machine Learning Engineer    146827.000000  143496.0  57234  344427     30\n",
       "NLP Engineer                 143023.485714  138709.0  61055  290462     35\n",
       "Autonomous Systems Engineer  151197.350000  138453.0  54803  273986     40\n",
       "Research Scientist           152662.800000  135405.0  62960  333499     35\n",
       "Head of AI                   159591.289474  134609.5  70667  343803     38"
      ]
     },
     "metadata": {},
     "output_type": "display_data"
    }
   ],
   "source": [
    "# 1. Salary Statistics by Job Title\n",
    "job_title_stats = full_df.groupby('job_title')['salary_usd'].agg(['mean', 'median', 'min', 'max', 'count']).sort_values('median', ascending=False)\n",
    "print(\"Job Title Salary Statistics:\")\n",
    "display(job_title_stats.head(8))"
   ]
  },
  {
   "cell_type": "markdown",
   "metadata": {},
   "source": [
    "Machine Learning Researchers command the highest median salary at $162,756, closely followed by Computer Vision Engineers at $161,474 and AI Architects at $160,162. Despite having similar median values, the mean salaries reveal interesting variations - Computer Vision Engineers have the highest average salary at $175,081, suggesting some exceptionally high-paying positions in this specialization. The salary ranges within each role are substantial; for example, Machine Learning Engineers' compensation spans from $57,234 to $344,427, representing a difference of over $287,000. This wide range indicates that factors beyond job title, such as experience, industry, and specific technical expertise, significantly influence compensation in AI careers. For training providers and job seekers using STEAMe's platform, focusing on specialized roles like Computer Vision and Machine Learning Research appears to offer the highest financial returns, while also considering the substantial variation within each category when planning career pathways."
   ]
  },
  {
   "cell_type": "markdown",
   "metadata": {},
   "source": [
    "## 2. Salary by Experience Level\n",
    "\n",
    "Experience level is a fundamental determinant of compensation in the AI field. This analysis explores the salary progression from Entry to Executive positions, quantifying the financial benefits of career advancement. For STEAMe's platform users, this information helps set realistic salary expectations at different career stages and demonstrates the tangible rewards of professional growth and skill development."
   ]
  },
  {
   "cell_type": "code",
   "execution_count": 44,
   "metadata": {},
   "outputs": [
    {
     "data": {
      "application/vnd.plotly.v1+json": {
       "config": {
        "plotlyServerURL": "https://plot.ly"
       },
       "data": [
        {
         "alignmentgroup": "True",
         "hovertemplate": "Experience Level=%{x}<br>Salary (USD)=%{y}<extra></extra>",
         "legendgroup": "EN",
         "marker": {
          "color": "#636efa"
         },
         "name": "EN",
         "notched": false,
         "offsetgroup": "EN",
         "orientation": "v",
         "showlegend": true,
         "type": "box",
         "x": [
          "EN",
          "EN",
          "EN",
          "EN",
          "EN",
          "EN",
          "EN",
          "EN",
          "EN",
          "EN",
          "EN",
          "EN",
          "EN",
          "EN",
          "EN",
          "EN",
          "EN",
          "EN",
          "EN",
          "EN",
          "EN",
          "EN",
          "EN",
          "EN",
          "EN",
          "EN",
          "EN",
          "EN",
          "EN",
          "EN",
          "EN",
          "EN",
          "EN",
          "EN",
          "EN",
          "EN",
          "EN",
          "EN",
          "EN",
          "EN",
          "EN",
          "EN",
          "EN",
          "EN",
          "EN",
          "EN",
          "EN",
          "EN",
          "EN",
          "EN",
          "EN",
          "EN",
          "EN",
          "EN",
          "EN",
          "EN",
          "EN",
          "EN",
          "EN",
          "EN",
          "EN",
          "EN",
          "EN",
          "EN",
          "EN",
          "EN",
          "EN",
          "EN",
          "EN",
          "EN",
          "EN",
          "EN",
          "EN",
          "EN",
          "EN",
          "EN",
          "EN",
          "EN",
          "EN",
          "EN",
          "EN",
          "EN",
          "EN",
          "EN",
          "EN",
          "EN",
          "EN",
          "EN",
          "EN",
          "EN",
          "EN",
          "EN",
          "EN",
          "EN",
          "EN",
          "EN",
          "EN",
          "EN",
          "EN",
          "EN",
          "EN",
          "EN",
          "EN",
          "EN",
          "EN",
          "EN",
          "EN",
          "EN",
          "EN",
          "EN",
          "EN",
          "EN",
          "EN",
          "EN",
          "EN",
          "EN",
          "EN",
          "EN",
          "EN",
          "EN",
          "EN",
          "EN",
          "EN",
          "EN",
          "EN",
          "EN",
          "EN",
          "EN",
          "EN",
          "EN",
          "EN",
          "EN",
          "EN",
          "EN",
          "EN",
          "EN",
          "EN",
          "EN",
          "EN",
          "EN",
          "EN",
          "EN",
          "EN",
          "EN",
          "EN",
          "EN",
          "EN",
          "EN",
          "EN",
          "EN",
          "EN",
          "EN",
          "EN",
          "EN",
          "EN",
          "EN",
          "EN",
          "EN",
          "EN",
          "EN",
          "EN",
          "EN",
          "EN",
          "EN",
          "EN",
          "EN",
          "EN",
          "EN",
          "EN",
          "EN",
          "EN",
          "EN",
          "EN",
          "EN"
         ],
         "x0": " ",
         "xaxis": "x",
         "y": {
          "bdata": "GhEBAH/uAAB2gAEArxABAEssAQBcbwEAyv4AAFegAQDhggEAtosBAIZyAQC1UQEAMvkAAPTwAACcHwEApgoBAOQ2AQDaLQEAl10BAL/yAACkMQEAgJIBAFonAQCCbwEAkSIBAOswAQArqQEAuj4BAFxPAQBjVAEArBUBADsoAQAuLAEAfDUBAGcsAQCS3wAA8zoBAP2jAQAtLAEAslwBAM0XAQA+KQEAMRYBABIQAQC69QAAWPMAAKz4AAChEgEARTcBACdqAQAidwEAfQUBAC8QAQDDDQEA5GQBAJ8OAQBo3AAAzzsBAPVvAQA6+gAA1m8BADcjAQDtKgEAXzUBAPwTAQAGSAEAUjoBAEoFAQBMLwEAMUEBAIcsAQBSQgEAbyEBANMdAQDdMgEAnVcBAJo4AQApjgEAdiQBAF4SAQAdigEAnUwBANBNAQAxkwEAPpwBAAgJAQBMUwEACxQBAPioAQAqNQEA8PUAAMJjAQCKSwEAoCABADoWAQCaQgEAt1kBAMIZAQDKbQEAX20BAFBJAQAJNAEA2S8BAJhRAQDhFwEAwwkBAM7/AADZPwEAmycBAAcQAQA5GAEAjPwAABc2AQDXCwEAAp0BAPQoAQCRRQEAqRsBAKgoAQBgRQEAA34BAApAAQAjbAEAvT4BAK1WAQA47QAAxzwBANfsAADHFgEAnWMBAGwWAQBDQgEAdzUBACY4AQAUpwEA0OgAACgoAQB/PAEAShIBALsNAQAINQEABZkBALdHAQDmRwEA26ABAJEdAQBQJgEAShsBAGmWAQC1lwEACTMBAJxqAQBMiwEAkXIBAJXzAACbDwEAWUQBAB9QAQCJbQEASm8BAIhvAQDw1AAA6xgBAJ4UAQCyWgEAtiIBAKkMAQAH8AAAMCABABPWAACTcgEAfDMBAF6eAQCwVgEA",
          "dtype": "i4"
         },
         "y0": " ",
         "yaxis": "y"
        },
        {
         "alignmentgroup": "True",
         "hovertemplate": "Experience Level=%{x}<br>Salary (USD)=%{y}<extra></extra>",
         "legendgroup": "MI",
         "marker": {
          "color": "#EF553B"
         },
         "name": "MI",
         "notched": false,
         "offsetgroup": "MI",
         "orientation": "v",
         "showlegend": true,
         "type": "box",
         "x": [
          "MI",
          "MI",
          "MI",
          "MI",
          "MI",
          "MI",
          "MI",
          "MI",
          "MI",
          "MI",
          "MI",
          "MI",
          "MI",
          "MI",
          "MI",
          "MI",
          "MI",
          "MI",
          "MI",
          "MI",
          "MI",
          "MI",
          "MI",
          "MI",
          "MI",
          "MI",
          "MI",
          "MI",
          "MI",
          "MI",
          "MI",
          "MI",
          "MI",
          "MI",
          "MI",
          "MI",
          "MI",
          "MI",
          "MI",
          "MI",
          "MI",
          "MI",
          "MI",
          "MI",
          "MI",
          "MI",
          "MI",
          "MI",
          "MI",
          "MI",
          "MI",
          "MI",
          "MI",
          "MI",
          "MI",
          "MI",
          "MI",
          "MI",
          "MI",
          "MI",
          "MI",
          "MI",
          "MI",
          "MI",
          "MI",
          "MI",
          "MI",
          "MI",
          "MI",
          "MI",
          "MI",
          "MI",
          "MI",
          "MI",
          "MI",
          "MI",
          "MI",
          "MI",
          "MI",
          "MI",
          "MI",
          "MI",
          "MI",
          "MI",
          "MI",
          "MI",
          "MI",
          "MI",
          "MI",
          "MI",
          "MI",
          "MI",
          "MI",
          "MI",
          "MI",
          "MI",
          "MI",
          "MI",
          "MI",
          "MI",
          "MI",
          "MI",
          "MI",
          "MI",
          "MI",
          "MI",
          "MI",
          "MI",
          "MI",
          "MI",
          "MI",
          "MI",
          "MI",
          "MI",
          "MI",
          "MI",
          "MI",
          "MI",
          "MI",
          "MI",
          "MI",
          "MI",
          "MI",
          "MI",
          "MI",
          "MI",
          "MI",
          "MI",
          "MI",
          "MI",
          "MI",
          "MI",
          "MI",
          "MI",
          "MI",
          "MI",
          "MI",
          "MI",
          "MI",
          "MI",
          "MI",
          "MI",
          "MI",
          "MI",
          "MI",
          "MI",
          "MI",
          "MI",
          "MI",
          "MI",
          "MI",
          "MI",
          "MI",
          "MI",
          "MI",
          "MI",
          "MI",
          "MI",
          "MI",
          "MI",
          "MI",
          "MI",
          "MI",
          "MI",
          "MI",
          "MI",
          "MI",
          "MI",
          "MI",
          "MI",
          "MI",
          "MI",
          "MI",
          "MI",
          "MI",
          "MI",
          "MI",
          "MI",
          "MI",
          "MI",
          "MI",
          "MI",
          "MI",
          "MI"
         ],
         "x0": " ",
         "xaxis": "x",
         "y": {
          "bdata": "lpABALx6AQBToAEAqLMBAK3XAQDdPwEAWo4BAEaJAQB+lQEAka0BAPwIAgDetwEA4XcBAIvgAQA3TQEAYKYBAMDzAQCOWQEAoS0CABGsAQDSeAEAXbEBAC7TAQAcqwEAPusBAI/3AQDPfgEA1roBANnwAQDduwEAzKkBAKipAQDGogEAlmQBADaHAQDC0gEAXOkBAFG5AQDhiAEAgS0BAMVPAQDrdAEA7jUBAPD7AQAkNgEAXEwBAPiCAQAfsgEAyNEBAKGnAQDarwEA6vQBANjCAQCbngEAstQBAKyjAQCV3gEAo/oBAB/kAQBS2AEAcq8BABXtAQCilgEAiaABAHCvAQA5YQEABVsBAD1AAQB0twEA1R0CAPOMAQBegQEAOfoBAP6OAQDlNQIAEA0CAFO+AQBLTgEA9MYBALzDAQCM7QEAzZYBAHGHAQDu6QEA76ABAD/0AQBm1QEAyPgBAEc5AgCRCwIAiJwBANlXAQBHiwEA6JsBAPD0AQDGtwEAHugBABjzAQDQqAEATWUBAP6EAQC8dAEAFU8BAHZmAQBC9wEAC2oBAN/PAQDfewEAR5ABAIDAAQBi4AEAomcBAGvNAQCl+gEAzC8BACFHAgBhVQEAVu0BAJ5sAQC7uAEAXXkBAMdXAQB+XAEAIFwBAH68AQC4jwEA0scBAKyKAQAnMAIA/FgBAMzQAQAiiQEA5K8BAA63AQAFcwEAvQ8CAHtZAQDymAEADNQBAK7QAQCA6AEAIlQBAHPRAQDurwEAZsQBAM6iAQACnQEAgMUBAA8kAgBE/QEAuYkBAObjAQBiiwEASGoBAO0QAgD7XgEAqVkBAIcwAgA/awEADAoCANA4AgBe0wEAVZYBAMOKAQCy4AEAX4ABAHlJAQClnQEAGmIBABNeAQBb4gEAz04BAO6jAQB3EgIA9I0BAEgVAgA0LwEA/0kBAKW2AQC2qAEAXFwBAMYGAgBDngEAyHwBAA==",
          "dtype": "i4"
         },
         "y0": " ",
         "yaxis": "y"
        },
        {
         "alignmentgroup": "True",
         "hovertemplate": "Experience Level=%{x}<br>Salary (USD)=%{y}<extra></extra>",
         "legendgroup": "SE",
         "marker": {
          "color": "#00cc96"
         },
         "name": "SE",
         "notched": false,
         "offsetgroup": "SE",
         "orientation": "v",
         "showlegend": true,
         "type": "box",
         "x": [
          "SE",
          "SE",
          "SE",
          "SE",
          "SE",
          "SE",
          "SE",
          "SE",
          "SE",
          "SE",
          "SE",
          "SE",
          "SE",
          "SE",
          "SE",
          "SE",
          "SE",
          "SE",
          "SE",
          "SE",
          "SE",
          "SE",
          "SE",
          "SE",
          "SE",
          "SE",
          "SE",
          "SE",
          "SE",
          "SE",
          "SE",
          "SE",
          "SE",
          "SE",
          "SE",
          "SE",
          "SE",
          "SE",
          "SE",
          "SE",
          "SE",
          "SE",
          "SE",
          "SE",
          "SE",
          "SE",
          "SE",
          "SE",
          "SE",
          "SE",
          "SE",
          "SE",
          "SE",
          "SE",
          "SE",
          "SE",
          "SE",
          "SE",
          "SE",
          "SE",
          "SE",
          "SE",
          "SE",
          "SE",
          "SE",
          "SE",
          "SE",
          "SE",
          "SE",
          "SE",
          "SE",
          "SE",
          "SE",
          "SE",
          "SE",
          "SE",
          "SE",
          "SE",
          "SE",
          "SE",
          "SE",
          "SE",
          "SE",
          "SE",
          "SE",
          "SE",
          "SE",
          "SE",
          "SE",
          "SE",
          "SE",
          "SE",
          "SE",
          "SE",
          "SE",
          "SE",
          "SE",
          "SE",
          "SE",
          "SE",
          "SE",
          "SE",
          "SE",
          "SE",
          "SE",
          "SE",
          "SE",
          "SE",
          "SE",
          "SE",
          "SE",
          "SE",
          "SE",
          "SE",
          "SE",
          "SE",
          "SE",
          "SE",
          "SE",
          "SE",
          "SE",
          "SE",
          "SE",
          "SE",
          "SE",
          "SE",
          "SE",
          "SE",
          "SE",
          "SE",
          "SE",
          "SE",
          "SE",
          "SE",
          "SE",
          "SE",
          "SE",
          "SE",
          "SE",
          "SE",
          "SE",
          "SE",
          "SE",
          "SE",
          "SE",
          "SE",
          "SE",
          "SE",
          "SE",
          "SE",
          "SE",
          "SE",
          "SE",
          "SE",
          "SE",
          "SE",
          "SE",
          "SE",
          "SE",
          "SE",
          "SE",
          "SE",
          "SE",
          "SE",
          "SE",
          "SE",
          "SE",
          "SE",
          "SE",
          "SE",
          "SE",
          "SE",
          "SE",
          "SE",
          "SE",
          "SE",
          "SE",
          "SE"
         ],
         "x0": " ",
         "xaxis": "x",
         "y": {
          "bdata": "WgEDAEeqAgBr/AIAgcQBAJuYAgAcwAIAm28CAA+nAgClOgIAvQkCADpQAgDTnwIATnECAHBFAgBnOgIAxIkCANEkAgBKHwIAyiMCACDQAQDB7AIAGnACAO/nAgCzHwIAMMUBANo4AgA1MwIAYzwCAN2aAgALuQIA0BsCAOLVAQBPNQIAvgoDADt2AgDvZQIAoCACAHsGAgBdtQIAZsoBAEmBAgBdZAIAvIYCAM+aAgBSQgIAsa0CAF1HAgAA6AEAf5cCAEjNAgB0JwIAoDECAD4LAgBF+wIAtFMCALfaAQDP5QEAkdwBAHLaAQCKIAIAqqACAGB3AgA9sAIAYCICAAyUAgCjFQIAkP8BAC9UAgADkQIAVdgBACegAgAO1wEANnwCABnZAgAdSgIAEjUCALRfAgDmIgMAoJkCAGclAwA/TQIAy/YCAKsCAgAehQIAf4oCALAzAgDDcQIAreIBANn/AQCdFwMAaWMCAO8hAgCU+gEA0Y4CACZfAgCGtwIAMPQBANodAgDxEgIAiTACAIzfAgDS/wEA/XcCAAWAAgBxAQMApBcCANW0AQBPJwMAdj4CAJ1WAgCBhQIA5GcCAFlpAgAnxwIArsQCAOp0AgBmQAIAWIUCAAavAQB69QEA20sCAB+tAgCWGgIApWsCAEsHAgDmCQIA23MCAMkqAgDcWwIAbWkCACU5AgAVsQIAmqkCAD7TAQCjBQMAODcCAAIPAgCX6AEAS90BAItnAgAmwwEAeuICALcpAgBR3QIA6J8CAFrXAQCSwAEAeO8CAPIbAgCGBQIA9n0CAB+gAgCsQQIAW4MCAIjAAQAy9wIAE7ACACG6AQCDCwIA0fQBAIq2AgAQUwIAez0CALxpAgDEewIATBgDAOHIAgDh3wEAZgkCAEwHAgBrFwIA3vMBAOwtAgAdQgIAOWQCAIjHAQDT2QEAxBICAA==",
          "dtype": "i4"
         },
         "y0": " ",
         "yaxis": "y"
        },
        {
         "alignmentgroup": "True",
         "hovertemplate": "Experience Level=%{x}<br>Salary (USD)=%{y}<extra></extra>",
         "legendgroup": "EX",
         "marker": {
          "color": "#ab63fa"
         },
         "name": "EX",
         "notched": false,
         "offsetgroup": "EX",
         "orientation": "v",
         "showlegend": true,
         "type": "box",
         "x": [
          "EX",
          "EX",
          "EX",
          "EX",
          "EX",
          "EX",
          "EX",
          "EX",
          "EX",
          "EX",
          "EX",
          "EX",
          "EX",
          "EX",
          "EX",
          "EX",
          "EX",
          "EX",
          "EX",
          "EX",
          "EX",
          "EX",
          "EX",
          "EX",
          "EX",
          "EX",
          "EX",
          "EX",
          "EX",
          "EX",
          "EX",
          "EX",
          "EX",
          "EX",
          "EX",
          "EX",
          "EX",
          "EX",
          "EX",
          "EX",
          "EX",
          "EX",
          "EX",
          "EX",
          "EX",
          "EX",
          "EX",
          "EX",
          "EX",
          "EX",
          "EX",
          "EX",
          "EX",
          "EX",
          "EX",
          "EX",
          "EX",
          "EX",
          "EX",
          "EX",
          "EX",
          "EX",
          "EX",
          "EX",
          "EX",
          "EX",
          "EX",
          "EX",
          "EX",
          "EX",
          "EX",
          "EX",
          "EX",
          "EX",
          "EX",
          "EX",
          "EX",
          "EX",
          "EX",
          "EX",
          "EX",
          "EX",
          "EX",
          "EX",
          "EX",
          "EX",
          "EX",
          "EX",
          "EX",
          "EX",
          "EX",
          "EX",
          "EX",
          "EX",
          "EX",
          "EX",
          "EX",
          "EX",
          "EX",
          "EX",
          "EX",
          "EX",
          "EX",
          "EX",
          "EX",
          "EX",
          "EX",
          "EX",
          "EX",
          "EX",
          "EX",
          "EX",
          "EX",
          "EX",
          "EX",
          "EX",
          "EX",
          "EX",
          "EX",
          "EX",
          "EX",
          "EX",
          "EX",
          "EX",
          "EX",
          "EX",
          "EX",
          "EX",
          "EX",
          "EX",
          "EX",
          "EX",
          "EX",
          "EX",
          "EX",
          "EX",
          "EX",
          "EX",
          "EX",
          "EX",
          "EX",
          "EX",
          "EX",
          "EX",
          "EX",
          "EX",
          "EX",
          "EX",
          "EX",
          "EX",
          "EX",
          "EX",
          "EX",
          "EX",
          "EX",
          "EX",
          "EX",
          "EX",
          "EX",
          "EX",
          "EX",
          "EX",
          "EX",
          "EX",
          "EX",
          "EX",
          "EX",
          "EX",
          "EX",
          "EX",
          "EX",
          "EX",
          "EX",
          "EX",
          "EX",
          "EX",
          "EX",
          "EX",
          "EX",
          "EX",
          "EX",
          "EX",
          "EX",
          "EX",
          "EX",
          "EX",
          "EX",
          "EX"
         ],
         "x0": " ",
         "xaxis": "x",
         "y": {
          "bdata": "RlcEAC0iAwC+5gMAcaMDAM6aAgCihgMA4RYEAGQqBACxJQMA7ycDAGwIBABKWAMAXQUDAMo1BABwJgMAGAQDAH+bAwBYvQIA79sCABaqAwDiZwMAszEDAHpWBADEBgMAkoAEAAStAgBDDwQAAJ8DAFTgAgDeOwMApgYEAAA5BQA3OwQAVHUCADXOAgA4YQMAI20DACWZAwA91QIAQc8DAAJkBAB5wAMASSYEAAsqBQBeGgQAIRwFALsWBQBUowQAQlcDAInTAwCy3wIAmZkDAJolBQA3iQIAonECAAgkBQA8QwMA67UDAPGnAwBC/wIAiAcDAK4gAwAHDwQAtf8DAD5mBACt8wMAWrwCAMHuAwBRrgMAL7cCAIh9AwDtoAIAR90CAP+MAgBRRAMAd3YEAHs3BQBNewMA//UEAKoKBAC7VAIAS/cDAESHAgDG/wIAntgDAELDAwA5YgMAt98CAGEDAwBrQQUAgHICAOatAwCVOAMANP8CAETiAwDT7QIAQWgDACqCBABSsQMArJkDAKclBAAKQQMABQYDAPn9AgDEDwMA7xADAP1/AgBwtAMAjRYFAM2BAwC9cwMAxUgCAFLiAwC41gMAmCIDAHoBBAD2IwMA+z4FAPTbAwCFEQMAA4sCANoJBAB07gQAYK0CACxKBAA2KgQAJc4EAAodBACRZQQA8gIEAPoMBAAKugMANAgEAEtiAwB/cQIAo78DAGUOAwCXQQUAcgsDAFZoAwDD6QIAu9gDAPDhBABG7gMAj2QDAEA1BQC9jQIALf0DAMn+AgBdKAMAZ9cDACKpAwBGNAIAnCYDADVdAwBqewQAfBcEAB/NAwAUEwQACewCAPNyAwDa5QMAY7gDAHhBAwBCLgQA2mUDAGpHAwBfqQMAsfADADPUAwC+VAMAnm4EAJBmAwBTUAMAhosDAJ2rBADW2AIA01gEAJ0YBABtEAQAOvwDANmiAwCfoQIAMy4EAFnLAwANMwQAJbAEAJVnBAA=",
          "dtype": "i4"
         },
         "y0": " ",
         "yaxis": "y"
        }
       ],
       "layout": {
        "annotations": [
         {
          "bgcolor": "rgba(255,255,255,0.8)",
          "showarrow": false,
          "text": "EN=Entry, MI=Mid, SE=senior, EX=Executive",
          "x": 0,
          "y": 327247.45
         }
        ],
        "boxmode": "overlay",
        "height": 500,
        "legend": {
         "title": {
          "text": "Experience Level"
         },
         "tracegroupgap": 0
        },
        "showlegend": false,
        "template": {
         "data": {
          "bar": [
           {
            "error_x": {
             "color": "#2a3f5f"
            },
            "error_y": {
             "color": "#2a3f5f"
            },
            "marker": {
             "line": {
              "color": "#E5ECF6",
              "width": 0.5
             },
             "pattern": {
              "fillmode": "overlay",
              "size": 10,
              "solidity": 0.2
             }
            },
            "type": "bar"
           }
          ],
          "barpolar": [
           {
            "marker": {
             "line": {
              "color": "#E5ECF6",
              "width": 0.5
             },
             "pattern": {
              "fillmode": "overlay",
              "size": 10,
              "solidity": 0.2
             }
            },
            "type": "barpolar"
           }
          ],
          "carpet": [
           {
            "aaxis": {
             "endlinecolor": "#2a3f5f",
             "gridcolor": "white",
             "linecolor": "white",
             "minorgridcolor": "white",
             "startlinecolor": "#2a3f5f"
            },
            "baxis": {
             "endlinecolor": "#2a3f5f",
             "gridcolor": "white",
             "linecolor": "white",
             "minorgridcolor": "white",
             "startlinecolor": "#2a3f5f"
            },
            "type": "carpet"
           }
          ],
          "choropleth": [
           {
            "colorbar": {
             "outlinewidth": 0,
             "ticks": ""
            },
            "type": "choropleth"
           }
          ],
          "contour": [
           {
            "colorbar": {
             "outlinewidth": 0,
             "ticks": ""
            },
            "colorscale": [
             [
              0,
              "#0d0887"
             ],
             [
              0.1111111111111111,
              "#46039f"
             ],
             [
              0.2222222222222222,
              "#7201a8"
             ],
             [
              0.3333333333333333,
              "#9c179e"
             ],
             [
              0.4444444444444444,
              "#bd3786"
             ],
             [
              0.5555555555555556,
              "#d8576b"
             ],
             [
              0.6666666666666666,
              "#ed7953"
             ],
             [
              0.7777777777777778,
              "#fb9f3a"
             ],
             [
              0.8888888888888888,
              "#fdca26"
             ],
             [
              1,
              "#f0f921"
             ]
            ],
            "type": "contour"
           }
          ],
          "contourcarpet": [
           {
            "colorbar": {
             "outlinewidth": 0,
             "ticks": ""
            },
            "type": "contourcarpet"
           }
          ],
          "heatmap": [
           {
            "colorbar": {
             "outlinewidth": 0,
             "ticks": ""
            },
            "colorscale": [
             [
              0,
              "#0d0887"
             ],
             [
              0.1111111111111111,
              "#46039f"
             ],
             [
              0.2222222222222222,
              "#7201a8"
             ],
             [
              0.3333333333333333,
              "#9c179e"
             ],
             [
              0.4444444444444444,
              "#bd3786"
             ],
             [
              0.5555555555555556,
              "#d8576b"
             ],
             [
              0.6666666666666666,
              "#ed7953"
             ],
             [
              0.7777777777777778,
              "#fb9f3a"
             ],
             [
              0.8888888888888888,
              "#fdca26"
             ],
             [
              1,
              "#f0f921"
             ]
            ],
            "type": "heatmap"
           }
          ],
          "histogram": [
           {
            "marker": {
             "pattern": {
              "fillmode": "overlay",
              "size": 10,
              "solidity": 0.2
             }
            },
            "type": "histogram"
           }
          ],
          "histogram2d": [
           {
            "colorbar": {
             "outlinewidth": 0,
             "ticks": ""
            },
            "colorscale": [
             [
              0,
              "#0d0887"
             ],
             [
              0.1111111111111111,
              "#46039f"
             ],
             [
              0.2222222222222222,
              "#7201a8"
             ],
             [
              0.3333333333333333,
              "#9c179e"
             ],
             [
              0.4444444444444444,
              "#bd3786"
             ],
             [
              0.5555555555555556,
              "#d8576b"
             ],
             [
              0.6666666666666666,
              "#ed7953"
             ],
             [
              0.7777777777777778,
              "#fb9f3a"
             ],
             [
              0.8888888888888888,
              "#fdca26"
             ],
             [
              1,
              "#f0f921"
             ]
            ],
            "type": "histogram2d"
           }
          ],
          "histogram2dcontour": [
           {
            "colorbar": {
             "outlinewidth": 0,
             "ticks": ""
            },
            "colorscale": [
             [
              0,
              "#0d0887"
             ],
             [
              0.1111111111111111,
              "#46039f"
             ],
             [
              0.2222222222222222,
              "#7201a8"
             ],
             [
              0.3333333333333333,
              "#9c179e"
             ],
             [
              0.4444444444444444,
              "#bd3786"
             ],
             [
              0.5555555555555556,
              "#d8576b"
             ],
             [
              0.6666666666666666,
              "#ed7953"
             ],
             [
              0.7777777777777778,
              "#fb9f3a"
             ],
             [
              0.8888888888888888,
              "#fdca26"
             ],
             [
              1,
              "#f0f921"
             ]
            ],
            "type": "histogram2dcontour"
           }
          ],
          "mesh3d": [
           {
            "colorbar": {
             "outlinewidth": 0,
             "ticks": ""
            },
            "type": "mesh3d"
           }
          ],
          "parcoords": [
           {
            "line": {
             "colorbar": {
              "outlinewidth": 0,
              "ticks": ""
             }
            },
            "type": "parcoords"
           }
          ],
          "pie": [
           {
            "automargin": true,
            "type": "pie"
           }
          ],
          "scatter": [
           {
            "fillpattern": {
             "fillmode": "overlay",
             "size": 10,
             "solidity": 0.2
            },
            "type": "scatter"
           }
          ],
          "scatter3d": [
           {
            "line": {
             "colorbar": {
              "outlinewidth": 0,
              "ticks": ""
             }
            },
            "marker": {
             "colorbar": {
              "outlinewidth": 0,
              "ticks": ""
             }
            },
            "type": "scatter3d"
           }
          ],
          "scattercarpet": [
           {
            "marker": {
             "colorbar": {
              "outlinewidth": 0,
              "ticks": ""
             }
            },
            "type": "scattercarpet"
           }
          ],
          "scattergeo": [
           {
            "marker": {
             "colorbar": {
              "outlinewidth": 0,
              "ticks": ""
             }
            },
            "type": "scattergeo"
           }
          ],
          "scattergl": [
           {
            "marker": {
             "colorbar": {
              "outlinewidth": 0,
              "ticks": ""
             }
            },
            "type": "scattergl"
           }
          ],
          "scattermap": [
           {
            "marker": {
             "colorbar": {
              "outlinewidth": 0,
              "ticks": ""
             }
            },
            "type": "scattermap"
           }
          ],
          "scattermapbox": [
           {
            "marker": {
             "colorbar": {
              "outlinewidth": 0,
              "ticks": ""
             }
            },
            "type": "scattermapbox"
           }
          ],
          "scatterpolar": [
           {
            "marker": {
             "colorbar": {
              "outlinewidth": 0,
              "ticks": ""
             }
            },
            "type": "scatterpolar"
           }
          ],
          "scatterpolargl": [
           {
            "marker": {
             "colorbar": {
              "outlinewidth": 0,
              "ticks": ""
             }
            },
            "type": "scatterpolargl"
           }
          ],
          "scatterternary": [
           {
            "marker": {
             "colorbar": {
              "outlinewidth": 0,
              "ticks": ""
             }
            },
            "type": "scatterternary"
           }
          ],
          "surface": [
           {
            "colorbar": {
             "outlinewidth": 0,
             "ticks": ""
            },
            "colorscale": [
             [
              0,
              "#0d0887"
             ],
             [
              0.1111111111111111,
              "#46039f"
             ],
             [
              0.2222222222222222,
              "#7201a8"
             ],
             [
              0.3333333333333333,
              "#9c179e"
             ],
             [
              0.4444444444444444,
              "#bd3786"
             ],
             [
              0.5555555555555556,
              "#d8576b"
             ],
             [
              0.6666666666666666,
              "#ed7953"
             ],
             [
              0.7777777777777778,
              "#fb9f3a"
             ],
             [
              0.8888888888888888,
              "#fdca26"
             ],
             [
              1,
              "#f0f921"
             ]
            ],
            "type": "surface"
           }
          ],
          "table": [
           {
            "cells": {
             "fill": {
              "color": "#EBF0F8"
             },
             "line": {
              "color": "white"
             }
            },
            "header": {
             "fill": {
              "color": "#C8D4E3"
             },
             "line": {
              "color": "white"
             }
            },
            "type": "table"
           }
          ]
         },
         "layout": {
          "annotationdefaults": {
           "arrowcolor": "#2a3f5f",
           "arrowhead": 0,
           "arrowwidth": 1
          },
          "autotypenumbers": "strict",
          "coloraxis": {
           "colorbar": {
            "outlinewidth": 0,
            "ticks": ""
           }
          },
          "colorscale": {
           "diverging": [
            [
             0,
             "#8e0152"
            ],
            [
             0.1,
             "#c51b7d"
            ],
            [
             0.2,
             "#de77ae"
            ],
            [
             0.3,
             "#f1b6da"
            ],
            [
             0.4,
             "#fde0ef"
            ],
            [
             0.5,
             "#f7f7f7"
            ],
            [
             0.6,
             "#e6f5d0"
            ],
            [
             0.7,
             "#b8e186"
            ],
            [
             0.8,
             "#7fbc41"
            ],
            [
             0.9,
             "#4d9221"
            ],
            [
             1,
             "#276419"
            ]
           ],
           "sequential": [
            [
             0,
             "#0d0887"
            ],
            [
             0.1111111111111111,
             "#46039f"
            ],
            [
             0.2222222222222222,
             "#7201a8"
            ],
            [
             0.3333333333333333,
             "#9c179e"
            ],
            [
             0.4444444444444444,
             "#bd3786"
            ],
            [
             0.5555555555555556,
             "#d8576b"
            ],
            [
             0.6666666666666666,
             "#ed7953"
            ],
            [
             0.7777777777777778,
             "#fb9f3a"
            ],
            [
             0.8888888888888888,
             "#fdca26"
            ],
            [
             1,
             "#f0f921"
            ]
           ],
           "sequentialminus": [
            [
             0,
             "#0d0887"
            ],
            [
             0.1111111111111111,
             "#46039f"
            ],
            [
             0.2222222222222222,
             "#7201a8"
            ],
            [
             0.3333333333333333,
             "#9c179e"
            ],
            [
             0.4444444444444444,
             "#bd3786"
            ],
            [
             0.5555555555555556,
             "#d8576b"
            ],
            [
             0.6666666666666666,
             "#ed7953"
            ],
            [
             0.7777777777777778,
             "#fb9f3a"
            ],
            [
             0.8888888888888888,
             "#fdca26"
            ],
            [
             1,
             "#f0f921"
            ]
           ]
          },
          "colorway": [
           "#636efa",
           "#EF553B",
           "#00cc96",
           "#ab63fa",
           "#FFA15A",
           "#19d3f3",
           "#FF6692",
           "#B6E880",
           "#FF97FF",
           "#FECB52"
          ],
          "font": {
           "color": "#2a3f5f"
          },
          "geo": {
           "bgcolor": "white",
           "lakecolor": "white",
           "landcolor": "#E5ECF6",
           "showlakes": true,
           "showland": true,
           "subunitcolor": "white"
          },
          "hoverlabel": {
           "align": "left"
          },
          "hovermode": "closest",
          "mapbox": {
           "style": "light"
          },
          "paper_bgcolor": "white",
          "plot_bgcolor": "#E5ECF6",
          "polar": {
           "angularaxis": {
            "gridcolor": "white",
            "linecolor": "white",
            "ticks": ""
           },
           "bgcolor": "#E5ECF6",
           "radialaxis": {
            "gridcolor": "white",
            "linecolor": "white",
            "ticks": ""
           }
          },
          "scene": {
           "xaxis": {
            "backgroundcolor": "#E5ECF6",
            "gridcolor": "white",
            "gridwidth": 2,
            "linecolor": "white",
            "showbackground": true,
            "ticks": "",
            "zerolinecolor": "white"
           },
           "yaxis": {
            "backgroundcolor": "#E5ECF6",
            "gridcolor": "white",
            "gridwidth": 2,
            "linecolor": "white",
            "showbackground": true,
            "ticks": "",
            "zerolinecolor": "white"
           },
           "zaxis": {
            "backgroundcolor": "#E5ECF6",
            "gridcolor": "white",
            "gridwidth": 2,
            "linecolor": "white",
            "showbackground": true,
            "ticks": "",
            "zerolinecolor": "white"
           }
          },
          "shapedefaults": {
           "line": {
            "color": "#2a3f5f"
           }
          },
          "ternary": {
           "aaxis": {
            "gridcolor": "white",
            "linecolor": "white",
            "ticks": ""
           },
           "baxis": {
            "gridcolor": "white",
            "linecolor": "white",
            "ticks": ""
           },
           "bgcolor": "#E5ECF6",
           "caxis": {
            "gridcolor": "white",
            "linecolor": "white",
            "ticks": ""
           }
          },
          "title": {
           "x": 0.05
          },
          "xaxis": {
           "automargin": true,
           "gridcolor": "white",
           "linecolor": "white",
           "ticks": "",
           "title": {
            "standoff": 15
           },
           "zerolinecolor": "white",
           "zerolinewidth": 2
          },
          "yaxis": {
           "automargin": true,
           "gridcolor": "white",
           "linecolor": "white",
           "ticks": "",
           "title": {
            "standoff": 15
           },
           "zerolinecolor": "white",
           "zerolinewidth": 2
          }
         }
        },
        "title": {
         "text": "Salary Distribution by Experience Level"
        },
        "width": 800,
        "xaxis": {
         "anchor": "y",
         "categoryarray": [
          "EN",
          "MI",
          "SE",
          "EX"
         ],
         "categoryorder": "array",
         "domain": [
          0,
          1
         ],
         "title": {
          "text": "Experience Level"
         }
        },
        "yaxis": {
         "anchor": "x",
         "domain": [
          0,
          1
         ],
         "title": {
          "text": "Salary (USD)"
         }
        }
       }
      }
     },
     "metadata": {},
     "output_type": "display_data"
    }
   ],
   "source": [
    "# 2. Salary by Experience Level\n",
    "fig2 = px.box(\n",
    "    full_df,\n",
    "    x=\"experience_level\",\n",
    "    y=\"salary_usd\",\n",
    "    color=\"experience_level\",\n",
    "    title=\"Salary Distribution by Experience Level\",\n",
    "    labels={\"salary_usd\": \"Salary (USD)\", \"experience_level\": \"Experience Level\"},\n",
    "    category_orders={\"experience_level\": [\"EN\", \"MI\", \"SE\", \"EX\"]},\n",
    "    height=500,\n",
    "    width=800\n",
    ")\n",
    "fig2.update_layout(showlegend=False)\n",
    "fig2.add_annotation(\n",
    "    x=0, y=full_df[\"salary_usd\"].max()*0.95,\n",
    "    text=\"EN=Entry, MI=Mid, SE=senior, EX=Executive\",\n",
    "    showarrow=False,\n",
    "    bgcolor=\"rgba(255,255,255,0.8)\"\n",
    ")\n",
    "fig2.show()"
   ]
  },
  {
   "cell_type": "code",
   "execution_count": 45,
   "metadata": {},
   "outputs": [
    {
     "name": "stdout",
     "output_type": "stream",
     "text": [
      "Experience Level Salary Statistics:\n"
     ]
    },
    {
     "data": {
      "text/html": [
       "<div>\n",
       "<style scoped>\n",
       "    .dataframe tbody tr th:only-of-type {\n",
       "        vertical-align: middle;\n",
       "    }\n",
       "\n",
       "    .dataframe tbody tr th {\n",
       "        vertical-align: top;\n",
       "    }\n",
       "\n",
       "    .dataframe thead th {\n",
       "        text-align: right;\n",
       "    }\n",
       "</style>\n",
       "<table border=\"1\" class=\"dataframe\">\n",
       "  <thead>\n",
       "    <tr style=\"text-align: right;\">\n",
       "      <th></th>\n",
       "      <th>mean</th>\n",
       "      <th>median</th>\n",
       "      <th>min</th>\n",
       "      <th>max</th>\n",
       "      <th>count</th>\n",
       "    </tr>\n",
       "    <tr>\n",
       "      <th>experience_level</th>\n",
       "      <th></th>\n",
       "      <th></th>\n",
       "      <th></th>\n",
       "      <th></th>\n",
       "      <th></th>\n",
       "    </tr>\n",
       "  </thead>\n",
       "  <tbody>\n",
       "    <tr>\n",
       "      <th>Entry</th>\n",
       "      <td>80344.103448</td>\n",
       "      <td>78786.5</td>\n",
       "      <td>54512</td>\n",
       "      <td>108843</td>\n",
       "      <td>174</td>\n",
       "    </tr>\n",
       "    <tr>\n",
       "      <th>Expert</th>\n",
       "      <td>238768.723404</td>\n",
       "      <td>239025.0</td>\n",
       "      <td>144454</td>\n",
       "      <td>344471</td>\n",
       "      <td>188</td>\n",
       "    </tr>\n",
       "    <tr>\n",
       "      <th>Mid-level</th>\n",
       "      <td>109548.907609</td>\n",
       "      <td>108860.0</td>\n",
       "      <td>77185</td>\n",
       "      <td>149281</td>\n",
       "      <td>184</td>\n",
       "    </tr>\n",
       "    <tr>\n",
       "      <th>Senior</th>\n",
       "      <td>153268.157303</td>\n",
       "      <td>151228.5</td>\n",
       "      <td>110342</td>\n",
       "      <td>206671</td>\n",
       "      <td>178</td>\n",
       "    </tr>\n",
       "  </tbody>\n",
       "</table>\n",
       "</div>"
      ],
      "text/plain": [
       "                           mean    median     min     max  count\n",
       "experience_level                                                \n",
       "Entry              80344.103448   78786.5   54512  108843    174\n",
       "Expert            238768.723404  239025.0  144454  344471    188\n",
       "Mid-level         109548.907609  108860.0   77185  149281    184\n",
       "Senior            153268.157303  151228.5  110342  206671    178"
      ]
     },
     "metadata": {},
     "output_type": "display_data"
    }
   ],
   "source": [
    "exp_level_stats = full_df.groupby('experience_level')['salary_usd'].agg(['mean', 'median', 'min', 'max', 'count']).reset_index()\n",
    "exp_level_map = {'EN': 'Entry', 'MI': 'Mid-level', 'SE': 'Senior', 'EX': 'Expert'}\n",
    "exp_level_stats['experience_level'] = exp_level_stats['experience_level'].map(exp_level_map)\n",
    "exp_level_stats = exp_level_stats.set_index('experience_level')\n",
    "print(\"Experience Level Salary Statistics:\")\n",
    "display(exp_level_stats)"
   ]
  },
  {
   "cell_type": "markdown",
   "metadata": {},
   "source": [
    "The data reveals a clear progression in AI salaries as professionals advance through experience levels, with Executive level positions holding a median salary of $239,025, more than three times that of Entry-level roles at $78,787. This substantial difference highlights the significant financial rewards for career advancement in the AI field. Mid-level professionals earn a median of $108,860, representing a 38% increase over entry-level positions, while Senior roles at $151,229 mark another substantial 39% jump from mid-level compensation. Notably, the transition from Senior to Executive positions yields the largest percentage increase of 58%, suggesting this final career advancement delivers the greatest financial returns. The relatively narrow salary ranges within each experience level (for example, Entry-level positions ranging from $54,512 to $108,843) indicate that experience is a consistent and reliable predictor of compensation across the AI industry. For STEAMe's learners and workforce development initiatives, these statistics emphasize the importance of structured career progression, with clear financial incentives at each advancement stage."
   ]
  },
  {
   "cell_type": "markdown",
   "metadata": {},
   "source": [
    "## 3. Salary by Industry\n",
    "\n",
    "AI talent is in demand across diverse industries, each offering different compensation structures. This section explores which sectors provide the most lucrative opportunities for AI professionals and how traditional industries compare to technology companies in the race for talent. These insights help guide both career decisions for individuals and talent acquisition strategies for organizations across different sectors.\n"
   ]
  },
  {
   "cell_type": "code",
   "execution_count": 46,
   "metadata": {},
   "outputs": [
    {
     "data": {
      "application/vnd.plotly.v1+json": {
       "config": {
        "plotlyServerURL": "https://plot.ly"
       },
       "data": [
        {
         "alignmentgroup": "True",
         "hovertemplate": "Industry=%{x}<br>Salary (USD)=%{y}<extra></extra>",
         "legendgroup": "Automotive",
         "marker": {
          "color": "#636efa"
         },
         "name": "Automotive",
         "notched": false,
         "offsetgroup": "Automotive",
         "orientation": "v",
         "showlegend": true,
         "type": "box",
         "x": [
          "Automotive",
          "Automotive",
          "Automotive",
          "Automotive",
          "Automotive",
          "Automotive",
          "Automotive",
          "Automotive",
          "Automotive",
          "Automotive",
          "Automotive",
          "Automotive",
          "Automotive",
          "Automotive",
          "Automotive",
          "Automotive",
          "Automotive",
          "Automotive",
          "Automotive",
          "Automotive",
          "Automotive",
          "Automotive",
          "Automotive",
          "Automotive",
          "Automotive",
          "Automotive",
          "Automotive",
          "Automotive",
          "Automotive",
          "Automotive",
          "Automotive",
          "Automotive",
          "Automotive",
          "Automotive",
          "Automotive",
          "Automotive",
          "Automotive",
          "Automotive",
          "Automotive",
          "Automotive",
          "Automotive",
          "Automotive",
          "Automotive",
          "Automotive",
          "Automotive",
          "Automotive",
          "Automotive"
         ],
         "x0": " ",
         "xaxis": "x",
         "y": {
          "bdata": "lpABAEaJAQARrAEAGAQDAGM8AgBY8wAAXEwBAJmZAwAIJAUARTcBAJXeAQBS2AEAfQUBAGB3AgBgIgIAezcFABI1AgBnJQMASgUBAGEDAwBvIQEAreIBAKyZAwBHiwEAPpwBAExTAQCBhQIAZkACAHTuBABgrQIAqRsBACKJAQBDQgEA8OEEAFHdAgB/PAEA+14BAJFyAQCV8wAAw4oBAIMLAgB5SQEAxHsCADAgAQDe8wEAOWQCALBWAQA=",
          "dtype": "i4"
         },
         "y0": " ",
         "yaxis": "y"
        },
        {
         "alignmentgroup": "True",
         "hovertemplate": "Industry=%{x}<br>Salary (USD)=%{y}<extra></extra>",
         "legendgroup": "Telecommunications",
         "marker": {
          "color": "#EF553B"
         },
         "name": "Telecommunications",
         "notched": false,
         "offsetgroup": "Telecommunications",
         "orientation": "v",
         "showlegend": true,
         "type": "box",
         "x": [
          "Telecommunications",
          "Telecommunications",
          "Telecommunications",
          "Telecommunications",
          "Telecommunications",
          "Telecommunications",
          "Telecommunications",
          "Telecommunications",
          "Telecommunications",
          "Telecommunications",
          "Telecommunications",
          "Telecommunications",
          "Telecommunications",
          "Telecommunications",
          "Telecommunications",
          "Telecommunications",
          "Telecommunications",
          "Telecommunications",
          "Telecommunications",
          "Telecommunications",
          "Telecommunications",
          "Telecommunications",
          "Telecommunications",
          "Telecommunications",
          "Telecommunications",
          "Telecommunications",
          "Telecommunications",
          "Telecommunications",
          "Telecommunications",
          "Telecommunications",
          "Telecommunications",
          "Telecommunications",
          "Telecommunications",
          "Telecommunications",
          "Telecommunications",
          "Telecommunications",
          "Telecommunications",
          "Telecommunications",
          "Telecommunications",
          "Telecommunications",
          "Telecommunications",
          "Telecommunications",
          "Telecommunications"
         ],
         "x0": " ",
         "xaxis": "x",
         "y": {
          "bdata": "vHoBABzAAgC+5gMAtosBAF2xAQCzMQMAJDYBAJolBQCxrQIAonECAM/lAQBavAIANnwCAD1AAQC0XwIA5TUCADr6AAC8wwEAmjgBALx0AQBHkAEAJ8cCAMIZAQCAwAEApfoBAB+tAgDXCwEA0scBAPQoAQBtaQIAA34BAKO/AwCtVgEAbBYBAIYFAgBGNAIAP2sBAFlEAQCGiwMAHUICAJ+hAgBDngEAMy4EAA==",
          "dtype": "i4"
         },
         "y0": " ",
         "yaxis": "y"
        },
        {
         "alignmentgroup": "True",
         "hovertemplate": "Industry=%{x}<br>Salary (USD)=%{y}<extra></extra>",
         "legendgroup": "Consulting",
         "marker": {
          "color": "#00cc96"
         },
         "name": "Consulting",
         "notched": false,
         "offsetgroup": "Consulting",
         "orientation": "v",
         "showlegend": true,
         "type": "box",
         "x": [
          "Consulting",
          "Consulting",
          "Consulting",
          "Consulting",
          "Consulting",
          "Consulting",
          "Consulting",
          "Consulting",
          "Consulting",
          "Consulting",
          "Consulting",
          "Consulting",
          "Consulting",
          "Consulting",
          "Consulting",
          "Consulting",
          "Consulting",
          "Consulting",
          "Consulting",
          "Consulting",
          "Consulting",
          "Consulting",
          "Consulting",
          "Consulting",
          "Consulting",
          "Consulting",
          "Consulting",
          "Consulting",
          "Consulting",
          "Consulting",
          "Consulting",
          "Consulting",
          "Consulting",
          "Consulting",
          "Consulting",
          "Consulting",
          "Consulting",
          "Consulting",
          "Consulting",
          "Consulting",
          "Consulting",
          "Consulting",
          "Consulting",
          "Consulting",
          "Consulting",
          "Consulting",
          "Consulting",
          "Consulting",
          "Consulting",
          "Consulting",
          "Consulting",
          "Consulting",
          "Consulting",
          "Consulting",
          "Consulting",
          "Consulting",
          "Consulting"
         ],
         "x0": " ",
         "xaxis": "x",
         "y": {
          "bdata": "RlcEAMr+AADhggEA9PAAAICSAQCzHwIA4mcDAHpWBAA7KAEAwtIBADc7BADzOgEAst8CAF1kAgChpwEAXUcCANqvAQA+CwIARfsCAHKvAQCilgEAdLcBAPOMAQD+jgEAS/cDAJ7YAwA/TQIAt98CAOatAwCHLAEAUkIBADT/AgDdMgEAJl8CAAUGAwALFAEA/XcCAMptAQD02wMAA4sCAJsnAQB+XAEAAp0BAAodBAAKugMAODcCAFZoAwBz0QEABZkBAA8kAgC3RwEAansEANrlAwDR9AEAez0CAKkMAQANMwQA",
          "dtype": "i4"
         },
         "y0": " ",
         "yaxis": "y"
        },
        {
         "alignmentgroup": "True",
         "hovertemplate": "Industry=%{x}<br>Salary (USD)=%{y}<extra></extra>",
         "legendgroup": "Transportation",
         "marker": {
          "color": "#ab63fa"
         },
         "name": "Transportation",
         "notched": false,
         "offsetgroup": "Transportation",
         "orientation": "v",
         "showlegend": true,
         "type": "box",
         "x": [
          "Transportation",
          "Transportation",
          "Transportation",
          "Transportation",
          "Transportation",
          "Transportation",
          "Transportation",
          "Transportation",
          "Transportation",
          "Transportation",
          "Transportation",
          "Transportation",
          "Transportation",
          "Transportation",
          "Transportation",
          "Transportation",
          "Transportation",
          "Transportation",
          "Transportation",
          "Transportation",
          "Transportation",
          "Transportation",
          "Transportation",
          "Transportation",
          "Transportation",
          "Transportation",
          "Transportation",
          "Transportation",
          "Transportation",
          "Transportation",
          "Transportation",
          "Transportation",
          "Transportation",
          "Transportation",
          "Transportation",
          "Transportation",
          "Transportation",
          "Transportation",
          "Transportation",
          "Transportation",
          "Transportation",
          "Transportation",
          "Transportation",
          "Transportation",
          "Transportation",
          "Transportation",
          "Transportation",
          "Transportation",
          "Transportation",
          "Transportation",
          "Transportation",
          "Transportation",
          "Transportation",
          "Transportation",
          "Transportation",
          "Transportation",
          "Transportation",
          "Transportation",
          "Transportation"
         ],
         "x0": " ",
         "xaxis": "x",
         "y": {
          "bdata": "GhEBAGv8AgB2gAEArxABAEssAQD8CAIAGnACAJEiAQC6PgEAxAYDADUzAgBc6QEAPdUCADEWAQBeGgQAvIYCADxDAwCR3AEArKMBAIh9AwD/9QQAOWIDAAZIAQBSOgEATC8BAB6FAgB/igIAROIDANn/AQB2JAEAlPoBANlXAQAxkwEAGPMBANCoAQCkFwIA8PUAAJ1WAgDfzwEAt1kBAF9tAQD2IwMAhREDAF15AQDO/wAApWsCALcpAgCAxQEAH6ACABQTBACHMAIAVZYBAGpHAwDPTgEA7qMBAAfwAAD0jQEA/0kBAMYGAgA=",
          "dtype": "i4"
         },
         "y0": " ",
         "yaxis": "y"
        },
        {
         "alignmentgroup": "True",
         "hovertemplate": "Industry=%{x}<br>Salary (USD)=%{y}<extra></extra>",
         "legendgroup": "Real Estate",
         "marker": {
          "color": "#FFA15A"
         },
         "name": "Real Estate",
         "notched": false,
         "offsetgroup": "Real Estate",
         "orientation": "v",
         "showlegend": true,
         "type": "box",
         "x": [
          "Real Estate",
          "Real Estate",
          "Real Estate",
          "Real Estate",
          "Real Estate",
          "Real Estate",
          "Real Estate",
          "Real Estate",
          "Real Estate",
          "Real Estate",
          "Real Estate",
          "Real Estate",
          "Real Estate",
          "Real Estate",
          "Real Estate",
          "Real Estate",
          "Real Estate",
          "Real Estate",
          "Real Estate",
          "Real Estate",
          "Real Estate",
          "Real Estate",
          "Real Estate",
          "Real Estate",
          "Real Estate",
          "Real Estate",
          "Real Estate",
          "Real Estate",
          "Real Estate",
          "Real Estate",
          "Real Estate",
          "Real Estate",
          "Real Estate",
          "Real Estate",
          "Real Estate",
          "Real Estate",
          "Real Estate",
          "Real Estate",
          "Real Estate",
          "Real Estate",
          "Real Estate",
          "Real Estate",
          "Real Estate",
          "Real Estate",
          "Real Estate"
         ],
         "x0": " ",
         "xaxis": "x",
         "y": {
          "bdata": "qLMBAFegAQDhFgQA79sCAHw1AQDZ8AEAADkFAEJXAwCgMQIA8acDAAyUAgAvVAIAJ6ACADcjAQCrAgIAMPQBAHY+AgB6AQQA6nQCAKJnAQAGrwEAfrwBAKyKAQDbcwIAI2wBAD7TAQAOtwEABXMBAH9xAgACDwIAAp0BAC39AwCRHQEAUCYBAKlZAQCsQQIA83IDAFuDAgBjuAMAW+IBAJBmAwBMGAMANC8BAJNyAQA6/AMA",
          "dtype": "i4"
         },
         "y0": " ",
         "yaxis": "y"
        },
        {
         "alignmentgroup": "True",
         "hovertemplate": "Industry=%{x}<br>Salary (USD)=%{y}<extra></extra>",
         "legendgroup": "Education",
         "marker": {
          "color": "#19d3f3"
         },
         "name": "Education",
         "notched": false,
         "offsetgroup": "Education",
         "orientation": "v",
         "showlegend": true,
         "type": "box",
         "x": [
          "Education",
          "Education",
          "Education",
          "Education",
          "Education",
          "Education",
          "Education",
          "Education",
          "Education",
          "Education",
          "Education",
          "Education",
          "Education",
          "Education",
          "Education",
          "Education",
          "Education",
          "Education",
          "Education",
          "Education",
          "Education",
          "Education",
          "Education",
          "Education",
          "Education",
          "Education",
          "Education",
          "Education",
          "Education",
          "Education",
          "Education",
          "Education",
          "Education",
          "Education",
          "Education",
          "Education",
          "Education",
          "Education",
          "Education",
          "Education",
          "Education",
          "Education",
          "Education",
          "Education",
          "Education",
          "Education",
          "Education",
          "Education",
          "Education",
          "Education",
          "Education",
          "Education",
          "Education",
          "Education",
          "Education",
          "Education"
         ],
         "x0": " ",
         "xaxis": "x",
         "y": {
          "bdata": "LSIDANOfAgBwRQIAhnIBAMDzAQC/8gAAoS0CAMo1BAArqQEA3bsBAJLfAABUdQIAslwBAEHPAwBdtQIAUkICACdqAQCIBwMAtFMCAAcPBAC1/wMA5GQBAO2gAgDmIgMAU74BAO7pAQCAcgIARzkCAB2KAQDQTQEATWUBANL/AQCYIgMAWWkCAFBJAQDHVwEAjPwAANxbAgDyAgQA5K8BAL0PAgCX6AEAw+kCAMcWAQCdYwEAWtcBAM6iAQC7DQEAnCYDAEhqAQAhugEASm8BAF+pAwBTUAMA4cgCABPWAAA=",
          "dtype": "i4"
         },
         "y0": " ",
         "yaxis": "y"
        },
        {
         "alignmentgroup": "True",
         "hovertemplate": "Industry=%{x}<br>Salary (USD)=%{y}<extra></extra>",
         "legendgroup": "Retail",
         "marker": {
          "color": "#FF6692"
         },
         "name": "Retail",
         "notched": false,
         "offsetgroup": "Retail",
         "orientation": "v",
         "showlegend": true,
         "type": "box",
         "x": [
          "Retail",
          "Retail",
          "Retail",
          "Retail",
          "Retail",
          "Retail",
          "Retail",
          "Retail",
          "Retail",
          "Retail",
          "Retail",
          "Retail",
          "Retail",
          "Retail",
          "Retail",
          "Retail",
          "Retail",
          "Retail",
          "Retail",
          "Retail",
          "Retail",
          "Retail",
          "Retail",
          "Retail",
          "Retail",
          "Retail",
          "Retail",
          "Retail",
          "Retail",
          "Retail",
          "Retail",
          "Retail",
          "Retail",
          "Retail",
          "Retail",
          "Retail",
          "Retail",
          "Retail",
          "Retail",
          "Retail",
          "Retail",
          "Retail",
          "Retail",
          "Retail",
          "Retail",
          "Retail",
          "Retail",
          "Retail",
          "Retail",
          "Retail",
          "Retail",
          "Retail",
          "Retail",
          "Retail",
          "Retail",
          "Retail",
          "Retail",
          "Retail",
          "Retail",
          "Retail",
          "Retail"
         ],
         "x0": " ",
         "xaxis": "x",
         "y": {
          "bdata": "f+4AAK3XAQDdPwEAOlACAM6aAgCihgMAxIkCAJddAQBwJgMAWL0CADDFAQA+6wEAY1QBAC4sAQDWugEAAmQEADt2AgC7FgUAN4kCAM+aAgCKIAIAoxUCAC+3AgBRRAMAy/YCAHGHAQCVOAMAnRcDAKclBADxEgIAjRYFANW0AQBS4gMAa80BAOEXAQAsSgQAFzYBAEsHAgC4jwEAJzACAGBFAQA0CAQAowUDAHtZAQCXQQUAu9gDANDoAABE/QEAZ9cDACKpAwBiiwEAH80DAAkzAQDQOAIAX4ABALHwAwATXgEAZgkCAKW2AQBrFwIAlWcEAA==",
          "dtype": "i4"
         },
         "y0": " ",
         "yaxis": "y"
        },
        {
         "alignmentgroup": "True",
         "hovertemplate": "Industry=%{x}<br>Salary (USD)=%{y}<extra></extra>",
         "legendgroup": "Technology",
         "marker": {
          "color": "#B6E880"
         },
         "name": "Technology",
         "notched": false,
         "offsetgroup": "Technology",
         "orientation": "v",
         "showlegend": true,
         "type": "box",
         "x": [
          "Technology",
          "Technology",
          "Technology",
          "Technology",
          "Technology",
          "Technology",
          "Technology",
          "Technology",
          "Technology",
          "Technology",
          "Technology",
          "Technology",
          "Technology",
          "Technology",
          "Technology",
          "Technology",
          "Technology",
          "Technology",
          "Technology",
          "Technology",
          "Technology",
          "Technology",
          "Technology",
          "Technology",
          "Technology",
          "Technology",
          "Technology",
          "Technology",
          "Technology",
          "Technology",
          "Technology",
          "Technology",
          "Technology",
          "Technology",
          "Technology",
          "Technology",
          "Technology",
          "Technology",
          "Technology",
          "Technology",
          "Technology",
          "Technology",
          "Technology",
          "Technology",
          "Technology",
          "Technology",
          "Technology",
          "Technology",
          "Technology",
          "Technology",
          "Technology",
          "Technology",
          "Technology"
         ],
         "x0": " ",
         "xaxis": "x",
         "y": {
          "bdata": "m5gCAKU6AgBOcQIA3rcBANEkAgDhdwEASh8CAOQ2AQBsCAQALtMBAFxPAQBnLAEAxqIBAAu5AgDQGwIA4YgBAOt0AQB5wAMAPikBAHsGAgCJ0wMAf5cCACJ3AQA5YQEAUa4DABnZAgCqCgQARIcCAM2WAQCwMwIAkQsCAF4SAQCGtwIACkEDAIkwAgD5/QIAKjUBALjWAwAlzgQAySoCAMc8AQAmOAEAKCgBAHjvAgC9jQIA9n0CAIq2AgAQUwIAtiIBAHcSAgBMBwIAXp4BAFnLAwA=",
          "dtype": "i4"
         },
         "y0": " ",
         "yaxis": "y"
        },
        {
         "alignmentgroup": "True",
         "hovertemplate": "Industry=%{x}<br>Salary (USD)=%{y}<extra></extra>",
         "legendgroup": "Government",
         "marker": {
          "color": "#FF97FF"
         },
         "name": "Government",
         "notched": false,
         "offsetgroup": "Government",
         "orientation": "v",
         "showlegend": true,
         "type": "box",
         "x": [
          "Government",
          "Government",
          "Government",
          "Government",
          "Government",
          "Government",
          "Government",
          "Government",
          "Government",
          "Government",
          "Government",
          "Government",
          "Government",
          "Government",
          "Government",
          "Government",
          "Government",
          "Government",
          "Government",
          "Government",
          "Government",
          "Government",
          "Government",
          "Government",
          "Government",
          "Government",
          "Government",
          "Government",
          "Government",
          "Government",
          "Government",
          "Government",
          "Government",
          "Government",
          "Government",
          "Government",
          "Government",
          "Government",
          "Government",
          "Government",
          "Government",
          "Government",
          "Government",
          "Government",
          "Government",
          "Government",
          "Government",
          "Government",
          "Government"
         ],
         "x0": " ",
         "xaxis": "x",
         "y": {
          "bdata": "D6cCADL5AADKIwIA7ycDAGCmAQB/mwMA0ngBACEcBQDuNQEAVKMEAEmBAgBIzQIA2MIBAJueAQAf5AEActoBAMHuAwBegQEAS04BAPTGAQCgmQIA7SoBANPtAgBwtAMAOhYBAPs+BQAhRwIACTQBAJ5sAQC7uAEANioEAJFlBAAlOQIA8pgBAItnAgAmwwEA6J8CAI9kAwDboAEAaZYBAAwKAgDaZQMAM9QDAKWdAQCeFAEAvlQDALxpAgDsLQIAiMcBAA==",
          "dtype": "i4"
         },
         "y0": " ",
         "yaxis": "y"
        },
        {
         "alignmentgroup": "True",
         "hovertemplate": "Industry=%{x}<br>Salary (USD)=%{y}<extra></extra>",
         "legendgroup": "Energy",
         "marker": {
          "color": "#FECB52"
         },
         "name": "Energy",
         "notched": false,
         "offsetgroup": "Energy",
         "orientation": "v",
         "showlegend": true,
         "type": "box",
         "x": [
          "Energy",
          "Energy",
          "Energy",
          "Energy",
          "Energy",
          "Energy",
          "Energy",
          "Energy",
          "Energy",
          "Energy",
          "Energy",
          "Energy",
          "Energy",
          "Energy",
          "Energy",
          "Energy",
          "Energy",
          "Energy",
          "Energy",
          "Energy",
          "Energy",
          "Energy",
          "Energy",
          "Energy",
          "Energy",
          "Energy",
          "Energy",
          "Energy",
          "Energy",
          "Energy",
          "Energy",
          "Energy",
          "Energy",
          "Energy",
          "Energy",
          "Energy",
          "Energy",
          "Energy",
          "Energy",
          "Energy",
          "Energy",
          "Energy",
          "Energy",
          "Energy",
          "Energy",
          "Energy",
          "Energy",
          "Energy",
          "Energy",
          "Energy",
          "Energy",
          "Energy",
          "Energy"
         ],
         "x0": " ",
         "xaxis": "x",
         "y": {
          "bdata": "tVEBAGQqBACcHwEAwewCAEpYAwDv5wIAHKsBAI/3AQBDDwQAqKkBAN47AwA2hwEA/aMBAIEtAQAjbQMAJZkDAO9lAgBmygEA+IIBAKqgAgBwrwEALxABAD2wAgCQ/wEABVsBAGjcAADVHQIA9W8BADFBAQBBaAMAnUwBAIzfAgD4qAEAQvcBAORnAgCaQgEAC2oBAFiFAgDZPwEABxABAPxYAQC9PgEAIlQBAHc1AQAINQEAuYkBAO0QAgDw1AAA1tgCAFxcAQDT2QEAJbAEAMh8AQA=",
          "dtype": "i4"
         },
         "y0": " ",
         "yaxis": "y"
        }
       ],
       "layout": {
        "boxmode": "overlay",
        "height": 500,
        "legend": {
         "title": {
          "text": "Industry"
         },
         "tracegroupgap": 0
        },
        "showlegend": false,
        "template": {
         "data": {
          "bar": [
           {
            "error_x": {
             "color": "#2a3f5f"
            },
            "error_y": {
             "color": "#2a3f5f"
            },
            "marker": {
             "line": {
              "color": "#E5ECF6",
              "width": 0.5
             },
             "pattern": {
              "fillmode": "overlay",
              "size": 10,
              "solidity": 0.2
             }
            },
            "type": "bar"
           }
          ],
          "barpolar": [
           {
            "marker": {
             "line": {
              "color": "#E5ECF6",
              "width": 0.5
             },
             "pattern": {
              "fillmode": "overlay",
              "size": 10,
              "solidity": 0.2
             }
            },
            "type": "barpolar"
           }
          ],
          "carpet": [
           {
            "aaxis": {
             "endlinecolor": "#2a3f5f",
             "gridcolor": "white",
             "linecolor": "white",
             "minorgridcolor": "white",
             "startlinecolor": "#2a3f5f"
            },
            "baxis": {
             "endlinecolor": "#2a3f5f",
             "gridcolor": "white",
             "linecolor": "white",
             "minorgridcolor": "white",
             "startlinecolor": "#2a3f5f"
            },
            "type": "carpet"
           }
          ],
          "choropleth": [
           {
            "colorbar": {
             "outlinewidth": 0,
             "ticks": ""
            },
            "type": "choropleth"
           }
          ],
          "contour": [
           {
            "colorbar": {
             "outlinewidth": 0,
             "ticks": ""
            },
            "colorscale": [
             [
              0,
              "#0d0887"
             ],
             [
              0.1111111111111111,
              "#46039f"
             ],
             [
              0.2222222222222222,
              "#7201a8"
             ],
             [
              0.3333333333333333,
              "#9c179e"
             ],
             [
              0.4444444444444444,
              "#bd3786"
             ],
             [
              0.5555555555555556,
              "#d8576b"
             ],
             [
              0.6666666666666666,
              "#ed7953"
             ],
             [
              0.7777777777777778,
              "#fb9f3a"
             ],
             [
              0.8888888888888888,
              "#fdca26"
             ],
             [
              1,
              "#f0f921"
             ]
            ],
            "type": "contour"
           }
          ],
          "contourcarpet": [
           {
            "colorbar": {
             "outlinewidth": 0,
             "ticks": ""
            },
            "type": "contourcarpet"
           }
          ],
          "heatmap": [
           {
            "colorbar": {
             "outlinewidth": 0,
             "ticks": ""
            },
            "colorscale": [
             [
              0,
              "#0d0887"
             ],
             [
              0.1111111111111111,
              "#46039f"
             ],
             [
              0.2222222222222222,
              "#7201a8"
             ],
             [
              0.3333333333333333,
              "#9c179e"
             ],
             [
              0.4444444444444444,
              "#bd3786"
             ],
             [
              0.5555555555555556,
              "#d8576b"
             ],
             [
              0.6666666666666666,
              "#ed7953"
             ],
             [
              0.7777777777777778,
              "#fb9f3a"
             ],
             [
              0.8888888888888888,
              "#fdca26"
             ],
             [
              1,
              "#f0f921"
             ]
            ],
            "type": "heatmap"
           }
          ],
          "histogram": [
           {
            "marker": {
             "pattern": {
              "fillmode": "overlay",
              "size": 10,
              "solidity": 0.2
             }
            },
            "type": "histogram"
           }
          ],
          "histogram2d": [
           {
            "colorbar": {
             "outlinewidth": 0,
             "ticks": ""
            },
            "colorscale": [
             [
              0,
              "#0d0887"
             ],
             [
              0.1111111111111111,
              "#46039f"
             ],
             [
              0.2222222222222222,
              "#7201a8"
             ],
             [
              0.3333333333333333,
              "#9c179e"
             ],
             [
              0.4444444444444444,
              "#bd3786"
             ],
             [
              0.5555555555555556,
              "#d8576b"
             ],
             [
              0.6666666666666666,
              "#ed7953"
             ],
             [
              0.7777777777777778,
              "#fb9f3a"
             ],
             [
              0.8888888888888888,
              "#fdca26"
             ],
             [
              1,
              "#f0f921"
             ]
            ],
            "type": "histogram2d"
           }
          ],
          "histogram2dcontour": [
           {
            "colorbar": {
             "outlinewidth": 0,
             "ticks": ""
            },
            "colorscale": [
             [
              0,
              "#0d0887"
             ],
             [
              0.1111111111111111,
              "#46039f"
             ],
             [
              0.2222222222222222,
              "#7201a8"
             ],
             [
              0.3333333333333333,
              "#9c179e"
             ],
             [
              0.4444444444444444,
              "#bd3786"
             ],
             [
              0.5555555555555556,
              "#d8576b"
             ],
             [
              0.6666666666666666,
              "#ed7953"
             ],
             [
              0.7777777777777778,
              "#fb9f3a"
             ],
             [
              0.8888888888888888,
              "#fdca26"
             ],
             [
              1,
              "#f0f921"
             ]
            ],
            "type": "histogram2dcontour"
           }
          ],
          "mesh3d": [
           {
            "colorbar": {
             "outlinewidth": 0,
             "ticks": ""
            },
            "type": "mesh3d"
           }
          ],
          "parcoords": [
           {
            "line": {
             "colorbar": {
              "outlinewidth": 0,
              "ticks": ""
             }
            },
            "type": "parcoords"
           }
          ],
          "pie": [
           {
            "automargin": true,
            "type": "pie"
           }
          ],
          "scatter": [
           {
            "fillpattern": {
             "fillmode": "overlay",
             "size": 10,
             "solidity": 0.2
            },
            "type": "scatter"
           }
          ],
          "scatter3d": [
           {
            "line": {
             "colorbar": {
              "outlinewidth": 0,
              "ticks": ""
             }
            },
            "marker": {
             "colorbar": {
              "outlinewidth": 0,
              "ticks": ""
             }
            },
            "type": "scatter3d"
           }
          ],
          "scattercarpet": [
           {
            "marker": {
             "colorbar": {
              "outlinewidth": 0,
              "ticks": ""
             }
            },
            "type": "scattercarpet"
           }
          ],
          "scattergeo": [
           {
            "marker": {
             "colorbar": {
              "outlinewidth": 0,
              "ticks": ""
             }
            },
            "type": "scattergeo"
           }
          ],
          "scattergl": [
           {
            "marker": {
             "colorbar": {
              "outlinewidth": 0,
              "ticks": ""
             }
            },
            "type": "scattergl"
           }
          ],
          "scattermap": [
           {
            "marker": {
             "colorbar": {
              "outlinewidth": 0,
              "ticks": ""
             }
            },
            "type": "scattermap"
           }
          ],
          "scattermapbox": [
           {
            "marker": {
             "colorbar": {
              "outlinewidth": 0,
              "ticks": ""
             }
            },
            "type": "scattermapbox"
           }
          ],
          "scatterpolar": [
           {
            "marker": {
             "colorbar": {
              "outlinewidth": 0,
              "ticks": ""
             }
            },
            "type": "scatterpolar"
           }
          ],
          "scatterpolargl": [
           {
            "marker": {
             "colorbar": {
              "outlinewidth": 0,
              "ticks": ""
             }
            },
            "type": "scatterpolargl"
           }
          ],
          "scatterternary": [
           {
            "marker": {
             "colorbar": {
              "outlinewidth": 0,
              "ticks": ""
             }
            },
            "type": "scatterternary"
           }
          ],
          "surface": [
           {
            "colorbar": {
             "outlinewidth": 0,
             "ticks": ""
            },
            "colorscale": [
             [
              0,
              "#0d0887"
             ],
             [
              0.1111111111111111,
              "#46039f"
             ],
             [
              0.2222222222222222,
              "#7201a8"
             ],
             [
              0.3333333333333333,
              "#9c179e"
             ],
             [
              0.4444444444444444,
              "#bd3786"
             ],
             [
              0.5555555555555556,
              "#d8576b"
             ],
             [
              0.6666666666666666,
              "#ed7953"
             ],
             [
              0.7777777777777778,
              "#fb9f3a"
             ],
             [
              0.8888888888888888,
              "#fdca26"
             ],
             [
              1,
              "#f0f921"
             ]
            ],
            "type": "surface"
           }
          ],
          "table": [
           {
            "cells": {
             "fill": {
              "color": "#EBF0F8"
             },
             "line": {
              "color": "white"
             }
            },
            "header": {
             "fill": {
              "color": "#C8D4E3"
             },
             "line": {
              "color": "white"
             }
            },
            "type": "table"
           }
          ]
         },
         "layout": {
          "annotationdefaults": {
           "arrowcolor": "#2a3f5f",
           "arrowhead": 0,
           "arrowwidth": 1
          },
          "autotypenumbers": "strict",
          "coloraxis": {
           "colorbar": {
            "outlinewidth": 0,
            "ticks": ""
           }
          },
          "colorscale": {
           "diverging": [
            [
             0,
             "#8e0152"
            ],
            [
             0.1,
             "#c51b7d"
            ],
            [
             0.2,
             "#de77ae"
            ],
            [
             0.3,
             "#f1b6da"
            ],
            [
             0.4,
             "#fde0ef"
            ],
            [
             0.5,
             "#f7f7f7"
            ],
            [
             0.6,
             "#e6f5d0"
            ],
            [
             0.7,
             "#b8e186"
            ],
            [
             0.8,
             "#7fbc41"
            ],
            [
             0.9,
             "#4d9221"
            ],
            [
             1,
             "#276419"
            ]
           ],
           "sequential": [
            [
             0,
             "#0d0887"
            ],
            [
             0.1111111111111111,
             "#46039f"
            ],
            [
             0.2222222222222222,
             "#7201a8"
            ],
            [
             0.3333333333333333,
             "#9c179e"
            ],
            [
             0.4444444444444444,
             "#bd3786"
            ],
            [
             0.5555555555555556,
             "#d8576b"
            ],
            [
             0.6666666666666666,
             "#ed7953"
            ],
            [
             0.7777777777777778,
             "#fb9f3a"
            ],
            [
             0.8888888888888888,
             "#fdca26"
            ],
            [
             1,
             "#f0f921"
            ]
           ],
           "sequentialminus": [
            [
             0,
             "#0d0887"
            ],
            [
             0.1111111111111111,
             "#46039f"
            ],
            [
             0.2222222222222222,
             "#7201a8"
            ],
            [
             0.3333333333333333,
             "#9c179e"
            ],
            [
             0.4444444444444444,
             "#bd3786"
            ],
            [
             0.5555555555555556,
             "#d8576b"
            ],
            [
             0.6666666666666666,
             "#ed7953"
            ],
            [
             0.7777777777777778,
             "#fb9f3a"
            ],
            [
             0.8888888888888888,
             "#fdca26"
            ],
            [
             1,
             "#f0f921"
            ]
           ]
          },
          "colorway": [
           "#636efa",
           "#EF553B",
           "#00cc96",
           "#ab63fa",
           "#FFA15A",
           "#19d3f3",
           "#FF6692",
           "#B6E880",
           "#FF97FF",
           "#FECB52"
          ],
          "font": {
           "color": "#2a3f5f"
          },
          "geo": {
           "bgcolor": "white",
           "lakecolor": "white",
           "landcolor": "#E5ECF6",
           "showlakes": true,
           "showland": true,
           "subunitcolor": "white"
          },
          "hoverlabel": {
           "align": "left"
          },
          "hovermode": "closest",
          "mapbox": {
           "style": "light"
          },
          "paper_bgcolor": "white",
          "plot_bgcolor": "#E5ECF6",
          "polar": {
           "angularaxis": {
            "gridcolor": "white",
            "linecolor": "white",
            "ticks": ""
           },
           "bgcolor": "#E5ECF6",
           "radialaxis": {
            "gridcolor": "white",
            "linecolor": "white",
            "ticks": ""
           }
          },
          "scene": {
           "xaxis": {
            "backgroundcolor": "#E5ECF6",
            "gridcolor": "white",
            "gridwidth": 2,
            "linecolor": "white",
            "showbackground": true,
            "ticks": "",
            "zerolinecolor": "white"
           },
           "yaxis": {
            "backgroundcolor": "#E5ECF6",
            "gridcolor": "white",
            "gridwidth": 2,
            "linecolor": "white",
            "showbackground": true,
            "ticks": "",
            "zerolinecolor": "white"
           },
           "zaxis": {
            "backgroundcolor": "#E5ECF6",
            "gridcolor": "white",
            "gridwidth": 2,
            "linecolor": "white",
            "showbackground": true,
            "ticks": "",
            "zerolinecolor": "white"
           }
          },
          "shapedefaults": {
           "line": {
            "color": "#2a3f5f"
           }
          },
          "ternary": {
           "aaxis": {
            "gridcolor": "white",
            "linecolor": "white",
            "ticks": ""
           },
           "baxis": {
            "gridcolor": "white",
            "linecolor": "white",
            "ticks": ""
           },
           "bgcolor": "#E5ECF6",
           "caxis": {
            "gridcolor": "white",
            "linecolor": "white",
            "ticks": ""
           }
          },
          "title": {
           "x": 0.05
          },
          "xaxis": {
           "automargin": true,
           "gridcolor": "white",
           "linecolor": "white",
           "ticks": "",
           "title": {
            "standoff": 15
           },
           "zerolinecolor": "white",
           "zerolinewidth": 2
          },
          "yaxis": {
           "automargin": true,
           "gridcolor": "white",
           "linecolor": "white",
           "ticks": "",
           "title": {
            "standoff": 15
           },
           "zerolinecolor": "white",
           "zerolinewidth": 2
          }
         }
        },
        "title": {
         "text": "Salary Distribution by Top Industries"
        },
        "width": 950,
        "xaxis": {
         "anchor": "y",
         "categoryarray": [
          "Automotive",
          "Telecommunications",
          "Consulting",
          "Transportation",
          "Real Estate",
          "Education",
          "Retail",
          "Technology",
          "Government",
          "Energy"
         ],
         "categoryorder": "median descending",
         "domain": [
          0,
          1
         ],
         "title": {
          "text": "Industry"
         }
        },
        "yaxis": {
         "anchor": "x",
         "domain": [
          0,
          1
         ],
         "title": {
          "text": "Salary (USD)"
         }
        }
       }
      }
     },
     "metadata": {},
     "output_type": "display_data"
    }
   ],
   "source": [
    "# 3. Salary by industry (top industries by count)\n",
    "top_industries = full_df[\"industry\"].value_counts().head(10).index.tolist()\n",
    "industry_salary_df = full_df[full_df[\"industry\"].isin(top_industries)]\n",
    "\n",
    "fig3 = px.box(\n",
    "    industry_salary_df,\n",
    "    x=\"industry\",\n",
    "    y=\"salary_usd\",\n",
    "    color=\"industry\",\n",
    "    title=\"Salary Distribution by Top Industries\",\n",
    "    labels={\"salary_usd\": \"Salary (USD)\", \"industry\": \"Industry\"},\n",
    "    height=500,\n",
    "    width=950\n",
    ")\n",
    "fig3.update_layout(\n",
    "    xaxis={\"categoryorder\": \"median descending\"},\n",
    "    showlegend=False\n",
    ")\n",
    "fig3.show()"
   ]
  },
  {
   "cell_type": "code",
   "execution_count": 47,
   "metadata": {},
   "outputs": [
    {
     "name": "stdout",
     "output_type": "stream",
     "text": [
      "Industry Salary Statistics:\n"
     ]
    },
    {
     "data": {
      "text/html": [
       "<div>\n",
       "<style scoped>\n",
       "    .dataframe tbody tr th:only-of-type {\n",
       "        vertical-align: middle;\n",
       "    }\n",
       "\n",
       "    .dataframe tbody tr th {\n",
       "        vertical-align: top;\n",
       "    }\n",
       "\n",
       "    .dataframe thead th {\n",
       "        text-align: right;\n",
       "    }\n",
       "</style>\n",
       "<table border=\"1\" class=\"dataframe\">\n",
       "  <thead>\n",
       "    <tr style=\"text-align: right;\">\n",
       "      <th></th>\n",
       "      <th>mean</th>\n",
       "      <th>median</th>\n",
       "      <th>min</th>\n",
       "      <th>max</th>\n",
       "      <th>count</th>\n",
       "    </tr>\n",
       "    <tr>\n",
       "      <th>industry</th>\n",
       "      <th></th>\n",
       "      <th></th>\n",
       "      <th></th>\n",
       "      <th></th>\n",
       "      <th></th>\n",
       "    </tr>\n",
       "  </thead>\n",
       "  <tbody>\n",
       "    <tr>\n",
       "      <th>Finance</th>\n",
       "      <td>169952.384615</td>\n",
       "      <td>146023.0</td>\n",
       "      <td>60631</td>\n",
       "      <td>338443</td>\n",
       "      <td>39</td>\n",
       "    </tr>\n",
       "    <tr>\n",
       "      <th>Gaming</th>\n",
       "      <td>154774.575000</td>\n",
       "      <td>145436.5</td>\n",
       "      <td>69279</td>\n",
       "      <td>288318</td>\n",
       "      <td>40</td>\n",
       "    </tr>\n",
       "    <tr>\n",
       "      <th>Retail</th>\n",
       "      <td>165816.426230</td>\n",
       "      <td>143399.0</td>\n",
       "      <td>59600</td>\n",
       "      <td>344471</td>\n",
       "      <td>61</td>\n",
       "    </tr>\n",
       "    <tr>\n",
       "      <th>Technology</th>\n",
       "      <td>148872.962264</td>\n",
       "      <td>140497.0</td>\n",
       "      <td>70238</td>\n",
       "      <td>314917</td>\n",
       "      <td>53</td>\n",
       "    </tr>\n",
       "    <tr>\n",
       "      <th>Government</th>\n",
       "      <td>158318.306122</td>\n",
       "      <td>140234.0</td>\n",
       "      <td>63794</td>\n",
       "      <td>343803</td>\n",
       "      <td>49</td>\n",
       "    </tr>\n",
       "    <tr>\n",
       "      <th>Consulting</th>\n",
       "      <td>154073.298246</td>\n",
       "      <td>139187.0</td>\n",
       "      <td>61684</td>\n",
       "      <td>293738</td>\n",
       "      <td>57</td>\n",
       "    </tr>\n",
       "    <tr>\n",
       "      <th>Real Estate</th>\n",
       "      <td>153015.222222</td>\n",
       "      <td>134914.0</td>\n",
       "      <td>73105</td>\n",
       "      <td>342272</td>\n",
       "      <td>45</td>\n",
       "    </tr>\n",
       "    <tr>\n",
       "      <th>Education</th>\n",
       "      <td>142331.196429</td>\n",
       "      <td>129481.0</td>\n",
       "      <td>54803</td>\n",
       "      <td>275914</td>\n",
       "      <td>56</td>\n",
       "    </tr>\n",
       "    <tr>\n",
       "      <th>Transportation</th>\n",
       "      <td>136345.559322</td>\n",
       "      <td>125276.0</td>\n",
       "      <td>61447</td>\n",
       "      <td>325119</td>\n",
       "      <td>59</td>\n",
       "    </tr>\n",
       "    <tr>\n",
       "      <th>Telecommunications</th>\n",
       "      <td>139420.441860</td>\n",
       "      <td>124367.0</td>\n",
       "      <td>64058</td>\n",
       "      <td>337306</td>\n",
       "      <td>43</td>\n",
       "    </tr>\n",
       "  </tbody>\n",
       "</table>\n",
       "</div>"
      ],
      "text/plain": [
       "                             mean    median    min     max  count\n",
       "industry                                                         \n",
       "Finance             169952.384615  146023.0  60631  338443     39\n",
       "Gaming              154774.575000  145436.5  69279  288318     40\n",
       "Retail              165816.426230  143399.0  59600  344471     61\n",
       "Technology          148872.962264  140497.0  70238  314917     53\n",
       "Government          158318.306122  140234.0  63794  343803     49\n",
       "Consulting          154073.298246  139187.0  61684  293738     57\n",
       "Real Estate         153015.222222  134914.0  73105  342272     45\n",
       "Education           142331.196429  129481.0  54803  275914     56\n",
       "Transportation      136345.559322  125276.0  61447  325119     59\n",
       "Telecommunications  139420.441860  124367.0  64058  337306     43"
      ]
     },
     "metadata": {},
     "output_type": "display_data"
    }
   ],
   "source": [
    "industry_stats = full_df.groupby('industry')['salary_usd'].agg(['mean', 'median', 'min', 'max', 'count']).sort_values('median', ascending=False)\n",
    "print(\"Industry Salary Statistics:\")\n",
    "display(industry_stats.head(10))"
   ]
  },
  {
   "cell_type": "code",
   "execution_count": 54,
   "metadata": {},
   "outputs": [],
   "source": [
    "# Create detailed industry analysis with additional context\n",
    "industry_analysis = industry_stats.reset_index().copy()  # Create an explicit copy\n",
    "\n",
    "# Add top jobs per industry\n",
    "top_jobs_by_industry = {}\n",
    "for industry in industry_analysis[\"industry\"]:\n",
    "    industry_df = full_df[full_df[\"industry\"] == industry]\n",
    "    top_jobs = industry_df[\"job_title\"].value_counts().head(3).index.tolist()\n",
    "    top_jobs_by_industry[industry] = \", \".join(top_jobs)\n",
    "\n",
    "# Use .loc to set values properly\n",
    "industry_analysis.loc[:, \"top_job_titles\"] = industry_analysis[\"industry\"].map(top_jobs_by_industry)\n",
    "industry_analysis.to_csv(\"exports/s1-descriptive/industry_salary_analysis.csv\", index=False)"
   ]
  },
  {
   "cell_type": "markdown",
   "metadata": {},
   "source": [
    "Among the industries employing AI professionals, Finance leads with the highest median salary at $146,023, closely followed by Gaming at $145,437 and Retail at $143,399. Surprisingly, traditional sectors like Retail and Government ($140,234) are competing effectively with Technology companies ($140,497) for AI talent, offering comparable compensation packages. The Finance industry not only tops the median salary rankings but also shows the highest mean salary at $169,952, indicating some exceptionally high-paying positions in this sector. Retail demonstrates the widest salary range, from $59,600 to $344,471, suggesting more variable compensation practices or a broader spectrum of AI roles within this industry. Telecommunications and Transportation industries, while still offering six-figure median salaries, fall toward the lower end of the compensation spectrum at $124,367 and $125,276 respectively. For STEAMe's platform users, these findings highlight that lucrative AI opportunities exist well beyond the traditional technology sector, with financial services, gaming, and retail emerging as particularly rewarding industries for AI professionals."
   ]
  },
  {
   "cell_type": "markdown",
   "metadata": {},
   "source": [
    "## 4. Salary vs Years of Experience\n",
    "\n",
    "This analysis examines the relationship between years of professional experience and salary levels across different experience categories. The scatter plot visualization below is particularly revealing, as it maps each position in our dataset according to years of experience and salary, with points colored by experience level classification. This approach allows us to observe both the overall correlation pattern and the distinct clusters that form at different experience thresholds. The clear separation between experience level groups highlights career transition points, while the variation within each cluster demonstrates how other factors influence compensation beyond raw years of experience. By quantifying these relationships, we gain insights into how experience translates to compensation at different career stages, revealing where experience has the strongest impact on salary and where other factors become more influential determinants of earning potential.\n"
   ]
  },
  {
   "cell_type": "code",
   "execution_count": 48,
   "metadata": {},
   "outputs": [
    {
     "data": {
      "application/vnd.plotly.v1+json": {
       "config": {
        "plotlyServerURL": "https://plot.ly"
       },
       "data": [
        {
         "customdata": [
          [
           "Autonomous Systems Engineer",
           "Automotive",
           "M"
          ],
          [
           "Data Scientist",
           "Telecommunications",
           "M"
          ],
          [
           "Research Scientist",
           "Gaming",
           "S"
          ],
          [
           "AI Research Scientist",
           "Real Estate",
           "L"
          ],
          [
           "Research Scientist",
           "Retail",
           "M"
          ],
          [
           "AI Consultant",
           "Retail",
           "S"
          ],
          [
           "Autonomous Systems Engineer",
           "Media",
           "S"
          ],
          [
           "AI Software Engineer",
           "Automotive",
           "S"
          ],
          [
           "AI Software Engineer",
           "Finance",
           "L"
          ],
          [
           "Machine Learning Researcher",
           "Media",
           "L"
          ],
          [
           "Data Scientist",
           "Transportation",
           "L"
          ],
          [
           "AI Specialist",
           "Technology",
           "M"
          ],
          [
           "Data Scientist",
           "Technology",
           "M"
          ],
          [
           "AI Product Manager",
           "Healthcare",
           "M"
          ],
          [
           "Principal Data Scientist",
           "Media",
           "S"
          ],
          [
           "Data Analyst",
           "Government",
           "S"
          ],
          [
           "Data Engineer",
           "Education",
           "L"
          ],
          [
           "AI Consultant",
           "Gaming",
           "S"
          ],
          [
           "Machine Learning Engineer",
           "Education",
           "L"
          ],
          [
           "Computer Vision Engineer",
           "Automotive",
           "S"
          ],
          [
           "Principal Data Scientist",
           "Government",
           "S"
          ],
          [
           "Data Engineer",
           "Telecommunications",
           "L"
          ],
          [
           "AI Consultant",
           "Technology",
           "M"
          ],
          [
           "NLP Engineer",
           "Energy",
           "M"
          ],
          [
           "Machine Learning Engineer",
           "Retail",
           "L"
          ],
          [
           "Autonomous Systems Engineer",
           "Energy",
           "M"
          ],
          [
           "Machine Learning Researcher",
           "Manufacturing",
           "M"
          ],
          [
           "Deep Learning Engineer",
           "Retail",
           "L"
          ],
          [
           "ML Ops Engineer",
           "Real Estate",
           "M"
          ],
          [
           "Research Scientist",
           "Education",
           "S"
          ],
          [
           "AI Specialist",
           "Manufacturing",
           "L"
          ],
          [
           "Data Scientist",
           "Energy",
           "S"
          ],
          [
           "Machine Learning Researcher",
           "Technology",
           "L"
          ],
          [
           "Data Scientist",
           "Gaming",
           "M"
          ],
          [
           "AI Specialist",
           "Energy",
           "S"
          ],
          [
           "Data Engineer",
           "Consulting",
           "L"
          ],
          [
           "Machine Learning Researcher",
           "Transportation",
           "M"
          ],
          [
           "AI Architect",
           "Healthcare",
           "L"
          ],
          [
           "AI Research Scientist",
           "Technology",
           "L"
          ],
          [
           "Data Scientist",
           "Energy",
           "S"
          ],
          [
           "Data Analyst",
           "Media",
           "M"
          ],
          [
           "AI Research Scientist",
           "Technology",
           "S"
          ],
          [
           "Machine Learning Researcher",
           "Government",
           "S"
          ],
          [
           "Head of AI",
           "Media",
           "L"
          ],
          [
           "Principal Data Scientist",
           "Telecommunications",
           "S"
          ],
          [
           "Robotics Engineer",
           "Automotive",
           "S"
          ],
          [
           "AI Software Engineer",
           "Energy",
           "L"
          ],
          [
           "Data Engineer",
           "Gaming",
           "S"
          ],
          [
           "AI Architect",
           "Media",
           "L"
          ],
          [
           "Autonomous Systems Engineer",
           "Consulting",
           "M"
          ],
          [
           "Data Engineer",
           "Consulting",
           "S"
          ],
          [
           "Principal Data Scientist",
           "Finance",
           "L"
          ],
          [
           "Robotics Engineer",
           "Government",
           "S"
          ],
          [
           "AI Specialist",
           "Government",
           "M"
          ],
          [
           "Autonomous Systems Engineer",
           "Manufacturing",
           "M"
          ],
          [
           "Data Analyst",
           "Transportation",
           "L"
          ],
          [
           "Data Engineer",
           "Automotive",
           "L"
          ],
          [
           "Deep Learning Engineer",
           "Finance",
           "L"
          ],
          [
           "AI Software Engineer",
           "Government",
           "L"
          ],
          [
           "AI Specialist",
           "Automotive",
           "M"
          ],
          [
           "AI Specialist",
           "Consulting",
           "M"
          ],
          [
           "NLP Engineer",
           "Healthcare",
           "L"
          ],
          [
           "AI Architect",
           "Consulting",
           "L"
          ],
          [
           "Data Analyst",
           "Gaming",
           "M"
          ],
          [
           "Data Analyst",
           "Energy",
           "S"
          ],
          [
           "Robotics Engineer",
           "Technology",
           "S"
          ],
          [
           "AI Consultant",
           "Energy",
           "M"
          ],
          [
           "Robotics Engineer",
           "Telecommunications",
           "S"
          ],
          [
           "Data Analyst",
           "Consulting",
           "M"
          ],
          [
           "NLP Engineer",
           "Energy",
           "L"
          ],
          [
           "Deep Learning Engineer",
           "Consulting",
           "L"
          ],
          [
           "Principal Data Scientist",
           "Government",
           "L"
          ],
          [
           "Principal Data Scientist",
           "Healthcare",
           "M"
          ],
          [
           "ML Ops Engineer",
           "Consulting",
           "M"
          ],
          [
           "Data Engineer",
           "Telecommunications",
           "L"
          ],
          [
           "Computer Vision Engineer",
           "Healthcare",
           "L"
          ],
          [
           "AI Research Scientist",
           "Education",
           "M"
          ],
          [
           "Principal Data Scientist",
           "Government",
           "M"
          ],
          [
           "AI Product Manager",
           "Government",
           "S"
          ],
          [
           "Robotics Engineer",
           "Telecommunications",
           "S"
          ],
          [
           "ML Ops Engineer",
           "Manufacturing",
           "L"
          ],
          [
           "Data Scientist",
           "Technology",
           "M"
          ],
          [
           "AI Research Scientist",
           "Retail",
           "S"
          ],
          [
           "NLP Engineer",
           "Education",
           "M"
          ],
          [
           "NLP Engineer",
           "Healthcare",
           "S"
          ],
          [
           "Robotics Engineer",
           "Manufacturing",
           "M"
          ],
          [
           "Machine Learning Engineer",
           "Media",
           "M"
          ],
          [
           "Autonomous Systems Engineer",
           "Healthcare",
           "M"
          ],
          [
           "Autonomous Systems Engineer",
           "Education",
           "L"
          ],
          [
           "AI Consultant",
           "Technology",
           "L"
          ],
          [
           "Research Scientist",
           "Finance",
           "L"
          ],
          [
           "Head of AI",
           "Transportation",
           "M"
          ],
          [
           "AI Research Scientist",
           "Automotive",
           "S"
          ],
          [
           "Research Scientist",
           "Manufacturing",
           "S"
          ],
          [
           "Data Scientist",
           "Healthcare",
           "L"
          ],
          [
           "AI Consultant",
           "Finance",
           "S"
          ],
          [
           "Computer Vision Engineer",
           "Healthcare",
           "L"
          ],
          [
           "Data Engineer",
           "Transportation",
           "L"
          ],
          [
           "Autonomous Systems Engineer",
           "Transportation",
           "L"
          ],
          [
           "Data Analyst",
           "Education",
           "M"
          ],
          [
           "AI Software Engineer",
           "Manufacturing",
           "S"
          ],
          [
           "Research Scientist",
           "Telecommunications",
           "M"
          ],
          [
           "Autonomous Systems Engineer",
           "Media",
           "M"
          ],
          [
           "AI Research Scientist",
           "Media",
           "S"
          ],
          [
           "Deep Learning Engineer",
           "Energy",
           "M"
          ],
          [
           "AI Specialist",
           "Energy",
           "S"
          ],
          [
           "Principal Data Scientist",
           "Transportation",
           "M"
          ],
          [
           "Principal Data Scientist",
           "Media",
           "S"
          ],
          [
           "AI Architect",
           "Telecommunications",
           "M"
          ],
          [
           "NLP Engineer",
           "Telecommunications",
           "M"
          ],
          [
           "AI Product Manager",
           "Finance",
           "L"
          ],
          [
           "Machine Learning Researcher",
           "Real Estate",
           "M"
          ],
          [
           "Data Analyst",
           "Retail",
           "M"
          ],
          [
           "Deep Learning Engineer",
           "Telecommunications",
           "L"
          ],
          [
           "AI Consultant",
           "Healthcare",
           "S"
          ],
          [
           "Head of AI",
           "Government",
           "L"
          ],
          [
           "AI Consultant",
           "Media",
           "M"
          ],
          [
           "AI Research Scientist",
           "Finance",
           "L"
          ],
          [
           "Data Engineer",
           "Government",
           "S"
          ],
          [
           "AI Product Manager",
           "Government",
           "S"
          ],
          [
           "Machine Learning Researcher",
           "Transportation",
           "M"
          ],
          [
           "AI Product Manager",
           "Education",
           "S"
          ],
          [
           "Data Engineer",
           "Consulting",
           "M"
          ],
          [
           "Data Analyst",
           "Manufacturing",
           "M"
          ],
          [
           "AI Consultant",
           "Real Estate",
           "L"
          ],
          [
           "Data Scientist",
           "Retail",
           "L"
          ],
          [
           "Autonomous Systems Engineer",
           "Telecommunications",
           "S"
          ],
          [
           "Head of AI",
           "Real Estate",
           "M"
          ],
          [
           "Head of AI",
           "Retail",
           "L"
          ],
          [
           "NLP Engineer",
           "Energy",
           "M"
          ],
          [
           "NLP Engineer",
           "Media",
           "M"
          ],
          [
           "AI Research Scientist",
           "Automotive",
           "S"
          ],
          [
           "Data Engineer",
           "Education",
           "M"
          ],
          [
           "AI Architect",
           "Real Estate",
           "S"
          ],
          [
           "Machine Learning Researcher",
           "Real Estate",
           "S"
          ],
          [
           "Data Engineer",
           "Education",
           "L"
          ],
          [
           "ML Ops Engineer",
           "Retail",
           "S"
          ],
          [
           "Autonomous Systems Engineer",
           "Government",
           "S"
          ],
          [
           "Robotics Engineer",
           "Media",
           "L"
          ],
          [
           "Head of AI",
           "Finance",
           "L"
          ],
          [
           "Data Scientist",
           "Finance",
           "M"
          ],
          [
           "Data Scientist",
           "Energy",
           "S"
          ],
          [
           "Data Scientist",
           "Consulting",
           "M"
          ],
          [
           "AI Software Engineer",
           "Manufacturing",
           "M"
          ],
          [
           "AI Research Scientist",
           "Gaming",
           "M"
          ],
          [
           "Head of AI",
           "Education",
           "L"
          ],
          [
           "AI Product Manager",
           "Real Estate",
           "L"
          ],
          [
           "AI Consultant",
           "Transportation",
           "M"
          ],
          [
           "ML Ops Engineer",
           "Consulting",
           "L"
          ],
          [
           "AI Consultant",
           "Retail",
           "L"
          ],
          [
           "AI Product Manager",
           "Energy",
           "S"
          ],
          [
           "NLP Engineer",
           "Healthcare",
           "L"
          ],
          [
           "Autonomous Systems Engineer",
           "Retail",
           "L"
          ],
          [
           "Research Scientist",
           "Education",
           "S"
          ],
          [
           "Research Scientist",
           "Energy",
           "L"
          ],
          [
           "AI Specialist",
           "Automotive",
           "M"
          ],
          [
           "Computer Vision Engineer",
           "Real Estate",
           "M"
          ],
          [
           "Machine Learning Engineer",
           "Transportation",
           "L"
          ],
          [
           "AI Architect",
           "Telecommunications",
           "S"
          ],
          [
           "Principal Data Scientist",
           "Government",
           "L"
          ],
          [
           "Data Scientist",
           "Retail",
           "L"
          ],
          [
           "Deep Learning Engineer",
           "Finance",
           "L"
          ],
          [
           "Robotics Engineer",
           "Transportation",
           "L"
          ],
          [
           "AI Architect",
           "Automotive",
           "M"
          ],
          [
           "Data Analyst",
           "Media",
           "M"
          ],
          [
           "Deep Learning Engineer",
           "Retail",
           "L"
          ],
          [
           "Data Scientist",
           "Automotive",
           "S"
          ],
          [
           "Research Scientist",
           "Government",
           "M"
          ],
          [
           "AI Research Scientist",
           "Healthcare",
           "M"
          ],
          [
           "Research Scientist",
           "Retail",
           "M"
          ],
          [
           "Deep Learning Engineer",
           "Real Estate",
           "M"
          ],
          [
           "NLP Engineer",
           "Transportation",
           "S"
          ],
          [
           "Autonomous Systems Engineer",
           "Transportation",
           "S"
          ],
          [
           "Principal Data Scientist",
           "Technology",
           "L"
          ],
          [
           "ML Ops Engineer",
           "Transportation",
           "L"
          ],
          [
           "AI Specialist",
           "Finance",
           "L"
          ],
          [
           "Data Engineer",
           "Real Estate",
           "S"
          ],
          [
           "AI Architect",
           "Transportation",
           "S"
          ],
          [
           "AI Consultant",
           "Retail",
           "S"
          ],
          [
           "Principal Data Scientist",
           "Gaming",
           "M"
          ],
          [
           "Research Scientist",
           "Energy",
           "S"
          ],
          [
           "Data Scientist",
           "Transportation",
           "L"
          ],
          [
           "NLP Engineer",
           "Telecommunications",
           "S"
          ],
          [
           "Robotics Engineer",
           "Energy",
           "M"
          ]
         ],
         "hovertemplate": "experience_level=MI<br>Years of Experience=%{x}<br>Salary (USD)=%{y}<br>benefits_score=%{marker.size}<br>job_title=%{customdata[0]}<br>industry=%{customdata[1]}<br>company_size=%{customdata[2]}<extra></extra>",
         "legendgroup": "MI",
         "marker": {
          "color": "#636efa",
          "size": {
           "bdata": "AAAAAAAAJEAzMzMzMzMVQJqZmZmZmRVAAAAAAAAAI0AAAAAAAAAaQAAAAAAAACJAzczMzMzMIUAAAAAAAAAaQJqZmZmZmSBAZmZmZmZmFkDNzMzMzMwjQGZmZmZmZiNAzczMzMzMI0DNzMzMzMwiQJqZmZmZmRVAZmZmZmZmIkCamZmZmZkVQDMzMzMzMyFAAAAAAAAAJEDNzMzMzMwUQM3MzMzMzBhAmpmZmZmZF0DNzMzMzMweQM3MzMzMzBxAzczMzMzMI0CamZmZmZkgQAAAAAAAABpAzczMzMzMFECamZmZmZkfQM3MzMzMzBZAMzMzMzMzIUDNzMzMzMwWQDMzMzMzMyBAmpmZmZmZIUDNzMzMzMwgQAAAAAAAACRAmpmZmZmZIkDNzMzMzMwcQDMzMzMzMx9AZmZmZmZmGkDNzMzMzMwhQGZmZmZmZiBAzczMzMzMHkAzMzMzMzMjQAAAAAAAABZAmpmZmZmZG0AAAAAAAAAYQJqZmZmZmRdAzczMzMzMIUCamZmZmZkZQGZmZmZmZhRAMzMzMzMzIUAzMzMzMzMfQGZmZmZmZiNAAAAAAAAAFEAAAAAAAAAhQJqZmZmZmSJAZmZmZmZmHEBmZmZmZmYWQDMzMzMzMx9AAAAAAAAAGkDNzMzMzMwiQGZmZmZmZhxAMzMzMzMzIUAzMzMzMzMiQGZmZmZmZhZAZmZmZmZmIEBmZmZmZmYeQAAAAAAAABhAZmZmZmZmHkDNzMzMzMwjQJqZmZmZmRVAAAAAAAAAI0BmZmZmZmYUQDMzMzMzMx9AZmZmZmZmHEDNzMzMzMwYQDMzMzMzMx1AzczMzMzMHEDNzMzMzMwUQDMzMzMzMx9AAAAAAAAAHECamZmZmZkiQJqZmZmZmR9AZmZmZmZmFkAzMzMzMzMdQGZmZmZmZiBAAAAAAAAAGkDNzMzMzMwaQJqZmZmZmRdAzczMzMzMGkAzMzMzMzMbQM3MzMzMzCNAmpmZmZmZHUBmZmZmZmYWQDMzMzMzMxtAzczMzMzMGkAzMzMzMzMhQM3MzMzMzBhAZmZmZmZmIEAAAAAAAAAhQDMzMzMzMxlAzczMzMzMHkAzMzMzMzMVQGZmZmZmZhRAZmZmZmZmGkBmZmZmZmYiQDMzMzMzMxVAmpmZmZmZG0BmZmZmZmYhQM3MzMzMzBZAZmZmZmZmFkBmZmZmZmYWQJqZmZmZmRlAzczMzMzMFECamZmZmZkVQM3MzMzMzBhAAAAAAAAAIEAzMzMzMzMZQDMzMzMzMx9AmpmZmZmZIkCamZmZmZkdQDMzMzMzMyFAZmZmZmZmGkAzMzMzMzMfQM3MzMzMzBhAZmZmZmZmI0BmZmZmZmYUQAAAAAAAACNAMzMzMzMzIEBmZmZmZmYiQDMzMzMzMyJAZmZmZmZmFEDNzMzMzMwhQAAAAAAAACJAMzMzMzMzFUBmZmZmZmYiQM3MzMzMzB5AAAAAAAAAFkDNzMzMzMwiQGZmZmZmZhxAzczMzMzMFkBmZmZmZmYYQAAAAAAAACBAAAAAAAAAIEAzMzMzMzMVQJqZmZmZmR1AAAAAAAAAHkCamZmZmZkhQAAAAAAAABhAzczMzMzMGEAAAAAAAAAiQAAAAAAAACNAAAAAAAAAI0AAAAAAAAAiQJqZmZmZmRVAMzMzMzMzIEDNzMzMzMwWQJqZmZmZmSJAAAAAAAAAHkBmZmZmZmYjQJqZmZmZmSJAZmZmZmZmHkAAAAAAAAAjQDMzMzMzMyFAMzMzMzMzFUDNzMzMzMweQM3MzMzMzBZAAAAAAAAAIUAzMzMzMzMdQJqZmZmZmSNAmpmZmZmZIUBmZmZmZmYeQJqZmZmZmRtAMzMzMzMzIEAAAAAAAAAaQGZmZmZmZhxAzczMzMzMFEDNzMzMzMwhQJqZmZmZmRtAMzMzMzMzI0DNzMzMzMwYQJqZmZmZmSBAmpmZmZmZH0A=",
           "dtype": "f8"
          },
          "sizemode": "area",
          "sizeref": 0.025,
          "symbol": "circle"
         },
         "mode": "markers",
         "name": "MI",
         "orientation": "v",
         "showlegend": true,
         "type": "scatter",
         "x": {
          "bdata": "AgIDAwIDAwQDBAQCBAQDAgIDAgMCBAQCBAQCAgQEAwICAgQDAgQCAwIDBAQDAwMDBAIDBAQCBAQEAgIEAwMDBAMCAwMEBAQCAgMCAwMEAwQEAwQEBAQDAwIDBAQDAgICAwQDBAIDAgMDAwMEBAQDAwMEAwICBAICBAIEBAIEBAQDAwQDBAMEAwMDAgICBAQCAwQDAwIEBAMCAgQEAwMDBAIEAwMCBAIEAgIEBAICAgMEAgIEAwQCBA==",
          "dtype": "i1"
         },
         "xaxis": "x",
         "y": {
          "bdata": "lpABALx6AQBToAEAqLMBAK3XAQDdPwEAWo4BAEaJAQB+lQEAka0BAPwIAgDetwEA4XcBAIvgAQA3TQEAYKYBAMDzAQCOWQEAoS0CABGsAQDSeAEAXbEBAC7TAQAcqwEAPusBAI/3AQDPfgEA1roBANnwAQDduwEAzKkBAKipAQDGogEAlmQBADaHAQDC0gEAXOkBAFG5AQDhiAEAgS0BAMVPAQDrdAEA7jUBAPD7AQAkNgEAXEwBAPiCAQAfsgEAyNEBAKGnAQDarwEA6vQBANjCAQCbngEAstQBAKyjAQCV3gEAo/oBAB/kAQBS2AEAcq8BABXtAQCilgEAiaABAHCvAQA5YQEABVsBAD1AAQB0twEA1R0CAPOMAQBegQEAOfoBAP6OAQDlNQIAEA0CAFO+AQBLTgEA9MYBALzDAQCM7QEAzZYBAHGHAQDu6QEA76ABAD/0AQBm1QEAyPgBAEc5AgCRCwIAiJwBANlXAQBHiwEA6JsBAPD0AQDGtwEAHugBABjzAQDQqAEATWUBAP6EAQC8dAEAFU8BAHZmAQBC9wEAC2oBAN/PAQDfewEAR5ABAIDAAQBi4AEAomcBAGvNAQCl+gEAzC8BACFHAgBhVQEAVu0BAJ5sAQC7uAEAXXkBAMdXAQB+XAEAIFwBAH68AQC4jwEA0scBAKyKAQAnMAIA/FgBAMzQAQAiiQEA5K8BAA63AQAFcwEAvQ8CAHtZAQDymAEADNQBAK7QAQCA6AEAIlQBAHPRAQDurwEAZsQBAM6iAQACnQEAgMUBAA8kAgBE/QEAuYkBAObjAQBiiwEASGoBAO0QAgD7XgEAqVkBAIcwAgA/awEADAoCANA4AgBe0wEAVZYBAMOKAQCy4AEAX4ABAHlJAQClnQEAGmIBABNeAQBb4gEAz04BAO6jAQB3EgIA9I0BAEgVAgA0LwEA/0kBAKW2AQC2qAEAXFwBAMYGAgBDngEAyHwBAA==",
          "dtype": "i4"
         },
         "yaxis": "y"
        },
        {
         "hovertemplate": "<b>OLS trendline</b><br>salary_usd = 272.017 * years_experience + 108714<br>R<sup>2</sup>=0.000178<br><br>experience_level=MI<br>Years of Experience=%{x}<br>Salary (USD)=%{y} <b>(trend)</b><extra></extra>",
         "legendgroup": "MI",
         "marker": {
          "color": "#636efa",
          "symbol": "circle"
         },
         "mode": "lines",
         "name": "MI",
         "showlegend": false,
         "type": "scatter",
         "x": {
          "bdata": "AgICAgICAgICAgICAgICAgICAgICAgICAgICAgICAgICAgICAgICAgICAgICAgICAgICAgICAgMDAwMDAwMDAwMDAwMDAwMDAwMDAwMDAwMDAwMDAwMDAwMDAwMDAwMDAwMDAwMDAwMDAwMDAwMDAwMDAwMEBAQEBAQEBAQEBAQEBAQEBAQEBAQEBAQEBAQEBAQEBAQEBAQEBAQEBAQEBAQEBAQEBAQEBAQEBAQEBAQEBAQEBAQEBA==",
          "dtype": "i1"
         },
         "xaxis": "x",
         "y": {
          "bdata": "ZIZPwpqs+kBkhk/Cmqz6QGSGT8KarPpAZIZPwpqs+kBkhk/Cmqz6QGSGT8KarPpAZIZPwpqs+kBkhk/Cmqz6QGSGT8KarPpAZIZPwpqs+kBkhk/Cmqz6QGSGT8KarPpAZIZPwpqs+kBkhk/Cmqz6QGSGT8KarPpAZIZPwpqs+kBkhk/Cmqz6QGSGT8KarPpAZIZPwpqs+kBkhk/Cmqz6QGSGT8KarPpAZIZPwpqs+kBkhk/Cmqz6QGSGT8KarPpAZIZPwpqs+kBkhk/Cmqz6QGSGT8KarPpAZIZPwpqs+kBkhk/Cmqz6QGSGT8KarPpAZIZPwpqs+kBkhk/Cmqz6QGSGT8KarPpAZIZPwpqs+kBkhk/Cmqz6QGSGT8KarPpAZIZPwpqs+kBkhk/Cmqz6QGSGT8KarPpAZIZPwpqs+kBkhk/Cmqz6QGSGT8KarPpAZIZPwpqs+kBkhk/Cmqz6QGSGT8KarPpAZIZPwpqs+kBkhk/Cmqz6QGSGT8KarPpAZIZPwpqs+kBkhk/Cmqz6QGSGT8KarPpAZIZPwpqs+kBkhk/Cmqz6QGSGT8KarPpAZIZPwpqs+kCrN1MGm736QKs3UwabvfpAqzdTBpu9+kCrN1MGm736QKs3UwabvfpAqzdTBpu9+kCrN1MGm736QKs3UwabvfpAqzdTBpu9+kCrN1MGm736QKs3UwabvfpAqzdTBpu9+kCrN1MGm736QKs3UwabvfpAqzdTBpu9+kCrN1MGm736QKs3UwabvfpAqzdTBpu9+kCrN1MGm736QKs3UwabvfpAqzdTBpu9+kCrN1MGm736QKs3UwabvfpAqzdTBpu9+kCrN1MGm736QKs3UwabvfpAqzdTBpu9+kCrN1MGm736QKs3UwabvfpAqzdTBpu9+kCrN1MGm736QKs3UwabvfpAqzdTBpu9+kCrN1MGm736QKs3UwabvfpAqzdTBpu9+kCrN1MGm736QKs3UwabvfpAqzdTBpu9+kCrN1MGm736QKs3UwabvfpAqzdTBpu9+kCrN1MGm736QKs3UwabvfpAqzdTBpu9+kCrN1MGm736QKs3UwabvfpAqzdTBpu9+kCrN1MGm736QKs3UwabvfpAqzdTBpu9+kCrN1MGm736QKs3UwabvfpAqzdTBpu9+kCrN1MGm736QKs3UwabvfpAqzdTBpu9+kCrN1MGm736QKs3UwabvfpAqzdTBpu9+kCrN1MGm736QPLoVkqbzvpA8uhWSpvO+kDy6FZKm876QPLoVkqbzvpA8uhWSpvO+kDy6FZKm876QPLoVkqbzvpA8uhWSpvO+kDy6FZKm876QPLoVkqbzvpA8uhWSpvO+kDy6FZKm876QPLoVkqbzvpA8uhWSpvO+kDy6FZKm876QPLoVkqbzvpA8uhWSpvO+kDy6FZKm876QPLoVkqbzvpA8uhWSpvO+kDy6FZKm876QPLoVkqbzvpA8uhWSpvO+kDy6FZKm876QPLoVkqbzvpA8uhWSpvO+kDy6FZKm876QPLoVkqbzvpA8uhWSpvO+kDy6FZKm876QPLoVkqbzvpA8uhWSpvO+kDy6FZKm876QPLoVkqbzvpA8uhWSpvO+kDy6FZKm876QPLoVkqbzvpA8uhWSpvO+kDy6FZKm876QPLoVkqbzvpA8uhWSpvO+kDy6FZKm876QPLoVkqbzvpA8uhWSpvO+kDy6FZKm876QPLoVkqbzvpA8uhWSpvO+kDy6FZKm876QPLoVkqbzvpA8uhWSpvO+kDy6FZKm876QPLoVkqbzvpA8uhWSpvO+kDy6FZKm876QPLoVkqbzvpA8uhWSpvO+kDy6FZKm876QPLoVkqbzvpA8uhWSpvO+kDy6FZKm876QPLoVkqbzvpA8uhWSpvO+kDy6FZKm876QPLoVkqbzvpA8uhWSpvO+kDy6FZKm876QPLoVkqbzvpA8uhWSpvO+kA=",
          "dtype": "f8"
         },
         "yaxis": "y"
        },
        {
         "customdata": [
          [
           "AI Architect",
           "Finance",
           "L"
          ],
          [
           "AI Research Scientist",
           "Media",
           "M"
          ],
          [
           "AI Research Scientist",
           "Transportation",
           "L"
          ],
          [
           "AI Specialist",
           "Healthcare",
           "S"
          ],
          [
           "ML Ops Engineer",
           "Technology",
           "L"
          ],
          [
           "AI Product Manager",
           "Telecommunications",
           "L"
          ],
          [
           "AI Product Manager",
           "Gaming",
           "S"
          ],
          [
           "AI Research Scientist",
           "Government",
           "M"
          ],
          [
           "AI Research Scientist",
           "Technology",
           "M"
          ],
          [
           "Robotics Engineer",
           "Media",
           "S"
          ],
          [
           "NLP Engineer",
           "Retail",
           "L"
          ],
          [
           "Autonomous Systems Engineer",
           "Education",
           "M"
          ],
          [
           "Computer Vision Engineer",
           "Technology",
           "L"
          ],
          [
           "Machine Learning Engineer",
           "Education",
           "S"
          ],
          [
           "AI Architect",
           "Finance",
           "M"
          ],
          [
           "Data Engineer",
           "Retail",
           "L"
          ],
          [
           "Principal Data Scientist",
           "Technology",
           "S"
          ],
          [
           "Data Analyst",
           "Technology",
           "S"
          ],
          [
           "AI Architect",
           "Government",
           "L"
          ],
          [
           "Machine Learning Engineer",
           "Healthcare",
           "S"
          ],
          [
           "AI Architect",
           "Energy",
           "L"
          ],
          [
           "Data Analyst",
           "Transportation",
           "S"
          ],
          [
           "AI Architect",
           "Energy",
           "L"
          ],
          [
           "Head of AI",
           "Consulting",
           "M"
          ],
          [
           "Data Scientist",
           "Retail",
           "S"
          ],
          [
           "Machine Learning Engineer",
           "Healthcare",
           "M"
          ],
          [
           "AI Product Manager",
           "Transportation",
           "L"
          ],
          [
           "Machine Learning Engineer",
           "Automotive",
           "S"
          ],
          [
           "Robotics Engineer",
           "Healthcare",
           "M"
          ],
          [
           "Deep Learning Engineer",
           "Technology",
           "L"
          ],
          [
           "Autonomous Systems Engineer",
           "Technology",
           "M"
          ],
          [
           "AI Architect",
           "Media",
           "M"
          ],
          [
           "Robotics Engineer",
           "Manufacturing",
           "L"
          ],
          [
           "AI Research Scientist",
           "Finance",
           "L"
          ],
          [
           "AI Software Engineer",
           "Retail",
           "S"
          ],
          [
           "AI Software Engineer",
           "Energy",
           "M"
          ],
          [
           "NLP Engineer",
           "Finance",
           "S"
          ],
          [
           "Autonomous Systems Engineer",
           "Technology",
           "S"
          ],
          [
           "Research Scientist",
           "Education",
           "M"
          ],
          [
           "AI Research Scientist",
           "Energy",
           "S"
          ],
          [
           "AI Specialist",
           "Government",
           "L"
          ],
          [
           "Autonomous Systems Engineer",
           "Consulting",
           "M"
          ],
          [
           "Data Scientist",
           "Transportation",
           "M"
          ],
          [
           "AI Research Scientist",
           "Retail",
           "L"
          ],
          [
           "AI Software Engineer",
           "Education",
           "L"
          ],
          [
           "Data Scientist",
           "Telecommunications",
           "L"
          ],
          [
           "Research Scientist",
           "Consulting",
           "M"
          ],
          [
           "Robotics Engineer",
           "Media",
           "M"
          ],
          [
           "Principal Data Scientist",
           "Technology",
           "M"
          ],
          [
           "AI Product Manager",
           "Government",
           "L"
          ],
          [
           "Autonomous Systems Engineer",
           "Gaming",
           "S"
          ],
          [
           "AI Specialist",
           "Real Estate",
           "M"
          ],
          [
           "Deep Learning Engineer",
           "Consulting",
           "S"
          ],
          [
           "AI Product Manager",
           "Consulting",
           "L"
          ],
          [
           "Computer Vision Engineer",
           "Education",
           "M"
          ],
          [
           "AI Architect",
           "Manufacturing",
           "S"
          ],
          [
           "AI Product Manager",
           "Telecommunications",
           "M"
          ],
          [
           "Data Analyst",
           "Transportation",
           "M"
          ],
          [
           "AI Architect",
           "Government",
           "S"
          ],
          [
           "Research Scientist",
           "Retail",
           "M"
          ],
          [
           "Principal Data Scientist",
           "Energy",
           "M"
          ],
          [
           "Autonomous Systems Engineer",
           "Automotive",
           "M"
          ],
          [
           "Research Scientist",
           "Energy",
           "M"
          ],
          [
           "AI Research Scientist",
           "Automotive",
           "L"
          ],
          [
           "Data Analyst",
           "Real Estate",
           "M"
          ],
          [
           "Machine Learning Engineer",
           "Retail",
           "M"
          ],
          [
           "Research Scientist",
           "Energy",
           "M"
          ],
          [
           "Data Scientist",
           "Real Estate",
           "M"
          ],
          [
           "Machine Learning Researcher",
           "Manufacturing",
           "L"
          ],
          [
           "ML Ops Engineer",
           "Manufacturing",
           "M"
          ],
          [
           "AI Consultant",
           "Real Estate",
           "L"
          ],
          [
           "Machine Learning Engineer",
           "Finance",
           "M"
          ],
          [
           "Computer Vision Engineer",
           "Telecommunications",
           "L"
          ],
          [
           "ML Ops Engineer",
           "Technology",
           "L"
          ],
          [
           "NLP Engineer",
           "Gaming",
           "S"
          ],
          [
           "Data Engineer",
           "Automotive",
           "L"
          ],
          [
           "Deep Learning Engineer",
           "Telecommunications",
           "L"
          ],
          [
           "AI Specialist",
           "Education",
           "L"
          ],
          [
           "AI Product Manager",
           "Government",
           "L"
          ],
          [
           "Research Scientist",
           "Automotive",
           "L"
          ],
          [
           "Autonomous Systems Engineer",
           "Consulting",
           "M"
          ],
          [
           "Data Analyst",
           "Retail",
           "L"
          ],
          [
           "Computer Vision Engineer",
           "Real Estate",
           "M"
          ],
          [
           "Machine Learning Engineer",
           "Transportation",
           "L"
          ],
          [
           "Research Scientist",
           "Transportation",
           "L"
          ],
          [
           "ML Ops Engineer",
           "Technology",
           "L"
          ],
          [
           "AI Specialist",
           "Manufacturing",
           "L"
          ],
          [
           "Principal Data Scientist",
           "Automotive",
           "M"
          ],
          [
           "AI Research Scientist",
           "Transportation",
           "S"
          ],
          [
           "AI Product Manager",
           "Retail",
           "L"
          ],
          [
           "NLP Engineer",
           "Finance",
           "L"
          ],
          [
           "Data Engineer",
           "Manufacturing",
           "M"
          ],
          [
           "AI Product Manager",
           "Transportation",
           "M"
          ],
          [
           "Machine Learning Researcher",
           "Finance",
           "M"
          ],
          [
           "Head of AI",
           "Consulting",
           "L"
          ],
          [
           "Data Analyst",
           "Technology",
           "L"
          ],
          [
           "AI Software Engineer",
           "Real Estate",
           "M"
          ],
          [
           "Autonomous Systems Engineer",
           "Manufacturing",
           "M"
          ],
          [
           "NLP Engineer",
           "Retail",
           "S"
          ],
          [
           "Machine Learning Engineer",
           "Technology",
           "M"
          ],
          [
           "Data Analyst",
           "Energy",
           "L"
          ],
          [
           "Principal Data Scientist",
           "Education",
           "S"
          ],
          [
           "AI Research Scientist",
           "Consulting",
           "M"
          ],
          [
           "Head of AI",
           "Healthcare",
           "M"
          ],
          [
           "Research Scientist",
           "Finance",
           "L"
          ],
          [
           "AI Consultant",
           "Transportation",
           "S"
          ],
          [
           "AI Research Scientist",
           "Retail",
           "S"
          ],
          [
           "Data Scientist",
           "Media",
           "L"
          ],
          [
           "Robotics Engineer",
           "Real Estate",
           "S"
          ],
          [
           "AI Architect",
           "Transportation",
           "M"
          ],
          [
           "AI Specialist",
           "Automotive",
           "L"
          ],
          [
           "AI Consultant",
           "Energy",
           "L"
          ],
          [
           "Research Scientist",
           "Education",
           "L"
          ],
          [
           "AI Software Engineer",
           "Telecommunications",
           "L"
          ],
          [
           "AI Specialist",
           "Healthcare",
           "L"
          ],
          [
           "Autonomous Systems Engineer",
           "Real Estate",
           "L"
          ],
          [
           "Data Engineer",
           "Automotive",
           "M"
          ],
          [
           "Computer Vision Engineer",
           "Energy",
           "M"
          ],
          [
           "Data Engineer",
           "Real Estate",
           "S"
          ],
          [
           "AI Consultant",
           "Manufacturing",
           "S"
          ],
          [
           "AI Consultant",
           "Media",
           "L"
          ],
          [
           "Data Scientist",
           "Telecommunications",
           "M"
          ],
          [
           "ML Ops Engineer",
           "Finance",
           "S"
          ],
          [
           "Data Analyst",
           "Transportation",
           "S"
          ],
          [
           "AI Software Engineer",
           "Retail",
           "S"
          ],
          [
           "AI Product Manager",
           "Gaming",
           "S"
          ],
          [
           "Robotics Engineer",
           "Real Estate",
           "S"
          ],
          [
           "NLP Engineer",
           "Technology",
           "M"
          ],
          [
           "Research Scientist",
           "Education",
           "S"
          ],
          [
           "Machine Learning Researcher",
           "Telecommunications",
           "M"
          ],
          [
           "Machine Learning Engineer",
           "Government",
           "M"
          ],
          [
           "NLP Engineer",
           "Media",
           "L"
          ],
          [
           "AI Research Scientist",
           "Media",
           "M"
          ],
          [
           "Data Analyst",
           "Real Estate",
           "S"
          ],
          [
           "AI Specialist",
           "Retail",
           "L"
          ],
          [
           "Deep Learning Engineer",
           "Consulting",
           "L"
          ],
          [
           "Principal Data Scientist",
           "Real Estate",
           "S"
          ],
          [
           "AI Specialist",
           "Education",
           "S"
          ],
          [
           "Robotics Engineer",
           "Media",
           "S"
          ],
          [
           "Autonomous Systems Engineer",
           "Government",
           "S"
          ],
          [
           "AI Software Engineer",
           "Government",
           "S"
          ],
          [
           "Data Engineer",
           "Manufacturing",
           "L"
          ],
          [
           "Deep Learning Engineer",
           "Transportation",
           "S"
          ],
          [
           "AI Consultant",
           "Automotive",
           "L"
          ],
          [
           "Data Engineer",
           "Government",
           "L"
          ],
          [
           "Head of AI",
           "Education",
           "M"
          ],
          [
           "Head of AI",
           "Gaming",
           "S"
          ],
          [
           "Computer Vision Engineer",
           "Technology",
           "L"
          ],
          [
           "Robotics Engineer",
           "Media",
           "S"
          ],
          [
           "Autonomous Systems Engineer",
           "Telecommunications",
           "M"
          ],
          [
           "AI Specialist",
           "Technology",
           "M"
          ],
          [
           "AI Product Manager",
           "Transportation",
           "L"
          ],
          [
           "AI Software Engineer",
           "Real Estate",
           "M"
          ],
          [
           "Machine Learning Engineer",
           "Real Estate",
           "L"
          ],
          [
           "Machine Learning Engineer",
           "Media",
           "S"
          ],
          [
           "Data Analyst",
           "Gaming",
           "L"
          ],
          [
           "NLP Engineer",
           "Healthcare",
           "L"
          ],
          [
           "ML Ops Engineer",
           "Education",
           "S"
          ],
          [
           "Data Scientist",
           "Automotive",
           "M"
          ],
          [
           "AI Software Engineer",
           "Consulting",
           "S"
          ],
          [
           "NLP Engineer",
           "Technology",
           "M"
          ],
          [
           "Deep Learning Engineer",
           "Technology",
           "L"
          ],
          [
           "NLP Engineer",
           "Consulting",
           "S"
          ],
          [
           "Machine Learning Engineer",
           "Government",
           "S"
          ],
          [
           "Machine Learning Researcher",
           "Automotive",
           "M"
          ],
          [
           "Data Scientist",
           "Real Estate",
           "L"
          ],
          [
           "Robotics Engineer",
           "Education",
           "L"
          ],
          [
           "Principal Data Scientist",
           "Healthcare",
           "S"
          ],
          [
           "Robotics Engineer",
           "Retail",
           "M"
          ],
          [
           "Data Scientist",
           "Technology",
           "S"
          ],
          [
           "AI Specialist",
           "Retail",
           "S"
          ],
          [
           "AI Research Scientist",
           "Automotive",
           "M"
          ],
          [
           "Machine Learning Researcher",
           "Government",
           "M"
          ],
          [
           "Head of AI",
           "Telecommunications",
           "S"
          ],
          [
           "AI Architect",
           "Automotive",
           "L"
          ],
          [
           "AI Product Manager",
           "Government",
           "S"
          ],
          [
           "NLP Engineer",
           "Energy",
           "M"
          ],
          [
           "Principal Data Scientist",
           "Healthcare",
           "S"
          ]
         ],
         "hovertemplate": "experience_level=SE<br>Years of Experience=%{x}<br>Salary (USD)=%{y}<br>benefits_score=%{marker.size}<br>job_title=%{customdata[0]}<br>industry=%{customdata[1]}<br>company_size=%{customdata[2]}<extra></extra>",
         "legendgroup": "SE",
         "marker": {
          "color": "#EF553B",
          "size": {
           "bdata": "AAAAAAAAHkCamZmZmZkVQGZmZmZmZiFAzczMzMzMHEAzMzMzMzMjQDMzMzMzMxlAMzMzMzMzFUBmZmZmZmYUQJqZmZmZmRlAAAAAAAAAIEAzMzMzMzMVQJqZmZmZmRVAmpmZmZmZHUAAAAAAAAAjQDMzMzMzMxlAzczMzMzMIEAAAAAAAAAeQGZmZmZmZhRAzczMzMzMGEAzMzMzMzMVQDMzMzMzMyJAmpmZmZmZIEAzMzMzMzMhQAAAAAAAACBAMzMzMzMzGUAAAAAAAAAjQGZmZmZmZh5AAAAAAAAAIEAAAAAAAAAgQDMzMzMzMx9AzczMzMzMIkDNzMzMzMwWQAAAAAAAACJAmpmZmZmZFUAzMzMzMzMZQM3MzMzMzCFAAAAAAAAAGkBmZmZmZmYaQM3MzMzMzBhAAAAAAAAAIEAAAAAAAAAaQJqZmZmZmRdAZmZmZmZmGkCamZmZmZkZQGZmZmZmZhZAmpmZmZmZIUDNzMzMzMwgQAAAAAAAABpAzczMzMzMIEAAAAAAAAAgQAAAAAAAACJAzczMzMzMFkAAAAAAAAAgQM3MzMzMzBpAAAAAAAAAHEDNzMzMzMwYQGZmZmZmZhZAMzMzMzMzIUDNzMzMzMwhQGZmZmZmZhRAzczMzMzMGkDNzMzMzMwiQGZmZmZmZhRAAAAAAAAAIkAAAAAAAAAeQGZmZmZmZiFAMzMzMzMzIkDNzMzMzMwgQJqZmZmZmRVAAAAAAAAAIEAzMzMzMzMXQDMzMzMzMxlAmpmZmZmZIkDNzMzMzMwYQGZmZmZmZiNAMzMzMzMzH0DNzMzMzMwcQM3MzMzMzBhAmpmZmZmZIEAAAAAAAAAkQJqZmZmZmSFAAAAAAAAAI0CamZmZmZkiQAAAAAAAACNAZmZmZmZmIUCamZmZmZkZQM3MzMzMzCFAAAAAAAAAGEDNzMzMzMwYQAAAAAAAABhAAAAAAAAAI0AAAAAAAAAjQGZmZmZmZhpAzczMzMzMGEAAAAAAAAAWQDMzMzMzMxlAzczMzMzMI0AAAAAAAAAeQAAAAAAAACFAmpmZmZmZIEAzMzMzMzMZQM3MzMzMzBxAAAAAAAAAIUAzMzMzMzMhQGZmZmZmZiJAZmZmZmZmI0AAAAAAAAAhQJqZmZmZmRVAMzMzMzMzFUBmZmZmZmYiQGZmZmZmZiNAAAAAAAAAGkDNzMzMzMwhQJqZmZmZmRVAzczMzMzMIEBmZmZmZmYiQM3MzMzMzCNAMzMzMzMzHUAzMzMzMzMfQAAAAAAAABpAmpmZmZmZGUBmZmZmZmYjQM3MzMzMzBhAAAAAAAAAHkAzMzMzMzMdQDMzMzMzMxdAmpmZmZmZI0CamZmZmZkXQJqZmZmZmSNAzczMzMzMIUAzMzMzMzMfQDMzMzMzMyFAmpmZmZmZH0AzMzMzMzMfQJqZmZmZmRlAzczMzMzMFEBmZmZmZmYiQJqZmZmZmR1AZmZmZmZmGEBmZmZmZmYeQJqZmZmZmRlAzczMzMzMHkAzMzMzMzMgQJqZmZmZmRVAMzMzMzMzG0CamZmZmZkVQAAAAAAAACNAZmZmZmZmIUBmZmZmZmYhQJqZmZmZmSBAzczMzMzMHkAAAAAAAAAYQGZmZmZmZiFAMzMzMzMzG0DNzMzMzMwaQJqZmZmZmRdAZmZmZmZmHEAzMzMzMzMdQDMzMzMzMyNAmpmZmZmZIkBmZmZmZmYaQAAAAAAAACNAmpmZmZmZF0BmZmZmZmYeQJqZmZmZmRlAmpmZmZmZI0AAAAAAAAAaQDMzMzMzMyJAzczMzMzMGkDNzMzMzMwaQJqZmZmZmRtAMzMzMzMzH0AAAAAAAAAcQAAAAAAAABZAAAAAAAAAGkAAAAAAAAAhQAAAAAAAABhAMzMzMzMzIEA=",
           "dtype": "f8"
          },
          "sizemode": "area",
          "sizeref": 0.025,
          "symbol": "circle"
         },
         "mode": "markers",
         "name": "SE",
         "orientation": "v",
         "showlegend": true,
         "type": "scatter",
         "x": {
          "bdata": "CAcIBwUHBQUGBQUGBQYFBgcJBgYHBgcJBwkIBgYHBwkJCQkFBwcHCQUGBwUHBQgJBwcIBwkHBggIBggGCAYGBggFCQcGCAcIBQgGCQgIBggHBwkHCAYFBwYGCAYGBQYICQkGBQcICAUGBggIBgUGBwcJCQkGCAgHBwcICAcFBggIBQgGBQgGCQYFBwYJBgkGBQYFCAYFCQYJBgUJCQYHCAYGCQcGBgcGCAcJCQkICQcGCA==",
          "dtype": "i1"
         },
         "xaxis": "x",
         "y": {
          "bdata": "WgEDAEeqAgBr/AIAgcQBAJuYAgAcwAIAm28CAA+nAgClOgIAvQkCADpQAgDTnwIATnECAHBFAgBnOgIAxIkCANEkAgBKHwIAyiMCACDQAQDB7AIAGnACAO/nAgCzHwIAMMUBANo4AgA1MwIAYzwCAN2aAgALuQIA0BsCAOLVAQBPNQIAvgoDADt2AgDvZQIAoCACAHsGAgBdtQIAZsoBAEmBAgBdZAIAvIYCAM+aAgBSQgIAsa0CAF1HAgAA6AEAf5cCAEjNAgB0JwIAoDECAD4LAgBF+wIAtFMCALfaAQDP5QEAkdwBAHLaAQCKIAIAqqACAGB3AgA9sAIAYCICAAyUAgCjFQIAkP8BAC9UAgADkQIAVdgBACegAgAO1wEANnwCABnZAgAdSgIAEjUCALRfAgDmIgMAoJkCAGclAwA/TQIAy/YCAKsCAgAehQIAf4oCALAzAgDDcQIAreIBANn/AQCdFwMAaWMCAO8hAgCU+gEA0Y4CACZfAgCGtwIAMPQBANodAgDxEgIAiTACAIzfAgDS/wEA/XcCAAWAAgBxAQMApBcCANW0AQBPJwMAdj4CAJ1WAgCBhQIA5GcCAFlpAgAnxwIArsQCAOp0AgBmQAIAWIUCAAavAQB69QEA20sCAB+tAgCWGgIApWsCAEsHAgDmCQIA23MCAMkqAgDcWwIAbWkCACU5AgAVsQIAmqkCAD7TAQCjBQMAODcCAAIPAgCX6AEAS90BAItnAgAmwwEAeuICALcpAgBR3QIA6J8CAFrXAQCSwAEAeO8CAPIbAgCGBQIA9n0CAB+gAgCsQQIAW4MCAIjAAQAy9wIAE7ACACG6AQCDCwIA0fQBAIq2AgAQUwIAez0CALxpAgDEewIATBgDAOHIAgDh3wEAZgkCAEwHAgBrFwIA3vMBAOwtAgAdQgIAOWQCAIjHAQDT2QEAxBICAA==",
          "dtype": "i4"
         },
         "yaxis": "y"
        },
        {
         "hovertemplate": "<b>OLS trendline</b><br>salary_usd = -1365.57 * years_experience + 162789<br>R<sup>2</sup>=0.005810<br><br>experience_level=SE<br>Years of Experience=%{x}<br>Salary (USD)=%{y} <b>(trend)</b><extra></extra>",
         "legendgroup": "SE",
         "marker": {
          "color": "#EF553B",
          "symbol": "circle"
         },
         "mode": "lines",
         "name": "SE",
         "showlegend": false,
         "type": "scatter",
         "x": {
          "bdata": "BQUFBQUFBQUFBQUFBQUFBQUFBQUFBQUFBQUGBgYGBgYGBgYGBgYGBgYGBgYGBgYGBgYGBgYGBgYGBgYGBgYGBgYGBgYGBgYGBgYGBwcHBwcHBwcHBwcHBwcHBwcHBwcHBwcHBwcHBwcHBwcHBwcHBwgICAgICAgICAgICAgICAgICAgICAgICAgICAgICAgICAgICAkJCQkJCQkJCQkJCQkJCQkJCQkJCQkJCQkJCQkJCQ==",
          "dtype": "i1"
         },
         "xaxis": "x",
         "y": {
          "bdata": "9mePc8cJA0H2Z49zxwkDQfZnj3PHCQNB9mePc8cJA0H2Z49zxwkDQfZnj3PHCQNB9mePc8cJA0H2Z49zxwkDQfZnj3PHCQNB9mePc8cJA0H2Z49zxwkDQfZnj3PHCQNB9mePc8cJA0H2Z49zxwkDQfZnj3PHCQNB9mePc8cJA0H2Z49zxwkDQfZnj3PHCQNB9mePc8cJA0H2Z49zxwkDQfZnj3PHCQNB9mePc8cJA0H2Z49zxwkDQfZnj3PHCQNB9mePc8cJA0H2Z49zxwkDQRx/pesa3wJBHH+l6xrfAkEcf6XrGt8CQRx/pesa3wJBHH+l6xrfAkEcf6XrGt8CQRx/pesa3wJBHH+l6xrfAkEcf6XrGt8CQRx/pesa3wJBHH+l6xrfAkEcf6XrGt8CQRx/pesa3wJBHH+l6xrfAkEcf6XrGt8CQRx/pesa3wJBHH+l6xrfAkEcf6XrGt8CQRx/pesa3wJBHH+l6xrfAkEcf6XrGt8CQRx/pesa3wJBHH+l6xrfAkEcf6XrGt8CQRx/pesa3wJBHH+l6xrfAkEcf6XrGt8CQRx/pesa3wJBHH+l6xrfAkEcf6XrGt8CQRx/pesa3wJBHH+l6xrfAkEcf6XrGt8CQRx/pesa3wJBHH+l6xrfAkEcf6XrGt8CQRx/pesa3wJBHH+l6xrfAkEcf6XrGt8CQRx/pesa3wJBHH+l6xrfAkEcf6XrGt8CQRx/pesa3wJBHH+l6xrfAkEcf6XrGt8CQRx/pesa3wJBHH+l6xrfAkEcf6XrGt8CQRx/pesa3wJBQpa7Y260AkFClrtjbrQCQUKWu2NutAJBQpa7Y260AkFClrtjbrQCQUKWu2NutAJBQpa7Y260AkFClrtjbrQCQUKWu2NutAJBQpa7Y260AkFClrtjbrQCQUKWu2NutAJBQpa7Y260AkFClrtjbrQCQUKWu2NutAJBQpa7Y260AkFClrtjbrQCQUKWu2NutAJBQpa7Y260AkFClrtjbrQCQUKWu2NutAJBQpa7Y260AkFClrtjbrQCQUKWu2NutAJBQpa7Y260AkFClrtjbrQCQUKWu2NutAJBQpa7Y260AkFClrtjbrQCQUKWu2NutAJBQpa7Y260AkFClrtjbrQCQUKWu2NutAJBQpa7Y260AkFClrtjbrQCQUKWu2NutAJBQpa7Y260AkFordHbwYkCQWit0dvBiQJBaK3R28GJAkFordHbwYkCQWit0dvBiQJBaK3R28GJAkFordHbwYkCQWit0dvBiQJBaK3R28GJAkFordHbwYkCQWit0dvBiQJBaK3R28GJAkFordHbwYkCQWit0dvBiQJBaK3R28GJAkFordHbwYkCQWit0dvBiQJBaK3R28GJAkFordHbwYkCQWit0dvBiQJBaK3R28GJAkFordHbwYkCQWit0dvBiQJBaK3R28GJAkFordHbwYkCQWit0dvBiQJBaK3R28GJAkFordHbwYkCQWit0dvBiQJBaK3R28GJAkFordHbwYkCQWit0dvBiQJBaK3R28GJAkFordHbwYkCQWit0dvBiQJBaK3R28GJAkGOxOdTFV8CQY7E51MVXwJBjsTnUxVfAkGOxOdTFV8CQY7E51MVXwJBjsTnUxVfAkGOxOdTFV8CQY7E51MVXwJBjsTnUxVfAkGOxOdTFV8CQY7E51MVXwJBjsTnUxVfAkGOxOdTFV8CQY7E51MVXwJBjsTnUxVfAkGOxOdTFV8CQY7E51MVXwJBjsTnUxVfAkGOxOdTFV8CQY7E51MVXwJBjsTnUxVfAkGOxOdTFV8CQY7E51MVXwJBjsTnUxVfAkGOxOdTFV8CQY7E51MVXwJBjsTnUxVfAkGOxOdTFV8CQY7E51MVXwJBjsTnUxVfAkE=",
          "dtype": "f8"
         },
         "yaxis": "y"
        },
        {
         "customdata": [
          [
           "AI Research Scientist",
           "Consulting",
           "M"
          ],
          [
           "Machine Learning Researcher",
           "Education",
           "S"
          ],
          [
           "Research Scientist",
           "Telecommunications",
           "M"
          ],
          [
           "AI Architect",
           "Gaming",
           "M"
          ],
          [
           "AI Product Manager",
           "Retail",
           "S"
          ],
          [
           "Machine Learning Engineer",
           "Retail",
           "L"
          ],
          [
           "Data Engineer",
           "Real Estate",
           "S"
          ],
          [
           "Principal Data Scientist",
           "Energy",
           "M"
          ],
          [
           "Machine Learning Researcher",
           "Media",
           "S"
          ],
          [
           "AI Research Scientist",
           "Government",
           "M"
          ],
          [
           "ML Ops Engineer",
           "Technology",
           "L"
          ],
          [
           "Machine Learning Researcher",
           "Energy",
           "M"
          ],
          [
           "Autonomous Systems Engineer",
           "Finance",
           "M"
          ],
          [
           "Machine Learning Researcher",
           "Education",
           "M"
          ],
          [
           "AI Research Scientist",
           "Retail",
           "S"
          ],
          [
           "AI Architect",
           "Automotive",
           "M"
          ],
          [
           "Head of AI",
           "Government",
           "S"
          ],
          [
           "AI Product Manager",
           "Retail",
           "S"
          ],
          [
           "Head of AI",
           "Real Estate",
           "L"
          ],
          [
           "AI Architect",
           "Gaming",
           "M"
          ],
          [
           "Research Scientist",
           "Consulting",
           "L"
          ],
          [
           "AI Specialist",
           "Telecommunications",
           "L"
          ],
          [
           "Machine Learning Researcher",
           "Consulting",
           "L"
          ],
          [
           "AI Specialist",
           "Transportation",
           "L"
          ],
          [
           "Computer Vision Engineer",
           "Manufacturing",
           "L"
          ],
          [
           "Deep Learning Engineer",
           "Finance",
           "S"
          ],
          [
           "AI Consultant",
           "Energy",
           "M"
          ],
          [
           "Head of AI",
           "Gaming",
           "L"
          ],
          [
           "Computer Vision Engineer",
           "Gaming",
           "M"
          ],
          [
           "Data Analyst",
           "Energy",
           "S"
          ],
          [
           "Robotics Engineer",
           "Finance",
           "S"
          ],
          [
           "Head of AI",
           "Real Estate",
           "L"
          ],
          [
           "AI Research Scientist",
           "Consulting",
           "L"
          ],
          [
           "AI Software Engineer",
           "Education",
           "S"
          ],
          [
           "Machine Learning Engineer",
           "Finance",
           "M"
          ],
          [
           "Principal Data Scientist",
           "Gaming",
           "L"
          ],
          [
           "Autonomous Systems Engineer",
           "Energy",
           "L"
          ],
          [
           "AI Architect",
           "Energy",
           "M"
          ],
          [
           "AI Software Engineer",
           "Transportation",
           "S"
          ],
          [
           "Deep Learning Engineer",
           "Education",
           "L"
          ],
          [
           "AI Consultant",
           "Retail",
           "L"
          ],
          [
           "Computer Vision Engineer",
           "Technology",
           "M"
          ],
          [
           "AI Specialist",
           "Manufacturing",
           "M"
          ],
          [
           "Deep Learning Engineer",
           "Finance",
           "L"
          ],
          [
           "AI Specialist",
           "Transportation",
           "L"
          ],
          [
           "Robotics Engineer",
           "Government",
           "L"
          ],
          [
           "Research Scientist",
           "Retail",
           "L"
          ],
          [
           "AI Product Manager",
           "Government",
           "L"
          ],
          [
           "Deep Learning Engineer",
           "Real Estate",
           "L"
          ],
          [
           "Robotics Engineer",
           "Technology",
           "M"
          ],
          [
           "NLP Engineer",
           "Consulting",
           "S"
          ],
          [
           "Data Scientist",
           "Automotive",
           "S"
          ],
          [
           "Robotics Engineer",
           "Telecommunications",
           "L"
          ],
          [
           "Data Analyst",
           "Retail",
           "M"
          ],
          [
           "AI Architect",
           "Telecommunications",
           "M"
          ],
          [
           "Data Analyst",
           "Automotive",
           "L"
          ],
          [
           "ML Ops Engineer",
           "Transportation",
           "M"
          ],
          [
           "AI Architect",
           "Gaming",
           "S"
          ],
          [
           "AI Product Manager",
           "Real Estate",
           "S"
          ],
          [
           "NLP Engineer",
           "Manufacturing",
           "M"
          ],
          [
           "AI Specialist",
           "Education",
           "M"
          ],
          [
           "Deep Learning Engineer",
           "Media",
           "S"
          ],
          [
           "Machine Learning Researcher",
           "Education",
           "S"
          ],
          [
           "ML Ops Engineer",
           "Education",
           "S"
          ],
          [
           "Head of AI",
           "Gaming",
           "M"
          ],
          [
           "Head of AI",
           "Gaming",
           "S"
          ],
          [
           "Machine Learning Researcher",
           "Telecommunications",
           "S"
          ],
          [
           "Computer Vision Engineer",
           "Government",
           "M"
          ],
          [
           "Autonomous Systems Engineer",
           "Technology",
           "L"
          ],
          [
           "NLP Engineer",
           "Retail",
           "S"
          ],
          [
           "Machine Learning Engineer",
           "Transportation",
           "L"
          ],
          [
           "Deep Learning Engineer",
           "Education",
           "M"
          ],
          [
           "Autonomous Systems Engineer",
           "Media",
           "S"
          ],
          [
           "AI Architect",
           "Gaming",
           "M"
          ],
          [
           "Robotics Engineer",
           "Retail",
           "S"
          ],
          [
           "AI Architect",
           "Finance",
           "M"
          ],
          [
           "AI Specialist",
           "Automotive",
           "L"
          ],
          [
           "Research Scientist",
           "Media",
           "M"
          ],
          [
           "Data Analyst",
           "Transportation",
           "L"
          ],
          [
           "Research Scientist",
           "Technology",
           "L"
          ],
          [
           "Head of AI",
           "Manufacturing",
           "S"
          ],
          [
           "Autonomous Systems Engineer",
           "Consulting",
           "M"
          ],
          [
           "AI Product Manager",
           "Technology",
           "M"
          ],
          [
           "AI Architect",
           "Gaming",
           "L"
          ],
          [
           "Machine Learning Engineer",
           "Consulting",
           "S"
          ],
          [
           "AI Research Scientist",
           "Healthcare",
           "M"
          ],
          [
           "Data Scientist",
           "Transportation",
           "L"
          ],
          [
           "AI Architect",
           "Consulting",
           "L"
          ],
          [
           "AI Software Engineer",
           "Automotive",
           "M"
          ],
          [
           "Machine Learning Engineer",
           "Manufacturing",
           "L"
          ],
          [
           "AI Specialist",
           "Education",
           "S"
          ],
          [
           "AI Architect",
           "Consulting",
           "L"
          ],
          [
           "Principal Data Scientist",
           "Retail",
           "S"
          ],
          [
           "Data Scientist",
           "Consulting",
           "L"
          ],
          [
           "Research Scientist",
           "Transportation",
           "L"
          ],
          [
           "AI Specialist",
           "Government",
           "S"
          ],
          [
           "Robotics Engineer",
           "Energy",
           "L"
          ],
          [
           "AI Architect",
           "Manufacturing",
           "M"
          ],
          [
           "Computer Vision Engineer",
           "Healthcare",
           "M"
          ],
          [
           "Data Engineer",
           "Automotive",
           "M"
          ],
          [
           "Deep Learning Engineer",
           "Retail",
           "L"
          ],
          [
           "AI Consultant",
           "Technology",
           "S"
          ],
          [
           "AI Research Scientist",
           "Consulting",
           "L"
          ],
          [
           "AI Product Manager",
           "Technology",
           "M"
          ],
          [
           "AI Specialist",
           "Gaming",
           "S"
          ],
          [
           "AI Software Engineer",
           "Finance",
           "M"
          ],
          [
           "Robotics Engineer",
           "Finance",
           "S"
          ],
          [
           "Data Scientist",
           "Government",
           "L"
          ],
          [
           "Head of AI",
           "Retail",
           "L"
          ],
          [
           "NLP Engineer",
           "Finance",
           "M"
          ],
          [
           "AI Product Manager",
           "Media",
           "L"
          ],
          [
           "Deep Learning Engineer",
           "Gaming",
           "S"
          ],
          [
           "Machine Learning Researcher",
           "Retail",
           "M"
          ],
          [
           "Deep Learning Engineer",
           "Technology",
           "L"
          ],
          [
           "Computer Vision Engineer",
           "Education",
           "S"
          ],
          [
           "AI Software Engineer",
           "Real Estate",
           "M"
          ],
          [
           "Machine Learning Researcher",
           "Transportation",
           "S"
          ],
          [
           "Head of AI",
           "Government",
           "L"
          ],
          [
           "Principal Data Scientist",
           "Consulting",
           "L"
          ],
          [
           "Machine Learning Researcher",
           "Transportation",
           "S"
          ],
          [
           "Data Analyst",
           "Consulting",
           "M"
          ],
          [
           "Data Scientist",
           "Finance",
           "S"
          ],
          [
           "Data Scientist",
           "Automotive",
           "L"
          ],
          [
           "AI Research Scientist",
           "Automotive",
           "S"
          ],
          [
           "AI Software Engineer",
           "Retail",
           "M"
          ],
          [
           "Head of AI",
           "Government",
           "L"
          ],
          [
           "Computer Vision Engineer",
           "Technology",
           "L"
          ],
          [
           "NLP Engineer",
           "Consulting",
           "S"
          ],
          [
           "AI Specialist",
           "Government",
           "L"
          ],
          [
           "AI Software Engineer",
           "Education",
           "M"
          ],
          [
           "AI Architect",
           "Finance",
           "M"
          ],
          [
           "Principal Data Scientist",
           "Consulting",
           "S"
          ],
          [
           "Autonomous Systems Engineer",
           "Retail",
           "M"
          ],
          [
           "Data Scientist",
           "Manufacturing",
           "L"
          ],
          [
           "Machine Learning Researcher",
           "Real Estate",
           "M"
          ],
          [
           "Head of AI",
           "Telecommunications",
           "L"
          ],
          [
           "Machine Learning Researcher",
           "Gaming",
           "L"
          ],
          [
           "Data Analyst",
           "Retail",
           "L"
          ],
          [
           "Data Analyst",
           "Healthcare",
           "S"
          ],
          [
           "AI Architect",
           "Consulting",
           "L"
          ],
          [
           "Data Analyst",
           "Education",
           "S"
          ],
          [
           "ML Ops Engineer",
           "Retail",
           "M"
          ],
          [
           "Computer Vision Engineer",
           "Automotive",
           "L"
          ],
          [
           "Research Scientist",
           "Media",
           "L"
          ],
          [
           "Principal Data Scientist",
           "Government",
           "S"
          ],
          [
           "Data Scientist",
           "Healthcare",
           "L"
          ],
          [
           "NLP Engineer",
           "Technology",
           "S"
          ],
          [
           "AI Consultant",
           "Real Estate",
           "S"
          ],
          [
           "Machine Learning Engineer",
           "Media",
           "L"
          ],
          [
           "Machine Learning Engineer",
           "Gaming",
           "S"
          ],
          [
           "AI Research Scientist",
           "Retail",
           "M"
          ],
          [
           "Autonomous Systems Engineer",
           "Retail",
           "S"
          ],
          [
           "Robotics Engineer",
           "Telecommunications",
           "S"
          ],
          [
           "NLP Engineer",
           "Education",
           "L"
          ],
          [
           "AI Product Manager",
           "Healthcare",
           "S"
          ],
          [
           "Principal Data Scientist",
           "Consulting",
           "M"
          ],
          [
           "Data Analyst",
           "Gaming",
           "M"
          ],
          [
           "Data Engineer",
           "Retail",
           "S"
          ],
          [
           "Machine Learning Researcher",
           "Transportation",
           "S"
          ],
          [
           "Principal Data Scientist",
           "Gaming",
           "M"
          ],
          [
           "Autonomous Systems Engineer",
           "Real Estate",
           "M"
          ],
          [
           "Deep Learning Engineer",
           "Consulting",
           "M"
          ],
          [
           "Autonomous Systems Engineer",
           "Real Estate",
           "M"
          ],
          [
           "AI Consultant",
           "Healthcare",
           "M"
          ],
          [
           "Autonomous Systems Engineer",
           "Healthcare",
           "M"
          ],
          [
           "Autonomous Systems Engineer",
           "Government",
           "S"
          ],
          [
           "Head of AI",
           "Transportation",
           "S"
          ],
          [
           "AI Software Engineer",
           "Education",
           "S"
          ],
          [
           "AI Architect",
           "Retail",
           "S"
          ],
          [
           "AI Software Engineer",
           "Government",
           "S"
          ],
          [
           "AI Architect",
           "Government",
           "L"
          ],
          [
           "NLP Engineer",
           "Finance",
           "M"
          ],
          [
           "ML Ops Engineer",
           "Real Estate",
           "L"
          ],
          [
           "Machine Learning Researcher",
           "Education",
           "M"
          ],
          [
           "AI Architect",
           "Telecommunications",
           "M"
          ],
          [
           "AI Specialist",
           "Media",
           "L"
          ],
          [
           "ML Ops Engineer",
           "Energy",
           "S"
          ],
          [
           "Computer Vision Engineer",
           "Finance",
           "L"
          ],
          [
           "Research Scientist",
           "Finance",
           "L"
          ],
          [
           "Head of AI",
           "Gaming",
           "S"
          ],
          [
           "AI Consultant",
           "Real Estate",
           "S"
          ],
          [
           "Principal Data Scientist",
           "Media",
           "L"
          ],
          [
           "Robotics Engineer",
           "Telecommunications",
           "S"
          ],
          [
           "Robotics Engineer",
           "Telecommunications",
           "L"
          ],
          [
           "ML Ops Engineer",
           "Technology",
           "M"
          ],
          [
           "Deep Learning Engineer",
           "Consulting",
           "L"
          ],
          [
           "Principal Data Scientist",
           "Energy",
           "L"
          ],
          [
           "AI Architect",
           "Retail",
           "L"
          ]
         ],
         "hovertemplate": "experience_level=EX<br>Years of Experience=%{x}<br>Salary (USD)=%{y}<br>benefits_score=%{marker.size}<br>job_title=%{customdata[0]}<br>industry=%{customdata[1]}<br>company_size=%{customdata[2]}<extra></extra>",
         "legendgroup": "EX",
         "marker": {
          "color": "#00cc96",
          "size": {
           "bdata": "AAAAAAAAHEBmZmZmZmYaQDMzMzMzMx1AMzMzMzMzFUDNzMzMzMwYQJqZmZmZmR1AzczMzMzMIkBmZmZmZmYhQGZmZmZmZhZAMzMzMzMzFUAzMzMzMzMhQJqZmZmZmR1AzczMzMzMIEDNzMzMzMwaQGZmZmZmZhhAMzMzMzMzG0CamZmZmZkVQGZmZmZmZhhAZmZmZmZmGEDNzMzMzMwcQAAAAAAAACFAAAAAAAAAHEBmZmZmZmYcQJqZmZmZmSFAZmZmZmZmFkBmZmZmZmYYQGZmZmZmZh5AmpmZmZmZHUAAAAAAAAAjQJqZmZmZmSFAmpmZmZmZIkDNzMzMzMwWQGZmZmZmZh5AzczMzMzMFkAzMzMzMzMgQAAAAAAAABpAZmZmZmZmFkBmZmZmZmYgQJqZmZmZmR1AzczMzMzMIkAzMzMzMzMdQGZmZmZmZiFAzczMzMzMIEBmZmZmZmYWQM3MzMzMzBpAZmZmZmZmI0CamZmZmZkhQDMzMzMzMx9AZmZmZmZmFkCamZmZmZkfQJqZmZmZmSJAAAAAAAAAGECamZmZmZkfQM3MzMzMzCFAmpmZmZmZF0CamZmZmZkgQM3MzMzMzBZAzczMzMzMGkAAAAAAAAAiQM3MzMzMzCNAzczMzMzMIUCamZmZmZkgQJqZmZmZmRVAAAAAAAAAIkAzMzMzMzMZQM3MzMzMzCNAAAAAAAAAIEAAAAAAAAAaQDMzMzMzMx9AAAAAAAAAGkCamZmZmZkZQGZmZmZmZhxAMzMzMzMzH0DNzMzMzMwiQAAAAAAAACBAmpmZmZmZHUCamZmZmZkhQAAAAAAAAB5AZmZmZmZmIECamZmZmZkgQJqZmZmZmRlAZmZmZmZmIEBmZmZmZmYcQGZmZmZmZhRAzczMzMzMFEBmZmZmZmYhQJqZmZmZmSNAzczMzMzMHkBmZmZmZmYiQAAAAAAAACBAAAAAAAAAGkAzMzMzMzMXQAAAAAAAACJAZmZmZmZmGECamZmZmZkjQM3MzMzMzBpAMzMzMzMzIEAzMzMzMzMVQJqZmZmZmSNAZmZmZmZmIkBmZmZmZmYjQAAAAAAAABhAAAAAAAAAIEAzMzMzMzMfQGZmZmZmZiJAZmZmZmZmFkAzMzMzMzMZQGZmZmZmZiJAAAAAAAAAGkAAAAAAAAAaQM3MzMzMzCJAzczMzMzMFkAAAAAAAAAiQGZmZmZmZhpAzczMzMzMFkDNzMzMzMwgQJqZmZmZmR1AAAAAAAAAI0BmZmZmZmYaQAAAAAAAACBAmpmZmZmZIUCamZmZmZkiQDMzMzMzMyJAMzMzMzMzH0BmZmZmZmYiQGZmZmZmZh5AmpmZmZmZG0BmZmZmZmYjQM3MzMzMzCBAAAAAAAAAIUBmZmZmZmYYQJqZmZmZmSJAAAAAAAAAGECamZmZmZkhQJqZmZmZmRlAmpmZmZmZFUDNzMzMzMwYQDMzMzMzMyBAZmZmZmZmI0AAAAAAAAAYQAAAAAAAACNAAAAAAAAAI0AAAAAAAAAiQDMzMzMzMxtAmpmZmZmZIkAAAAAAAAAjQJqZmZmZmSNAAAAAAAAAFkAzMzMzMzMdQGZmZmZmZiNAZmZmZmZmGkDNzMzMzMwcQM3MzMzMzCNAAAAAAAAAHECamZmZmZkVQGZmZmZmZhZAAAAAAAAAFkBmZmZmZmYiQAAAAAAAACNAzczMzMzMGEBmZmZmZmYYQGZmZmZmZiNAMzMzMzMzFUAzMzMzMzMfQAAAAAAAABZAzczMzMzMIUBmZmZmZmYiQAAAAAAAAB5AzczMzMzMI0AzMzMzMzMhQGZmZmZmZiFAZmZmZmZmIECamZmZmZkjQAAAAAAAABZAAAAAAAAAI0DNzMzMzMwgQAAAAAAAACNAAAAAAAAAFECamZmZmZkgQJqZmZmZmRdAAAAAAAAAIkAzMzMzMzMiQJqZmZmZmRdAmpmZmZmZIEAAAAAAAAAjQAAAAAAAACNAmpmZmZmZIUAAAAAAAAAaQA==",
           "dtype": "f8"
          },
          "sizemode": "area",
          "sizeref": 0.025,
          "symbol": "circle"
         },
         "mode": "markers",
         "name": "EX",
         "orientation": "v",
         "showlegend": true,
         "type": "scatter",
         "x": {
          "bdata": "DBISDw0RCwsQCgwLEAsLDRERCwsKEg0NEgsQDAwMCxINCg0LDAoTDw4QEAsKDRMKDw0PExMPDhAKEQ0PDg4REBIQCwwOChESDw8KEgoQDQ4OChISDBAODQwRDxAOEw0MDwsREwoNEwwNCgsTEBARDBEKEBEQEwwTEgoQExEREwwRDxARDQsKChMPEw8QCxELDBELDQ8SDA0KEhETDgoQCxEQEgsQExESExALDg8RCg0LExEKDxASDw8KDg0=",
          "dtype": "i1"
         },
         "xaxis": "x",
         "y": {
          "bdata": "RlcEAC0iAwC+5gMAcaMDAM6aAgCihgMA4RYEAGQqBACxJQMA7ycDAGwIBABKWAMAXQUDAMo1BABwJgMAGAQDAH+bAwBYvQIA79sCABaqAwDiZwMAszEDAHpWBADEBgMAkoAEAAStAgBDDwQAAJ8DAFTgAgDeOwMApgYEAAA5BQA3OwQAVHUCADXOAgA4YQMAI20DACWZAwA91QIAQc8DAAJkBAB5wAMASSYEAAsqBQBeGgQAIRwFALsWBQBUowQAQlcDAInTAwCy3wIAmZkDAJolBQA3iQIAonECAAgkBQA8QwMA67UDAPGnAwBC/wIAiAcDAK4gAwAHDwQAtf8DAD5mBACt8wMAWrwCAMHuAwBRrgMAL7cCAIh9AwDtoAIAR90CAP+MAgBRRAMAd3YEAHs3BQBNewMA//UEAKoKBAC7VAIAS/cDAESHAgDG/wIAntgDAELDAwA5YgMAt98CAGEDAwBrQQUAgHICAOatAwCVOAMANP8CAETiAwDT7QIAQWgDACqCBABSsQMArJkDAKclBAAKQQMABQYDAPn9AgDEDwMA7xADAP1/AgBwtAMAjRYFAM2BAwC9cwMAxUgCAFLiAwC41gMAmCIDAHoBBAD2IwMA+z4FAPTbAwCFEQMAA4sCANoJBAB07gQAYK0CACxKBAA2KgQAJc4EAAodBACRZQQA8gIEAPoMBAAKugMANAgEAEtiAwB/cQIAo78DAGUOAwCXQQUAcgsDAFZoAwDD6QIAu9gDAPDhBABG7gMAj2QDAEA1BQC9jQIALf0DAMn+AgBdKAMAZ9cDACKpAwBGNAIAnCYDADVdAwBqewQAfBcEAB/NAwAUEwQACewCAPNyAwDa5QMAY7gDAHhBAwBCLgQA2mUDAGpHAwBfqQMAsfADADPUAwC+VAMAnm4EAJBmAwBTUAMAhosDAJ2rBADW2AIA01gEAJ0YBABtEAQAOvwDANmiAwCfoQIAMy4EAFnLAwANMwQAJbAEAJVnBAA=",
          "dtype": "i4"
         },
         "yaxis": "y"
        },
        {
         "hovertemplate": "<b>OLS trendline</b><br>salary_usd = 1750.73 * years_experience + 213523<br>R<sup>2</sup>=0.011988<br><br>experience_level=EX<br>Years of Experience=%{x}<br>Salary (USD)=%{y} <b>(trend)</b><extra></extra>",
         "legendgroup": "EX",
         "marker": {
          "color": "#00cc96",
          "symbol": "circle"
         },
         "mode": "lines",
         "name": "EX",
         "showlegend": false,
         "type": "scatter",
         "x": {
          "bdata": "CgoKCgoKCgoKCgoKCgoKCgoKCgoKCgsLCwsLCwsLCwsLCwsLCwsLCwsLCwsMDAwMDAwMDAwMDAwMDAwMDQ0NDQ0NDQ0NDQ0NDQ0NDQ0NDQ4ODg4ODg4ODg4ODg8PDw8PDw8PDw8PDw8PDw8PDxAQEBAQEBAQEBAQEBAQEBAQEBAQEBAQERERERERERERERERERERERERERERERISEhISEhISEhISEhISEhITExMTExMTExMTExMTExMTExM=",
          "dtype": "i1"
         },
         "xaxis": "x",
         "y": {
          "bdata": "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",
          "dtype": "f8"
         },
         "yaxis": "y"
        },
        {
         "customdata": [
          [
           "AI Specialist",
           "Transportation",
           "S"
          ],
          [
           "NLP Engineer",
           "Retail",
           "M"
          ],
          [
           "AI Specialist",
           "Transportation",
           "L"
          ],
          [
           "Principal Data Scientist",
           "Transportation",
           "L"
          ],
          [
           "ML Ops Engineer",
           "Transportation",
           "M"
          ],
          [
           "AI Software Engineer",
           "Healthcare",
           "L"
          ],
          [
           "Data Scientist",
           "Consulting",
           "S"
          ],
          [
           "AI Product Manager",
           "Real Estate",
           "L"
          ],
          [
           "Data Scientist",
           "Consulting",
           "L"
          ],
          [
           "Machine Learning Researcher",
           "Telecommunications",
           "L"
          ],
          [
           "Data Scientist",
           "Education",
           "M"
          ],
          [
           "AI Research Scientist",
           "Energy",
           "L"
          ],
          [
           "Machine Learning Engineer",
           "Government",
           "S"
          ],
          [
           "AI Consultant",
           "Consulting",
           "S"
          ],
          [
           "AI Architect",
           "Energy",
           "S"
          ],
          [
           "Principal Data Scientist",
           "Healthcare",
           "S"
          ],
          [
           "ML Ops Engineer",
           "Technology",
           "S"
          ],
          [
           "ML Ops Engineer",
           "Media",
           "S"
          ],
          [
           "Data Scientist",
           "Retail",
           "M"
          ],
          [
           "Data Analyst",
           "Education",
           "M"
          ],
          [
           "AI Product Manager",
           "Healthcare",
           "S"
          ],
          [
           "Data Analyst",
           "Consulting",
           "L"
          ],
          [
           "AI Product Manager",
           "Healthcare",
           "M"
          ],
          [
           "AI Research Scientist",
           "Healthcare",
           "L"
          ],
          [
           "AI Consultant",
           "Transportation",
           "S"
          ],
          [
           "AI Product Manager",
           "Manufacturing",
           "S"
          ],
          [
           "Principal Data Scientist",
           "Education",
           "L"
          ],
          [
           "Data Analyst",
           "Transportation",
           "L"
          ],
          [
           "Data Analyst",
           "Technology",
           "L"
          ],
          [
           "Data Engineer",
           "Retail",
           "M"
          ],
          [
           "Data Engineer",
           "Gaming",
           "S"
          ],
          [
           "Autonomous Systems Engineer",
           "Consulting",
           "L"
          ],
          [
           "Research Scientist",
           "Retail",
           "S"
          ],
          [
           "Head of AI",
           "Real Estate",
           "S"
          ],
          [
           "AI Product Manager",
           "Technology",
           "M"
          ],
          [
           "Machine Learning Engineer",
           "Education",
           "S"
          ],
          [
           "Machine Learning Engineer",
           "Consulting",
           "L"
          ],
          [
           "AI Specialist",
           "Energy",
           "L"
          ],
          [
           "Principal Data Scientist",
           "Manufacturing",
           "M"
          ],
          [
           "Robotics Engineer",
           "Education",
           "M"
          ],
          [
           "Research Scientist",
           "Manufacturing",
           "S"
          ],
          [
           "Data Scientist",
           "Technology",
           "S"
          ],
          [
           "Research Scientist",
           "Transportation",
           "S"
          ],
          [
           "NLP Engineer",
           "Manufacturing",
           "L"
          ],
          [
           "Data Engineer",
           "Media",
           "S"
          ],
          [
           "AI Software Engineer",
           "Automotive",
           "S"
          ],
          [
           "NLP Engineer",
           "Manufacturing",
           "S"
          ],
          [
           "Data Scientist",
           "Healthcare",
           "M"
          ],
          [
           "AI Research Scientist",
           "Automotive",
           "S"
          ],
          [
           "Head of AI",
           "Education",
           "L"
          ],
          [
           "Robotics Engineer",
           "Technology",
           "L"
          ],
          [
           "Data Analyst",
           "Automotive",
           "M"
          ],
          [
           "AI Research Scientist",
           "Energy",
           "M"
          ],
          [
           "Data Engineer",
           "Media",
           "M"
          ],
          [
           "Machine Learning Researcher",
           "Education",
           "L"
          ],
          [
           "ML Ops Engineer",
           "Gaming",
           "S"
          ],
          [
           "Robotics Engineer",
           "Energy",
           "S"
          ],
          [
           "Deep Learning Engineer",
           "Media",
           "M"
          ],
          [
           "Data Engineer",
           "Energy",
           "L"
          ],
          [
           "AI Specialist",
           "Telecommunications",
           "S"
          ],
          [
           "Head of AI",
           "Media",
           "L"
          ],
          [
           "Principal Data Scientist",
           "Real Estate",
           "L"
          ],
          [
           "AI Consultant",
           "Government",
           "S"
          ],
          [
           "Principal Data Scientist",
           "Finance",
           "S"
          ],
          [
           "Data Scientist",
           "Manufacturing",
           "M"
          ],
          [
           "Data Engineer",
           "Transportation",
           "L"
          ],
          [
           "AI Research Scientist",
           "Transportation",
           "S"
          ],
          [
           "AI Specialist",
           "Automotive",
           "S"
          ],
          [
           "AI Consultant",
           "Transportation",
           "M"
          ],
          [
           "Deep Learning Engineer",
           "Energy",
           "M"
          ],
          [
           "Data Analyst",
           "Consulting",
           "M"
          ],
          [
           "Robotics Engineer",
           "Consulting",
           "L"
          ],
          [
           "Principal Data Scientist",
           "Automotive",
           "S"
          ],
          [
           "Data Scientist",
           "Healthcare",
           "L"
          ],
          [
           "Robotics Engineer",
           "Consulting",
           "S"
          ],
          [
           "Machine Learning Engineer",
           "Gaming",
           "L"
          ],
          [
           "AI Consultant",
           "Telecommunications",
           "L"
          ],
          [
           "AI Specialist",
           "Healthcare",
           "L"
          ],
          [
           "Deep Learning Engineer",
           "Transportation",
           "M"
          ],
          [
           "AI Architect",
           "Technology",
           "S"
          ],
          [
           "Data Scientist",
           "Education",
           "L"
          ],
          [
           "Autonomous Systems Engineer",
           "Energy",
           "M"
          ],
          [
           "Head of AI",
           "Education",
           "L"
          ],
          [
           "AI Software Engineer",
           "Transportation",
           "L"
          ],
          [
           "Data Analyst",
           "Automotive",
           "L"
          ],
          [
           "Robotics Engineer",
           "Healthcare",
           "S"
          ],
          [
           "AI Specialist",
           "Automotive",
           "L"
          ],
          [
           "Head of AI",
           "Consulting",
           "S"
          ],
          [
           "Data Engineer",
           "Energy",
           "L"
          ],
          [
           "Machine Learning Researcher",
           "Technology",
           "M"
          ],
          [
           "Research Scientist",
           "Transportation",
           "M"
          ],
          [
           "ML Ops Engineer",
           "Healthcare",
           "M"
          ],
          [
           "Head of AI",
           "Media",
           "L"
          ],
          [
           "AI Specialist",
           "Gaming",
           "M"
          ],
          [
           "Robotics Engineer",
           "Government",
           "S"
          ],
          [
           "AI Software Engineer",
           "Energy",
           "L"
          ],
          [
           "Data Analyst",
           "Transportation",
           "L"
          ],
          [
           "Research Scientist",
           "Telecommunications",
           "M"
          ],
          [
           "AI Research Scientist",
           "Consulting",
           "L"
          ],
          [
           "Principal Data Scientist",
           "Transportation",
           "L"
          ],
          [
           "NLP Engineer",
           "Education",
           "S"
          ],
          [
           "Head of AI",
           "Government",
           "S"
          ],
          [
           "Data Analyst",
           "Manufacturing",
           "S"
          ],
          [
           "Research Scientist",
           "Manufacturing",
           "M"
          ],
          [
           "Deep Learning Engineer",
           "Retail",
           "L"
          ],
          [
           "Deep Learning Engineer",
           "Manufacturing",
           "M"
          ],
          [
           "Data Scientist",
           "Transportation",
           "M"
          ],
          [
           "AI Specialist",
           "Energy",
           "L"
          ],
          [
           "Computer Vision Engineer",
           "Consulting",
           "L"
          ],
          [
           "Data Scientist",
           "Energy",
           "L"
          ],
          [
           "AI Product Manager",
           "Manufacturing",
           "S"
          ],
          [
           "Data Engineer",
           "Education",
           "M"
          ],
          [
           "Principal Data Scientist",
           "Retail",
           "L"
          ],
          [
           "Deep Learning Engineer",
           "Telecommunications",
           "M"
          ],
          [
           "AI Software Engineer",
           "Consulting",
           "L"
          ],
          [
           "AI Software Engineer",
           "Telecommunications",
           "S"
          ],
          [
           "Principal Data Scientist",
           "Manufacturing",
           "L"
          ],
          [
           "Machine Learning Engineer",
           "Automotive",
           "S"
          ],
          [
           "Autonomous Systems Engineer",
           "Manufacturing",
           "M"
          ],
          [
           "Machine Learning Researcher",
           "Retail",
           "S"
          ],
          [
           "Data Engineer",
           "Telecommunications",
           "L"
          ],
          [
           "AI Software Engineer",
           "Healthcare",
           "M"
          ],
          [
           "Computer Vision Engineer",
           "Real Estate",
           "M"
          ],
          [
           "ML Ops Engineer",
           "Energy",
           "L"
          ],
          [
           "Robotics Engineer",
           "Telecommunications",
           "L"
          ],
          [
           "ML Ops Engineer",
           "Media",
           "M"
          ],
          [
           "Data Analyst",
           "Technology",
           "M"
          ],
          [
           "Deep Learning Engineer",
           "Finance",
           "M"
          ],
          [
           "Data Analyst",
           "Education",
           "M"
          ],
          [
           "Data Engineer",
           "Education",
           "M"
          ],
          [
           "Data Analyst",
           "Telecommunications",
           "M"
          ],
          [
           "NLP Engineer",
           "Automotive",
           "M"
          ],
          [
           "AI Architect",
           "Energy",
           "S"
          ],
          [
           "Computer Vision Engineer",
           "Technology",
           "M"
          ],
          [
           "AI Product Manager",
           "Manufacturing",
           "L"
          ],
          [
           "ML Ops Engineer",
           "Retail",
           "S"
          ],
          [
           "Data Engineer",
           "Technology",
           "L"
          ],
          [
           "AI Specialist",
           "Automotive",
           "S"
          ],
          [
           "AI Product Manager",
           "Gaming",
           "S"
          ],
          [
           "Robotics Engineer",
           "Education",
           "M"
          ],
          [
           "Principal Data Scientist",
           "Energy",
           "M"
          ],
          [
           "AI Consultant",
           "Consulting",
           "L"
          ],
          [
           "Deep Learning Engineer",
           "Consulting",
           "M"
          ],
          [
           "Principal Data Scientist",
           "Finance",
           "L"
          ],
          [
           "Head of AI",
           "Government",
           "L"
          ],
          [
           "Data Engineer",
           "Real Estate",
           "L"
          ],
          [
           "AI Software Engineer",
           "Real Estate",
           "S"
          ],
          [
           "Head of AI",
           "Gaming",
           "S"
          ],
          [
           "ML Ops Engineer",
           "Government",
           "L"
          ],
          [
           "AI Architect",
           "Finance",
           "L"
          ],
          [
           "AI Software Engineer",
           "Retail",
           "S"
          ],
          [
           "Data Engineer",
           "Manufacturing",
           "L"
          ],
          [
           "AI Architect",
           "Gaming",
           "L"
          ],
          [
           "Robotics Engineer",
           "Automotive",
           "M"
          ],
          [
           "AI Specialist",
           "Automotive",
           "S"
          ],
          [
           "Autonomous Systems Engineer",
           "Healthcare",
           "S"
          ],
          [
           "AI Research Scientist",
           "Telecommunications",
           "L"
          ],
          [
           "Machine Learning Engineer",
           "Gaming",
           "M"
          ],
          [
           "Head of AI",
           "Manufacturing",
           "M"
          ],
          [
           "AI Product Manager",
           "Education",
           "M"
          ],
          [
           "Robotics Engineer",
           "Gaming",
           "M"
          ],
          [
           "AI Consultant",
           "Energy",
           "S"
          ],
          [
           "Machine Learning Engineer",
           "Manufacturing",
           "S"
          ],
          [
           "Head of AI",
           "Government",
           "M"
          ],
          [
           "Computer Vision Engineer",
           "Finance",
           "L"
          ],
          [
           "Head of AI",
           "Technology",
           "L"
          ],
          [
           "AI Consultant",
           "Consulting",
           "S"
          ],
          [
           "ML Ops Engineer",
           "Transportation",
           "S"
          ],
          [
           "AI Research Scientist",
           "Automotive",
           "M"
          ],
          [
           "Autonomous Systems Engineer",
           "Education",
           "S"
          ],
          [
           "Data Analyst",
           "Real Estate",
           "L"
          ],
          [
           "ML Ops Engineer",
           "Gaming",
           "L"
          ],
          [
           "Data Engineer",
           "Technology",
           "L"
          ],
          [
           "Computer Vision Engineer",
           "Automotive",
           "L"
          ]
         ],
         "hovertemplate": "experience_level=EN<br>Years of Experience=%{x}<br>Salary (USD)=%{y}<br>benefits_score=%{marker.size}<br>job_title=%{customdata[0]}<br>industry=%{customdata[1]}<br>company_size=%{customdata[2]}<extra></extra>",
         "legendgroup": "EN",
         "marker": {
          "color": "#ab63fa",
          "size": {
           "bdata": "AAAAAAAAHECamZmZmZkbQM3MzMzMzCJAzczMzMzMIECamZmZmZkgQM3MzMzMzCBAZmZmZmZmIEAzMzMzMzMgQGZmZmZmZiJAZmZmZmZmHEBmZmZmZmYYQAAAAAAAACRAZmZmZmZmHEAzMzMzMzMhQJqZmZmZmR1AmpmZmZmZG0AzMzMzMzMbQM3MzMzMzCFAmpmZmZmZF0DNzMzMzMwWQM3MzMzMzCJAMzMzMzMzI0DNzMzMzMwhQJqZmZmZmR9AmpmZmZmZGUCamZmZmZkjQM3MzMzMzBhAAAAAAAAAIUBmZmZmZmYhQM3MzMzMzBpAmpmZmZmZI0CamZmZmZkiQJqZmZmZmSBAMzMzMzMzIEAAAAAAAAAgQGZmZmZmZhxAAAAAAAAAJEDNzMzMzMwhQGZmZmZmZh5AMzMzMzMzIEAAAAAAAAAhQJqZmZmZmRVAZmZmZmZmFEDNzMzMzMwgQM3MzMzMzCJAZmZmZmZmIkDNzMzMzMwiQAAAAAAAABZAzczMzMzMIkCamZmZmZkjQJqZmZmZmR1AZmZmZmZmIEAAAAAAAAAYQM3MzMzMzBpAmpmZmZmZG0AAAAAAAAAYQAAAAAAAABZAZmZmZmZmFECamZmZmZkVQJqZmZmZmRVAZmZmZmZmI0AAAAAAAAAiQDMzMzMzMx9AMzMzMzMzF0CamZmZmZkbQDMzMzMzMxdAMzMzMzMzIUDNzMzMzMwhQM3MzMzMzBxAzczMzMzMIkAAAAAAAAAiQDMzMzMzMxlAZmZmZmZmIkCamZmZmZkbQAAAAAAAACJAzczMzMzMIEAzMzMzMzMjQJqZmZmZmR1AMzMzMzMzF0BmZmZmZmYiQGZmZmZmZiJAZmZmZmZmFkDNzMzMzMwWQM3MzMzMzBhAmpmZmZmZIUAzMzMzMzMbQGZmZmZmZhZAZmZmZmZmHEAAAAAAAAAaQDMzMzMzMyNAmpmZmZmZFUBmZmZmZmYaQAAAAAAAACBAzczMzMzMIUAzMzMzMzMhQJqZmZmZmSNAZmZmZmZmIkAzMzMzMzMdQM3MzMzMzBZAAAAAAAAAIkDNzMzMzMwUQDMzMzMzMyBAAAAAAAAAFkAAAAAAAAAWQM3MzMzMzB5AZmZmZmZmHkAzMzMzMzMjQJqZmZmZmSFAmpmZmZmZFUDNzMzMzMwaQJqZmZmZmR9AZmZmZmZmFEAAAAAAAAAhQAAAAAAAAB5AMzMzMzMzIkAAAAAAAAAiQM3MzMzMzBZAMzMzMzMzHUDNzMzMzMwWQDMzMzMzMxlAZmZmZmZmFkBmZmZmZmYhQDMzMzMzMyJAmpmZmZmZIkAAAAAAAAAjQAAAAAAAACNAmpmZmZmZFUBmZmZmZmYjQGZmZmZmZiNAZmZmZmZmIEAzMzMzMzMiQGZmZmZmZhpAZmZmZmZmI0AAAAAAAAAYQAAAAAAAABxAZmZmZmZmFEBmZmZmZmYcQAAAAAAAAB5AzczMzMzMIEBmZmZmZmYiQJqZmZmZmSFAmpmZmZmZHUCamZmZmZkgQM3MzMzMzBRAAAAAAAAAI0BmZmZmZmYaQM3MzMzMzBxAzczMzMzMIECamZmZmZkiQDMzMzMzMyJAzczMzMzMIUAzMzMzMzMhQAAAAAAAACJAMzMzMzMzFUBmZmZmZmYgQDMzMzMzMxtAAAAAAAAAI0AAAAAAAAAUQGZmZmZmZhpAmpmZmZmZF0CamZmZmZkfQDMzMzMzMxtAAAAAAAAAGEBmZmZmZmYYQAAAAAAAACFAmpmZmZmZIUBmZmZmZmYeQM3MzMzMzCNAAAAAAAAAFEDNzMzMzMwUQM3MzMzMzBZAZmZmZmZmI0CamZmZmZkgQM3MzMzMzCJA",
           "dtype": "f8"
          },
          "sizemode": "area",
          "sizeref": 0.025,
          "symbol": "circle"
         },
         "mode": "markers",
         "name": "EN",
         "orientation": "v",
         "showlegend": true,
         "type": "scatter",
         "x": {
          "bdata": "AAAAAAABAAEBAAEBAQEAAQAAAQEBAQEBAQABAQABAQEAAAABAQEAAAABAQEBAQEAAAEBAQEAAAAAAQAAAQABAQAAAAEBAAABAQEAAAEBAQEBAAEAAQEAAQEAAAEAAQAAAQEAAQEBAAEBAAABAAEBAAAAAAAAAQAAAQEBAAABAAAAAQEBAQEBAAEBAAEAAAEAAQAAAQABAQABAAAAAAEAAQAAAAEBAAEBAAABAQAB",
          "dtype": "i1"
         },
         "xaxis": "x",
         "y": {
          "bdata": "GhEBAH/uAAB2gAEArxABAEssAQBcbwEAyv4AAFegAQDhggEAtosBAIZyAQC1UQEAMvkAAPTwAACcHwEApgoBAOQ2AQDaLQEAl10BAL/yAACkMQEAgJIBAFonAQCCbwEAkSIBAOswAQArqQEAuj4BAFxPAQBjVAEArBUBADsoAQAuLAEAfDUBAGcsAQCS3wAA8zoBAP2jAQAtLAEAslwBAM0XAQA+KQEAMRYBABIQAQC69QAAWPMAAKz4AAChEgEARTcBACdqAQAidwEAfQUBAC8QAQDDDQEA5GQBAJ8OAQBo3AAAzzsBAPVvAQA6+gAA1m8BADcjAQDtKgEAXzUBAPwTAQAGSAEAUjoBAEoFAQBMLwEAMUEBAIcsAQBSQgEAbyEBANMdAQDdMgEAnVcBAJo4AQApjgEAdiQBAF4SAQAdigEAnUwBANBNAQAxkwEAPpwBAAgJAQBMUwEACxQBAPioAQAqNQEA8PUAAMJjAQCKSwEAoCABADoWAQCaQgEAt1kBAMIZAQDKbQEAX20BAFBJAQAJNAEA2S8BAJhRAQDhFwEAwwkBAM7/AADZPwEAmycBAAcQAQA5GAEAjPwAABc2AQDXCwEAAp0BAPQoAQCRRQEAqRsBAKgoAQBgRQEAA34BAApAAQAjbAEAvT4BAK1WAQA47QAAxzwBANfsAADHFgEAnWMBAGwWAQBDQgEAdzUBACY4AQAUpwEA0OgAACgoAQB/PAEAShIBALsNAQAINQEABZkBALdHAQDmRwEA26ABAJEdAQBQJgEAShsBAGmWAQC1lwEACTMBAJxqAQBMiwEAkXIBAJXzAACbDwEAWUQBAB9QAQCJbQEASm8BAIhvAQDw1AAA6xgBAJ4UAQCyWgEAtiIBAKkMAQAH8AAAMCABABPWAACTcgEAfDMBAF6eAQCwVgEA",
          "dtype": "i4"
         },
         "yaxis": "y"
        },
        {
         "hovertemplate": "<b>OLS trendline</b><br>salary_usd = 3201.63 * years_experience + 78632.9<br>R<sup>2</sup>=0.015653<br><br>experience_level=EN<br>Years of Experience=%{x}<br>Salary (USD)=%{y} <b>(trend)</b><extra></extra>",
         "legendgroup": "EN",
         "marker": {
          "color": "#ab63fa",
          "symbol": "circle"
         },
         "mode": "lines",
         "name": "EN",
         "showlegend": false,
         "type": "scatter",
         "x": {
          "bdata": "AAAAAAAAAAAAAAAAAAAAAAAAAAAAAAAAAAAAAAAAAAAAAAAAAAAAAAAAAAAAAAAAAAAAAAAAAAAAAAAAAAAAAAAAAAAAAAAAAAAAAAAAAAAAAQEBAQEBAQEBAQEBAQEBAQEBAQEBAQEBAQEBAQEBAQEBAQEBAQEBAQEBAQEBAQEBAQEBAQEBAQEBAQEBAQEBAQEBAQEBAQEBAQEBAQEBAQEBAQEBAQEBAQEBAQEB",
          "dtype": "i1"
         },
         "xaxis": "x",
         "y": {
          "bdata": "O47jOI4y80A7juM4jjLzQDuO4ziOMvNAO47jOI4y80A7juM4jjLzQDuO4ziOMvNAO47jOI4y80A7juM4jjLzQDuO4ziOMvNAO47jOI4y80A7juM4jjLzQDuO4ziOMvNAO47jOI4y80A7juM4jjLzQDuO4ziOMvNAO47jOI4y80A7juM4jjLzQDuO4ziOMvNAO47jOI4y80A7juM4jjLzQDuO4ziOMvNAO47jOI4y80A7juM4jjLzQDuO4ziOMvNAO47jOI4y80A7juM4jjLzQDuO4ziOMvNAO47jOI4y80A7juM4jjLzQDuO4ziOMvNAO47jOI4y80A7juM4jjLzQDuO4ziOMvNAO47jOI4y80A7juM4jjLzQDuO4ziOMvNAO47jOI4y80A7juM4jjLzQDuO4ziOMvNAO47jOI4y80A7juM4jjLzQDuO4ziOMvNAO47jOI4y80A7juM4jjLzQDuO4ziOMvNAO47jOI4y80A7juM4jjLzQDuO4ziOMvNAO47jOI4y80A7juM4jjLzQDuO4ziOMvNAO47jOI4y80A7juM4jjLzQDuO4ziOMvNAO47jOI4y80A7juM4jjLzQDuO4ziOMvNAO47jOI4y80A7juM4jjLzQDuO4ziOMvNAO47jOI4y80A7juM4jjLzQDuO4ziOMvNAO47jOI4y80A7juM4jjLzQDuO4ziOMvNAO47jOI4y80A7juM4jjLzQDuO4ziOMvNAO47jOI4y80A7juM4jjLzQDuO4ziOMvNAO47jOI4y80A7juM4jjLzQDuO4ziOMvNAO47jOI4y80A7juM4jjLzQDuO4ziOMvNAO47jOI4y80A7juM4jjLzQDuO4ziOMvNAI4QQQqj680AjhBBCqPrzQCOEEEKo+vNAI4QQQqj680AjhBBCqPrzQCOEEEKo+vNAI4QQQqj680AjhBBCqPrzQCOEEEKo+vNAI4QQQqj680AjhBBCqPrzQCOEEEKo+vNAI4QQQqj680AjhBBCqPrzQCOEEEKo+vNAI4QQQqj680AjhBBCqPrzQCOEEEKo+vNAI4QQQqj680AjhBBCqPrzQCOEEEKo+vNAI4QQQqj680AjhBBCqPrzQCOEEEKo+vNAI4QQQqj680AjhBBCqPrzQCOEEEKo+vNAI4QQQqj680AjhBBCqPrzQCOEEEKo+vNAI4QQQqj680AjhBBCqPrzQCOEEEKo+vNAI4QQQqj680AjhBBCqPrzQCOEEEKo+vNAI4QQQqj680AjhBBCqPrzQCOEEEKo+vNAI4QQQqj680AjhBBCqPrzQCOEEEKo+vNAI4QQQqj680AjhBBCqPrzQCOEEEKo+vNAI4QQQqj680AjhBBCqPrzQCOEEEKo+vNAI4QQQqj680AjhBBCqPrzQCOEEEKo+vNAI4QQQqj680AjhBBCqPrzQCOEEEKo+vNAI4QQQqj680AjhBBCqPrzQCOEEEKo+vNAI4QQQqj680AjhBBCqPrzQCOEEEKo+vNAI4QQQqj680AjhBBCqPrzQCOEEEKo+vNAI4QQQqj680AjhBBCqPrzQCOEEEKo+vNAI4QQQqj680AjhBBCqPrzQCOEEEKo+vNAI4QQQqj680AjhBBCqPrzQCOEEEKo+vNAI4QQQqj680AjhBBCqPrzQCOEEEKo+vNAI4QQQqj680AjhBBCqPrzQCOEEEKo+vNAI4QQQqj680AjhBBCqPrzQCOEEEKo+vNAI4QQQqj680AjhBBCqPrzQCOEEEKo+vNAI4QQQqj680AjhBBCqPrzQCOEEEKo+vNAI4QQQqj680AjhBBCqPrzQCOEEEKo+vNAI4QQQqj680AjhBBCqPrzQCOEEEKo+vNA",
          "dtype": "f8"
         },
         "yaxis": "y"
        }
       ],
       "layout": {
        "height": 600,
        "legend": {
         "itemsizing": "constant",
         "title": {
          "text": "experience_level"
         },
         "tracegroupgap": 0
        },
        "template": {
         "data": {
          "bar": [
           {
            "error_x": {
             "color": "#2a3f5f"
            },
            "error_y": {
             "color": "#2a3f5f"
            },
            "marker": {
             "line": {
              "color": "#E5ECF6",
              "width": 0.5
             },
             "pattern": {
              "fillmode": "overlay",
              "size": 10,
              "solidity": 0.2
             }
            },
            "type": "bar"
           }
          ],
          "barpolar": [
           {
            "marker": {
             "line": {
              "color": "#E5ECF6",
              "width": 0.5
             },
             "pattern": {
              "fillmode": "overlay",
              "size": 10,
              "solidity": 0.2
             }
            },
            "type": "barpolar"
           }
          ],
          "carpet": [
           {
            "aaxis": {
             "endlinecolor": "#2a3f5f",
             "gridcolor": "white",
             "linecolor": "white",
             "minorgridcolor": "white",
             "startlinecolor": "#2a3f5f"
            },
            "baxis": {
             "endlinecolor": "#2a3f5f",
             "gridcolor": "white",
             "linecolor": "white",
             "minorgridcolor": "white",
             "startlinecolor": "#2a3f5f"
            },
            "type": "carpet"
           }
          ],
          "choropleth": [
           {
            "colorbar": {
             "outlinewidth": 0,
             "ticks": ""
            },
            "type": "choropleth"
           }
          ],
          "contour": [
           {
            "colorbar": {
             "outlinewidth": 0,
             "ticks": ""
            },
            "colorscale": [
             [
              0,
              "#0d0887"
             ],
             [
              0.1111111111111111,
              "#46039f"
             ],
             [
              0.2222222222222222,
              "#7201a8"
             ],
             [
              0.3333333333333333,
              "#9c179e"
             ],
             [
              0.4444444444444444,
              "#bd3786"
             ],
             [
              0.5555555555555556,
              "#d8576b"
             ],
             [
              0.6666666666666666,
              "#ed7953"
             ],
             [
              0.7777777777777778,
              "#fb9f3a"
             ],
             [
              0.8888888888888888,
              "#fdca26"
             ],
             [
              1,
              "#f0f921"
             ]
            ],
            "type": "contour"
           }
          ],
          "contourcarpet": [
           {
            "colorbar": {
             "outlinewidth": 0,
             "ticks": ""
            },
            "type": "contourcarpet"
           }
          ],
          "heatmap": [
           {
            "colorbar": {
             "outlinewidth": 0,
             "ticks": ""
            },
            "colorscale": [
             [
              0,
              "#0d0887"
             ],
             [
              0.1111111111111111,
              "#46039f"
             ],
             [
              0.2222222222222222,
              "#7201a8"
             ],
             [
              0.3333333333333333,
              "#9c179e"
             ],
             [
              0.4444444444444444,
              "#bd3786"
             ],
             [
              0.5555555555555556,
              "#d8576b"
             ],
             [
              0.6666666666666666,
              "#ed7953"
             ],
             [
              0.7777777777777778,
              "#fb9f3a"
             ],
             [
              0.8888888888888888,
              "#fdca26"
             ],
             [
              1,
              "#f0f921"
             ]
            ],
            "type": "heatmap"
           }
          ],
          "histogram": [
           {
            "marker": {
             "pattern": {
              "fillmode": "overlay",
              "size": 10,
              "solidity": 0.2
             }
            },
            "type": "histogram"
           }
          ],
          "histogram2d": [
           {
            "colorbar": {
             "outlinewidth": 0,
             "ticks": ""
            },
            "colorscale": [
             [
              0,
              "#0d0887"
             ],
             [
              0.1111111111111111,
              "#46039f"
             ],
             [
              0.2222222222222222,
              "#7201a8"
             ],
             [
              0.3333333333333333,
              "#9c179e"
             ],
             [
              0.4444444444444444,
              "#bd3786"
             ],
             [
              0.5555555555555556,
              "#d8576b"
             ],
             [
              0.6666666666666666,
              "#ed7953"
             ],
             [
              0.7777777777777778,
              "#fb9f3a"
             ],
             [
              0.8888888888888888,
              "#fdca26"
             ],
             [
              1,
              "#f0f921"
             ]
            ],
            "type": "histogram2d"
           }
          ],
          "histogram2dcontour": [
           {
            "colorbar": {
             "outlinewidth": 0,
             "ticks": ""
            },
            "colorscale": [
             [
              0,
              "#0d0887"
             ],
             [
              0.1111111111111111,
              "#46039f"
             ],
             [
              0.2222222222222222,
              "#7201a8"
             ],
             [
              0.3333333333333333,
              "#9c179e"
             ],
             [
              0.4444444444444444,
              "#bd3786"
             ],
             [
              0.5555555555555556,
              "#d8576b"
             ],
             [
              0.6666666666666666,
              "#ed7953"
             ],
             [
              0.7777777777777778,
              "#fb9f3a"
             ],
             [
              0.8888888888888888,
              "#fdca26"
             ],
             [
              1,
              "#f0f921"
             ]
            ],
            "type": "histogram2dcontour"
           }
          ],
          "mesh3d": [
           {
            "colorbar": {
             "outlinewidth": 0,
             "ticks": ""
            },
            "type": "mesh3d"
           }
          ],
          "parcoords": [
           {
            "line": {
             "colorbar": {
              "outlinewidth": 0,
              "ticks": ""
             }
            },
            "type": "parcoords"
           }
          ],
          "pie": [
           {
            "automargin": true,
            "type": "pie"
           }
          ],
          "scatter": [
           {
            "fillpattern": {
             "fillmode": "overlay",
             "size": 10,
             "solidity": 0.2
            },
            "type": "scatter"
           }
          ],
          "scatter3d": [
           {
            "line": {
             "colorbar": {
              "outlinewidth": 0,
              "ticks": ""
             }
            },
            "marker": {
             "colorbar": {
              "outlinewidth": 0,
              "ticks": ""
             }
            },
            "type": "scatter3d"
           }
          ],
          "scattercarpet": [
           {
            "marker": {
             "colorbar": {
              "outlinewidth": 0,
              "ticks": ""
             }
            },
            "type": "scattercarpet"
           }
          ],
          "scattergeo": [
           {
            "marker": {
             "colorbar": {
              "outlinewidth": 0,
              "ticks": ""
             }
            },
            "type": "scattergeo"
           }
          ],
          "scattergl": [
           {
            "marker": {
             "colorbar": {
              "outlinewidth": 0,
              "ticks": ""
             }
            },
            "type": "scattergl"
           }
          ],
          "scattermap": [
           {
            "marker": {
             "colorbar": {
              "outlinewidth": 0,
              "ticks": ""
             }
            },
            "type": "scattermap"
           }
          ],
          "scattermapbox": [
           {
            "marker": {
             "colorbar": {
              "outlinewidth": 0,
              "ticks": ""
             }
            },
            "type": "scattermapbox"
           }
          ],
          "scatterpolar": [
           {
            "marker": {
             "colorbar": {
              "outlinewidth": 0,
              "ticks": ""
             }
            },
            "type": "scatterpolar"
           }
          ],
          "scatterpolargl": [
           {
            "marker": {
             "colorbar": {
              "outlinewidth": 0,
              "ticks": ""
             }
            },
            "type": "scatterpolargl"
           }
          ],
          "scatterternary": [
           {
            "marker": {
             "colorbar": {
              "outlinewidth": 0,
              "ticks": ""
             }
            },
            "type": "scatterternary"
           }
          ],
          "surface": [
           {
            "colorbar": {
             "outlinewidth": 0,
             "ticks": ""
            },
            "colorscale": [
             [
              0,
              "#0d0887"
             ],
             [
              0.1111111111111111,
              "#46039f"
             ],
             [
              0.2222222222222222,
              "#7201a8"
             ],
             [
              0.3333333333333333,
              "#9c179e"
             ],
             [
              0.4444444444444444,
              "#bd3786"
             ],
             [
              0.5555555555555556,
              "#d8576b"
             ],
             [
              0.6666666666666666,
              "#ed7953"
             ],
             [
              0.7777777777777778,
              "#fb9f3a"
             ],
             [
              0.8888888888888888,
              "#fdca26"
             ],
             [
              1,
              "#f0f921"
             ]
            ],
            "type": "surface"
           }
          ],
          "table": [
           {
            "cells": {
             "fill": {
              "color": "#EBF0F8"
             },
             "line": {
              "color": "white"
             }
            },
            "header": {
             "fill": {
              "color": "#C8D4E3"
             },
             "line": {
              "color": "white"
             }
            },
            "type": "table"
           }
          ]
         },
         "layout": {
          "annotationdefaults": {
           "arrowcolor": "#2a3f5f",
           "arrowhead": 0,
           "arrowwidth": 1
          },
          "autotypenumbers": "strict",
          "coloraxis": {
           "colorbar": {
            "outlinewidth": 0,
            "ticks": ""
           }
          },
          "colorscale": {
           "diverging": [
            [
             0,
             "#8e0152"
            ],
            [
             0.1,
             "#c51b7d"
            ],
            [
             0.2,
             "#de77ae"
            ],
            [
             0.3,
             "#f1b6da"
            ],
            [
             0.4,
             "#fde0ef"
            ],
            [
             0.5,
             "#f7f7f7"
            ],
            [
             0.6,
             "#e6f5d0"
            ],
            [
             0.7,
             "#b8e186"
            ],
            [
             0.8,
             "#7fbc41"
            ],
            [
             0.9,
             "#4d9221"
            ],
            [
             1,
             "#276419"
            ]
           ],
           "sequential": [
            [
             0,
             "#0d0887"
            ],
            [
             0.1111111111111111,
             "#46039f"
            ],
            [
             0.2222222222222222,
             "#7201a8"
            ],
            [
             0.3333333333333333,
             "#9c179e"
            ],
            [
             0.4444444444444444,
             "#bd3786"
            ],
            [
             0.5555555555555556,
             "#d8576b"
            ],
            [
             0.6666666666666666,
             "#ed7953"
            ],
            [
             0.7777777777777778,
             "#fb9f3a"
            ],
            [
             0.8888888888888888,
             "#fdca26"
            ],
            [
             1,
             "#f0f921"
            ]
           ],
           "sequentialminus": [
            [
             0,
             "#0d0887"
            ],
            [
             0.1111111111111111,
             "#46039f"
            ],
            [
             0.2222222222222222,
             "#7201a8"
            ],
            [
             0.3333333333333333,
             "#9c179e"
            ],
            [
             0.4444444444444444,
             "#bd3786"
            ],
            [
             0.5555555555555556,
             "#d8576b"
            ],
            [
             0.6666666666666666,
             "#ed7953"
            ],
            [
             0.7777777777777778,
             "#fb9f3a"
            ],
            [
             0.8888888888888888,
             "#fdca26"
            ],
            [
             1,
             "#f0f921"
            ]
           ]
          },
          "colorway": [
           "#636efa",
           "#EF553B",
           "#00cc96",
           "#ab63fa",
           "#FFA15A",
           "#19d3f3",
           "#FF6692",
           "#B6E880",
           "#FF97FF",
           "#FECB52"
          ],
          "font": {
           "color": "#2a3f5f"
          },
          "geo": {
           "bgcolor": "white",
           "lakecolor": "white",
           "landcolor": "#E5ECF6",
           "showlakes": true,
           "showland": true,
           "subunitcolor": "white"
          },
          "hoverlabel": {
           "align": "left"
          },
          "hovermode": "closest",
          "mapbox": {
           "style": "light"
          },
          "paper_bgcolor": "white",
          "plot_bgcolor": "#E5ECF6",
          "polar": {
           "angularaxis": {
            "gridcolor": "white",
            "linecolor": "white",
            "ticks": ""
           },
           "bgcolor": "#E5ECF6",
           "radialaxis": {
            "gridcolor": "white",
            "linecolor": "white",
            "ticks": ""
           }
          },
          "scene": {
           "xaxis": {
            "backgroundcolor": "#E5ECF6",
            "gridcolor": "white",
            "gridwidth": 2,
            "linecolor": "white",
            "showbackground": true,
            "ticks": "",
            "zerolinecolor": "white"
           },
           "yaxis": {
            "backgroundcolor": "#E5ECF6",
            "gridcolor": "white",
            "gridwidth": 2,
            "linecolor": "white",
            "showbackground": true,
            "ticks": "",
            "zerolinecolor": "white"
           },
           "zaxis": {
            "backgroundcolor": "#E5ECF6",
            "gridcolor": "white",
            "gridwidth": 2,
            "linecolor": "white",
            "showbackground": true,
            "ticks": "",
            "zerolinecolor": "white"
           }
          },
          "shapedefaults": {
           "line": {
            "color": "#2a3f5f"
           }
          },
          "ternary": {
           "aaxis": {
            "gridcolor": "white",
            "linecolor": "white",
            "ticks": ""
           },
           "baxis": {
            "gridcolor": "white",
            "linecolor": "white",
            "ticks": ""
           },
           "bgcolor": "#E5ECF6",
           "caxis": {
            "gridcolor": "white",
            "linecolor": "white",
            "ticks": ""
           }
          },
          "title": {
           "x": 0.05
          },
          "xaxis": {
           "automargin": true,
           "gridcolor": "white",
           "linecolor": "white",
           "ticks": "",
           "title": {
            "standoff": 15
           },
           "zerolinecolor": "white",
           "zerolinewidth": 2
          },
          "yaxis": {
           "automargin": true,
           "gridcolor": "white",
           "linecolor": "white",
           "ticks": "",
           "title": {
            "standoff": 15
           },
           "zerolinecolor": "white",
           "zerolinewidth": 2
          }
         }
        },
        "title": {
         "text": "Salary vs Years of Experience"
        },
        "width": 900,
        "xaxis": {
         "anchor": "y",
         "domain": [
          0,
          1
         ],
         "title": {
          "text": "Years of Experience"
         }
        },
        "yaxis": {
         "anchor": "x",
         "domain": [
          0,
          1
         ],
         "title": {
          "text": "Salary (USD)"
         }
        }
       }
      }
     },
     "metadata": {},
     "output_type": "display_data"
    }
   ],
   "source": [
    "# 4. Salary vs Years of Experience Scatter Plot with Trend Line\n",
    "fig4 = px.scatter(\n",
    "    full_df,\n",
    "    x=\"years_experience\",\n",
    "    y=\"salary_usd\",\n",
    "    color=\"experience_level\",\n",
    "    size=\"benefits_score\",\n",
    "    hover_data=[\"job_title\", \"industry\", \"company_size\"],\n",
    "    trendline=\"ols\",\n",
    "    title=\"Salary vs Years of Experience\",\n",
    "    labels={\"salary_usd\": \"Salary (USD)\", \"years_experience\": \"Years of Experience\"},\n",
    "    height=600,\n",
    "    width=900\n",
    ")\n",
    "fig4.show()"
   ]
  },
  {
   "cell_type": "code",
   "execution_count": 49,
   "metadata": {},
   "outputs": [
    {
     "name": "stdout",
     "output_type": "stream",
     "text": [
      "Overall correlation between salary and years of experience: 0.870\n",
      "Correlation for Entry level: 0.125\n",
      "Correlation for Mid-level level: 0.013\n",
      "Correlation for Senior level: -0.076\n",
      "Correlation for Executive level: 0.109\n"
     ]
    }
   ],
   "source": [
    "# Overall correlation between salary and years of experience\n",
    "overall_corr = full_df[\"salary_usd\"].corr(full_df[\"years_experience\"])\n",
    "print(f\"Overall correlation between salary and years of experience: {overall_corr:.3f}\")\n",
    "\n",
    "# Correlation within each experience level\n",
    "experience_levels = [\"EN\", \"MI\", \"SE\", \"EX\"]  # Entry, Mid-level, Senior, Executive\n",
    "exp_level_names = {\"EN\": \"Entry\", \"MI\": \"Mid-level\", \"SE\": \"Senior\", \"EX\": \"Executive\"}\n",
    "\n",
    "for level in experience_levels:\n",
    "    level_df = full_df[full_df[\"experience_level\"] == level]\n",
    "    level_corr = level_df[\"salary_usd\"].corr(level_df[\"years_experience\"])\n",
    "    print(f\"Correlation for {exp_level_names[level]} level: {level_corr:.3f}\")"
   ]
  },
  {
   "cell_type": "code",
   "execution_count": 61,
   "metadata": {},
   "outputs": [],
   "source": [
    "# Create detailed dataset for experience-salary scatter plot\n",
    "experience_salary_df = full_df[[\"years_experience\", \"salary_usd\", \"experience_level\", \n",
    "                               \"job_title\", \"industry\", \"company_size\", \"benefits_score\"]].copy()\n",
    "# Add correlation as a reference field\n",
    "experience_salary_df[\"overall_correlation\"] = overall_corr\n",
    "# Map experience level codes to full names\n",
    "experience_salary_df[\"experience_level_name\"] = experience_salary_df[\"experience_level\"].map(exp_level_names)\n",
    "experience_salary_df.to_csv(\"exports/s1-descriptive/experience_salary_relationship.csv\", index=False)"
   ]
  },
  {
   "cell_type": "markdown",
   "metadata": {},
   "source": [
    "The overall correlation between years of experience and salary is remarkably strong at 0.870, confirming that experience is a powerful determinant of compensation across the entire AI job market. However, when examining this relationship within specific experience levels, a far more nuanced picture emerges. Within the Entry level category, there's only a weak positive correlation of 0.125, suggesting that while additional experience provides some benefit, other factors likely play more significant roles in salary differentiation among newcomers. For Mid-level professionals, the correlation becomes nearly non-existent at 0.013, indicating that at this career stage, factors beyond raw years of experience-such as specific technical skills or domain expertise-likely drive salary variations. Interestingly, Senior-level positions show a slight negative correlation of -0.076, potentially reflecting that specialized expertise or leadership capabilities outweigh incremental years of experience at this stage. Executive positions return to a weak positive correlation of 0.109, suggesting that while extensive experience is expected at this level, compensation differences are more likely determined by strategic impact and organizational value. For STEAMe's platform users, these findings highlight that while accumulating years of experience is crucial for advancing between career levels, other qualitative factors become increasingly important for maximizing compensation within each level."
   ]
  },
  {
   "cell_type": "markdown",
   "metadata": {},
   "source": [
    "## 5. Salary by Experience Level and Company Size\n",
    "\n",
    "Company size can significantly influence compensation structures in the AI field. This section explores the intersection of experience level and organizational scale to identify optimal combinations for maximizing earning potential. The heatmap below provides an effective solution for displaying this two-dimensional relationship, using color intensity to represent median salary values across the experience-company size matrix. This format makes it easy to identify patterns that might not be apparent when examining each factor in isolation, revealing how the impact of company size varies across different career stages. The numeric values embedded in each cell further enhance the clarity of the analysis, allowing for exact comparisons. Understanding these patterns provides strategic insights for career planning, helping professionals understand how targeting specific company sizes might optimize their earning potential at each career stage."
   ]
  },
  {
   "cell_type": "code",
   "execution_count": 50,
   "metadata": {},
   "outputs": [
    {
     "data": {
      "application/vnd.plotly.v1+json": {
       "config": {
        "plotlyServerURL": "https://plot.ly"
       },
       "data": [
        {
         "coloraxis": "coloraxis",
         "hovertemplate": "company_size: %{x}<br>experience_level: %{y}<br>Median Salary (USD): %{z}<extra></extra>",
         "name": "0",
         "texttemplate": "%{z}",
         "type": "heatmap",
         "x": [
          "L",
          "M",
          "S"
         ],
         "xaxis": "x",
         "y": [
          "EN",
          "EX",
          "MI",
          "SE"
         ],
         "yaxis": "y",
         "z": {
          "bdata": "AAAAAEij9UAAAAAAkMXyQAAAAAAwgPFAAAAAAMjaD0EAAAAAoG0NQQAAAADIgwlBAAAAAChA/kAAAAAAuIL6QAAAAACgYfhAAAAAABwABUEAAAAAKNUBQQAAAADwWQBB",
          "dtype": "f8",
          "shape": "4, 3"
         }
        }
       ],
       "layout": {
        "coloraxis": {
         "colorbar": {
          "title": {
           "text": "Median Salary (USD)"
          }
         },
         "colorscale": [
          [
           0,
           "#440154"
          ],
          [
           0.1111111111111111,
           "#482878"
          ],
          [
           0.2222222222222222,
           "#3e4989"
          ],
          [
           0.3333333333333333,
           "#31688e"
          ],
          [
           0.4444444444444444,
           "#26828e"
          ],
          [
           0.5555555555555556,
           "#1f9e89"
          ],
          [
           0.6666666666666666,
           "#35b779"
          ],
          [
           0.7777777777777778,
           "#6ece58"
          ],
          [
           0.8888888888888888,
           "#b5de2b"
          ],
          [
           1,
           "#fde725"
          ]
         ]
        },
        "height": 500,
        "template": {
         "data": {
          "bar": [
           {
            "error_x": {
             "color": "#2a3f5f"
            },
            "error_y": {
             "color": "#2a3f5f"
            },
            "marker": {
             "line": {
              "color": "#E5ECF6",
              "width": 0.5
             },
             "pattern": {
              "fillmode": "overlay",
              "size": 10,
              "solidity": 0.2
             }
            },
            "type": "bar"
           }
          ],
          "barpolar": [
           {
            "marker": {
             "line": {
              "color": "#E5ECF6",
              "width": 0.5
             },
             "pattern": {
              "fillmode": "overlay",
              "size": 10,
              "solidity": 0.2
             }
            },
            "type": "barpolar"
           }
          ],
          "carpet": [
           {
            "aaxis": {
             "endlinecolor": "#2a3f5f",
             "gridcolor": "white",
             "linecolor": "white",
             "minorgridcolor": "white",
             "startlinecolor": "#2a3f5f"
            },
            "baxis": {
             "endlinecolor": "#2a3f5f",
             "gridcolor": "white",
             "linecolor": "white",
             "minorgridcolor": "white",
             "startlinecolor": "#2a3f5f"
            },
            "type": "carpet"
           }
          ],
          "choropleth": [
           {
            "colorbar": {
             "outlinewidth": 0,
             "ticks": ""
            },
            "type": "choropleth"
           }
          ],
          "contour": [
           {
            "colorbar": {
             "outlinewidth": 0,
             "ticks": ""
            },
            "colorscale": [
             [
              0,
              "#0d0887"
             ],
             [
              0.1111111111111111,
              "#46039f"
             ],
             [
              0.2222222222222222,
              "#7201a8"
             ],
             [
              0.3333333333333333,
              "#9c179e"
             ],
             [
              0.4444444444444444,
              "#bd3786"
             ],
             [
              0.5555555555555556,
              "#d8576b"
             ],
             [
              0.6666666666666666,
              "#ed7953"
             ],
             [
              0.7777777777777778,
              "#fb9f3a"
             ],
             [
              0.8888888888888888,
              "#fdca26"
             ],
             [
              1,
              "#f0f921"
             ]
            ],
            "type": "contour"
           }
          ],
          "contourcarpet": [
           {
            "colorbar": {
             "outlinewidth": 0,
             "ticks": ""
            },
            "type": "contourcarpet"
           }
          ],
          "heatmap": [
           {
            "colorbar": {
             "outlinewidth": 0,
             "ticks": ""
            },
            "colorscale": [
             [
              0,
              "#0d0887"
             ],
             [
              0.1111111111111111,
              "#46039f"
             ],
             [
              0.2222222222222222,
              "#7201a8"
             ],
             [
              0.3333333333333333,
              "#9c179e"
             ],
             [
              0.4444444444444444,
              "#bd3786"
             ],
             [
              0.5555555555555556,
              "#d8576b"
             ],
             [
              0.6666666666666666,
              "#ed7953"
             ],
             [
              0.7777777777777778,
              "#fb9f3a"
             ],
             [
              0.8888888888888888,
              "#fdca26"
             ],
             [
              1,
              "#f0f921"
             ]
            ],
            "type": "heatmap"
           }
          ],
          "histogram": [
           {
            "marker": {
             "pattern": {
              "fillmode": "overlay",
              "size": 10,
              "solidity": 0.2
             }
            },
            "type": "histogram"
           }
          ],
          "histogram2d": [
           {
            "colorbar": {
             "outlinewidth": 0,
             "ticks": ""
            },
            "colorscale": [
             [
              0,
              "#0d0887"
             ],
             [
              0.1111111111111111,
              "#46039f"
             ],
             [
              0.2222222222222222,
              "#7201a8"
             ],
             [
              0.3333333333333333,
              "#9c179e"
             ],
             [
              0.4444444444444444,
              "#bd3786"
             ],
             [
              0.5555555555555556,
              "#d8576b"
             ],
             [
              0.6666666666666666,
              "#ed7953"
             ],
             [
              0.7777777777777778,
              "#fb9f3a"
             ],
             [
              0.8888888888888888,
              "#fdca26"
             ],
             [
              1,
              "#f0f921"
             ]
            ],
            "type": "histogram2d"
           }
          ],
          "histogram2dcontour": [
           {
            "colorbar": {
             "outlinewidth": 0,
             "ticks": ""
            },
            "colorscale": [
             [
              0,
              "#0d0887"
             ],
             [
              0.1111111111111111,
              "#46039f"
             ],
             [
              0.2222222222222222,
              "#7201a8"
             ],
             [
              0.3333333333333333,
              "#9c179e"
             ],
             [
              0.4444444444444444,
              "#bd3786"
             ],
             [
              0.5555555555555556,
              "#d8576b"
             ],
             [
              0.6666666666666666,
              "#ed7953"
             ],
             [
              0.7777777777777778,
              "#fb9f3a"
             ],
             [
              0.8888888888888888,
              "#fdca26"
             ],
             [
              1,
              "#f0f921"
             ]
            ],
            "type": "histogram2dcontour"
           }
          ],
          "mesh3d": [
           {
            "colorbar": {
             "outlinewidth": 0,
             "ticks": ""
            },
            "type": "mesh3d"
           }
          ],
          "parcoords": [
           {
            "line": {
             "colorbar": {
              "outlinewidth": 0,
              "ticks": ""
             }
            },
            "type": "parcoords"
           }
          ],
          "pie": [
           {
            "automargin": true,
            "type": "pie"
           }
          ],
          "scatter": [
           {
            "fillpattern": {
             "fillmode": "overlay",
             "size": 10,
             "solidity": 0.2
            },
            "type": "scatter"
           }
          ],
          "scatter3d": [
           {
            "line": {
             "colorbar": {
              "outlinewidth": 0,
              "ticks": ""
             }
            },
            "marker": {
             "colorbar": {
              "outlinewidth": 0,
              "ticks": ""
             }
            },
            "type": "scatter3d"
           }
          ],
          "scattercarpet": [
           {
            "marker": {
             "colorbar": {
              "outlinewidth": 0,
              "ticks": ""
             }
            },
            "type": "scattercarpet"
           }
          ],
          "scattergeo": [
           {
            "marker": {
             "colorbar": {
              "outlinewidth": 0,
              "ticks": ""
             }
            },
            "type": "scattergeo"
           }
          ],
          "scattergl": [
           {
            "marker": {
             "colorbar": {
              "outlinewidth": 0,
              "ticks": ""
             }
            },
            "type": "scattergl"
           }
          ],
          "scattermap": [
           {
            "marker": {
             "colorbar": {
              "outlinewidth": 0,
              "ticks": ""
             }
            },
            "type": "scattermap"
           }
          ],
          "scattermapbox": [
           {
            "marker": {
             "colorbar": {
              "outlinewidth": 0,
              "ticks": ""
             }
            },
            "type": "scattermapbox"
           }
          ],
          "scatterpolar": [
           {
            "marker": {
             "colorbar": {
              "outlinewidth": 0,
              "ticks": ""
             }
            },
            "type": "scatterpolar"
           }
          ],
          "scatterpolargl": [
           {
            "marker": {
             "colorbar": {
              "outlinewidth": 0,
              "ticks": ""
             }
            },
            "type": "scatterpolargl"
           }
          ],
          "scatterternary": [
           {
            "marker": {
             "colorbar": {
              "outlinewidth": 0,
              "ticks": ""
             }
            },
            "type": "scatterternary"
           }
          ],
          "surface": [
           {
            "colorbar": {
             "outlinewidth": 0,
             "ticks": ""
            },
            "colorscale": [
             [
              0,
              "#0d0887"
             ],
             [
              0.1111111111111111,
              "#46039f"
             ],
             [
              0.2222222222222222,
              "#7201a8"
             ],
             [
              0.3333333333333333,
              "#9c179e"
             ],
             [
              0.4444444444444444,
              "#bd3786"
             ],
             [
              0.5555555555555556,
              "#d8576b"
             ],
             [
              0.6666666666666666,
              "#ed7953"
             ],
             [
              0.7777777777777778,
              "#fb9f3a"
             ],
             [
              0.8888888888888888,
              "#fdca26"
             ],
             [
              1,
              "#f0f921"
             ]
            ],
            "type": "surface"
           }
          ],
          "table": [
           {
            "cells": {
             "fill": {
              "color": "#EBF0F8"
             },
             "line": {
              "color": "white"
             }
            },
            "header": {
             "fill": {
              "color": "#C8D4E3"
             },
             "line": {
              "color": "white"
             }
            },
            "type": "table"
           }
          ]
         },
         "layout": {
          "annotationdefaults": {
           "arrowcolor": "#2a3f5f",
           "arrowhead": 0,
           "arrowwidth": 1
          },
          "autotypenumbers": "strict",
          "coloraxis": {
           "colorbar": {
            "outlinewidth": 0,
            "ticks": ""
           }
          },
          "colorscale": {
           "diverging": [
            [
             0,
             "#8e0152"
            ],
            [
             0.1,
             "#c51b7d"
            ],
            [
             0.2,
             "#de77ae"
            ],
            [
             0.3,
             "#f1b6da"
            ],
            [
             0.4,
             "#fde0ef"
            ],
            [
             0.5,
             "#f7f7f7"
            ],
            [
             0.6,
             "#e6f5d0"
            ],
            [
             0.7,
             "#b8e186"
            ],
            [
             0.8,
             "#7fbc41"
            ],
            [
             0.9,
             "#4d9221"
            ],
            [
             1,
             "#276419"
            ]
           ],
           "sequential": [
            [
             0,
             "#0d0887"
            ],
            [
             0.1111111111111111,
             "#46039f"
            ],
            [
             0.2222222222222222,
             "#7201a8"
            ],
            [
             0.3333333333333333,
             "#9c179e"
            ],
            [
             0.4444444444444444,
             "#bd3786"
            ],
            [
             0.5555555555555556,
             "#d8576b"
            ],
            [
             0.6666666666666666,
             "#ed7953"
            ],
            [
             0.7777777777777778,
             "#fb9f3a"
            ],
            [
             0.8888888888888888,
             "#fdca26"
            ],
            [
             1,
             "#f0f921"
            ]
           ],
           "sequentialminus": [
            [
             0,
             "#0d0887"
            ],
            [
             0.1111111111111111,
             "#46039f"
            ],
            [
             0.2222222222222222,
             "#7201a8"
            ],
            [
             0.3333333333333333,
             "#9c179e"
            ],
            [
             0.4444444444444444,
             "#bd3786"
            ],
            [
             0.5555555555555556,
             "#d8576b"
            ],
            [
             0.6666666666666666,
             "#ed7953"
            ],
            [
             0.7777777777777778,
             "#fb9f3a"
            ],
            [
             0.8888888888888888,
             "#fdca26"
            ],
            [
             1,
             "#f0f921"
            ]
           ]
          },
          "colorway": [
           "#636efa",
           "#EF553B",
           "#00cc96",
           "#ab63fa",
           "#FFA15A",
           "#19d3f3",
           "#FF6692",
           "#B6E880",
           "#FF97FF",
           "#FECB52"
          ],
          "font": {
           "color": "#2a3f5f"
          },
          "geo": {
           "bgcolor": "white",
           "lakecolor": "white",
           "landcolor": "#E5ECF6",
           "showlakes": true,
           "showland": true,
           "subunitcolor": "white"
          },
          "hoverlabel": {
           "align": "left"
          },
          "hovermode": "closest",
          "mapbox": {
           "style": "light"
          },
          "paper_bgcolor": "white",
          "plot_bgcolor": "#E5ECF6",
          "polar": {
           "angularaxis": {
            "gridcolor": "white",
            "linecolor": "white",
            "ticks": ""
           },
           "bgcolor": "#E5ECF6",
           "radialaxis": {
            "gridcolor": "white",
            "linecolor": "white",
            "ticks": ""
           }
          },
          "scene": {
           "xaxis": {
            "backgroundcolor": "#E5ECF6",
            "gridcolor": "white",
            "gridwidth": 2,
            "linecolor": "white",
            "showbackground": true,
            "ticks": "",
            "zerolinecolor": "white"
           },
           "yaxis": {
            "backgroundcolor": "#E5ECF6",
            "gridcolor": "white",
            "gridwidth": 2,
            "linecolor": "white",
            "showbackground": true,
            "ticks": "",
            "zerolinecolor": "white"
           },
           "zaxis": {
            "backgroundcolor": "#E5ECF6",
            "gridcolor": "white",
            "gridwidth": 2,
            "linecolor": "white",
            "showbackground": true,
            "ticks": "",
            "zerolinecolor": "white"
           }
          },
          "shapedefaults": {
           "line": {
            "color": "#2a3f5f"
           }
          },
          "ternary": {
           "aaxis": {
            "gridcolor": "white",
            "linecolor": "white",
            "ticks": ""
           },
           "baxis": {
            "gridcolor": "white",
            "linecolor": "white",
            "ticks": ""
           },
           "bgcolor": "#E5ECF6",
           "caxis": {
            "gridcolor": "white",
            "linecolor": "white",
            "ticks": ""
           }
          },
          "title": {
           "x": 0.05
          },
          "xaxis": {
           "automargin": true,
           "gridcolor": "white",
           "linecolor": "white",
           "ticks": "",
           "title": {
            "standoff": 15
           },
           "zerolinecolor": "white",
           "zerolinewidth": 2
          },
          "yaxis": {
           "automargin": true,
           "gridcolor": "white",
           "linecolor": "white",
           "ticks": "",
           "title": {
            "standoff": 15
           },
           "zerolinecolor": "white",
           "zerolinewidth": 2
          }
         }
        },
        "title": {
         "text": "Median Salary Heatmap: Experience Level vs Company Size"
        },
        "width": 800,
        "xaxis": {
         "anchor": "y",
         "constrain": "domain",
         "domain": [
          0,
          1
         ],
         "scaleanchor": "y",
         "title": {
          "text": "Company Size (S=Small, M=Medium, L=Large)"
         }
        },
        "yaxis": {
         "anchor": "x",
         "autorange": "reversed",
         "constrain": "domain",
         "domain": [
          0,
          1
         ],
         "title": {
          "text": "Experience Level (EN=Entry, MI=Mid, SE=Senior, EX=Executive)"
         }
        }
       }
      }
     },
     "metadata": {},
     "output_type": "display_data"
    }
   ],
   "source": [
    "# 5. Salary heatmap by experience level and company size\n",
    "salary_pivot = full_df.pivot_table(\n",
    "    values=\"salary_usd\",\n",
    "    index=\"experience_level\",\n",
    "    columns=\"company_size\",\n",
    "    aggfunc=\"median\"\n",
    ")\n",
    "fig5 = px.imshow(\n",
    "    salary_pivot,\n",
    "    text_auto=True,\n",
    "    color_continuous_scale=\"Viridis\",\n",
    "    title=\"Median Salary Heatmap: Experience Level vs Company Size\",\n",
    "    labels={\"color\": \"Median Salary (USD)\"},\n",
    "    height=500,\n",
    "    width=800\n",
    ")\n",
    "fig5.update_layout(\n",
    "    xaxis_title=\"Company Size (S=Small, M=Medium, L=Large)\",\n",
    "    yaxis_title=\"Experience Level (EN=Entry, MI=Mid, SE=Senior, EX=Executive)\"\n",
    ")\n",
    "fig5.show()"
   ]
  },
  {
   "cell_type": "code",
   "execution_count": 62,
   "metadata": {},
   "outputs": [
    {
     "name": "stdout",
     "output_type": "stream",
     "text": [
      "Median Salary by Experience Level and Company Size:\n"
     ]
    },
    {
     "data": {
      "text/html": [
       "<div>\n",
       "<style scoped>\n",
       "    .dataframe tbody tr th:only-of-type {\n",
       "        vertical-align: middle;\n",
       "    }\n",
       "\n",
       "    .dataframe tbody tr th {\n",
       "        vertical-align: top;\n",
       "    }\n",
       "\n",
       "    .dataframe thead th {\n",
       "        text-align: right;\n",
       "    }\n",
       "</style>\n",
       "<table border=\"1\" class=\"dataframe\">\n",
       "  <thead>\n",
       "    <tr style=\"text-align: right;\">\n",
       "      <th>company_size</th>\n",
       "      <th>L</th>\n",
       "      <th>M</th>\n",
       "      <th>S</th>\n",
       "    </tr>\n",
       "    <tr>\n",
       "      <th>experience_level</th>\n",
       "      <th></th>\n",
       "      <th></th>\n",
       "      <th></th>\n",
       "    </tr>\n",
       "  </thead>\n",
       "  <tbody>\n",
       "    <tr>\n",
       "      <th>EN</th>\n",
       "      <td>88628.5</td>\n",
       "      <td>76889.0</td>\n",
       "      <td>71683.0</td>\n",
       "    </tr>\n",
       "    <tr>\n",
       "      <th>EX</th>\n",
       "      <td>260953.0</td>\n",
       "      <td>241076.0</td>\n",
       "      <td>209017.0</td>\n",
       "    </tr>\n",
       "    <tr>\n",
       "      <th>MI</th>\n",
       "      <td>123906.5</td>\n",
       "      <td>108587.5</td>\n",
       "      <td>99866.0</td>\n",
       "    </tr>\n",
       "    <tr>\n",
       "      <th>SE</th>\n",
       "      <td>172035.5</td>\n",
       "      <td>146085.0</td>\n",
       "      <td>133950.0</td>\n",
       "    </tr>\n",
       "  </tbody>\n",
       "</table>\n",
       "</div>"
      ],
      "text/plain": [
       "company_size             L         M         S\n",
       "experience_level                              \n",
       "EN                 88628.5   76889.0   71683.0\n",
       "EX                260953.0  241076.0  209017.0\n",
       "MI                123906.5  108587.5   99866.0\n",
       "SE                172035.5  146085.0  133950.0"
      ]
     },
     "metadata": {},
     "output_type": "display_data"
    }
   ],
   "source": [
    "# Pivot the data on experience_level by company size \n",
    "# and get the median salary as the resulting values\n",
    "exp_company_stats = full_df.pivot_table(\n",
    "    values=\"salary_usd\", \n",
    "    index=\"experience_level\", \n",
    "    columns=\"company_size\", \n",
    "    aggfunc=\"median\"\n",
    ")\n",
    "print(\"Median Salary by Experience Level and Company Size:\")\n",
    "display(exp_company_stats)"
   ]
  },
  {
   "cell_type": "code",
   "execution_count": 63,
   "metadata": {},
   "outputs": [],
   "source": [
    "# Export the median salary by experience level and company size\n",
    "# Create company size matrix with additional context\n",
    "company_size_matrix = exp_company_stats.reset_index()\n",
    "\n",
    "# Add count information for reference\n",
    "count_matrix = full_df.pivot_table(\n",
    "    values='salary_usd', \n",
    "    index='experience_level', \n",
    "    columns='company_size', \n",
    "    aggfunc='count'\n",
    ").reset_index()\n",
    "\n",
    "# Rename columns to avoid confusion\n",
    "count_matrix.columns = ['experience_level'] + [f'{col}_count' for col in count_matrix.columns if col != 'experience_level']\n",
    "\n",
    "# Merge the datasets\n",
    "matrix_combined = pd.merge(company_size_matrix, count_matrix, on='experience_level')\n",
    "\n",
    "# Map experience level codes to names\n",
    "matrix_combined['experience_level_name'] = matrix_combined['experience_level'].map(exp_level_names)\n",
    "matrix_combined.to_csv(\"exports/s1-descriptive/company_size_matrix.csv\", index=False)"
   ]
  },
  {
   "cell_type": "markdown",
   "metadata": {},
   "source": [
    "The analysis reveals a consistent pattern where larger companies offer higher compensation across all experience levels, with the most pronounced advantage at the Executive level. At large companies, Executive positions command a median salary of $260,953, significantly exceeding their counterparts at medium ($241,076) and small organizations ($209,017)—representing a premium of 25% over small companies. This company size differential persists across all experience tiers, with large companies offering approximately 23% higher salaries than small companies for Entry-level positions ($88,629 vs. $71,683), 24% more for Mid-level roles ($123,907 vs. $99,866), and 28% higher for Senior positions ($172,036 vs. $133,950). The salary progression between experience levels is steepest at large companies, where advancing from Entry to Executive level represents a 194% increase, compared to 214% at medium companies and 192% at small firms. For STEAMe's platform users, these statistics suggest that while career advancement provides substantial salary growth across all company sizes, targeting larger organizations consistently yields higher compensation at every career stage—though this advantage must be weighed against other factors like work-life balance, job security, and growth opportunities that may vary by company size."
   ]
  },
  {
   "cell_type": "markdown",
   "metadata": {},
   "source": [
    "### 6. Salary by Employment Type\n",
    "\n",
    "The modern workforce includes various employment arrangements beyond traditional full-time roles. This analysis compares compensation across contract, freelance, full-time, and part-time positions in the AI field. The violin plot visualization below is particularly effective for this comparison, as it combines aspects of a box plot with a density plot, showing both the distribution shape and key statistics for each employment type. This approach reveals not just median values but also where salaries are concentrated within each category and how the distributions differ in shape. The width of each \"violin\" at different salary levels indicates the probability density of observations at those values, providing insights into common salary bands within each employment arrangement. Understanding these differences helps STEAMe's users evaluate the financial implications of different work arrangements and identify potentially unexpected opportunities for competitive compensation outside conventional employment structures."
   ]
  },
  {
   "cell_type": "code",
   "execution_count": 34,
   "metadata": {},
   "outputs": [
    {
     "data": {
      "application/vnd.plotly.v1+json": {
       "config": {
        "plotlyServerURL": "https://plot.ly"
       },
       "data": [
        {
         "alignmentgroup": "True",
         "box": {
          "visible": false
         },
         "hovertemplate": "Employment Type=%{x}<br>Salary (USD)=%{y}<extra></extra>",
         "legendgroup": "FT",
         "marker": {
          "color": "#636efa"
         },
         "name": "FT",
         "offsetgroup": "FT",
         "orientation": "v",
         "scalegroup": "True",
         "showlegend": true,
         "type": "violin",
         "x": [
          "FT",
          "FT",
          "FT",
          "FT",
          "FT",
          "FT",
          "FT",
          "FT",
          "FT",
          "FT",
          "FT",
          "FT",
          "FT",
          "FT",
          "FT",
          "FT",
          "FT",
          "FT",
          "FT",
          "FT",
          "FT",
          "FT",
          "FT",
          "FT",
          "FT",
          "FT",
          "FT",
          "FT",
          "FT",
          "FT",
          "FT",
          "FT",
          "FT",
          "FT",
          "FT",
          "FT",
          "FT",
          "FT",
          "FT",
          "FT",
          "FT",
          "FT",
          "FT",
          "FT",
          "FT",
          "FT",
          "FT",
          "FT",
          "FT",
          "FT",
          "FT",
          "FT",
          "FT",
          "FT",
          "FT",
          "FT",
          "FT",
          "FT",
          "FT",
          "FT",
          "FT",
          "FT",
          "FT",
          "FT",
          "FT",
          "FT",
          "FT",
          "FT",
          "FT",
          "FT",
          "FT",
          "FT",
          "FT",
          "FT",
          "FT",
          "FT",
          "FT",
          "FT",
          "FT",
          "FT",
          "FT",
          "FT",
          "FT",
          "FT",
          "FT",
          "FT",
          "FT",
          "FT",
          "FT",
          "FT",
          "FT",
          "FT",
          "FT",
          "FT",
          "FT",
          "FT",
          "FT",
          "FT",
          "FT",
          "FT",
          "FT",
          "FT",
          "FT",
          "FT",
          "FT",
          "FT",
          "FT",
          "FT",
          "FT",
          "FT",
          "FT",
          "FT",
          "FT",
          "FT",
          "FT",
          "FT",
          "FT",
          "FT",
          "FT",
          "FT",
          "FT",
          "FT",
          "FT",
          "FT",
          "FT",
          "FT",
          "FT",
          "FT",
          "FT",
          "FT",
          "FT",
          "FT",
          "FT",
          "FT",
          "FT",
          "FT",
          "FT",
          "FT",
          "FT",
          "FT",
          "FT",
          "FT",
          "FT",
          "FT",
          "FT",
          "FT",
          "FT",
          "FT",
          "FT",
          "FT",
          "FT",
          "FT",
          "FT",
          "FT",
          "FT",
          "FT",
          "FT",
          "FT",
          "FT",
          "FT",
          "FT",
          "FT",
          "FT",
          "FT",
          "FT",
          "FT",
          "FT",
          "FT",
          "FT",
          "FT",
          "FT",
          "FT",
          "FT",
          "FT",
          "FT",
          "FT",
          "FT",
          "FT",
          "FT",
          "FT",
          "FT",
          "FT",
          "FT",
          "FT",
          "FT",
          "FT",
          "FT"
         ],
         "x0": " ",
         "xaxis": "x",
         "y": {
          "bdata": "vHoBABoRAQAcwAIApToCAK8QAQBajgEARokBAM6aAgBXoAEAZzoCAOEWBAD08AAAnB8BANotAQDA8wEAbAgEAMHsAgBdBQMAf5sDALMxAwAcqwEAelYEAFxPAQCsFQEALiwBAHw1AQDduwEAVOACAMypAQBjPAIAlmQBAKYGBAA2hwEANzsEAJLfAAA4YQMA4tUBACNtAwA91QIAQc8DAL4KAwBUowQASYECAPiCAQCy3wIAmZkDAF1kAgCaJQUAH7IBALyGAgDI0QEAXUcCAADoAQB/lwIAonECADxDAwCgMQIA8acDAEL/AgBF+wIAm54BALLUAQAf5AEAfQUBADlhAQCt8wMAYCICAFq8AgDDDQEADtcBAJ8OAQCIfQMA/4wCAB1KAgC0XwIA5TUCAM87AQAQDQIAS04BAPVvAQA6+gAA9MYBAKCZAgBnJQMAOWIDAKsCAgCM7QEAt98CAO+gAQBm1QEA0x0BADT/AgDZ/wEAnRcDAJ1XAQCaOAEAMPQBADGTAQDxEgIAHugBABjzAQDQqAEA7xADAHC0AwD4qAEAFU8BAM2BAwAqNQEA1bQBAE8nAwDFSAIAUuIDADoWAQALagEAmCIDAK7EAgDKbQEAWIUCAF9tAQDZLwEAYVUBAOEXAQADiwIA2gkEAH68AQDbSwIAFzYBAEsHAgC4jwEAySoCAPoMBAAKQAEACroDADQIBAAVsQIAmqkCAA63AQBlDgMAxzwBANfsAADHFgEAnWMBACJUAQBG7gMAZsQBAOifAgB47wIAyf4CALdHAQBdKAMAuYkBAGKLAQBQJgEA9n0CADVdAwBqewQAfBcEAB/NAwCHMAIACTMBAJxqAQCRcgEAlfMAAFlEAQBfgAEAakcDAEpvAQCIbwEAeUkBAIq2AgDrGAEApZ0BAJ4UAQC+VAMAxHsCALYiAQBMGAMAdxICAKkMAQD0jQEAaxcCAN7zAQC2qAEAfDMBANmiAwDT2QEAyHwBAA==",
          "dtype": "i4"
         },
         "y0": " ",
         "yaxis": "y"
        },
        {
         "alignmentgroup": "True",
         "box": {
          "visible": false
         },
         "hovertemplate": "Employment Type=%{x}<br>Salary (USD)=%{y}<extra></extra>",
         "legendgroup": "PT",
         "marker": {
          "color": "#EF553B"
         },
         "name": "PT",
         "offsetgroup": "PT",
         "orientation": "v",
         "scalegroup": "True",
         "showlegend": true,
         "type": "violin",
         "x": [
          "PT",
          "PT",
          "PT",
          "PT",
          "PT",
          "PT",
          "PT",
          "PT",
          "PT",
          "PT",
          "PT",
          "PT",
          "PT",
          "PT",
          "PT",
          "PT",
          "PT",
          "PT",
          "PT",
          "PT",
          "PT",
          "PT",
          "PT",
          "PT",
          "PT",
          "PT",
          "PT",
          "PT",
          "PT",
          "PT",
          "PT",
          "PT",
          "PT",
          "PT",
          "PT",
          "PT",
          "PT",
          "PT",
          "PT",
          "PT",
          "PT",
          "PT",
          "PT",
          "PT",
          "PT",
          "PT",
          "PT",
          "PT",
          "PT",
          "PT",
          "PT",
          "PT",
          "PT",
          "PT",
          "PT",
          "PT",
          "PT",
          "PT",
          "PT",
          "PT",
          "PT",
          "PT",
          "PT",
          "PT",
          "PT",
          "PT",
          "PT",
          "PT",
          "PT",
          "PT",
          "PT",
          "PT",
          "PT",
          "PT",
          "PT",
          "PT",
          "PT",
          "PT",
          "PT",
          "PT",
          "PT",
          "PT",
          "PT",
          "PT",
          "PT",
          "PT",
          "PT",
          "PT",
          "PT",
          "PT",
          "PT",
          "PT",
          "PT",
          "PT",
          "PT",
          "PT",
          "PT",
          "PT",
          "PT",
          "PT",
          "PT",
          "PT",
          "PT",
          "PT",
          "PT",
          "PT",
          "PT",
          "PT",
          "PT",
          "PT",
          "PT",
          "PT",
          "PT",
          "PT",
          "PT",
          "PT",
          "PT",
          "PT",
          "PT",
          "PT",
          "PT",
          "PT",
          "PT",
          "PT",
          "PT",
          "PT",
          "PT",
          "PT",
          "PT",
          "PT",
          "PT",
          "PT",
          "PT",
          "PT",
          "PT",
          "PT",
          "PT",
          "PT",
          "PT",
          "PT",
          "PT",
          "PT",
          "PT",
          "PT",
          "PT",
          "PT",
          "PT",
          "PT",
          "PT",
          "PT",
          "PT",
          "PT",
          "PT",
          "PT",
          "PT"
         ],
         "x0": " ",
         "xaxis": "x",
         "y": {
          "bdata": "lpABAFOgAQAtIgMAm5gCAHaAAQCbbwIA3T8BAL0JAgBLLAEAOlACAHGjAwBcbwEA3rcBALaLAQCGcgEA4XcBALVRAQAy+QAApgoBAO8nAwA3TQEA7+cCAMo1BAAYBAMAWicBAIJvAQAwxQEALtMBAMQGAwA1MwIAqKkBAGcsAQDGogEAADkFAMVPAQCyXAEAAmQEAHnAAwASEAEAuvUAAO41AQBSQgIASM0CAEU3AQDq9AEAdCcCANjCAQDP5QEAld4BAKP6AQCKIAIAiaABAC8QAQAvVAIAwe4DAORkAQA2fAIAezcFABI1AgBNewMA1R0CAF6BAQD+jgEA1m8BAF81AQBrQQUAgHICAJU4AwAehQIAbyEBAMNxAgCRCwIAaWMCAEFoAwAqggQA7yECAB2KAQCGtwIA0E0BAAWAAgBxAQMAdmYBAMJjAQCgIAEAmkIBALdZAQAnxwIAZkACAIDAAQCiZwEAa80BAKX6AQAJNAEAmFEBAAavAQB69QEAu7gBAM7/AADHVwEAdO4EACBcAQCM/AAALEoEADYqBACWGgIACh0EACcwAgDbcwIAkWUEAMzQAQBLYgMAS90BAK7QAQCA6AEAbBYBAPDhBAB3NQEAJjgBABSnAQC3KQIAj2QDAJLAAQC9jQIAuw0BAAg1AQBn1wMARjQCAEhqAQA/awEArEECAAnsAgAMCgIA83IDAEyLAQBCLgQAgwsCANH0AQAQUwIAsfADADPUAwC8aQIAnm4EAJBmAwDuowEASBUCAOHfAQDTWAQA/0kBAOwtAgA6/AMAXFwBAIjHAQDGBgIADTMEALBWAQA=",
          "dtype": "i4"
         },
         "y0": " ",
         "yaxis": "y"
        },
        {
         "alignmentgroup": "True",
         "box": {
          "visible": false
         },
         "hovertemplate": "Employment Type=%{x}<br>Salary (USD)=%{y}<extra></extra>",
         "legendgroup": "CT",
         "marker": {
          "color": "#00cc96"
         },
         "name": "CT",
         "offsetgroup": "CT",
         "orientation": "v",
         "scalegroup": "True",
         "showlegend": true,
         "type": "violin",
         "x": [
          "CT",
          "CT",
          "CT",
          "CT",
          "CT",
          "CT",
          "CT",
          "CT",
          "CT",
          "CT",
          "CT",
          "CT",
          "CT",
          "CT",
          "CT",
          "CT",
          "CT",
          "CT",
          "CT",
          "CT",
          "CT",
          "CT",
          "CT",
          "CT",
          "CT",
          "CT",
          "CT",
          "CT",
          "CT",
          "CT",
          "CT",
          "CT",
          "CT",
          "CT",
          "CT",
          "CT",
          "CT",
          "CT",
          "CT",
          "CT",
          "CT",
          "CT",
          "CT",
          "CT",
          "CT",
          "CT",
          "CT",
          "CT",
          "CT",
          "CT",
          "CT",
          "CT",
          "CT",
          "CT",
          "CT",
          "CT",
          "CT",
          "CT",
          "CT",
          "CT",
          "CT",
          "CT",
          "CT",
          "CT",
          "CT",
          "CT",
          "CT",
          "CT",
          "CT",
          "CT",
          "CT",
          "CT",
          "CT",
          "CT",
          "CT",
          "CT",
          "CT",
          "CT",
          "CT",
          "CT",
          "CT",
          "CT",
          "CT",
          "CT",
          "CT",
          "CT",
          "CT",
          "CT",
          "CT",
          "CT",
          "CT",
          "CT",
          "CT",
          "CT",
          "CT",
          "CT",
          "CT",
          "CT",
          "CT",
          "CT",
          "CT",
          "CT",
          "CT",
          "CT",
          "CT",
          "CT",
          "CT",
          "CT",
          "CT",
          "CT",
          "CT",
          "CT",
          "CT",
          "CT",
          "CT",
          "CT",
          "CT",
          "CT",
          "CT",
          "CT",
          "CT",
          "CT",
          "CT",
          "CT",
          "CT",
          "CT",
          "CT",
          "CT",
          "CT",
          "CT",
          "CT",
          "CT",
          "CT",
          "CT",
          "CT",
          "CT",
          "CT",
          "CT",
          "CT",
          "CT",
          "CT",
          "CT",
          "CT",
          "CT",
          "CT",
          "CT",
          "CT",
          "CT",
          "CT",
          "CT",
          "CT",
          "CT",
          "CT",
          "CT",
          "CT",
          "CT",
          "CT",
          "CT",
          "CT",
          "CT",
          "CT",
          "CT",
          "CT",
          "CT",
          "CT",
          "CT",
          "CT",
          "CT",
          "CT",
          "CT",
          "CT",
          "CT",
          "CT",
          "CT",
          "CT",
          "CT",
          "CT",
          "CT",
          "CT",
          "CT",
          "CT",
          "CT",
          "CT",
          "CT",
          "CT",
          "CT",
          "CT",
          "CT",
          "CT",
          "CT"
         ],
         "x0": " ",
         "xaxis": "x",
         "y": {
          "bdata": "R6oCAEZXBABr/AIAvuYDAH6VAQBwRQIA4YIBAJGtAQCL4AEAZCoEALElAwDKIwIAINABAEpYAwC/8gAAoS0CAICSAQARrAEAcCYDAFi9AgCRIgEA79sCANJ4AQBdsQEA4mcDAD7rAQC6PgEA2jgCAJKABACP9wEAY1QBAAStAgDZ8AEA3jsDAN2aAgDC0gEAXOkBAFR1AgA1zgIA4YgBAIEtAQAtLAEA63QBAF4aBABY8wAA8PsBAKAgAgB7BgIAXbUCACQ2AQA3iQIAz5oCALGtAgDarwEACCQFAOu1AwAnagEAPgsCAIgHAwCuIAMAt9oBAAcPBAC1/wMAkdwBAHLaAQAV7QEAPmYEAD2wAgAMlAIAUa4DACegAgAvtwIA7aACAEfdAgBRRAMAd3YEAP/1BADzjAEA5iIDAEv3AwDG/wIAU74BAPwTAQBSOgEASgUBAM2WAQBxhwEAYQMDAD/0AQB/igIAUkIBALAzAgDdMgEAKY4BAFKxAwAmXwIA2VcBAEeLAQDomwEAnUwBAPD0AQAICQEA+f0CAIzfAgALFAEA/X8CAE1lAQDS/wEA/XcCAL1zAwB2PgIAuNYDAIGFAgDfzwEAR5ABAHoBBABi4AEA9NsDACFHAgCFEQMAnmwBAMMJAQBdeQEAflwBADkYAQAfrQIAJc4EAPQoAQDmCQIAkUUBAKkbAQDcWwIA8gIEAGBFAQBtaQIAI2wBAD7TAQC9PgEAo78DAJfoAQDymAEAl0EFAHILAwBWaAMAc9EBAHriAgDQ6AAA7q8BACgoAQBR3QIAWtcBAEA1BQBKEgEALf0DAA8kAgCGBQIARP0BACKpAwDboAEA5uMBAEobAQDtEAIAH6ACAPteAQBe0wEAW4MCANrlAwB4QQMAH1ABANplAwATsAIAiW0BAPDUAABfqQMAez0CABNeAQBb4gEAU1ADAOHIAgAH8AAA1tgCABPWAACltgEAk3IBAF6eAQA5ZAIAQ54BADMuBABZywMAJbAEAA==",
          "dtype": "i4"
         },
         "y0": " ",
         "yaxis": "y"
        },
        {
         "alignmentgroup": "True",
         "box": {
          "visible": false
         },
         "hovertemplate": "Employment Type=%{x}<br>Salary (USD)=%{y}<extra></extra>",
         "legendgroup": "FL",
         "marker": {
          "color": "#ab63fa"
         },
         "name": "FL",
         "offsetgroup": "FL",
         "orientation": "v",
         "scalegroup": "True",
         "showlegend": true,
         "type": "violin",
         "x": [
          "FL",
          "FL",
          "FL",
          "FL",
          "FL",
          "FL",
          "FL",
          "FL",
          "FL",
          "FL",
          "FL",
          "FL",
          "FL",
          "FL",
          "FL",
          "FL",
          "FL",
          "FL",
          "FL",
          "FL",
          "FL",
          "FL",
          "FL",
          "FL",
          "FL",
          "FL",
          "FL",
          "FL",
          "FL",
          "FL",
          "FL",
          "FL",
          "FL",
          "FL",
          "FL",
          "FL",
          "FL",
          "FL",
          "FL",
          "FL",
          "FL",
          "FL",
          "FL",
          "FL",
          "FL",
          "FL",
          "FL",
          "FL",
          "FL",
          "FL",
          "FL",
          "FL",
          "FL",
          "FL",
          "FL",
          "FL",
          "FL",
          "FL",
          "FL",
          "FL",
          "FL",
          "FL",
          "FL",
          "FL",
          "FL",
          "FL",
          "FL",
          "FL",
          "FL",
          "FL",
          "FL",
          "FL",
          "FL",
          "FL",
          "FL",
          "FL",
          "FL",
          "FL",
          "FL",
          "FL",
          "FL",
          "FL",
          "FL",
          "FL",
          "FL",
          "FL",
          "FL",
          "FL",
          "FL",
          "FL",
          "FL",
          "FL",
          "FL",
          "FL",
          "FL",
          "FL",
          "FL",
          "FL",
          "FL",
          "FL",
          "FL",
          "FL",
          "FL",
          "FL",
          "FL",
          "FL",
          "FL",
          "FL",
          "FL",
          "FL",
          "FL",
          "FL",
          "FL",
          "FL",
          "FL",
          "FL",
          "FL",
          "FL",
          "FL",
          "FL",
          "FL",
          "FL",
          "FL",
          "FL",
          "FL",
          "FL",
          "FL",
          "FL",
          "FL",
          "FL",
          "FL",
          "FL",
          "FL",
          "FL",
          "FL",
          "FL",
          "FL",
          "FL",
          "FL",
          "FL",
          "FL",
          "FL",
          "FL",
          "FL",
          "FL",
          "FL",
          "FL",
          "FL",
          "FL",
          "FL",
          "FL",
          "FL",
          "FL",
          "FL",
          "FL",
          "FL",
          "FL",
          "FL",
          "FL",
          "FL",
          "FL",
          "FL",
          "FL",
          "FL",
          "FL",
          "FL",
          "FL",
          "FL",
          "FL",
          "FL",
          "FL",
          "FL",
          "FL",
          "FL",
          "FL",
          "FL",
          "FL",
          "FL",
          "FL",
          "FL",
          "FL",
          "FL",
          "FL",
          "FL",
          "FL",
          "FL",
          "FL",
          "FL",
          "FL",
          "FL",
          "FL",
          "FL"
         ],
         "x0": " ",
         "xaxis": "x",
         "y": {
          "bdata": "WgEDAKizAQB/7gAAgcQBAA+nAgCt1wEA058CAMr+AABOcQIA/AgCAKKGAwDEiQIA0SQCAEofAgDkNgEAYKYBAJddAQCOWQEAGnACAKQxAQCzHwIA6zABABaqAwArqQEAQw8EAM9+AQAAnwMAOygBANa6AQALuQIA8zoBAFG5AQDQGwIA/aMBAE81AgAlmQMAzRcBAD4pAQA7dgIASSYEADEWAQALKgUAIRwFAO9lAgC7FgUAQlcDAGbKAQCs+AAAoRIBAFxMAQCJ0wMAoacBACJ3AQC0UwIArKMBAFLYAQByrwEAqqACAKKWAQBgdwIAcK8BAKMVAgCQ/wEAA5ECAFXYAQAFWwEAPUABAGjcAAAZ2QIAdLcBAKoKBAA5+gEAu1QCAESHAgCe2AMAQsMDADcjAQA/TQIA7SoBAMv2AgC8wwEABkgBAO7pAQBMLwEA5q0DADFBAQCHLAEAyPgBAETiAwBHOQIAreIBANPtAgB2JAEAlPoBAF4SAQDRjgIArJkDAKclBACInAEACkEDAD6cAQDaHQIAiTACAAUGAwDGtwEATFMBAMQPAwD+hAEAvHQBAI0WBQCkFwIA8PUAAIpLAQCdVgIAQvcBAORnAgBZaQIA33sBAMIZAQDqdAIA9iMDAFBJAQD7PgUAzC8BAFbtAQDZPwEAmycBAAcQAQBgrQIApWsCANcLAQDSxwEAAp0BAKyKAQCoKAEA/FgBAAN+AQAiiQEA5K8BACU5AgCjBQMABXMBAH9xAgC9DwIAODcCAHtZAQCtVgEAOO0AAAIPAgAM1AEAi2cCAMPpAgBDQgEAu9gDACbDAQDOogEAfzwBAAKdAQCAxQEABZkBAPIbAgDmRwEAnCYDAJEdAQBplgEAqVkBALWXAQAUEwQA0DgCAFWWAQCIwAEAMvcCAGO4AwCbDwEAw4oBALLgAQAhugEAsloBABpiAQDPTgEAhosDAJ2rBAAwIAEANC8BAJ0YBABmCQIAbRAEAEwHAgAdQgIAn6ECAMQSAgCVZwQA",
          "dtype": "i4"
         },
         "y0": " ",
         "yaxis": "y"
        }
       ],
       "layout": {
        "annotations": [
         {
          "bgcolor": "rgba(255,255,255,0.8)",
          "showarrow": false,
          "text": "FT=Full-Time, PT=Part-time, CT=Contract, FL=Freelance",
          "x": 0,
          "y": 327247.45
         }
        ],
        "height": 500,
        "legend": {
         "title": {
          "text": "Employment Type"
         },
         "tracegroupgap": 0
        },
        "showlegend": false,
        "template": {
         "data": {
          "bar": [
           {
            "error_x": {
             "color": "#2a3f5f"
            },
            "error_y": {
             "color": "#2a3f5f"
            },
            "marker": {
             "line": {
              "color": "#E5ECF6",
              "width": 0.5
             },
             "pattern": {
              "fillmode": "overlay",
              "size": 10,
              "solidity": 0.2
             }
            },
            "type": "bar"
           }
          ],
          "barpolar": [
           {
            "marker": {
             "line": {
              "color": "#E5ECF6",
              "width": 0.5
             },
             "pattern": {
              "fillmode": "overlay",
              "size": 10,
              "solidity": 0.2
             }
            },
            "type": "barpolar"
           }
          ],
          "carpet": [
           {
            "aaxis": {
             "endlinecolor": "#2a3f5f",
             "gridcolor": "white",
             "linecolor": "white",
             "minorgridcolor": "white",
             "startlinecolor": "#2a3f5f"
            },
            "baxis": {
             "endlinecolor": "#2a3f5f",
             "gridcolor": "white",
             "linecolor": "white",
             "minorgridcolor": "white",
             "startlinecolor": "#2a3f5f"
            },
            "type": "carpet"
           }
          ],
          "choropleth": [
           {
            "colorbar": {
             "outlinewidth": 0,
             "ticks": ""
            },
            "type": "choropleth"
           }
          ],
          "contour": [
           {
            "colorbar": {
             "outlinewidth": 0,
             "ticks": ""
            },
            "colorscale": [
             [
              0,
              "#0d0887"
             ],
             [
              0.1111111111111111,
              "#46039f"
             ],
             [
              0.2222222222222222,
              "#7201a8"
             ],
             [
              0.3333333333333333,
              "#9c179e"
             ],
             [
              0.4444444444444444,
              "#bd3786"
             ],
             [
              0.5555555555555556,
              "#d8576b"
             ],
             [
              0.6666666666666666,
              "#ed7953"
             ],
             [
              0.7777777777777778,
              "#fb9f3a"
             ],
             [
              0.8888888888888888,
              "#fdca26"
             ],
             [
              1,
              "#f0f921"
             ]
            ],
            "type": "contour"
           }
          ],
          "contourcarpet": [
           {
            "colorbar": {
             "outlinewidth": 0,
             "ticks": ""
            },
            "type": "contourcarpet"
           }
          ],
          "heatmap": [
           {
            "colorbar": {
             "outlinewidth": 0,
             "ticks": ""
            },
            "colorscale": [
             [
              0,
              "#0d0887"
             ],
             [
              0.1111111111111111,
              "#46039f"
             ],
             [
              0.2222222222222222,
              "#7201a8"
             ],
             [
              0.3333333333333333,
              "#9c179e"
             ],
             [
              0.4444444444444444,
              "#bd3786"
             ],
             [
              0.5555555555555556,
              "#d8576b"
             ],
             [
              0.6666666666666666,
              "#ed7953"
             ],
             [
              0.7777777777777778,
              "#fb9f3a"
             ],
             [
              0.8888888888888888,
              "#fdca26"
             ],
             [
              1,
              "#f0f921"
             ]
            ],
            "type": "heatmap"
           }
          ],
          "histogram": [
           {
            "marker": {
             "pattern": {
              "fillmode": "overlay",
              "size": 10,
              "solidity": 0.2
             }
            },
            "type": "histogram"
           }
          ],
          "histogram2d": [
           {
            "colorbar": {
             "outlinewidth": 0,
             "ticks": ""
            },
            "colorscale": [
             [
              0,
              "#0d0887"
             ],
             [
              0.1111111111111111,
              "#46039f"
             ],
             [
              0.2222222222222222,
              "#7201a8"
             ],
             [
              0.3333333333333333,
              "#9c179e"
             ],
             [
              0.4444444444444444,
              "#bd3786"
             ],
             [
              0.5555555555555556,
              "#d8576b"
             ],
             [
              0.6666666666666666,
              "#ed7953"
             ],
             [
              0.7777777777777778,
              "#fb9f3a"
             ],
             [
              0.8888888888888888,
              "#fdca26"
             ],
             [
              1,
              "#f0f921"
             ]
            ],
            "type": "histogram2d"
           }
          ],
          "histogram2dcontour": [
           {
            "colorbar": {
             "outlinewidth": 0,
             "ticks": ""
            },
            "colorscale": [
             [
              0,
              "#0d0887"
             ],
             [
              0.1111111111111111,
              "#46039f"
             ],
             [
              0.2222222222222222,
              "#7201a8"
             ],
             [
              0.3333333333333333,
              "#9c179e"
             ],
             [
              0.4444444444444444,
              "#bd3786"
             ],
             [
              0.5555555555555556,
              "#d8576b"
             ],
             [
              0.6666666666666666,
              "#ed7953"
             ],
             [
              0.7777777777777778,
              "#fb9f3a"
             ],
             [
              0.8888888888888888,
              "#fdca26"
             ],
             [
              1,
              "#f0f921"
             ]
            ],
            "type": "histogram2dcontour"
           }
          ],
          "mesh3d": [
           {
            "colorbar": {
             "outlinewidth": 0,
             "ticks": ""
            },
            "type": "mesh3d"
           }
          ],
          "parcoords": [
           {
            "line": {
             "colorbar": {
              "outlinewidth": 0,
              "ticks": ""
             }
            },
            "type": "parcoords"
           }
          ],
          "pie": [
           {
            "automargin": true,
            "type": "pie"
           }
          ],
          "scatter": [
           {
            "fillpattern": {
             "fillmode": "overlay",
             "size": 10,
             "solidity": 0.2
            },
            "type": "scatter"
           }
          ],
          "scatter3d": [
           {
            "line": {
             "colorbar": {
              "outlinewidth": 0,
              "ticks": ""
             }
            },
            "marker": {
             "colorbar": {
              "outlinewidth": 0,
              "ticks": ""
             }
            },
            "type": "scatter3d"
           }
          ],
          "scattercarpet": [
           {
            "marker": {
             "colorbar": {
              "outlinewidth": 0,
              "ticks": ""
             }
            },
            "type": "scattercarpet"
           }
          ],
          "scattergeo": [
           {
            "marker": {
             "colorbar": {
              "outlinewidth": 0,
              "ticks": ""
             }
            },
            "type": "scattergeo"
           }
          ],
          "scattergl": [
           {
            "marker": {
             "colorbar": {
              "outlinewidth": 0,
              "ticks": ""
             }
            },
            "type": "scattergl"
           }
          ],
          "scattermap": [
           {
            "marker": {
             "colorbar": {
              "outlinewidth": 0,
              "ticks": ""
             }
            },
            "type": "scattermap"
           }
          ],
          "scattermapbox": [
           {
            "marker": {
             "colorbar": {
              "outlinewidth": 0,
              "ticks": ""
             }
            },
            "type": "scattermapbox"
           }
          ],
          "scatterpolar": [
           {
            "marker": {
             "colorbar": {
              "outlinewidth": 0,
              "ticks": ""
             }
            },
            "type": "scatterpolar"
           }
          ],
          "scatterpolargl": [
           {
            "marker": {
             "colorbar": {
              "outlinewidth": 0,
              "ticks": ""
             }
            },
            "type": "scatterpolargl"
           }
          ],
          "scatterternary": [
           {
            "marker": {
             "colorbar": {
              "outlinewidth": 0,
              "ticks": ""
             }
            },
            "type": "scatterternary"
           }
          ],
          "surface": [
           {
            "colorbar": {
             "outlinewidth": 0,
             "ticks": ""
            },
            "colorscale": [
             [
              0,
              "#0d0887"
             ],
             [
              0.1111111111111111,
              "#46039f"
             ],
             [
              0.2222222222222222,
              "#7201a8"
             ],
             [
              0.3333333333333333,
              "#9c179e"
             ],
             [
              0.4444444444444444,
              "#bd3786"
             ],
             [
              0.5555555555555556,
              "#d8576b"
             ],
             [
              0.6666666666666666,
              "#ed7953"
             ],
             [
              0.7777777777777778,
              "#fb9f3a"
             ],
             [
              0.8888888888888888,
              "#fdca26"
             ],
             [
              1,
              "#f0f921"
             ]
            ],
            "type": "surface"
           }
          ],
          "table": [
           {
            "cells": {
             "fill": {
              "color": "#EBF0F8"
             },
             "line": {
              "color": "white"
             }
            },
            "header": {
             "fill": {
              "color": "#C8D4E3"
             },
             "line": {
              "color": "white"
             }
            },
            "type": "table"
           }
          ]
         },
         "layout": {
          "annotationdefaults": {
           "arrowcolor": "#2a3f5f",
           "arrowhead": 0,
           "arrowwidth": 1
          },
          "autotypenumbers": "strict",
          "coloraxis": {
           "colorbar": {
            "outlinewidth": 0,
            "ticks": ""
           }
          },
          "colorscale": {
           "diverging": [
            [
             0,
             "#8e0152"
            ],
            [
             0.1,
             "#c51b7d"
            ],
            [
             0.2,
             "#de77ae"
            ],
            [
             0.3,
             "#f1b6da"
            ],
            [
             0.4,
             "#fde0ef"
            ],
            [
             0.5,
             "#f7f7f7"
            ],
            [
             0.6,
             "#e6f5d0"
            ],
            [
             0.7,
             "#b8e186"
            ],
            [
             0.8,
             "#7fbc41"
            ],
            [
             0.9,
             "#4d9221"
            ],
            [
             1,
             "#276419"
            ]
           ],
           "sequential": [
            [
             0,
             "#0d0887"
            ],
            [
             0.1111111111111111,
             "#46039f"
            ],
            [
             0.2222222222222222,
             "#7201a8"
            ],
            [
             0.3333333333333333,
             "#9c179e"
            ],
            [
             0.4444444444444444,
             "#bd3786"
            ],
            [
             0.5555555555555556,
             "#d8576b"
            ],
            [
             0.6666666666666666,
             "#ed7953"
            ],
            [
             0.7777777777777778,
             "#fb9f3a"
            ],
            [
             0.8888888888888888,
             "#fdca26"
            ],
            [
             1,
             "#f0f921"
            ]
           ],
           "sequentialminus": [
            [
             0,
             "#0d0887"
            ],
            [
             0.1111111111111111,
             "#46039f"
            ],
            [
             0.2222222222222222,
             "#7201a8"
            ],
            [
             0.3333333333333333,
             "#9c179e"
            ],
            [
             0.4444444444444444,
             "#bd3786"
            ],
            [
             0.5555555555555556,
             "#d8576b"
            ],
            [
             0.6666666666666666,
             "#ed7953"
            ],
            [
             0.7777777777777778,
             "#fb9f3a"
            ],
            [
             0.8888888888888888,
             "#fdca26"
            ],
            [
             1,
             "#f0f921"
            ]
           ]
          },
          "colorway": [
           "#636efa",
           "#EF553B",
           "#00cc96",
           "#ab63fa",
           "#FFA15A",
           "#19d3f3",
           "#FF6692",
           "#B6E880",
           "#FF97FF",
           "#FECB52"
          ],
          "font": {
           "color": "#2a3f5f"
          },
          "geo": {
           "bgcolor": "white",
           "lakecolor": "white",
           "landcolor": "#E5ECF6",
           "showlakes": true,
           "showland": true,
           "subunitcolor": "white"
          },
          "hoverlabel": {
           "align": "left"
          },
          "hovermode": "closest",
          "mapbox": {
           "style": "light"
          },
          "paper_bgcolor": "white",
          "plot_bgcolor": "#E5ECF6",
          "polar": {
           "angularaxis": {
            "gridcolor": "white",
            "linecolor": "white",
            "ticks": ""
           },
           "bgcolor": "#E5ECF6",
           "radialaxis": {
            "gridcolor": "white",
            "linecolor": "white",
            "ticks": ""
           }
          },
          "scene": {
           "xaxis": {
            "backgroundcolor": "#E5ECF6",
            "gridcolor": "white",
            "gridwidth": 2,
            "linecolor": "white",
            "showbackground": true,
            "ticks": "",
            "zerolinecolor": "white"
           },
           "yaxis": {
            "backgroundcolor": "#E5ECF6",
            "gridcolor": "white",
            "gridwidth": 2,
            "linecolor": "white",
            "showbackground": true,
            "ticks": "",
            "zerolinecolor": "white"
           },
           "zaxis": {
            "backgroundcolor": "#E5ECF6",
            "gridcolor": "white",
            "gridwidth": 2,
            "linecolor": "white",
            "showbackground": true,
            "ticks": "",
            "zerolinecolor": "white"
           }
          },
          "shapedefaults": {
           "line": {
            "color": "#2a3f5f"
           }
          },
          "ternary": {
           "aaxis": {
            "gridcolor": "white",
            "linecolor": "white",
            "ticks": ""
           },
           "baxis": {
            "gridcolor": "white",
            "linecolor": "white",
            "ticks": ""
           },
           "bgcolor": "#E5ECF6",
           "caxis": {
            "gridcolor": "white",
            "linecolor": "white",
            "ticks": ""
           }
          },
          "title": {
           "x": 0.05
          },
          "xaxis": {
           "automargin": true,
           "gridcolor": "white",
           "linecolor": "white",
           "ticks": "",
           "title": {
            "standoff": 15
           },
           "zerolinecolor": "white",
           "zerolinewidth": 2
          },
          "yaxis": {
           "automargin": true,
           "gridcolor": "white",
           "linecolor": "white",
           "ticks": "",
           "title": {
            "standoff": 15
           },
           "zerolinecolor": "white",
           "zerolinewidth": 2
          }
         }
        },
        "title": {
         "text": "Salary Distribution by Employment Type"
        },
        "violinmode": "overlay",
        "width": 800,
        "xaxis": {
         "anchor": "y",
         "categoryarray": [
          "FT",
          "PT",
          "CT",
          "FL"
         ],
         "categoryorder": "array",
         "domain": [
          0,
          1
         ],
         "title": {
          "text": "Employment Type"
         }
        },
        "yaxis": {
         "anchor": "x",
         "domain": [
          0,
          1
         ],
         "title": {
          "text": "Salary (USD)"
         }
        }
       }
      }
     },
     "metadata": {},
     "output_type": "display_data"
    }
   ],
   "source": [
    "# 6. Salary Distribution by Employment Type\n",
    "fig6 = px.violin(\n",
    "    full_df,\n",
    "    x=\"employment_type\",\n",
    "    y=\"salary_usd\",\n",
    "    color=\"employment_type\",\n",
    "    title=\"Salary Distribution by Employment Type\",\n",
    "    labels={\"salary_usd\": \"Salary (USD)\", \"employment_type\": \"Employment Type\"},\n",
    "    category_orders={\"employment_type\": [\"FT\", \"PT\", \"CT\", \"FL\"]},\n",
    "    height=500,\n",
    "    width=800\n",
    ")\n",
    "fig6.update_layout(showlegend=False)\n",
    "fig6.add_annotation(\n",
    "    x=0,\n",
    "    y=full_df[\"salary_usd\"].max()*0.95,\n",
    "    text=\"FT=Full-Time, PT=Part-time, CT=Contract, FL=Freelance\",\n",
    "    showarrow=False,\n",
    "    bgcolor=\"rgba(255,255,255,0.8)\"\n",
    ")\n",
    "fig6.show()"
   ]
  },
  {
   "cell_type": "code",
   "execution_count": 64,
   "metadata": {},
   "outputs": [],
   "source": [
    "# Create employment type analysis\n",
    "employment_type_stats = full_df.groupby(\"employment_type\")[\"salary_usd\"].agg([\"mean\", \"median\", \"min\", \"max\", \"count\"]).reset_index()\n",
    "# Add readable employment type names\n",
    "emp_type_map = {\"FT\": \"Full-Time\", \"PT\": \"Part-Time\", \"CT\": \"Contract\", \"FL\": \"Freelance\"}\n",
    "employment_type_stats[\"employment_type_name\"] = employment_type_stats[\"employment_type\"].map(emp_type_map)\n",
    "employment_type_stats.to_csv(\"exports/s1-descriptive/employment_type_analysis.csv\", index=False)"
   ]
  },
  {
   "cell_type": "markdown",
   "metadata": {},
   "source": [
    "Contrary to conventional expectations, contract positions offer the highest median salary among AI employment arrangements at $134,678, exceeding full-time roles at $127,966. This suggests that organizations may be willing to pay a premium for specialized contract talent in the AI field. Part-time positions show a surprisingly competitive median salary of $128,234, slightly higher than full-time roles, while freelance arrangements trail with a median of $120,916. Despite contract positions leading in median salary, the mean values tell a different story—contract roles average $154,303, followed by part-time at $147,351, full-time at $145,331, and freelance at $140,486. All employment types demonstrate wide salary ranges, with contract positions showing the broadest span from $54,512 to $344,471, representing a difference of nearly $290,000. This substantial variability indicates that factors like experience level, job title, and industry significantly influence compensation across all employment arrangements. For STEAMe's workforce development initiatives, these findings challenge traditional assumptions about employment stability and compensation, suggesting that flexible work arrangements in AI can be financially rewarding and potentially offering alternative pathways for career advancement beyond conventional full-time employment."
   ]
  },
  {
   "cell_type": "markdown",
   "metadata": {},
   "source": [
    "### Enhanced Salary Summary\n",
    "\n",
    "Finally, we export salary summary across job title, experience level, and industry for further analysis and visualization in Tableau."
   ]
  },
  {
   "cell_type": "code",
   "execution_count": 35,
   "metadata": {},
   "outputs": [],
   "source": [
    "# Export enhanced salary summary to Excel\n",
    "salary_summary = full_df.groupby([\"job_title\", \"experience_level\", \"industry\"])[\"salary_usd\"].agg([\"mean\", \"median\", \"std\", \"count\"]).reset_index()\n",
    "salary_summary.to_csv(\"ai_salary_detailed_summary.csv\", index=False)"
   ]
  },
  {
   "cell_type": "markdown",
   "metadata": {},
   "source": [
    "## AWS Pipeline for AI Job Market Statistics to Tableau\n",
    "\n",
    "The statistics calculated in this notebook can be deployed in an AWS-based pipeline to make them accessible for Tableau visualizations. We would start by converting the current notebook processing into AWS Lambda functions that handle the raw job data, calculate descriptive statistics, and generate aggregated datasets similar to our Excel exports.\n",
    "\n",
    "Data storage would involve Amazon S3 for both raw data (the original CSV file) and processed statistics in JSON or CSV formats. AWS Glue would serve as the ETL tool, running scheduled jobs to transform the data, standardize skills terminology, create statistical summaries, and maintain consistent data schemas.\n",
    "\n",
    "For larger datasets, we'd implement Amazon RDS or Redshift with optimized tables and a star schema containing salary facts and dimension tables for job titles, experience levels, and industries.\n",
    "\n",
    "Tableau can connect directly to these data sources using either the S3 connector for flat files or database connectors for RDS/Redshift. We'd set up extract refresh schedules to automatically update the data without manual intervention. The Tableau data sources would include predefined calculations for metrics like median salaries and experience level groupings, along with consistent field naming and formatting.\n",
    "\n",
    "For implementation, AWS CloudWatch Events would trigger the pipeline when new job data becomes available or on regular refresh cycles. Security would be handled through IAM roles for access between AWS services, and we'd use S3 Intelligent-Tiering to optimize storage costs while Lambda functions would minimize compute expenses.\n",
    "\n",
    "This approach creates an automated pipeline that refreshes AI job market statistics and makes them immediately available in Tableau, providing STEAMe's users with current insights for career decision-making."
   ]
  }
 ],
 "metadata": {
  "kernelspec": {
   "display_name": ".venv",
   "language": "python",
   "name": "python3"
  },
  "language_info": {
   "codemirror_mode": {
    "name": "ipython",
    "version": 3
   },
   "file_extension": ".py",
   "mimetype": "text/x-python",
   "name": "python",
   "nbconvert_exporter": "python",
   "pygments_lexer": "ipython3",
   "version": "3.12.4"
  }
 },
 "nbformat": 4,
 "nbformat_minor": 2
}
