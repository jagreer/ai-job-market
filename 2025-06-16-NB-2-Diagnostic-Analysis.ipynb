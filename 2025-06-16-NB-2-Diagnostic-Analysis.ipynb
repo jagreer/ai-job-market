{
 "cells": [
  {
   "cell_type": "markdown",
   "metadata": {},
   "source": [
    "---\n",
    "date: \"Monday June 16th, 2025\"\n",
    "---\n",
    "\n",
    "# Diagnostic Analysis: AI Skills Premium Investigation\n",
    "\n",
    "Building upon our descriptive analysis of the AI job market landscape, we now shift to diagnostic analytics to investigate why certain patterns exist in compensation across the AI field. This second phase focuses on identifying the causal factors behind salary variations, with particular emphasis on quantifying skill premiums and understanding how they differ across experience levels. By leveraging more sophisticated analytical techniques, we've moved beyond observing what is happening to explaining why these patterns occur.\n",
    "Our analysis has addressed two key questions so far: (1) Which specific skills or skill combinations command the highest salary premiums, and (2) How these premiums vary across different experience levels from entry to executive positions. To answer these questions, we've performed skills tokenization and frequency analysis to identify high-value technical capabilities, calculated salary differentials for both individual skills and skill combinations, and examined how the value of skills changes throughout career progression.\n",
    "\n",
    "This diagnostic phase required sophisticated data manipulation, including parsing the required_skills column into individual skill flags, standardizing skill terminology, creating derived features to capture skill domain coverage, and analyzing co-occurrence patterns. The insights generated provide STEAMe's platform users with actionable intelligence about which skills deliver the highest return on investment at each career stage, helping learners make more strategic decisions about their professional development.\n",
    "\n",
    "Before beginning this analysis, we'll need to ensure our dataset is properly prepared from the descriptive phase, with particular attention to handling the required_skills text field, normalizing education_required categories, and ensuring our numerical variables are appropriately scaled for regression analysis."
   ]
  },
  {
   "cell_type": "markdown",
   "metadata": {},
   "source": [
    "## 1. Data Preparation and Enhancement\n",
    "\n",
    "In this diagnostic analysis phase, we'll build upon our descriptive findings to investigate why certain patterns exist in AI job compensation. Before diving into analytical questions, we need to prepare and enhance our dataset, particularly by transforming unstructured skills data into a format suitable for quantitative analysis. This preparation will allow us to isolate the impact of specific skills, educational requirements, and other factors on salary levels.\n",
    "\n",
    "The first critical step involves parsing the `required_skills` column, which currently contains comma-separated text listings, into individual skill indicators. This transformation will enable us to measure the frequency and salary premium associated with each skill across the AI job market"
   ]
  },
  {
   "cell_type": "code",
   "execution_count": 64,
   "metadata": {},
   "outputs": [
    {
     "name": "stdout",
     "output_type": "stream",
     "text": [
      "Dataset Shape: (724, 19)\n",
      "\n",
      "First 5 rows of the dataset:\n"
     ]
    },
    {
     "data": {
      "text/html": [
       "<div>\n",
       "<style scoped>\n",
       "    .dataframe tbody tr th:only-of-type {\n",
       "        vertical-align: middle;\n",
       "    }\n",
       "\n",
       "    .dataframe tbody tr th {\n",
       "        vertical-align: top;\n",
       "    }\n",
       "\n",
       "    .dataframe thead th {\n",
       "        text-align: right;\n",
       "    }\n",
       "</style>\n",
       "<table border=\"1\" class=\"dataframe\">\n",
       "  <thead>\n",
       "    <tr style=\"text-align: right;\">\n",
       "      <th></th>\n",
       "      <th>job_id</th>\n",
       "      <th>job_title</th>\n",
       "      <th>salary_usd</th>\n",
       "      <th>salary_currency</th>\n",
       "      <th>experience_level</th>\n",
       "      <th>employment_type</th>\n",
       "      <th>company_location</th>\n",
       "      <th>company_size</th>\n",
       "      <th>employee_residence</th>\n",
       "      <th>remote_ratio</th>\n",
       "      <th>required_skills</th>\n",
       "      <th>education_required</th>\n",
       "      <th>years_experience</th>\n",
       "      <th>industry</th>\n",
       "      <th>posting_date</th>\n",
       "      <th>application_deadline</th>\n",
       "      <th>job_description_length</th>\n",
       "      <th>benefits_score</th>\n",
       "      <th>company_name</th>\n",
       "    </tr>\n",
       "  </thead>\n",
       "  <tbody>\n",
       "    <tr>\n",
       "      <th>0</th>\n",
       "      <td>AI00022</td>\n",
       "      <td>Autonomous Systems Engineer</td>\n",
       "      <td>102550</td>\n",
       "      <td>USD</td>\n",
       "      <td>MI</td>\n",
       "      <td>PT</td>\n",
       "      <td>United States</td>\n",
       "      <td>M</td>\n",
       "      <td>United States</td>\n",
       "      <td>0</td>\n",
       "      <td>Tableau, Spark, NLP, TensorFlow, PyTorch</td>\n",
       "      <td>Bachelor</td>\n",
       "      <td>2</td>\n",
       "      <td>Automotive</td>\n",
       "      <td>4/23/2024</td>\n",
       "      <td>6/23/2024</td>\n",
       "      <td>625</td>\n",
       "      <td>10.0</td>\n",
       "      <td>Cognitive Computing</td>\n",
       "    </tr>\n",
       "    <tr>\n",
       "      <th>1</th>\n",
       "      <td>AI00041</td>\n",
       "      <td>Data Scientist</td>\n",
       "      <td>96956</td>\n",
       "      <td>USD</td>\n",
       "      <td>MI</td>\n",
       "      <td>FT</td>\n",
       "      <td>United States</td>\n",
       "      <td>M</td>\n",
       "      <td>China</td>\n",
       "      <td>0</td>\n",
       "      <td>Data Visualization, Azure, Spark, MLOps</td>\n",
       "      <td>Bachelor</td>\n",
       "      <td>2</td>\n",
       "      <td>Telecommunications</td>\n",
       "      <td>2/24/2024</td>\n",
       "      <td>3/9/2024</td>\n",
       "      <td>761</td>\n",
       "      <td>5.3</td>\n",
       "      <td>DataVision Ltd</td>\n",
       "    </tr>\n",
       "    <tr>\n",
       "      <th>2</th>\n",
       "      <td>AI00042</td>\n",
       "      <td>AI Architect</td>\n",
       "      <td>196954</td>\n",
       "      <td>USD</td>\n",
       "      <td>SE</td>\n",
       "      <td>FL</td>\n",
       "      <td>United States</td>\n",
       "      <td>L</td>\n",
       "      <td>United States</td>\n",
       "      <td>50</td>\n",
       "      <td>Java, Mathematics, SQL</td>\n",
       "      <td>Bachelor</td>\n",
       "      <td>8</td>\n",
       "      <td>Finance</td>\n",
       "      <td>3/17/2025</td>\n",
       "      <td>4/16/2025</td>\n",
       "      <td>2290</td>\n",
       "      <td>7.5</td>\n",
       "      <td>DataVision Ltd</td>\n",
       "    </tr>\n",
       "    <tr>\n",
       "      <th>3</th>\n",
       "      <td>AI00046</td>\n",
       "      <td>AI Research Scientist</td>\n",
       "      <td>174663</td>\n",
       "      <td>USD</td>\n",
       "      <td>SE</td>\n",
       "      <td>CT</td>\n",
       "      <td>United States</td>\n",
       "      <td>M</td>\n",
       "      <td>Singapore</td>\n",
       "      <td>50</td>\n",
       "      <td>Data Visualization, Statistics, R</td>\n",
       "      <td>Associate</td>\n",
       "      <td>7</td>\n",
       "      <td>Media</td>\n",
       "      <td>1/10/2024</td>\n",
       "      <td>3/22/2024</td>\n",
       "      <td>1151</td>\n",
       "      <td>5.4</td>\n",
       "      <td>DeepTech Ventures</td>\n",
       "    </tr>\n",
       "    <tr>\n",
       "      <th>4</th>\n",
       "      <td>AI00053</td>\n",
       "      <td>Research Scientist</td>\n",
       "      <td>106579</td>\n",
       "      <td>USD</td>\n",
       "      <td>MI</td>\n",
       "      <td>PT</td>\n",
       "      <td>United States</td>\n",
       "      <td>S</td>\n",
       "      <td>United States</td>\n",
       "      <td>100</td>\n",
       "      <td>Docker, Tableau, Mathematics</td>\n",
       "      <td>Associate</td>\n",
       "      <td>3</td>\n",
       "      <td>Gaming</td>\n",
       "      <td>2/24/2024</td>\n",
       "      <td>5/2/2024</td>\n",
       "      <td>2028</td>\n",
       "      <td>5.4</td>\n",
       "      <td>Cognitive Computing</td>\n",
       "    </tr>\n",
       "  </tbody>\n",
       "</table>\n",
       "</div>"
      ],
      "text/plain": [
       "    job_id                    job_title  salary_usd salary_currency  \\\n",
       "0  AI00022  Autonomous Systems Engineer      102550             USD   \n",
       "1  AI00041               Data Scientist       96956             USD   \n",
       "2  AI00042                 AI Architect      196954             USD   \n",
       "3  AI00046        AI Research Scientist      174663             USD   \n",
       "4  AI00053           Research Scientist      106579             USD   \n",
       "\n",
       "  experience_level employment_type company_location company_size  \\\n",
       "0               MI              PT    United States            M   \n",
       "1               MI              FT    United States            M   \n",
       "2               SE              FL    United States            L   \n",
       "3               SE              CT    United States            M   \n",
       "4               MI              PT    United States            S   \n",
       "\n",
       "  employee_residence  remote_ratio                           required_skills  \\\n",
       "0      United States             0  Tableau, Spark, NLP, TensorFlow, PyTorch   \n",
       "1              China             0   Data Visualization, Azure, Spark, MLOps   \n",
       "2      United States            50                    Java, Mathematics, SQL   \n",
       "3          Singapore            50         Data Visualization, Statistics, R   \n",
       "4      United States           100              Docker, Tableau, Mathematics   \n",
       "\n",
       "  education_required  years_experience            industry posting_date  \\\n",
       "0           Bachelor                 2          Automotive    4/23/2024   \n",
       "1           Bachelor                 2  Telecommunications    2/24/2024   \n",
       "2           Bachelor                 8             Finance    3/17/2025   \n",
       "3          Associate                 7               Media    1/10/2024   \n",
       "4          Associate                 3              Gaming    2/24/2024   \n",
       "\n",
       "  application_deadline  job_description_length  benefits_score  \\\n",
       "0            6/23/2024                     625            10.0   \n",
       "1             3/9/2024                     761             5.3   \n",
       "2            4/16/2025                    2290             7.5   \n",
       "3            3/22/2024                    1151             5.4   \n",
       "4             5/2/2024                    2028             5.4   \n",
       "\n",
       "          company_name  \n",
       "0  Cognitive Computing  \n",
       "1       DataVision Ltd  \n",
       "2       DataVision Ltd  \n",
       "3    DeepTech Ventures  \n",
       "4  Cognitive Computing  "
      ]
     },
     "metadata": {},
     "output_type": "display_data"
    },
    {
     "name": "stdout",
     "output_type": "stream",
     "text": [
      "\n",
      "Sample of required_skills values:\n"
     ]
    },
    {
     "data": {
      "text/plain": [
       "0       Tableau, Spark, NLP, TensorFlow, PyTorch\n",
       "1        Data Visualization, Azure, Spark, MLOps\n",
       "2                         Java, Mathematics, SQL\n",
       "3              Data Visualization, Statistics, R\n",
       "4                   Docker, Tableau, Mathematics\n",
       "5                            PyTorch, Linux, SQL\n",
       "6                               R, NLP, SQL, GCP\n",
       "7                      Java, Hadoop, Mathematics\n",
       "8    AWS, Kubernetes, Docker, Mathematics, MLOps\n",
       "9              Computer Vision, Hadoop, Git, AWS\n",
       "Name: required_skills, dtype: object"
      ]
     },
     "metadata": {},
     "output_type": "display_data"
    }
   ],
   "source": [
    "# Import necessary libraries\n",
    "import pandas as pd\n",
    "import numpy as np\n",
    "import matplotlib.pyplot as plt\n",
    "import seaborn as sns\n",
    "import plotly.express as px\n",
    "import plotly.graph_objects as go\n",
    "from plotly.subplots import make_subplots\n",
    "import re\n",
    "from sklearn.preprocessing import OneHotEncoder\n",
    "from sklearn.linear_model import LinearRegression\n",
    "from sklearn.feature_selection import f_regression\n",
    "import statsmodels.api as sm\n",
    "from typing import List\n",
    "\n",
    "# Set visualization styles\n",
    "plt.style.use(\"seaborn-v0_8-whitegrid\")\n",
    "sns.set_palette(\"colorblind\")\n",
    "\n",
    "# Load the dataset from previous phase\n",
    "full_df = pd.read_csv('data/ai_job_dataset_united_states.csv')\n",
    "\n",
    "# Display the first few rows to remind ourselves of the structure\n",
    "print(f\"Dataset Shape: {full_df.shape}\")\n",
    "print(\"\\nFirst 5 rows of the dataset:\")\n",
    "display(full_df.head())\n",
    "\n",
    "# Check the required_skills column format\n",
    "print(\"\\nSample of required_skills values:\")\n",
    "display(full_df[\"required_skills\"].head(10))"
   ]
  },
  {
   "cell_type": "markdown",
   "metadata": {},
   "source": [
    "Now that we've loaded our dataset, we'll parse the `required_skills` column into individual skill indicators. This involves:\n",
    "\n",
    "1. Extracting unique skills from across all job postings\n",
    "2. Creating binary columns indicating whether each job requires a particular skill\n",
    "3. Standardizing skill names to account for variations in terminology"
   ]
  },
  {
   "cell_type": "code",
   "execution_count": 65,
   "metadata": {},
   "outputs": [],
   "source": [
    "# Function to extract and standardize skills\n",
    "def extract_skills(skills_text: str) -> List[str]:\n",
    "    if pd.isna(skills_text):\n",
    "        return []\n",
    "    \n",
    "    # Split by comma and strip whitespace\n",
    "    skills = [s.strip() for s in skills_text.split(',')]\n",
    "\n",
    "    # Standardize common variations\n",
    "    skill_mapping = {\n",
    "        'tensorflow': 'TensorFlow',\n",
    "        'pytorch': 'PyTorch',\n",
    "        'scikit-learn': 'Scikit-learn',\n",
    "        'sklearn': 'Scikit-learn',\n",
    "        'machine learning': 'Machine Learning',\n",
    "        'deep learning': 'Deep Learning',\n",
    "        'natural language processing': 'NLP',\n",
    "        'computer vision': 'Computer Vision',\n",
    "        'statistics': 'Statistics',\n",
    "        'python': 'Python',\n",
    "        'r': 'R',\n",
    "        'sql': 'SQL',\n",
    "        'java': 'Java',\n",
    "        'c++': 'C++',\n",
    "        'aws': 'AWS',\n",
    "        'azure': 'Azure',\n",
    "        'gcp': 'GCP',\n",
    "        'google cloud': 'GCP',\n",
    "        'docker': 'Docker',\n",
    "        'kubernetes': 'Kubernetes',\n",
    "        'hadoop': 'Hadoop',\n",
    "        'spark': 'Spark',\n",
    "        'tableau': 'Tableau',\n",
    "        'power bi': 'Power BI',\n",
    "        'git': 'Git',\n",
    "        'linux': 'Linux',\n",
    "        'mathematics': 'Mathematics',\n",
    "        'mlops': 'MLOps',\n",
    "    }\n",
    "\n",
    "    # Standardize skills (case-insensitive mapping)\n",
    "    standardize_skills = []\n",
    "    for skill in skills:\n",
    "        skill_lower = skill.lower()\n",
    "        if skill_lower in skill_mapping:\n",
    "            standardize_skills.append(skill_mapping[skill_lower])\n",
    "        else:\n",
    "            standardize_skills.append(skill)\n",
    "    return standardize_skills"
   ]
  },
  {
   "cell_type": "code",
   "execution_count": 66,
   "metadata": {},
   "outputs": [
    {
     "name": "stdout",
     "output_type": "stream",
     "text": [
      "Number of common skills: 24\n",
      "\n",
      "Top 20 most common skills:\n"
     ]
    },
    {
     "data": {
      "text/plain": [
       "Python                218\n",
       "SQL                   167\n",
       "Kubernetes            155\n",
       "TensorFlow            154\n",
       "Scala                 149\n",
       "Linux                 141\n",
       "PyTorch               132\n",
       "Java                  129\n",
       "Mathematics           120\n",
       "Computer Vision       118\n",
       "R                     116\n",
       "Git                   113\n",
       "MLOps                 111\n",
       "Azure                 111\n",
       "Hadoop                110\n",
       "GCP                   109\n",
       "NLP                   105\n",
       "Tableau               102\n",
       "Spark                  99\n",
       "Data Visualization     96\n",
       "Name: count, dtype: int64"
      ]
     },
     "metadata": {},
     "output_type": "display_data"
    }
   ],
   "source": [
    "# Extract all skills from the dataset\n",
    "all_skills = []\n",
    "for skills_text in full_df[\"required_skills\"]:\n",
    "    skills = extract_skills(skills_text)\n",
    "    all_skills.extend(skills)\n",
    "\n",
    "# Count frequency of each skill\n",
    "skill_counts = pd.Series(all_skills).value_counts()\n",
    "\n",
    "# Keep only skills that appear in at least 1% of job postings\n",
    "min_count = len(full_df) * 0.01\n",
    "common_skills = skill_counts[skill_counts >= min_count].index.tolist()\n",
    "\n",
    "print(f\"Number of common skills: {len(common_skills)}\")\n",
    "print(\"\\nTop 20 most common skills:\")\n",
    "display(skill_counts.head(20))"
   ]
  },
  {
   "cell_type": "markdown",
   "metadata": {},
   "source": [
    "### Creating Individual Skill Flags\n",
    "\n",
    "In the next cells, we'll parse the `required_skills`column into individual skill flags. We create binary indicator variables for common skills and handle variations in skill naming/formatting."
   ]
  },
  {
   "cell_type": "code",
   "execution_count": 67,
   "metadata": {},
   "outputs": [
    {
     "name": "stdout",
     "output_type": "stream",
     "text": [
      "\n",
      "Created 24 skill indicator columns\n"
     ]
    },
    {
     "data": {
      "text/html": [
       "<div>\n",
       "<style scoped>\n",
       "    .dataframe tbody tr th:only-of-type {\n",
       "        vertical-align: middle;\n",
       "    }\n",
       "\n",
       "    .dataframe tbody tr th {\n",
       "        vertical-align: top;\n",
       "    }\n",
       "\n",
       "    .dataframe thead th {\n",
       "        text-align: right;\n",
       "    }\n",
       "</style>\n",
       "<table border=\"1\" class=\"dataframe\">\n",
       "  <thead>\n",
       "    <tr style=\"text-align: right;\">\n",
       "      <th></th>\n",
       "      <th>job_id</th>\n",
       "      <th>job_title</th>\n",
       "      <th>salary_usd</th>\n",
       "      <th>skill_Python</th>\n",
       "      <th>skill_SQL</th>\n",
       "      <th>skill_Kubernetes</th>\n",
       "      <th>skill_TensorFlow</th>\n",
       "      <th>skill_Scala</th>\n",
       "    </tr>\n",
       "  </thead>\n",
       "  <tbody>\n",
       "    <tr>\n",
       "      <th>0</th>\n",
       "      <td>AI00022</td>\n",
       "      <td>Autonomous Systems Engineer</td>\n",
       "      <td>102550</td>\n",
       "      <td>0</td>\n",
       "      <td>0</td>\n",
       "      <td>0</td>\n",
       "      <td>1</td>\n",
       "      <td>0</td>\n",
       "    </tr>\n",
       "    <tr>\n",
       "      <th>1</th>\n",
       "      <td>AI00041</td>\n",
       "      <td>Data Scientist</td>\n",
       "      <td>96956</td>\n",
       "      <td>0</td>\n",
       "      <td>0</td>\n",
       "      <td>0</td>\n",
       "      <td>0</td>\n",
       "      <td>0</td>\n",
       "    </tr>\n",
       "    <tr>\n",
       "      <th>2</th>\n",
       "      <td>AI00042</td>\n",
       "      <td>AI Architect</td>\n",
       "      <td>196954</td>\n",
       "      <td>0</td>\n",
       "      <td>1</td>\n",
       "      <td>0</td>\n",
       "      <td>0</td>\n",
       "      <td>0</td>\n",
       "    </tr>\n",
       "    <tr>\n",
       "      <th>3</th>\n",
       "      <td>AI00046</td>\n",
       "      <td>AI Research Scientist</td>\n",
       "      <td>174663</td>\n",
       "      <td>0</td>\n",
       "      <td>0</td>\n",
       "      <td>0</td>\n",
       "      <td>0</td>\n",
       "      <td>0</td>\n",
       "    </tr>\n",
       "    <tr>\n",
       "      <th>4</th>\n",
       "      <td>AI00053</td>\n",
       "      <td>Research Scientist</td>\n",
       "      <td>106579</td>\n",
       "      <td>0</td>\n",
       "      <td>0</td>\n",
       "      <td>0</td>\n",
       "      <td>0</td>\n",
       "      <td>0</td>\n",
       "    </tr>\n",
       "  </tbody>\n",
       "</table>\n",
       "</div>"
      ],
      "text/plain": [
       "    job_id                    job_title  salary_usd  skill_Python  skill_SQL  \\\n",
       "0  AI00022  Autonomous Systems Engineer      102550             0          0   \n",
       "1  AI00041               Data Scientist       96956             0          0   \n",
       "2  AI00042                 AI Architect      196954             0          1   \n",
       "3  AI00046        AI Research Scientist      174663             0          0   \n",
       "4  AI00053           Research Scientist      106579             0          0   \n",
       "\n",
       "   skill_Kubernetes  skill_TensorFlow  skill_Scala  \n",
       "0                 0                 1            0  \n",
       "1                 0                 0            0  \n",
       "2                 0                 0            0  \n",
       "3                 0                 0            0  \n",
       "4                 0                 0            0  "
      ]
     },
     "metadata": {},
     "output_type": "display_data"
    }
   ],
   "source": [
    "# Create binary columns for each common skill\n",
    "for skill in common_skills:\n",
    "    full_df[f\"skill_{skill}\"] = full_df[\"required_skills\"].apply(\n",
    "        lambda x: 1 if skill in extract_skills(x) else 0\n",
    "    )\n",
    "\n",
    "# Show the first few rows with the new skill columns\n",
    "skill_cols = [col for col in full_df.columns if col.startswith(\"skill_\")]\n",
    "print(f\"\\nCreated {len(skill_cols)} skill indicator columns\")\n",
    "display(full_df[[\"job_id\", \"job_title\", \"salary_usd\"] + skill_cols[:5]].head())"
   ]
  },
  {
   "cell_type": "code",
   "execution_count": 68,
   "metadata": {},
   "outputs": [],
   "source": [
    "# Store the resulting dataframe to a new Excel file\n",
    "full_df.to_csv(\"./exports/s2-diagnostic/df_with_skills_pivoted.csv\", index=False)"
   ]
  },
  {
   "cell_type": "code",
   "execution_count": 11,
   "metadata": {},
   "outputs": [
    {
     "data": {
      "application/vnd.plotly.v1+json": {
       "config": {
        "plotlyServerURL": "https://plot.ly"
       },
       "data": [
        {
         "bingroup": "x",
         "hovertemplate": "Number of Skills=%{x}<br>count=%{y}<extra></extra>",
         "legendgroup": "",
         "marker": {
          "color": "#636EFA",
          "opacity": 0.7,
          "pattern": {
           "shape": ""
          }
         },
         "name": "",
         "orientation": "v",
         "showlegend": false,
         "type": "histogram",
         "x": {
          "bdata": "BQQDAwMDBAMFBAUDAwMFBAUFBQQFBQUFBQQEAwMFBQQDAwQEBQUFBAMFBAMFBQQEBAQDBAMDBQMDBAUDAwUEBAQEBAUEBAUEAwUFAwMEBAUEBAMFBQQFAwMFBQUEBQUFBAMFBQMEBAMEBAQFBQMFBQMFBAUFBQMEAwUDBQUDAwMFBQUEBAUFBAMEBAMFBAMDBAMEBQQDBAQFBAMFBAUEBAMEBAQEBAMFAwQFBQUDAwUEBAMEBAQDAwQDBAUDBAUEBAQFAwQEBQQDAwUDBAUFAwMFBAUDBQUEBQMEBAUDAwMEBAUEBQMEBQUFBQMFBQMDAwUDBAQFBQMEAwUFBQQDAwQDBQMEAwQEBQQEBQUFBAMEAwMDAwMFBQQDBQMDAwQDAwUEBQMEBQQEBQMEBQUEAwUEBQQFBAUDAwUFAwQDBAUEBAMFBQMEBAMFBQMFBAQFAwUDBAMEAwQFBQMFBAMDBQQEAwQEBAQDBAMFBQQDBQQDBAMEAwUEBQUEAwQDBAQFBAQFAwMEAwMFBQQEAwUDAwUFBQMDBAMDAwQEBAQEAwUDBQMDAwMEBAMDBQMFBQUFBQMDBQUDBAQDAwQFAwUFBQUDAwMDAwQDBQUDBQUFBAQFAwQDBAMFBQMFAwMDBAQDAwQDBQUFAwUDAwUEBQMEBQQFBQQEAwUEBQQEAwUFBQQDBQQEAwQEAwMDBAQDAwUDBQQFBAUEAwMFBQUDAwQEBQMDBQUDAwUDBQUEBQQDAwUDBQQDAwMEBAQEBAUEAwQFBQMFBQMEBAQDAwMFAwQEBAQFAwQFBAMEBQQFBAQDBAMEAwMEBAMFAwMFBAUFBQQFAwQEAwMEAwMFBQQDAwQEBQUEAwUFBAUEAwMDAwQDBAMDBQMFBQQDBQMFBQMEBAQDAwUFAwUEBQMDAwMFAwMEBQQDBQUFBQMEBAMDAwUDAwQFAwUEBQQFBAUEAwUFAwQEBQQFBQ==",
          "dtype": "i1"
         },
         "xaxis": "x",
         "yaxis": "y"
        },
        {
         "hovertemplate": "Number of Skills=%{x}<extra></extra>",
         "legendgroup": "",
         "marker": {
          "color": "#636EFA"
         },
         "name": "",
         "notched": true,
         "showlegend": false,
         "type": "box",
         "x": {
          "bdata": "BQQDAwMDBAMFBAUDAwMFBAUFBQQFBQUFBQQEAwMFBQQDAwQEBQUFBAMFBAMFBQQEBAQDBAMDBQMDBAUDAwUEBAQEBAUEBAUEAwUFAwMEBAUEBAMFBQQFAwMFBQUEBQUFBAMFBQMEBAMEBAQFBQMFBQMFBAUFBQMEAwUDBQUDAwMFBQUEBAUFBAMEBAMFBAMDBAMEBQQDBAQFBAMFBAUEBAMEBAQEBAMFAwQFBQUDAwUEBAMEBAQDAwQDBAUDBAUEBAQFAwQEBQQDAwUDBAUFAwMFBAUDBQUEBQMEBAUDAwMEBAUEBQMEBQUFBQMFBQMDAwUDBAQFBQMEAwUFBQQDAwQDBQMEAwQEBQQEBQUFBAMEAwMDAwMFBQQDBQMDAwQDAwUEBQMEBQQEBQMEBQUEAwUEBQQFBAUDAwUFAwQDBAUEBAMFBQMEBAMFBQMFBAQFAwUDBAMEAwQFBQMFBAMDBQQEAwQEBAQDBAMFBQQDBQQDBAMEAwUEBQUEAwQDBAQFBAQFAwMEAwMFBQQEAwUDAwUFBQMDBAMDAwQEBAQEAwUDBQMDAwMEBAMDBQMFBQUFBQMDBQUDBAQDAwQFAwUFBQUDAwMDAwQDBQUDBQUFBAQFAwQDBAMFBQMFAwMDBAQDAwQDBQUFAwUDAwUEBQMEBQQFBQQEAwUEBQQEAwUFBQQDBQQEAwQEAwMDBAQDAwUDBQQFBAUEAwMFBQUDAwQEBQMDBQUDAwUDBQUEBQQDAwUDBQQDAwMEBAQEBAUEAwQFBQMFBQMEBAQDAwMFAwQEBAQFAwQFBAMEBQQFBAQDBAMEAwMEBAMFAwMFBAUFBQQFAwQEAwMEAwMFBQQDAwQEBQUEAwUFBAUEAwMDAwQDBAMDBQMFBQQDBQMFBQMEBAQDAwUFAwUEBQMDAwMFAwMEBQQDBQUFBQMEBAMDAwUDAwQFAwUEBQQFBAUEAwUFAwQEBQQFBQ==",
          "dtype": "i1"
         },
         "xaxis": "x2",
         "yaxis": "y2"
        }
       ],
       "layout": {
        "barmode": "relative",
        "height": 500,
        "legend": {
         "tracegroupgap": 0
        },
        "template": {
         "data": {
          "bar": [
           {
            "error_x": {
             "color": "#2a3f5f"
            },
            "error_y": {
             "color": "#2a3f5f"
            },
            "marker": {
             "line": {
              "color": "#E5ECF6",
              "width": 0.5
             },
             "pattern": {
              "fillmode": "overlay",
              "size": 10,
              "solidity": 0.2
             }
            },
            "type": "bar"
           }
          ],
          "barpolar": [
           {
            "marker": {
             "line": {
              "color": "#E5ECF6",
              "width": 0.5
             },
             "pattern": {
              "fillmode": "overlay",
              "size": 10,
              "solidity": 0.2
             }
            },
            "type": "barpolar"
           }
          ],
          "carpet": [
           {
            "aaxis": {
             "endlinecolor": "#2a3f5f",
             "gridcolor": "white",
             "linecolor": "white",
             "minorgridcolor": "white",
             "startlinecolor": "#2a3f5f"
            },
            "baxis": {
             "endlinecolor": "#2a3f5f",
             "gridcolor": "white",
             "linecolor": "white",
             "minorgridcolor": "white",
             "startlinecolor": "#2a3f5f"
            },
            "type": "carpet"
           }
          ],
          "choropleth": [
           {
            "colorbar": {
             "outlinewidth": 0,
             "ticks": ""
            },
            "type": "choropleth"
           }
          ],
          "contour": [
           {
            "colorbar": {
             "outlinewidth": 0,
             "ticks": ""
            },
            "colorscale": [
             [
              0,
              "#0d0887"
             ],
             [
              0.1111111111111111,
              "#46039f"
             ],
             [
              0.2222222222222222,
              "#7201a8"
             ],
             [
              0.3333333333333333,
              "#9c179e"
             ],
             [
              0.4444444444444444,
              "#bd3786"
             ],
             [
              0.5555555555555556,
              "#d8576b"
             ],
             [
              0.6666666666666666,
              "#ed7953"
             ],
             [
              0.7777777777777778,
              "#fb9f3a"
             ],
             [
              0.8888888888888888,
              "#fdca26"
             ],
             [
              1,
              "#f0f921"
             ]
            ],
            "type": "contour"
           }
          ],
          "contourcarpet": [
           {
            "colorbar": {
             "outlinewidth": 0,
             "ticks": ""
            },
            "type": "contourcarpet"
           }
          ],
          "heatmap": [
           {
            "colorbar": {
             "outlinewidth": 0,
             "ticks": ""
            },
            "colorscale": [
             [
              0,
              "#0d0887"
             ],
             [
              0.1111111111111111,
              "#46039f"
             ],
             [
              0.2222222222222222,
              "#7201a8"
             ],
             [
              0.3333333333333333,
              "#9c179e"
             ],
             [
              0.4444444444444444,
              "#bd3786"
             ],
             [
              0.5555555555555556,
              "#d8576b"
             ],
             [
              0.6666666666666666,
              "#ed7953"
             ],
             [
              0.7777777777777778,
              "#fb9f3a"
             ],
             [
              0.8888888888888888,
              "#fdca26"
             ],
             [
              1,
              "#f0f921"
             ]
            ],
            "type": "heatmap"
           }
          ],
          "histogram": [
           {
            "marker": {
             "pattern": {
              "fillmode": "overlay",
              "size": 10,
              "solidity": 0.2
             }
            },
            "type": "histogram"
           }
          ],
          "histogram2d": [
           {
            "colorbar": {
             "outlinewidth": 0,
             "ticks": ""
            },
            "colorscale": [
             [
              0,
              "#0d0887"
             ],
             [
              0.1111111111111111,
              "#46039f"
             ],
             [
              0.2222222222222222,
              "#7201a8"
             ],
             [
              0.3333333333333333,
              "#9c179e"
             ],
             [
              0.4444444444444444,
              "#bd3786"
             ],
             [
              0.5555555555555556,
              "#d8576b"
             ],
             [
              0.6666666666666666,
              "#ed7953"
             ],
             [
              0.7777777777777778,
              "#fb9f3a"
             ],
             [
              0.8888888888888888,
              "#fdca26"
             ],
             [
              1,
              "#f0f921"
             ]
            ],
            "type": "histogram2d"
           }
          ],
          "histogram2dcontour": [
           {
            "colorbar": {
             "outlinewidth": 0,
             "ticks": ""
            },
            "colorscale": [
             [
              0,
              "#0d0887"
             ],
             [
              0.1111111111111111,
              "#46039f"
             ],
             [
              0.2222222222222222,
              "#7201a8"
             ],
             [
              0.3333333333333333,
              "#9c179e"
             ],
             [
              0.4444444444444444,
              "#bd3786"
             ],
             [
              0.5555555555555556,
              "#d8576b"
             ],
             [
              0.6666666666666666,
              "#ed7953"
             ],
             [
              0.7777777777777778,
              "#fb9f3a"
             ],
             [
              0.8888888888888888,
              "#fdca26"
             ],
             [
              1,
              "#f0f921"
             ]
            ],
            "type": "histogram2dcontour"
           }
          ],
          "mesh3d": [
           {
            "colorbar": {
             "outlinewidth": 0,
             "ticks": ""
            },
            "type": "mesh3d"
           }
          ],
          "parcoords": [
           {
            "line": {
             "colorbar": {
              "outlinewidth": 0,
              "ticks": ""
             }
            },
            "type": "parcoords"
           }
          ],
          "pie": [
           {
            "automargin": true,
            "type": "pie"
           }
          ],
          "scatter": [
           {
            "fillpattern": {
             "fillmode": "overlay",
             "size": 10,
             "solidity": 0.2
            },
            "type": "scatter"
           }
          ],
          "scatter3d": [
           {
            "line": {
             "colorbar": {
              "outlinewidth": 0,
              "ticks": ""
             }
            },
            "marker": {
             "colorbar": {
              "outlinewidth": 0,
              "ticks": ""
             }
            },
            "type": "scatter3d"
           }
          ],
          "scattercarpet": [
           {
            "marker": {
             "colorbar": {
              "outlinewidth": 0,
              "ticks": ""
             }
            },
            "type": "scattercarpet"
           }
          ],
          "scattergeo": [
           {
            "marker": {
             "colorbar": {
              "outlinewidth": 0,
              "ticks": ""
             }
            },
            "type": "scattergeo"
           }
          ],
          "scattergl": [
           {
            "marker": {
             "colorbar": {
              "outlinewidth": 0,
              "ticks": ""
             }
            },
            "type": "scattergl"
           }
          ],
          "scattermap": [
           {
            "marker": {
             "colorbar": {
              "outlinewidth": 0,
              "ticks": ""
             }
            },
            "type": "scattermap"
           }
          ],
          "scattermapbox": [
           {
            "marker": {
             "colorbar": {
              "outlinewidth": 0,
              "ticks": ""
             }
            },
            "type": "scattermapbox"
           }
          ],
          "scatterpolar": [
           {
            "marker": {
             "colorbar": {
              "outlinewidth": 0,
              "ticks": ""
             }
            },
            "type": "scatterpolar"
           }
          ],
          "scatterpolargl": [
           {
            "marker": {
             "colorbar": {
              "outlinewidth": 0,
              "ticks": ""
             }
            },
            "type": "scatterpolargl"
           }
          ],
          "scatterternary": [
           {
            "marker": {
             "colorbar": {
              "outlinewidth": 0,
              "ticks": ""
             }
            },
            "type": "scatterternary"
           }
          ],
          "surface": [
           {
            "colorbar": {
             "outlinewidth": 0,
             "ticks": ""
            },
            "colorscale": [
             [
              0,
              "#0d0887"
             ],
             [
              0.1111111111111111,
              "#46039f"
             ],
             [
              0.2222222222222222,
              "#7201a8"
             ],
             [
              0.3333333333333333,
              "#9c179e"
             ],
             [
              0.4444444444444444,
              "#bd3786"
             ],
             [
              0.5555555555555556,
              "#d8576b"
             ],
             [
              0.6666666666666666,
              "#ed7953"
             ],
             [
              0.7777777777777778,
              "#fb9f3a"
             ],
             [
              0.8888888888888888,
              "#fdca26"
             ],
             [
              1,
              "#f0f921"
             ]
            ],
            "type": "surface"
           }
          ],
          "table": [
           {
            "cells": {
             "fill": {
              "color": "#EBF0F8"
             },
             "line": {
              "color": "white"
             }
            },
            "header": {
             "fill": {
              "color": "#C8D4E3"
             },
             "line": {
              "color": "white"
             }
            },
            "type": "table"
           }
          ]
         },
         "layout": {
          "annotationdefaults": {
           "arrowcolor": "#2a3f5f",
           "arrowhead": 0,
           "arrowwidth": 1
          },
          "autotypenumbers": "strict",
          "coloraxis": {
           "colorbar": {
            "outlinewidth": 0,
            "ticks": ""
           }
          },
          "colorscale": {
           "diverging": [
            [
             0,
             "#8e0152"
            ],
            [
             0.1,
             "#c51b7d"
            ],
            [
             0.2,
             "#de77ae"
            ],
            [
             0.3,
             "#f1b6da"
            ],
            [
             0.4,
             "#fde0ef"
            ],
            [
             0.5,
             "#f7f7f7"
            ],
            [
             0.6,
             "#e6f5d0"
            ],
            [
             0.7,
             "#b8e186"
            ],
            [
             0.8,
             "#7fbc41"
            ],
            [
             0.9,
             "#4d9221"
            ],
            [
             1,
             "#276419"
            ]
           ],
           "sequential": [
            [
             0,
             "#0d0887"
            ],
            [
             0.1111111111111111,
             "#46039f"
            ],
            [
             0.2222222222222222,
             "#7201a8"
            ],
            [
             0.3333333333333333,
             "#9c179e"
            ],
            [
             0.4444444444444444,
             "#bd3786"
            ],
            [
             0.5555555555555556,
             "#d8576b"
            ],
            [
             0.6666666666666666,
             "#ed7953"
            ],
            [
             0.7777777777777778,
             "#fb9f3a"
            ],
            [
             0.8888888888888888,
             "#fdca26"
            ],
            [
             1,
             "#f0f921"
            ]
           ],
           "sequentialminus": [
            [
             0,
             "#0d0887"
            ],
            [
             0.1111111111111111,
             "#46039f"
            ],
            [
             0.2222222222222222,
             "#7201a8"
            ],
            [
             0.3333333333333333,
             "#9c179e"
            ],
            [
             0.4444444444444444,
             "#bd3786"
            ],
            [
             0.5555555555555556,
             "#d8576b"
            ],
            [
             0.6666666666666666,
             "#ed7953"
            ],
            [
             0.7777777777777778,
             "#fb9f3a"
            ],
            [
             0.8888888888888888,
             "#fdca26"
            ],
            [
             1,
             "#f0f921"
            ]
           ]
          },
          "colorway": [
           "#636efa",
           "#EF553B",
           "#00cc96",
           "#ab63fa",
           "#FFA15A",
           "#19d3f3",
           "#FF6692",
           "#B6E880",
           "#FF97FF",
           "#FECB52"
          ],
          "font": {
           "color": "#2a3f5f"
          },
          "geo": {
           "bgcolor": "white",
           "lakecolor": "white",
           "landcolor": "#E5ECF6",
           "showlakes": true,
           "showland": true,
           "subunitcolor": "white"
          },
          "hoverlabel": {
           "align": "left"
          },
          "hovermode": "closest",
          "mapbox": {
           "style": "light"
          },
          "paper_bgcolor": "white",
          "plot_bgcolor": "#E5ECF6",
          "polar": {
           "angularaxis": {
            "gridcolor": "white",
            "linecolor": "white",
            "ticks": ""
           },
           "bgcolor": "#E5ECF6",
           "radialaxis": {
            "gridcolor": "white",
            "linecolor": "white",
            "ticks": ""
           }
          },
          "scene": {
           "xaxis": {
            "backgroundcolor": "#E5ECF6",
            "gridcolor": "white",
            "gridwidth": 2,
            "linecolor": "white",
            "showbackground": true,
            "ticks": "",
            "zerolinecolor": "white"
           },
           "yaxis": {
            "backgroundcolor": "#E5ECF6",
            "gridcolor": "white",
            "gridwidth": 2,
            "linecolor": "white",
            "showbackground": true,
            "ticks": "",
            "zerolinecolor": "white"
           },
           "zaxis": {
            "backgroundcolor": "#E5ECF6",
            "gridcolor": "white",
            "gridwidth": 2,
            "linecolor": "white",
            "showbackground": true,
            "ticks": "",
            "zerolinecolor": "white"
           }
          },
          "shapedefaults": {
           "line": {
            "color": "#2a3f5f"
           }
          },
          "ternary": {
           "aaxis": {
            "gridcolor": "white",
            "linecolor": "white",
            "ticks": ""
           },
           "baxis": {
            "gridcolor": "white",
            "linecolor": "white",
            "ticks": ""
           },
           "bgcolor": "#E5ECF6",
           "caxis": {
            "gridcolor": "white",
            "linecolor": "white",
            "ticks": ""
           }
          },
          "title": {
           "x": 0.05
          },
          "xaxis": {
           "automargin": true,
           "gridcolor": "white",
           "linecolor": "white",
           "ticks": "",
           "title": {
            "standoff": 15
           },
           "zerolinecolor": "white",
           "zerolinewidth": 2
          },
          "yaxis": {
           "automargin": true,
           "gridcolor": "white",
           "linecolor": "white",
           "ticks": "",
           "title": {
            "standoff": 15
           },
           "zerolinecolor": "white",
           "zerolinewidth": 2
          }
         }
        },
        "title": {
         "text": "Distribution of Number of Skills Required per Job"
        },
        "width": 800,
        "xaxis": {
         "anchor": "y",
         "domain": [
          0,
          1
         ],
         "title": {
          "text": "Number of Skills"
         }
        },
        "xaxis2": {
         "anchor": "y2",
         "domain": [
          0,
          1
         ],
         "matches": "x",
         "showgrid": true,
         "showticklabels": false
        },
        "yaxis": {
         "anchor": "x",
         "domain": [
          0,
          0.8316
         ],
         "title": {
          "text": "count"
         }
        },
        "yaxis2": {
         "anchor": "x2",
         "domain": [
          0.8416,
          1
         ],
         "matches": "y2",
         "showgrid": false,
         "showline": false,
         "showticklabels": false,
         "ticks": ""
        }
       }
      }
     },
     "metadata": {},
     "output_type": "display_data"
    }
   ],
   "source": [
    "# Create a count of skills required for each job\n",
    "full_df['skill_count'] = full_df[skill_cols].sum(axis=1)\n",
    "\n",
    "# Display distribution of skill counts\n",
    "fig = px.histogram(\n",
    "    full_df, \n",
    "    x='skill_count',\n",
    "    marginal='box',\n",
    "    title='Distribution of Number of Skills Required per Job',\n",
    "    labels={'skill_count': 'Number of Skills'},\n",
    "    opacity=0.7,\n",
    "    color_discrete_sequence=['#636EFA']\n",
    ")\n",
    "fig.update_layout(\n",
    "    height=500,\n",
    "    width=800\n",
    ")\n",
    "fig.show()"
   ]
  },
  {
   "cell_type": "markdown",
   "metadata": {},
   "source": [
    "For all the job titles, there is a minimum of three skills required. There are 245 jobs with three skills required, 236 jobs with four skills required, and 236 jobs with five skills required."
   ]
  },
  {
   "cell_type": "markdown",
   "metadata": {},
   "source": [
    "### Normalizing Educational Requirements\n",
    "\n",
    "In the AI job market, educational requirements are often specified in various formats but follow common patterns. To enable meaningful analysis of how education impacts compensation, we need to standardize these requirements into consistent categories. This step involves mapping variations in educational terminology to a standardized hierarchy (Associate, Bachelor's, Master's, PhD) and creating appropriate categorical variables for our regression models.\n"
   ]
  },
  {
   "cell_type": "code",
   "execution_count": 14,
   "metadata": {},
   "outputs": [
    {
     "name": "stdout",
     "output_type": "stream",
     "text": [
      "Original education requirement categories:\n"
     ]
    },
    {
     "data": {
      "text/plain": [
       "education_required\n",
       "Bachelor     206\n",
       "Master       183\n",
       "Associate    175\n",
       "PhD          160\n",
       "Name: count, dtype: int64"
      ]
     },
     "metadata": {},
     "output_type": "display_data"
    }
   ],
   "source": [
    "# Examine the current distribution of educational requirements\n",
    "print(\"Original education requirement categories:\")\n",
    "display(full_df['education_required'].value_counts())"
   ]
  },
  {
   "cell_type": "code",
   "execution_count": 15,
   "metadata": {},
   "outputs": [
    {
     "name": "stdout",
     "output_type": "stream",
     "text": [
      "\n",
      "Education distribution after standardization:\n"
     ]
    },
    {
     "data": {
      "text/plain": [
       "education_standardized\n",
       "Bachelor     206\n",
       "Master       183\n",
       "Associate    175\n",
       "PhD          160\n",
       "Name: count, dtype: int64"
      ]
     },
     "metadata": {},
     "output_type": "display_data"
    }
   ],
   "source": [
    "# Create a standardized mapping for education levels\n",
    "education_mapping = {\n",
    "    'Associate': 'Associate',\n",
    "    'Bachelor': 'Bachelor',\n",
    "    'Master': 'Master',\n",
    "    'PhD': 'PhD'\n",
    "}\n",
    "\n",
    "# Apply mapping to create standardized education column\n",
    "full_df['education_standardized'] = full_df['education_required'].map(education_mapping)\n",
    "\n",
    "# Create education level as an ordinal feature (for regression analysis)\n",
    "education_order = {\n",
    "    'Associate': 0,\n",
    "    'Bachelor': 1,\n",
    "    'Master': 2,\n",
    "    'PhD': 3\n",
    "}\n",
    "\n",
    "full_df['education_level'] = full_df['education_standardized'].map(education_order)\n",
    "\n",
    "# Create dummy variables for education (for visualization and categorical analysis)\n",
    "education_dummies = pd.get_dummies(full_df['education_standardized'], prefix='edu')\n",
    "full_df = pd.concat([full_df, education_dummies], axis=1)\n",
    "\n",
    "# Verify the new columns\n",
    "print(\"\\nEducation distribution after standardization:\")\n",
    "display(full_df['education_standardized'].value_counts())"
   ]
  },
  {
   "cell_type": "code",
   "execution_count": 16,
   "metadata": {},
   "outputs": [
    {
     "data": {
      "application/vnd.plotly.v1+json": {
       "config": {
        "plotlyServerURL": "https://plot.ly"
       },
       "data": [
        {
         "alignmentgroup": "True",
         "hovertemplate": "Education Required=%{x}<br>Salary (USD)=%{y}<extra></extra>",
         "legendgroup": "Associate",
         "marker": {
          "color": "#636efa"
         },
         "name": "Associate",
         "notched": false,
         "offsetgroup": "Associate",
         "orientation": "v",
         "showlegend": true,
         "type": "box",
         "x": [
          "Associate",
          "Associate",
          "Associate",
          "Associate",
          "Associate",
          "Associate",
          "Associate",
          "Associate",
          "Associate",
          "Associate",
          "Associate",
          "Associate",
          "Associate",
          "Associate",
          "Associate",
          "Associate",
          "Associate",
          "Associate",
          "Associate",
          "Associate",
          "Associate",
          "Associate",
          "Associate",
          "Associate",
          "Associate",
          "Associate",
          "Associate",
          "Associate",
          "Associate",
          "Associate",
          "Associate",
          "Associate",
          "Associate",
          "Associate",
          "Associate",
          "Associate",
          "Associate",
          "Associate",
          "Associate",
          "Associate",
          "Associate",
          "Associate",
          "Associate",
          "Associate",
          "Associate",
          "Associate",
          "Associate",
          "Associate",
          "Associate",
          "Associate",
          "Associate",
          "Associate",
          "Associate",
          "Associate",
          "Associate",
          "Associate",
          "Associate",
          "Associate",
          "Associate",
          "Associate",
          "Associate",
          "Associate",
          "Associate",
          "Associate",
          "Associate",
          "Associate",
          "Associate",
          "Associate",
          "Associate",
          "Associate",
          "Associate",
          "Associate",
          "Associate",
          "Associate",
          "Associate",
          "Associate",
          "Associate",
          "Associate",
          "Associate",
          "Associate",
          "Associate",
          "Associate",
          "Associate",
          "Associate",
          "Associate",
          "Associate",
          "Associate",
          "Associate",
          "Associate",
          "Associate",
          "Associate",
          "Associate",
          "Associate",
          "Associate",
          "Associate",
          "Associate",
          "Associate",
          "Associate",
          "Associate",
          "Associate",
          "Associate",
          "Associate",
          "Associate",
          "Associate",
          "Associate",
          "Associate",
          "Associate",
          "Associate",
          "Associate",
          "Associate",
          "Associate",
          "Associate",
          "Associate",
          "Associate",
          "Associate",
          "Associate",
          "Associate",
          "Associate",
          "Associate",
          "Associate",
          "Associate",
          "Associate",
          "Associate",
          "Associate",
          "Associate",
          "Associate",
          "Associate",
          "Associate",
          "Associate",
          "Associate",
          "Associate",
          "Associate",
          "Associate",
          "Associate",
          "Associate",
          "Associate",
          "Associate",
          "Associate",
          "Associate",
          "Associate",
          "Associate",
          "Associate",
          "Associate",
          "Associate",
          "Associate",
          "Associate",
          "Associate",
          "Associate",
          "Associate",
          "Associate",
          "Associate",
          "Associate",
          "Associate",
          "Associate",
          "Associate",
          "Associate",
          "Associate",
          "Associate",
          "Associate",
          "Associate",
          "Associate",
          "Associate",
          "Associate",
          "Associate",
          "Associate",
          "Associate",
          "Associate",
          "Associate",
          "Associate",
          "Associate",
          "Associate",
          "Associate",
          "Associate",
          "Associate",
          "Associate"
         ],
         "x0": " ",
         "xaxis": "x",
         "y": {
          "bdata": "R6oCAFOgAQAaEQEArdcBAKU6AgA6UAIAcaMDANOfAgB+lQEAyv4AAGQqBACmCgEAyiMCAO8nAwA3TQEAbAgEAL/yAAChLQIAXQUDAMo1BAARrAEAcCYDABgEAwBaJwEAWL0CABaqAwBdsQEA2jgCAFxPAQBjVAEAQw8EADUzAgAuLAEA3bsBAN47AwA2hwEA8zoBANAbAgCBLQEAPdUCAL4KAwA7dgIACyoFABIQAQAhHAUAewYCAF21AgBmygEArPgAAInTAwDarwEAPEMDAOu1AwCIBwMAm54BAHLaAQCilgEALxABAGAiAgCjFQIAJ6ACAAVbAQCfDgEA7aACAE17AwD/9QQAqgoEAF6BAQD+jgEA5iIDAMb/AgAQDQIAU74BAEtOAQCgmQIA7SoBAF81AQCrAgIAt98CAPwTAQBSOgEAgHICAGbVAQBvIQEAROIDAGljAgDvIQIApyUEACZfAgDomwEAMZMBANodAgALFAEA/oQBALx0AQDVtAEAvXMDAMJjAQBS4gMAgYUCADoWAQB6AQQAwhkBAMptAQBYhQIAX20BAGLgAQCl+gEAIUcCAGFVAQCFEQMAmFEBAAOLAgDaCQQA2T8BADkYAQB+vAEAYK0CADYqBADXCwEA0scBAAodBACsigEA5gkCAJFFAQCpGwEA8gIEAKgoAQC9PgEABXMBAAIPAgDX7AAAgOgBAGwWAQB3NQEAJsMBAHriAgAoKAEAtykCAGbEAQDonwIAj2QDAAg1AQC3RwEAhgUCAGfXAwC5iQEARjQCAJwmAwBiiwEA9n0CAEobAQCpWQEAH80DAIcwAgAJ7AIAVZYBAFuDAgDDigEAsuABAB9QAQAhugEASm8BALHwAwATXgEATBgDADQvAQDTWAQAnRgEABPWAACltgEAfDMBAB1CAgANMwQAsFYBAA==",
          "dtype": "i4"
         },
         "y0": " ",
         "yaxis": "y"
        },
        {
         "alignmentgroup": "True",
         "hovertemplate": "Education Required=%{x}<br>Salary (USD)=%{y}<extra></extra>",
         "legendgroup": "Bachelor",
         "marker": {
          "color": "#EF553B"
         },
         "name": "Bachelor",
         "notched": false,
         "offsetgroup": "Bachelor",
         "orientation": "v",
         "showlegend": true,
         "type": "box",
         "x": [
          "Bachelor",
          "Bachelor",
          "Bachelor",
          "Bachelor",
          "Bachelor",
          "Bachelor",
          "Bachelor",
          "Bachelor",
          "Bachelor",
          "Bachelor",
          "Bachelor",
          "Bachelor",
          "Bachelor",
          "Bachelor",
          "Bachelor",
          "Bachelor",
          "Bachelor",
          "Bachelor",
          "Bachelor",
          "Bachelor",
          "Bachelor",
          "Bachelor",
          "Bachelor",
          "Bachelor",
          "Bachelor",
          "Bachelor",
          "Bachelor",
          "Bachelor",
          "Bachelor",
          "Bachelor",
          "Bachelor",
          "Bachelor",
          "Bachelor",
          "Bachelor",
          "Bachelor",
          "Bachelor",
          "Bachelor",
          "Bachelor",
          "Bachelor",
          "Bachelor",
          "Bachelor",
          "Bachelor",
          "Bachelor",
          "Bachelor",
          "Bachelor",
          "Bachelor",
          "Bachelor",
          "Bachelor",
          "Bachelor",
          "Bachelor",
          "Bachelor",
          "Bachelor",
          "Bachelor",
          "Bachelor",
          "Bachelor",
          "Bachelor",
          "Bachelor",
          "Bachelor",
          "Bachelor",
          "Bachelor",
          "Bachelor",
          "Bachelor",
          "Bachelor",
          "Bachelor",
          "Bachelor",
          "Bachelor",
          "Bachelor",
          "Bachelor",
          "Bachelor",
          "Bachelor",
          "Bachelor",
          "Bachelor",
          "Bachelor",
          "Bachelor",
          "Bachelor",
          "Bachelor",
          "Bachelor",
          "Bachelor",
          "Bachelor",
          "Bachelor",
          "Bachelor",
          "Bachelor",
          "Bachelor",
          "Bachelor",
          "Bachelor",
          "Bachelor",
          "Bachelor",
          "Bachelor",
          "Bachelor",
          "Bachelor",
          "Bachelor",
          "Bachelor",
          "Bachelor",
          "Bachelor",
          "Bachelor",
          "Bachelor",
          "Bachelor",
          "Bachelor",
          "Bachelor",
          "Bachelor",
          "Bachelor",
          "Bachelor",
          "Bachelor",
          "Bachelor",
          "Bachelor",
          "Bachelor",
          "Bachelor",
          "Bachelor",
          "Bachelor",
          "Bachelor",
          "Bachelor",
          "Bachelor",
          "Bachelor",
          "Bachelor",
          "Bachelor",
          "Bachelor",
          "Bachelor",
          "Bachelor",
          "Bachelor",
          "Bachelor",
          "Bachelor",
          "Bachelor",
          "Bachelor",
          "Bachelor",
          "Bachelor",
          "Bachelor",
          "Bachelor",
          "Bachelor",
          "Bachelor",
          "Bachelor",
          "Bachelor",
          "Bachelor",
          "Bachelor",
          "Bachelor",
          "Bachelor",
          "Bachelor",
          "Bachelor",
          "Bachelor",
          "Bachelor",
          "Bachelor",
          "Bachelor",
          "Bachelor",
          "Bachelor",
          "Bachelor",
          "Bachelor",
          "Bachelor",
          "Bachelor",
          "Bachelor",
          "Bachelor",
          "Bachelor",
          "Bachelor",
          "Bachelor",
          "Bachelor",
          "Bachelor",
          "Bachelor",
          "Bachelor",
          "Bachelor",
          "Bachelor",
          "Bachelor",
          "Bachelor",
          "Bachelor",
          "Bachelor",
          "Bachelor",
          "Bachelor",
          "Bachelor",
          "Bachelor",
          "Bachelor",
          "Bachelor",
          "Bachelor",
          "Bachelor",
          "Bachelor",
          "Bachelor",
          "Bachelor",
          "Bachelor",
          "Bachelor",
          "Bachelor",
          "Bachelor",
          "Bachelor",
          "Bachelor",
          "Bachelor",
          "Bachelor",
          "Bachelor",
          "Bachelor",
          "Bachelor",
          "Bachelor",
          "Bachelor",
          "Bachelor",
          "Bachelor",
          "Bachelor",
          "Bachelor",
          "Bachelor",
          "Bachelor",
          "Bachelor",
          "Bachelor",
          "Bachelor",
          "Bachelor",
          "Bachelor",
          "Bachelor",
          "Bachelor",
          "Bachelor",
          "Bachelor",
          "Bachelor",
          "Bachelor",
          "Bachelor",
          "Bachelor",
          "Bachelor"
         ],
         "x0": " ",
         "xaxis": "x",
         "y": {
          "bdata": "lpABALx6AQBaAQMALSIDAH/uAACbmAIAD6cCAL7mAwCvEAEASywBAM6aAgBXoAEA4YIBAKKGAwDEiQIAtVEBAPTwAACL4AEAnB8BAOQ2AQCxJQMA2i0BAGCmAQDA8wEAwewCAO/nAgCCbwEAsx8CAJEiAQAwxQEAPusBAHpWBAC6PgEAz34BAKwVAQAAnwMAfDUBAKipAQBjPAIAlmQBAKYGBAAAOQUAkt8AAAu5AgD9owEAzRcBAEHPAwB5wAMAPikBAEkmBADvZQIA7jUBAFjzAADw+wEAVKMEAKESAQBcTAEASYECALLfAgA3iQIAH7IBALyGAgDI0QEAz5oCAKGnAQBSQgIAAOgBAKJxAgBFNwEAdCcCANjCAQCgMQIAPgsCACJ3AQDxpwMAtFMCAM/lAQCsowEAiiACAKqgAgB9BQEAPmYEAGB3AgBwrwEArfMDAC9UAgDDDQEAwe4DAFGuAwAO1wEANnwCAC+3AgA9QAEAiH0DAFFEAwB3dgQAezcFAPOMAQDPOwEA9MYBANZvAQA/TQIAOWIDAEoFAQBxhwEAYQMDAEwvAQDmrQMAhywBAFJCAQCwMwIANP8CAJ1XAQBBaAMAUrEDAB2KAQCsmQMA2VcBAJ1MAQA+nAEACAkBAAUGAwAe6AEAGPMBAExTAQD9fwIAzYEDACo1AQB2ZgEATycDAIpLAQALagEAmCIDAN/PAQC3WQEArsQCAOp0AgBQSQEA2S8BAAavAQDhFwEAevUBAF15AQDHVwEAdO4EAH5cAQAsSgQAFzYBAJYaAgAlzgQAAp0BAPQoAQCRZQQAzNABACKJAQAKugMAI2wBACU5AgAVsQIAe1kBAK1WAQCXQQUArtABAHILAwBWaAMAxzwBAJ1jAQAUpwEA7q8BAFHdAgACnQEAvY0CAAWZAQBdKAMASGoBABQTBAAMCgIAkXIBAF7TAQCV8wAAMvcCANrlAwBqRwMAeUkBAOsYAQAz1AMAvlQDALJaAQB7PQIAvGkCAFviAQCebgQAdxICAJ2rBAAH8AAA9I0BANbYAgDh3wEAk3IBALaoAQA6/AMAXFwBAIjHAQBDngEAWcsDAJVnBAA=",
          "dtype": "i4"
         },
         "y0": " ",
         "yaxis": "y"
        },
        {
         "alignmentgroup": "True",
         "hovertemplate": "Education Required=%{x}<br>Salary (USD)=%{y}<extra></extra>",
         "legendgroup": "Master",
         "marker": {
          "color": "#00cc96"
         },
         "name": "Master",
         "notched": false,
         "offsetgroup": "Master",
         "orientation": "v",
         "showlegend": true,
         "type": "box",
         "x": [
          "Master",
          "Master",
          "Master",
          "Master",
          "Master",
          "Master",
          "Master",
          "Master",
          "Master",
          "Master",
          "Master",
          "Master",
          "Master",
          "Master",
          "Master",
          "Master",
          "Master",
          "Master",
          "Master",
          "Master",
          "Master",
          "Master",
          "Master",
          "Master",
          "Master",
          "Master",
          "Master",
          "Master",
          "Master",
          "Master",
          "Master",
          "Master",
          "Master",
          "Master",
          "Master",
          "Master",
          "Master",
          "Master",
          "Master",
          "Master",
          "Master",
          "Master",
          "Master",
          "Master",
          "Master",
          "Master",
          "Master",
          "Master",
          "Master",
          "Master",
          "Master",
          "Master",
          "Master",
          "Master",
          "Master",
          "Master",
          "Master",
          "Master",
          "Master",
          "Master",
          "Master",
          "Master",
          "Master",
          "Master",
          "Master",
          "Master",
          "Master",
          "Master",
          "Master",
          "Master",
          "Master",
          "Master",
          "Master",
          "Master",
          "Master",
          "Master",
          "Master",
          "Master",
          "Master",
          "Master",
          "Master",
          "Master",
          "Master",
          "Master",
          "Master",
          "Master",
          "Master",
          "Master",
          "Master",
          "Master",
          "Master",
          "Master",
          "Master",
          "Master",
          "Master",
          "Master",
          "Master",
          "Master",
          "Master",
          "Master",
          "Master",
          "Master",
          "Master",
          "Master",
          "Master",
          "Master",
          "Master",
          "Master",
          "Master",
          "Master",
          "Master",
          "Master",
          "Master",
          "Master",
          "Master",
          "Master",
          "Master",
          "Master",
          "Master",
          "Master",
          "Master",
          "Master",
          "Master",
          "Master",
          "Master",
          "Master",
          "Master",
          "Master",
          "Master",
          "Master",
          "Master",
          "Master",
          "Master",
          "Master",
          "Master",
          "Master",
          "Master",
          "Master",
          "Master",
          "Master",
          "Master",
          "Master",
          "Master",
          "Master",
          "Master",
          "Master",
          "Master",
          "Master",
          "Master",
          "Master",
          "Master",
          "Master",
          "Master",
          "Master",
          "Master",
          "Master",
          "Master",
          "Master",
          "Master",
          "Master",
          "Master",
          "Master",
          "Master",
          "Master",
          "Master",
          "Master",
          "Master",
          "Master",
          "Master",
          "Master",
          "Master",
          "Master",
          "Master",
          "Master",
          "Master",
          "Master",
          "Master",
          "Master",
          "Master",
          "Master",
          "Master",
          "Master",
          "Master"
         ],
         "x0": " ",
         "xaxis": "x",
         "y": {
          "bdata": "RlcEABzAAgCbbwIAvQkCAFqOAQBwRQIA/AgCAN63AQC2iwEA0SQCAOF3AQDhFgQASh8CADL5AAAg0AEASlgDABpwAgCAkgEA6zABAC7TAQCzMQMAxAYDAJKABAA7KAEAZywBAFzpAQBUdQIAUbkBAOGIAQA4YQMALSwBAOLVAQAjbQMAJZkDADEWAQCgIAIAuxYFAEJXAwD4ggEAsa0CAAgkBQAnagEAQv8CAK4gAwC32gEAtf8DAJXeAQCj+gEAcq8BADlhAQA9sAIAWrwCAAyUAgCQ/wEAA5ECAFXYAQDkZAEAR90CAGjcAAAdSgIAtF8CAHS3AQDVHQIAOfoBALtUAgBEhwIAntgDAPVvAQBCwwMAvMMBAAZIAQDvoAEAlTgDAB6FAgDDcQIARzkCANn/AQCdFwMAmjgBACmOAQB2JAEAlPoBAF4SAQCInAEAhrcCAApBAwAw9AEA8PQBANBNAQDxEgIAxrcBAO8QAwAFgAIAjRYFAHEBAwCkFwIA8PUAAMVIAgB2PgIAQvcBAORnAgBZaQIA33sBACfHAgCAwAEA9iMDAKJnAQBrzQEA+z4FAPTbAwAJNAEAnmwBALu4AQDO/wAAmycBAAcQAQDbSwIApWsCAEsHAgC4jwEAJzACAPoMBAD8WAEAbWkCAApAAQA0CAQAS2IDAD7TAQCjBQMAf3ECAKO/AwC9DwIAOO0AAEvdAQDymAEAZQ4DAAzUAQDD6QIAIlQBAENCAQBz0QEAu9gDAEbuAwDOogEAfzwBAEA1BQCSwAEAuw0BAC39AwAPJAIARP0BAObjAQBplgEANV0DAGp7BAB8FwQAP2sBAAkzAQDzcgMATIsBAJsPAQBZRAEAX4ABAEIuBACJbQEA0fQBAIhvAQBfqQMAkGYDAFNQAwDPTgEAtiIBAKkMAQBIFQIA/0kBAGYJAgBtEAQATAcCAN7zAQDZogMAOWQCANPZAQDIfAEA",
          "dtype": "i4"
         },
         "y0": " ",
         "yaxis": "y"
        },
        {
         "alignmentgroup": "True",
         "hovertemplate": "Education Required=%{x}<br>Salary (USD)=%{y}<extra></extra>",
         "legendgroup": "PhD",
         "marker": {
          "color": "#ab63fa"
         },
         "name": "PhD",
         "notched": false,
         "offsetgroup": "PhD",
         "orientation": "v",
         "showlegend": true,
         "type": "box",
         "x": [
          "PhD",
          "PhD",
          "PhD",
          "PhD",
          "PhD",
          "PhD",
          "PhD",
          "PhD",
          "PhD",
          "PhD",
          "PhD",
          "PhD",
          "PhD",
          "PhD",
          "PhD",
          "PhD",
          "PhD",
          "PhD",
          "PhD",
          "PhD",
          "PhD",
          "PhD",
          "PhD",
          "PhD",
          "PhD",
          "PhD",
          "PhD",
          "PhD",
          "PhD",
          "PhD",
          "PhD",
          "PhD",
          "PhD",
          "PhD",
          "PhD",
          "PhD",
          "PhD",
          "PhD",
          "PhD",
          "PhD",
          "PhD",
          "PhD",
          "PhD",
          "PhD",
          "PhD",
          "PhD",
          "PhD",
          "PhD",
          "PhD",
          "PhD",
          "PhD",
          "PhD",
          "PhD",
          "PhD",
          "PhD",
          "PhD",
          "PhD",
          "PhD",
          "PhD",
          "PhD",
          "PhD",
          "PhD",
          "PhD",
          "PhD",
          "PhD",
          "PhD",
          "PhD",
          "PhD",
          "PhD",
          "PhD",
          "PhD",
          "PhD",
          "PhD",
          "PhD",
          "PhD",
          "PhD",
          "PhD",
          "PhD",
          "PhD",
          "PhD",
          "PhD",
          "PhD",
          "PhD",
          "PhD",
          "PhD",
          "PhD",
          "PhD",
          "PhD",
          "PhD",
          "PhD",
          "PhD",
          "PhD",
          "PhD",
          "PhD",
          "PhD",
          "PhD",
          "PhD",
          "PhD",
          "PhD",
          "PhD",
          "PhD",
          "PhD",
          "PhD",
          "PhD",
          "PhD",
          "PhD",
          "PhD",
          "PhD",
          "PhD",
          "PhD",
          "PhD",
          "PhD",
          "PhD",
          "PhD",
          "PhD",
          "PhD",
          "PhD",
          "PhD",
          "PhD",
          "PhD",
          "PhD",
          "PhD",
          "PhD",
          "PhD",
          "PhD",
          "PhD",
          "PhD",
          "PhD",
          "PhD",
          "PhD",
          "PhD",
          "PhD",
          "PhD",
          "PhD",
          "PhD",
          "PhD",
          "PhD",
          "PhD",
          "PhD",
          "PhD",
          "PhD",
          "PhD",
          "PhD",
          "PhD",
          "PhD",
          "PhD",
          "PhD",
          "PhD",
          "PhD",
          "PhD",
          "PhD",
          "PhD",
          "PhD",
          "PhD",
          "PhD",
          "PhD",
          "PhD",
          "PhD",
          "PhD",
          "PhD"
         ],
         "x0": " ",
         "xaxis": "x",
         "y": {
          "bdata": "qLMBAGv8AgCBxAEAdoABAN0/AQBGiQEAXG8BAE5xAgBnOgIAka0BAIZyAQCXXQEAjlkBAKQxAQB/mwMA79sCANJ4AQDiZwMAHKsBACupAQCP9wEABK0CANa6AQDZ8AEAVOACAMypAQDGogEA3ZoCAMLSAQA3OwQANc4CAMVPAQCyXAEA63QBAE81AgACZAQAXhoEALr1AAAkNgEAmZkDAF1kAgCaJQUAXUcCAH+XAgBIzQIA6vQBAEX7AgAHDwQAstQBAJHcAQAf5AEAUtgBABXtAQCJoAEA/4wCABnZAgASNQIA5TUCAEv3AwA6+gAAZyUDADcjAQDL9gIAjO0BAM2WAQDu6QEAa0EFAD/0AQB/igIAMUEBANMdAQDI+AEA3TIBAJELAgCt4gEA0+0CACqCBADRjgIAR4sBAIkwAgD5/QIAjN8CAMQPAwDQqAEATWUBANL/AQD9dwIAcLQDAPioAQAVTwEAoCABAJ1WAgC41gMAmkIBAEeQAQBmQAIAzC8BAFbtAQDDCQEAIFwBAIz8AAAfrQIA23MCAMkqAgDcWwIAYEUBAAN+AQDkrwEAmqkCAA63AQA4NwIAl+gBAItnAgDHFgEA8OEEACY4AQDQ6AAAWtcBAIDFAQB47wIAShIBAMn+AgDyGwIAIqkDAOZHAQDboAEAkR0BAFAmAQDtEAIAH6ACAPteAQC1lwEArEECAJxqAQDQOAIAiMABAGO4AwB4QQMA2mUDABOwAgCDCwIAirYCAPDUAAAQUwIApZ0BAJ4UAQAaYgEAxHsCAO6jAQCGiwMA4cgCADAgAQBrFwIA7C0CAF6eAQCfoQIAxgYCADMuBAAlsAQAxBICAA==",
          "dtype": "i4"
         },
         "y0": " ",
         "yaxis": "y"
        }
       ],
       "layout": {
        "boxmode": "overlay",
        "height": 500,
        "legend": {
         "title": {
          "text": "Education Required"
         },
         "tracegroupgap": 0
        },
        "showlegend": false,
        "template": {
         "data": {
          "bar": [
           {
            "error_x": {
             "color": "#2a3f5f"
            },
            "error_y": {
             "color": "#2a3f5f"
            },
            "marker": {
             "line": {
              "color": "#E5ECF6",
              "width": 0.5
             },
             "pattern": {
              "fillmode": "overlay",
              "size": 10,
              "solidity": 0.2
             }
            },
            "type": "bar"
           }
          ],
          "barpolar": [
           {
            "marker": {
             "line": {
              "color": "#E5ECF6",
              "width": 0.5
             },
             "pattern": {
              "fillmode": "overlay",
              "size": 10,
              "solidity": 0.2
             }
            },
            "type": "barpolar"
           }
          ],
          "carpet": [
           {
            "aaxis": {
             "endlinecolor": "#2a3f5f",
             "gridcolor": "white",
             "linecolor": "white",
             "minorgridcolor": "white",
             "startlinecolor": "#2a3f5f"
            },
            "baxis": {
             "endlinecolor": "#2a3f5f",
             "gridcolor": "white",
             "linecolor": "white",
             "minorgridcolor": "white",
             "startlinecolor": "#2a3f5f"
            },
            "type": "carpet"
           }
          ],
          "choropleth": [
           {
            "colorbar": {
             "outlinewidth": 0,
             "ticks": ""
            },
            "type": "choropleth"
           }
          ],
          "contour": [
           {
            "colorbar": {
             "outlinewidth": 0,
             "ticks": ""
            },
            "colorscale": [
             [
              0,
              "#0d0887"
             ],
             [
              0.1111111111111111,
              "#46039f"
             ],
             [
              0.2222222222222222,
              "#7201a8"
             ],
             [
              0.3333333333333333,
              "#9c179e"
             ],
             [
              0.4444444444444444,
              "#bd3786"
             ],
             [
              0.5555555555555556,
              "#d8576b"
             ],
             [
              0.6666666666666666,
              "#ed7953"
             ],
             [
              0.7777777777777778,
              "#fb9f3a"
             ],
             [
              0.8888888888888888,
              "#fdca26"
             ],
             [
              1,
              "#f0f921"
             ]
            ],
            "type": "contour"
           }
          ],
          "contourcarpet": [
           {
            "colorbar": {
             "outlinewidth": 0,
             "ticks": ""
            },
            "type": "contourcarpet"
           }
          ],
          "heatmap": [
           {
            "colorbar": {
             "outlinewidth": 0,
             "ticks": ""
            },
            "colorscale": [
             [
              0,
              "#0d0887"
             ],
             [
              0.1111111111111111,
              "#46039f"
             ],
             [
              0.2222222222222222,
              "#7201a8"
             ],
             [
              0.3333333333333333,
              "#9c179e"
             ],
             [
              0.4444444444444444,
              "#bd3786"
             ],
             [
              0.5555555555555556,
              "#d8576b"
             ],
             [
              0.6666666666666666,
              "#ed7953"
             ],
             [
              0.7777777777777778,
              "#fb9f3a"
             ],
             [
              0.8888888888888888,
              "#fdca26"
             ],
             [
              1,
              "#f0f921"
             ]
            ],
            "type": "heatmap"
           }
          ],
          "histogram": [
           {
            "marker": {
             "pattern": {
              "fillmode": "overlay",
              "size": 10,
              "solidity": 0.2
             }
            },
            "type": "histogram"
           }
          ],
          "histogram2d": [
           {
            "colorbar": {
             "outlinewidth": 0,
             "ticks": ""
            },
            "colorscale": [
             [
              0,
              "#0d0887"
             ],
             [
              0.1111111111111111,
              "#46039f"
             ],
             [
              0.2222222222222222,
              "#7201a8"
             ],
             [
              0.3333333333333333,
              "#9c179e"
             ],
             [
              0.4444444444444444,
              "#bd3786"
             ],
             [
              0.5555555555555556,
              "#d8576b"
             ],
             [
              0.6666666666666666,
              "#ed7953"
             ],
             [
              0.7777777777777778,
              "#fb9f3a"
             ],
             [
              0.8888888888888888,
              "#fdca26"
             ],
             [
              1,
              "#f0f921"
             ]
            ],
            "type": "histogram2d"
           }
          ],
          "histogram2dcontour": [
           {
            "colorbar": {
             "outlinewidth": 0,
             "ticks": ""
            },
            "colorscale": [
             [
              0,
              "#0d0887"
             ],
             [
              0.1111111111111111,
              "#46039f"
             ],
             [
              0.2222222222222222,
              "#7201a8"
             ],
             [
              0.3333333333333333,
              "#9c179e"
             ],
             [
              0.4444444444444444,
              "#bd3786"
             ],
             [
              0.5555555555555556,
              "#d8576b"
             ],
             [
              0.6666666666666666,
              "#ed7953"
             ],
             [
              0.7777777777777778,
              "#fb9f3a"
             ],
             [
              0.8888888888888888,
              "#fdca26"
             ],
             [
              1,
              "#f0f921"
             ]
            ],
            "type": "histogram2dcontour"
           }
          ],
          "mesh3d": [
           {
            "colorbar": {
             "outlinewidth": 0,
             "ticks": ""
            },
            "type": "mesh3d"
           }
          ],
          "parcoords": [
           {
            "line": {
             "colorbar": {
              "outlinewidth": 0,
              "ticks": ""
             }
            },
            "type": "parcoords"
           }
          ],
          "pie": [
           {
            "automargin": true,
            "type": "pie"
           }
          ],
          "scatter": [
           {
            "fillpattern": {
             "fillmode": "overlay",
             "size": 10,
             "solidity": 0.2
            },
            "type": "scatter"
           }
          ],
          "scatter3d": [
           {
            "line": {
             "colorbar": {
              "outlinewidth": 0,
              "ticks": ""
             }
            },
            "marker": {
             "colorbar": {
              "outlinewidth": 0,
              "ticks": ""
             }
            },
            "type": "scatter3d"
           }
          ],
          "scattercarpet": [
           {
            "marker": {
             "colorbar": {
              "outlinewidth": 0,
              "ticks": ""
             }
            },
            "type": "scattercarpet"
           }
          ],
          "scattergeo": [
           {
            "marker": {
             "colorbar": {
              "outlinewidth": 0,
              "ticks": ""
             }
            },
            "type": "scattergeo"
           }
          ],
          "scattergl": [
           {
            "marker": {
             "colorbar": {
              "outlinewidth": 0,
              "ticks": ""
             }
            },
            "type": "scattergl"
           }
          ],
          "scattermap": [
           {
            "marker": {
             "colorbar": {
              "outlinewidth": 0,
              "ticks": ""
             }
            },
            "type": "scattermap"
           }
          ],
          "scattermapbox": [
           {
            "marker": {
             "colorbar": {
              "outlinewidth": 0,
              "ticks": ""
             }
            },
            "type": "scattermapbox"
           }
          ],
          "scatterpolar": [
           {
            "marker": {
             "colorbar": {
              "outlinewidth": 0,
              "ticks": ""
             }
            },
            "type": "scatterpolar"
           }
          ],
          "scatterpolargl": [
           {
            "marker": {
             "colorbar": {
              "outlinewidth": 0,
              "ticks": ""
             }
            },
            "type": "scatterpolargl"
           }
          ],
          "scatterternary": [
           {
            "marker": {
             "colorbar": {
              "outlinewidth": 0,
              "ticks": ""
             }
            },
            "type": "scatterternary"
           }
          ],
          "surface": [
           {
            "colorbar": {
             "outlinewidth": 0,
             "ticks": ""
            },
            "colorscale": [
             [
              0,
              "#0d0887"
             ],
             [
              0.1111111111111111,
              "#46039f"
             ],
             [
              0.2222222222222222,
              "#7201a8"
             ],
             [
              0.3333333333333333,
              "#9c179e"
             ],
             [
              0.4444444444444444,
              "#bd3786"
             ],
             [
              0.5555555555555556,
              "#d8576b"
             ],
             [
              0.6666666666666666,
              "#ed7953"
             ],
             [
              0.7777777777777778,
              "#fb9f3a"
             ],
             [
              0.8888888888888888,
              "#fdca26"
             ],
             [
              1,
              "#f0f921"
             ]
            ],
            "type": "surface"
           }
          ],
          "table": [
           {
            "cells": {
             "fill": {
              "color": "#EBF0F8"
             },
             "line": {
              "color": "white"
             }
            },
            "header": {
             "fill": {
              "color": "#C8D4E3"
             },
             "line": {
              "color": "white"
             }
            },
            "type": "table"
           }
          ]
         },
         "layout": {
          "annotationdefaults": {
           "arrowcolor": "#2a3f5f",
           "arrowhead": 0,
           "arrowwidth": 1
          },
          "autotypenumbers": "strict",
          "coloraxis": {
           "colorbar": {
            "outlinewidth": 0,
            "ticks": ""
           }
          },
          "colorscale": {
           "diverging": [
            [
             0,
             "#8e0152"
            ],
            [
             0.1,
             "#c51b7d"
            ],
            [
             0.2,
             "#de77ae"
            ],
            [
             0.3,
             "#f1b6da"
            ],
            [
             0.4,
             "#fde0ef"
            ],
            [
             0.5,
             "#f7f7f7"
            ],
            [
             0.6,
             "#e6f5d0"
            ],
            [
             0.7,
             "#b8e186"
            ],
            [
             0.8,
             "#7fbc41"
            ],
            [
             0.9,
             "#4d9221"
            ],
            [
             1,
             "#276419"
            ]
           ],
           "sequential": [
            [
             0,
             "#0d0887"
            ],
            [
             0.1111111111111111,
             "#46039f"
            ],
            [
             0.2222222222222222,
             "#7201a8"
            ],
            [
             0.3333333333333333,
             "#9c179e"
            ],
            [
             0.4444444444444444,
             "#bd3786"
            ],
            [
             0.5555555555555556,
             "#d8576b"
            ],
            [
             0.6666666666666666,
             "#ed7953"
            ],
            [
             0.7777777777777778,
             "#fb9f3a"
            ],
            [
             0.8888888888888888,
             "#fdca26"
            ],
            [
             1,
             "#f0f921"
            ]
           ],
           "sequentialminus": [
            [
             0,
             "#0d0887"
            ],
            [
             0.1111111111111111,
             "#46039f"
            ],
            [
             0.2222222222222222,
             "#7201a8"
            ],
            [
             0.3333333333333333,
             "#9c179e"
            ],
            [
             0.4444444444444444,
             "#bd3786"
            ],
            [
             0.5555555555555556,
             "#d8576b"
            ],
            [
             0.6666666666666666,
             "#ed7953"
            ],
            [
             0.7777777777777778,
             "#fb9f3a"
            ],
            [
             0.8888888888888888,
             "#fdca26"
            ],
            [
             1,
             "#f0f921"
            ]
           ]
          },
          "colorway": [
           "#636efa",
           "#EF553B",
           "#00cc96",
           "#ab63fa",
           "#FFA15A",
           "#19d3f3",
           "#FF6692",
           "#B6E880",
           "#FF97FF",
           "#FECB52"
          ],
          "font": {
           "color": "#2a3f5f"
          },
          "geo": {
           "bgcolor": "white",
           "lakecolor": "white",
           "landcolor": "#E5ECF6",
           "showlakes": true,
           "showland": true,
           "subunitcolor": "white"
          },
          "hoverlabel": {
           "align": "left"
          },
          "hovermode": "closest",
          "mapbox": {
           "style": "light"
          },
          "paper_bgcolor": "white",
          "plot_bgcolor": "#E5ECF6",
          "polar": {
           "angularaxis": {
            "gridcolor": "white",
            "linecolor": "white",
            "ticks": ""
           },
           "bgcolor": "#E5ECF6",
           "radialaxis": {
            "gridcolor": "white",
            "linecolor": "white",
            "ticks": ""
           }
          },
          "scene": {
           "xaxis": {
            "backgroundcolor": "#E5ECF6",
            "gridcolor": "white",
            "gridwidth": 2,
            "linecolor": "white",
            "showbackground": true,
            "ticks": "",
            "zerolinecolor": "white"
           },
           "yaxis": {
            "backgroundcolor": "#E5ECF6",
            "gridcolor": "white",
            "gridwidth": 2,
            "linecolor": "white",
            "showbackground": true,
            "ticks": "",
            "zerolinecolor": "white"
           },
           "zaxis": {
            "backgroundcolor": "#E5ECF6",
            "gridcolor": "white",
            "gridwidth": 2,
            "linecolor": "white",
            "showbackground": true,
            "ticks": "",
            "zerolinecolor": "white"
           }
          },
          "shapedefaults": {
           "line": {
            "color": "#2a3f5f"
           }
          },
          "ternary": {
           "aaxis": {
            "gridcolor": "white",
            "linecolor": "white",
            "ticks": ""
           },
           "baxis": {
            "gridcolor": "white",
            "linecolor": "white",
            "ticks": ""
           },
           "bgcolor": "#E5ECF6",
           "caxis": {
            "gridcolor": "white",
            "linecolor": "white",
            "ticks": ""
           }
          },
          "title": {
           "x": 0.05
          },
          "xaxis": {
           "automargin": true,
           "gridcolor": "white",
           "linecolor": "white",
           "ticks": "",
           "title": {
            "standoff": 15
           },
           "zerolinecolor": "white",
           "zerolinewidth": 2
          },
          "yaxis": {
           "automargin": true,
           "gridcolor": "white",
           "linecolor": "white",
           "ticks": "",
           "title": {
            "standoff": 15
           },
           "zerolinecolor": "white",
           "zerolinewidth": 2
          }
         }
        },
        "title": {
         "text": "Salary Distribution by Education Requirement"
        },
        "width": 800,
        "xaxis": {
         "anchor": "y",
         "categoryarray": [
          "Associate",
          "Bachelor",
          "Master",
          "PhD"
         ],
         "categoryorder": "array",
         "domain": [
          0,
          1
         ],
         "title": {
          "text": "Education Required"
         }
        },
        "yaxis": {
         "anchor": "x",
         "domain": [
          0,
          1
         ],
         "title": {
          "text": "Salary (USD)"
         }
        }
       }
      }
     },
     "metadata": {},
     "output_type": "display_data"
    }
   ],
   "source": [
    "# Visualize average salary by education level\n",
    "fig = px.box(\n",
    "    full_df, \n",
    "    x='education_standardized', \n",
    "    y='salary_usd',\n",
    "    color='education_standardized',\n",
    "    title='Salary Distribution by Education Requirement',\n",
    "    labels={'salary_usd': 'Salary (USD)', 'education_standardized': 'Education Required'},\n",
    "    category_orders={'education_standardized': ['Associate', 'Bachelor', 'Master', 'PhD']},\n",
    "    height=500,\n",
    "    width=800\n",
    ")\n",
    "fig.update_layout(showlegend=False)\n",
    "fig.show()"
   ]
  },
  {
   "cell_type": "markdown",
   "metadata": {},
   "source": [
    "### Creating Derived Features\n",
    "\n",
    "To better understand the complex relationships in the AI job market, we need to go beyond individual variables and explore how they interact. Derived features can capture these relationships, such as how experience level might modify the impact of education or how combinations of skills might yield higher premiums than individual skills alone. These engineered features often provide deeper insights than the original variables and can improve the performance of our regression models."
   ]
  },
  {
   "cell_type": "code",
   "execution_count": 35,
   "metadata": {},
   "outputs": [
    {
     "name": "stdout",
     "output_type": "stream",
     "text": [
      "Creating skill combinations based on co-occurrence:\n",
      "\n",
      "Top 10 co-occurring skill pairs:\n",
      "Python & TensorFlow: 61 occurrences\n",
      "Python & Linux: 40 occurrences\n",
      "Python & Mathematics: 36 occurrences\n",
      "Python & Kubernetes: 35 occurrences\n",
      "Python & Spark: 34 occurrences\n",
      "Python & MLOps: 34 occurrences\n",
      "SQL & PyTorch: 32 occurrences\n",
      "Python & Computer Vision: 32 occurrences\n",
      "Kubernetes & Scala: 32 occurrences\n",
      "TensorFlow & PyTorch: 31 occurrences\n",
      "combo_Python_TensorFlow: 61 jobs, Avg salary: $143086.77, Premium: $-3746.28\n",
      "combo_Python_Linux: 40 jobs, Avg salary: $138655.42, Premium: $-8177.62\n",
      "combo_Python_Mathematics: 36 jobs, Avg salary: $146103.03, Premium: $-730.02\n",
      "combo_Python_Kubernetes: 35 jobs, Avg salary: $144100.80, Premium: $-2732.25\n",
      "combo_Python_Spark: 34 jobs, Avg salary: $143632.59, Premium: $-3200.46\n",
      "combo_Python_MLOps: 34 jobs, Avg salary: $128196.00, Premium: $-18637.05\n",
      "combo_SQL_PyTorch: 32 jobs, Avg salary: $155594.00, Premium: $8760.95\n",
      "combo_Python_Computer Vision: 32 jobs, Avg salary: $164051.81, Premium: $17218.77\n",
      "combo_Kubernetes_Scala: 32 jobs, Avg salary: $150056.38, Premium: $3223.33\n",
      "combo_TensorFlow_PyTorch: 31 jobs, Avg salary: $150754.45, Premium: $3921.41\n"
     ]
    }
   ],
   "source": [
    "# Create interaction terms between experience level and education\n",
    "full_df['exp_edu_interaction'] = full_df['education_level'] * full_df['years_experience']\n",
    "\n",
    "# Create skill combination features based on co-occurrence\n",
    "print(\"Creating skill combinations based on co-occurrence:\")\n",
    "# Find pairs of skills that frequently appear together\n",
    "skill_cooccurrence = {}\n",
    "for i, row in full_df.iterrows():\n",
    "    skills_present = [col[6:] for col in skill_cols if row[col] == 1]\n",
    "    for s1 in range(len(skills_present)):\n",
    "        for s2 in range(s1+1, len(skills_present)):\n",
    "            pair = (skills_present[s1], skills_present[s2])\n",
    "            skill_cooccurrence[pair] = skill_cooccurrence.get(pair, 0) + 1\n",
    "\n",
    "# Convert to list and sort by frequency\n",
    "skill_pairs = [(s1, s2, count) for (s1, s2), count in skill_cooccurrence.items()]\n",
    "skill_pairs.sort(key=lambda x: x[2], reverse=True)\n",
    "\n",
    "# Print the top co-occurring skill pairs for verification\n",
    "print(\"\\nTop 10 co-occurring skill pairs:\")\n",
    "for s1, s2, count in skill_pairs[:10]:\n",
    "    print(f\"{s1} & {s2}: {count} occurrences\")\n",
    "\n",
    "# Create features for top co-occurring pairs\n",
    "for s1, s2, count in skill_pairs[:10]:\n",
    "    combo_name = f\"combo_{s1}_{s2}\"\n",
    "    col1 = f\"skill_{s1}\"\n",
    "    col2 = f\"skill_{s2}\"\n",
    "    if col1 in full_df.columns and col2 in full_df.columns:\n",
    "        full_df[combo_name] = full_df[col1] & full_df[col2]\n",
    "        combo_count = full_df[combo_name].sum()\n",
    "        avg_salary = full_df.loc[full_df[combo_name] == 1, 'salary_usd'].mean()\n",
    "        salary_premium = avg_salary - full_df['salary_usd'].mean()\n",
    "        print(f\"{combo_name}: {combo_count} jobs, Avg salary: ${avg_salary:.2f}, Premium: ${salary_premium:.2f}\")\n",
    "\n",
    "# Create bins for years of experience to capture non-linear effects\n",
    "full_df['experience_bin'] = pd.cut(\n",
    "    full_df['years_experience'],\n",
    "    bins=[0, 2, 5, 10, 20],\n",
    "    labels=['0-2', '3-5', '6-10', '11+']\n",
    ")\n",
    "\n",
    "# Create features combining company size and experience level\n",
    "full_df['size_experience'] = full_df['company_size'] + '_' + full_df['experience_level']\n",
    "\n",
    "# Create a feature for remote work preference (binary indicator for 100% remote)\n",
    "full_df['fully_remote'] = (full_df['remote_ratio'] == 100).astype(int)\n",
    "\n",
    "# Create a feature for job description complexity (might correlate with role sophistication)\n",
    "full_df['description_length_scaled'] = (full_df['job_description_length'] - full_df['job_description_length'].mean()) / full_df['job_description_length'].std()\n",
    "\n",
    "# Create a feature for high-paying industries (based on our descriptive analysis)\n",
    "high_paying_industries = ['Finance', 'Gaming', 'Retail', 'Technology', 'Government']\n",
    "full_df['high_paying_industry'] = full_df['industry'].isin(high_paying_industries).astype(int)\n",
    "\n",
    "# Create a feature for skill versatility (having skills across multiple domains)\n",
    "domains = {\n",
    "    'programming': ['Python', 'Java', 'C++', 'JavaScript', 'Scala', 'R'],\n",
    "    'ml_frameworks': ['TensorFlow', 'PyTorch', 'Scikit-learn'],\n",
    "    'big_data': ['Spark', 'Hadoop', 'SQL'],\n",
    "    'cloud': ['AWS', 'Azure', 'GCP'],\n",
    "    'visualization': ['Tableau', 'Power BI'],\n",
    "    'containerization': ['Docker', 'Kubernetes']\n",
    "}\n",
    "\n",
    "for domain, skills in domains.items():\n",
    "    domain_cols = [f'skill_{skill}' for skill in skills if f'skill_{skill}' in full_df.columns]\n",
    "    if domain_cols:\n",
    "        full_df[f'has_{domain}_skills'] = (full_df[domain_cols].sum(axis=1) > 0).astype(int)\n",
    "\n",
    "full_df['skill_domains_count'] = sum(full_df[f'has_{domain}_skills'] for domain in domains if f'has_{domain}_skills' in full_df.columns)"
   ]
  },
  {
   "cell_type": "markdown",
   "metadata": {},
   "source": [
    "## Skills Combination Analysis: Key Insights\n",
    "\n",
    "The analysis of co-occurring skill pairs in AI job postings reveals several important patterns that help explain salary variations in the market:\n",
    "\n",
    "1. **Python's Dominance**: Python appears in 7 out of 10 top skill combinations, confirming its central role in the AI ecosystem. However, Python alone doesn't necessarily command a salary premium, as most Python combinations show negative salary premiums compared to the overall average.\n",
    "\n",
    "2. **Value of Specialized Technical Combinations**: The highest salary premium is observed in the Python & Computer Vision combination ($17,219 above average), suggesting that specialization in visual AI applications is particularly valuable. This insight could guide STEAMe's learning pathways for those seeking higher compensation.\n",
    "\n",
    "3. **Data Processing Expertise**: The SQL & PyTorch combination shows a significant premium ($8,761), indicating that professionals who can both manage data and implement deep learning models are in high demand.\n",
    "\n",
    "4. **Framework Versatility**: The TensorFlow & PyTorch combination commands a modest premium ($3,921), reflecting the value employers place on flexibility across major deep learning frameworks rather than expertise in just one.\n",
    "\n",
    "5. **Infrastructure Knowledge**: The Kubernetes & Scala combination shows a positive premium ($3,223), highlighting the value of skills that bridge big data processing and containerized deployment environments.\n",
    "\n",
    "6. **Surprising MLOps Gap**: Despite industry buzz around MLOps, the Python & MLOps combination shows the largest negative premium (-$18,637), suggesting that this particular skill pairing may be more common in entry-level or lower-paying roles.\n",
    "\n",
    "7. **Compensation Complexity**: The presence of both positive and negative premiums indicates that skill value is contextual—combinations must be strategic rather than random to maximize earning potential.\n",
    "\n",
    "These findings provide valuable diagnostic insights for STEAMe's platform, helping to explain why certain AI professionals command higher salaries and enabling more targeted career guidance. The data suggests that rather than accumulating random skills, job seekers should focus on strategic combinations that complement each other and align with higher-paying specializations like computer vision or advanced data processing."
   ]
  },
  {
   "cell_type": "markdown",
   "metadata": {},
   "source": [
    "## Visualization of the distribution of skill domains count"
   ]
  },
  {
   "cell_type": "code",
   "execution_count": 37,
   "metadata": {},
   "outputs": [
    {
     "data": {
      "application/vnd.plotly.v1+json": {
       "config": {
        "plotlyServerURL": "https://plot.ly"
       },
       "data": [
        {
         "bingroup": "x",
         "hovertemplate": "Number of Skill Domains Covered=%{x}<br>count=%{y}<extra></extra>",
         "legendgroup": "",
         "marker": {
          "color": "#636EFA",
          "pattern": {
           "shape": ""
          }
         },
         "name": "",
         "orientation": "v",
         "showlegend": false,
         "type": "histogram",
         "x": {
          "bdata": "AwICAQICAwICAgMCAgEDAgQEAwECAgIEAgIDAgMFAgMCAgIDBAMEAwICAwEEAgEBAgMCAwACAwECAQMCAwQDAgICAQQCAgMBAQQDAAEBAgMCAgIDAwIDAQEDAgMDAwMDAQIDAwMCAwEDAwMDAgIDAwECAwQDAwIBAQICAwMCAgMCAgQBAQQDAwIDAwICAwICAgEBBAIDAgEDAgICAwQCAwECAwECAwIDAgIDAgICAQQDAwICAQMBAQMCAgMCAwMDAgMDAQMDAwMCAwIBAgIDAwICAgECAgMBAwIDAgICAgECAgMCAwICAgIDAwIDBQEBAwMCAgIDAwIBAQMDBAEBAgEBBAEDAQICAwICAwMEAwMCAgEBAQIDAgIBBAICAgEBAwMDBQEDAQMDBAICAgICAQIDAwMDAwMDAgIDAgICAgIDAgIEAgIBBAIDAgIBAgEDAgMDAgMDAgIDAgECAgIBAgMEAgMCAwIBAgIDAwMDAwICAgICAQIDAwMDAgIDAgMBAQIBAQECAgICAgICAgMCAQMCAwICAgIBAgMDAgECAgIBBAABAwMCAgMCBAEEBAMDAgICBAICAgMCAgEDAgICAgIBAwIBAgQCBAIDAwICAgMBAQMDAgICAwIDAwECAQIDAQMBAwMDAgMBAwMCAgIDAwIDAwMDAwIBBAIBAgMCAQICAwQCAQMCAwECAgICAQMCAgEDAwIEAwIDAgIDAQICAQEBAgQBAwICAwIDAwMBAgICAwMCAgECAQIDAgQDAgMCAgMEAgICAgMBAwMEAwQDAgIFAgMCAgEDBAMDAwICAwEDAgICAgIDAgIEAwICAwEEAwMCAgICAgICAgMCAAIDAgMDAgIDAgICAwECAwIBAwEBAwMDAgIDAgEEAgIDAgICAgEEAQMBAwICAgIDAgICAgICAgQDAQIDAgICAQICAwECAgIDBAIDAgMCAwQDAgICAgIEBA==",
          "dtype": "i1"
         },
         "xaxis": "x",
         "yaxis": "y"
        }
       ],
       "layout": {
        "barmode": "relative",
        "height": 500,
        "legend": {
         "tracegroupgap": 0
        },
        "template": {
         "data": {
          "bar": [
           {
            "error_x": {
             "color": "#2a3f5f"
            },
            "error_y": {
             "color": "#2a3f5f"
            },
            "marker": {
             "line": {
              "color": "#E5ECF6",
              "width": 0.5
             },
             "pattern": {
              "fillmode": "overlay",
              "size": 10,
              "solidity": 0.2
             }
            },
            "type": "bar"
           }
          ],
          "barpolar": [
           {
            "marker": {
             "line": {
              "color": "#E5ECF6",
              "width": 0.5
             },
             "pattern": {
              "fillmode": "overlay",
              "size": 10,
              "solidity": 0.2
             }
            },
            "type": "barpolar"
           }
          ],
          "carpet": [
           {
            "aaxis": {
             "endlinecolor": "#2a3f5f",
             "gridcolor": "white",
             "linecolor": "white",
             "minorgridcolor": "white",
             "startlinecolor": "#2a3f5f"
            },
            "baxis": {
             "endlinecolor": "#2a3f5f",
             "gridcolor": "white",
             "linecolor": "white",
             "minorgridcolor": "white",
             "startlinecolor": "#2a3f5f"
            },
            "type": "carpet"
           }
          ],
          "choropleth": [
           {
            "colorbar": {
             "outlinewidth": 0,
             "ticks": ""
            },
            "type": "choropleth"
           }
          ],
          "contour": [
           {
            "colorbar": {
             "outlinewidth": 0,
             "ticks": ""
            },
            "colorscale": [
             [
              0,
              "#0d0887"
             ],
             [
              0.1111111111111111,
              "#46039f"
             ],
             [
              0.2222222222222222,
              "#7201a8"
             ],
             [
              0.3333333333333333,
              "#9c179e"
             ],
             [
              0.4444444444444444,
              "#bd3786"
             ],
             [
              0.5555555555555556,
              "#d8576b"
             ],
             [
              0.6666666666666666,
              "#ed7953"
             ],
             [
              0.7777777777777778,
              "#fb9f3a"
             ],
             [
              0.8888888888888888,
              "#fdca26"
             ],
             [
              1,
              "#f0f921"
             ]
            ],
            "type": "contour"
           }
          ],
          "contourcarpet": [
           {
            "colorbar": {
             "outlinewidth": 0,
             "ticks": ""
            },
            "type": "contourcarpet"
           }
          ],
          "heatmap": [
           {
            "colorbar": {
             "outlinewidth": 0,
             "ticks": ""
            },
            "colorscale": [
             [
              0,
              "#0d0887"
             ],
             [
              0.1111111111111111,
              "#46039f"
             ],
             [
              0.2222222222222222,
              "#7201a8"
             ],
             [
              0.3333333333333333,
              "#9c179e"
             ],
             [
              0.4444444444444444,
              "#bd3786"
             ],
             [
              0.5555555555555556,
              "#d8576b"
             ],
             [
              0.6666666666666666,
              "#ed7953"
             ],
             [
              0.7777777777777778,
              "#fb9f3a"
             ],
             [
              0.8888888888888888,
              "#fdca26"
             ],
             [
              1,
              "#f0f921"
             ]
            ],
            "type": "heatmap"
           }
          ],
          "histogram": [
           {
            "marker": {
             "pattern": {
              "fillmode": "overlay",
              "size": 10,
              "solidity": 0.2
             }
            },
            "type": "histogram"
           }
          ],
          "histogram2d": [
           {
            "colorbar": {
             "outlinewidth": 0,
             "ticks": ""
            },
            "colorscale": [
             [
              0,
              "#0d0887"
             ],
             [
              0.1111111111111111,
              "#46039f"
             ],
             [
              0.2222222222222222,
              "#7201a8"
             ],
             [
              0.3333333333333333,
              "#9c179e"
             ],
             [
              0.4444444444444444,
              "#bd3786"
             ],
             [
              0.5555555555555556,
              "#d8576b"
             ],
             [
              0.6666666666666666,
              "#ed7953"
             ],
             [
              0.7777777777777778,
              "#fb9f3a"
             ],
             [
              0.8888888888888888,
              "#fdca26"
             ],
             [
              1,
              "#f0f921"
             ]
            ],
            "type": "histogram2d"
           }
          ],
          "histogram2dcontour": [
           {
            "colorbar": {
             "outlinewidth": 0,
             "ticks": ""
            },
            "colorscale": [
             [
              0,
              "#0d0887"
             ],
             [
              0.1111111111111111,
              "#46039f"
             ],
             [
              0.2222222222222222,
              "#7201a8"
             ],
             [
              0.3333333333333333,
              "#9c179e"
             ],
             [
              0.4444444444444444,
              "#bd3786"
             ],
             [
              0.5555555555555556,
              "#d8576b"
             ],
             [
              0.6666666666666666,
              "#ed7953"
             ],
             [
              0.7777777777777778,
              "#fb9f3a"
             ],
             [
              0.8888888888888888,
              "#fdca26"
             ],
             [
              1,
              "#f0f921"
             ]
            ],
            "type": "histogram2dcontour"
           }
          ],
          "mesh3d": [
           {
            "colorbar": {
             "outlinewidth": 0,
             "ticks": ""
            },
            "type": "mesh3d"
           }
          ],
          "parcoords": [
           {
            "line": {
             "colorbar": {
              "outlinewidth": 0,
              "ticks": ""
             }
            },
            "type": "parcoords"
           }
          ],
          "pie": [
           {
            "automargin": true,
            "type": "pie"
           }
          ],
          "scatter": [
           {
            "fillpattern": {
             "fillmode": "overlay",
             "size": 10,
             "solidity": 0.2
            },
            "type": "scatter"
           }
          ],
          "scatter3d": [
           {
            "line": {
             "colorbar": {
              "outlinewidth": 0,
              "ticks": ""
             }
            },
            "marker": {
             "colorbar": {
              "outlinewidth": 0,
              "ticks": ""
             }
            },
            "type": "scatter3d"
           }
          ],
          "scattercarpet": [
           {
            "marker": {
             "colorbar": {
              "outlinewidth": 0,
              "ticks": ""
             }
            },
            "type": "scattercarpet"
           }
          ],
          "scattergeo": [
           {
            "marker": {
             "colorbar": {
              "outlinewidth": 0,
              "ticks": ""
             }
            },
            "type": "scattergeo"
           }
          ],
          "scattergl": [
           {
            "marker": {
             "colorbar": {
              "outlinewidth": 0,
              "ticks": ""
             }
            },
            "type": "scattergl"
           }
          ],
          "scattermap": [
           {
            "marker": {
             "colorbar": {
              "outlinewidth": 0,
              "ticks": ""
             }
            },
            "type": "scattermap"
           }
          ],
          "scattermapbox": [
           {
            "marker": {
             "colorbar": {
              "outlinewidth": 0,
              "ticks": ""
             }
            },
            "type": "scattermapbox"
           }
          ],
          "scatterpolar": [
           {
            "marker": {
             "colorbar": {
              "outlinewidth": 0,
              "ticks": ""
             }
            },
            "type": "scatterpolar"
           }
          ],
          "scatterpolargl": [
           {
            "marker": {
             "colorbar": {
              "outlinewidth": 0,
              "ticks": ""
             }
            },
            "type": "scatterpolargl"
           }
          ],
          "scatterternary": [
           {
            "marker": {
             "colorbar": {
              "outlinewidth": 0,
              "ticks": ""
             }
            },
            "type": "scatterternary"
           }
          ],
          "surface": [
           {
            "colorbar": {
             "outlinewidth": 0,
             "ticks": ""
            },
            "colorscale": [
             [
              0,
              "#0d0887"
             ],
             [
              0.1111111111111111,
              "#46039f"
             ],
             [
              0.2222222222222222,
              "#7201a8"
             ],
             [
              0.3333333333333333,
              "#9c179e"
             ],
             [
              0.4444444444444444,
              "#bd3786"
             ],
             [
              0.5555555555555556,
              "#d8576b"
             ],
             [
              0.6666666666666666,
              "#ed7953"
             ],
             [
              0.7777777777777778,
              "#fb9f3a"
             ],
             [
              0.8888888888888888,
              "#fdca26"
             ],
             [
              1,
              "#f0f921"
             ]
            ],
            "type": "surface"
           }
          ],
          "table": [
           {
            "cells": {
             "fill": {
              "color": "#EBF0F8"
             },
             "line": {
              "color": "white"
             }
            },
            "header": {
             "fill": {
              "color": "#C8D4E3"
             },
             "line": {
              "color": "white"
             }
            },
            "type": "table"
           }
          ]
         },
         "layout": {
          "annotationdefaults": {
           "arrowcolor": "#2a3f5f",
           "arrowhead": 0,
           "arrowwidth": 1
          },
          "autotypenumbers": "strict",
          "coloraxis": {
           "colorbar": {
            "outlinewidth": 0,
            "ticks": ""
           }
          },
          "colorscale": {
           "diverging": [
            [
             0,
             "#8e0152"
            ],
            [
             0.1,
             "#c51b7d"
            ],
            [
             0.2,
             "#de77ae"
            ],
            [
             0.3,
             "#f1b6da"
            ],
            [
             0.4,
             "#fde0ef"
            ],
            [
             0.5,
             "#f7f7f7"
            ],
            [
             0.6,
             "#e6f5d0"
            ],
            [
             0.7,
             "#b8e186"
            ],
            [
             0.8,
             "#7fbc41"
            ],
            [
             0.9,
             "#4d9221"
            ],
            [
             1,
             "#276419"
            ]
           ],
           "sequential": [
            [
             0,
             "#0d0887"
            ],
            [
             0.1111111111111111,
             "#46039f"
            ],
            [
             0.2222222222222222,
             "#7201a8"
            ],
            [
             0.3333333333333333,
             "#9c179e"
            ],
            [
             0.4444444444444444,
             "#bd3786"
            ],
            [
             0.5555555555555556,
             "#d8576b"
            ],
            [
             0.6666666666666666,
             "#ed7953"
            ],
            [
             0.7777777777777778,
             "#fb9f3a"
            ],
            [
             0.8888888888888888,
             "#fdca26"
            ],
            [
             1,
             "#f0f921"
            ]
           ],
           "sequentialminus": [
            [
             0,
             "#0d0887"
            ],
            [
             0.1111111111111111,
             "#46039f"
            ],
            [
             0.2222222222222222,
             "#7201a8"
            ],
            [
             0.3333333333333333,
             "#9c179e"
            ],
            [
             0.4444444444444444,
             "#bd3786"
            ],
            [
             0.5555555555555556,
             "#d8576b"
            ],
            [
             0.6666666666666666,
             "#ed7953"
            ],
            [
             0.7777777777777778,
             "#fb9f3a"
            ],
            [
             0.8888888888888888,
             "#fdca26"
            ],
            [
             1,
             "#f0f921"
            ]
           ]
          },
          "colorway": [
           "#636efa",
           "#EF553B",
           "#00cc96",
           "#ab63fa",
           "#FFA15A",
           "#19d3f3",
           "#FF6692",
           "#B6E880",
           "#FF97FF",
           "#FECB52"
          ],
          "font": {
           "color": "#2a3f5f"
          },
          "geo": {
           "bgcolor": "white",
           "lakecolor": "white",
           "landcolor": "#E5ECF6",
           "showlakes": true,
           "showland": true,
           "subunitcolor": "white"
          },
          "hoverlabel": {
           "align": "left"
          },
          "hovermode": "closest",
          "mapbox": {
           "style": "light"
          },
          "paper_bgcolor": "white",
          "plot_bgcolor": "#E5ECF6",
          "polar": {
           "angularaxis": {
            "gridcolor": "white",
            "linecolor": "white",
            "ticks": ""
           },
           "bgcolor": "#E5ECF6",
           "radialaxis": {
            "gridcolor": "white",
            "linecolor": "white",
            "ticks": ""
           }
          },
          "scene": {
           "xaxis": {
            "backgroundcolor": "#E5ECF6",
            "gridcolor": "white",
            "gridwidth": 2,
            "linecolor": "white",
            "showbackground": true,
            "ticks": "",
            "zerolinecolor": "white"
           },
           "yaxis": {
            "backgroundcolor": "#E5ECF6",
            "gridcolor": "white",
            "gridwidth": 2,
            "linecolor": "white",
            "showbackground": true,
            "ticks": "",
            "zerolinecolor": "white"
           },
           "zaxis": {
            "backgroundcolor": "#E5ECF6",
            "gridcolor": "white",
            "gridwidth": 2,
            "linecolor": "white",
            "showbackground": true,
            "ticks": "",
            "zerolinecolor": "white"
           }
          },
          "shapedefaults": {
           "line": {
            "color": "#2a3f5f"
           }
          },
          "ternary": {
           "aaxis": {
            "gridcolor": "white",
            "linecolor": "white",
            "ticks": ""
           },
           "baxis": {
            "gridcolor": "white",
            "linecolor": "white",
            "ticks": ""
           },
           "bgcolor": "#E5ECF6",
           "caxis": {
            "gridcolor": "white",
            "linecolor": "white",
            "ticks": ""
           }
          },
          "title": {
           "x": 0.05
          },
          "xaxis": {
           "automargin": true,
           "gridcolor": "white",
           "linecolor": "white",
           "ticks": "",
           "title": {
            "standoff": 15
           },
           "zerolinecolor": "white",
           "zerolinewidth": 2
          },
          "yaxis": {
           "automargin": true,
           "gridcolor": "white",
           "linecolor": "white",
           "ticks": "",
           "title": {
            "standoff": 15
           },
           "zerolinecolor": "white",
           "zerolinewidth": 2
          }
         }
        },
        "title": {
         "text": "Distribution of Skill Domain Coverage"
        },
        "width": 800,
        "xaxis": {
         "anchor": "y",
         "domain": [
          0,
          1
         ],
         "title": {
          "text": "Number of Skill Domains Covered"
         }
        },
        "yaxis": {
         "anchor": "x",
         "domain": [
          0,
          1
         ],
         "title": {
          "text": "count"
         }
        }
       }
      }
     },
     "metadata": {},
     "output_type": "display_data"
    }
   ],
   "source": [
    "# Visualize the distribution of skill domains count\n",
    "fig = px.histogram(\n",
    "    full_df, \n",
    "    x='skill_domains_count',\n",
    "    title='Distribution of Skill Domain Coverage',\n",
    "    labels={'skill_domains_count': 'Number of Skill Domains Covered'},\n",
    "    color_discrete_sequence=['#636EFA']\n",
    ")\n",
    "fig.update_layout(\n",
    "    height=500,\n",
    "    width=800\n",
    ")\n",
    "fig.show()"
   ]
  },
  {
   "cell_type": "markdown",
   "metadata": {},
   "source": [
    "The histogram of skill domain coverage reveals important patterns in how AI job requirements span across different technical areas. The distribution shows that most AI positions require skills from 2-3 domains (324 and 231 jobs respectively), with fewer positions at the extremes of the spectrum.\n",
    "\n",
    "This bell-shaped distribution with a slight right skew indicates that employers typically seek candidates with multi-domain expertise rather than hyper-specialists in a single domain. The relatively small number of positions requiring only one domain (113 jobs) suggests that narrow technical focus may limit job opportunities in the AI field. Similarly, the small proportion of jobs requiring skills across 4 domains (48 jobs) indicates that while breadth is valued, expectations of mastery across the entire technical spectrum remain uncommon.\n",
    "\n",
    "For STEAMe's workforce development mission, this insight is particularly valuable—it suggests that training programs should encourage learners to develop complementary skills across 2-3 domains (such as programming languages, ML frameworks, and cloud technologies) rather than concentrating exclusively on a single specialty. This balanced approach to skill development appears to align with the actual structure of job requirements in the AI market, potentially increasing employability for platform users."
   ]
  },
  {
   "cell_type": "markdown",
   "metadata": {},
   "source": [
    "## Salary vs. Skill Domain Coverage\n",
    "\n",
    "Next we take the skill domain counts and compute the average salary for each number of skill domains covered."
   ]
  },
  {
   "cell_type": "code",
   "execution_count": 33,
   "metadata": {},
   "outputs": [
    {
     "name": "stdout",
     "output_type": "stream",
     "text": [
      "\n",
      "Average salary by number of skill domains covered:\n"
     ]
    },
    {
     "data": {
      "text/html": [
       "<div>\n",
       "<style scoped>\n",
       "    .dataframe tbody tr th:only-of-type {\n",
       "        vertical-align: middle;\n",
       "    }\n",
       "\n",
       "    .dataframe tbody tr th {\n",
       "        vertical-align: top;\n",
       "    }\n",
       "\n",
       "    .dataframe thead th {\n",
       "        text-align: right;\n",
       "    }\n",
       "</style>\n",
       "<table border=\"1\" class=\"dataframe\">\n",
       "  <thead>\n",
       "    <tr style=\"text-align: right;\">\n",
       "      <th></th>\n",
       "      <th>Domains Covered</th>\n",
       "      <th>Average Salary</th>\n",
       "    </tr>\n",
       "  </thead>\n",
       "  <tbody>\n",
       "    <tr>\n",
       "      <th>0</th>\n",
       "      <td>0</td>\n",
       "      <td>174905.000000</td>\n",
       "    </tr>\n",
       "    <tr>\n",
       "      <th>1</th>\n",
       "      <td>1</td>\n",
       "      <td>153556.070796</td>\n",
       "    </tr>\n",
       "    <tr>\n",
       "      <th>2</th>\n",
       "      <td>2</td>\n",
       "      <td>144123.975309</td>\n",
       "    </tr>\n",
       "    <tr>\n",
       "      <th>3</th>\n",
       "      <td>3</td>\n",
       "      <td>144454.147186</td>\n",
       "    </tr>\n",
       "    <tr>\n",
       "      <th>4</th>\n",
       "      <td>4</td>\n",
       "      <td>153764.812500</td>\n",
       "    </tr>\n",
       "    <tr>\n",
       "      <th>5</th>\n",
       "      <td>5</td>\n",
       "      <td>202470.500000</td>\n",
       "    </tr>\n",
       "  </tbody>\n",
       "</table>\n",
       "</div>"
      ],
      "text/plain": [
       "   Domains Covered  Average Salary\n",
       "0                0   174905.000000\n",
       "1                1   153556.070796\n",
       "2                2   144123.975309\n",
       "3                3   144454.147186\n",
       "4                4   153764.812500\n",
       "5                5   202470.500000"
      ]
     },
     "metadata": {},
     "output_type": "display_data"
    }
   ],
   "source": [
    "domain_salary_data = []\n",
    "for domain_count in sorted(full_df['skill_domains_count'].unique()):\n",
    "    avg_salary = full_df[full_df['skill_domains_count'] == domain_count]['salary_usd'].mean()\n",
    "    domain_salary_data.append({\n",
    "        'Domains Covered': domain_count,\n",
    "        'Average Salary': avg_salary\n",
    "    })\n",
    "\n",
    "domain_salary_df = pd.DataFrame(domain_salary_data)\n",
    "print(\"\\nAverage salary by number of skill domains covered:\")\n",
    "display(domain_salary_df)"
   ]
  },
  {
   "cell_type": "code",
   "execution_count": 34,
   "metadata": {},
   "outputs": [
    {
     "data": {
      "application/vnd.plotly.v1+json": {
       "config": {
        "plotlyServerURL": "https://plot.ly"
       },
       "data": [
        {
         "hovertemplate": "Number of Skill Domains Covered=%{x}<br>Average Salary (USD)=%{marker.color}<extra></extra>",
         "legendgroup": "",
         "marker": {
          "color": {
           "bdata": "AAAAAMhZBUEJvP2QoL4CQQaebs3flwFBRe5vLTGiAUEAAACAJsUCQQAAAAA0twhB",
           "dtype": "f8"
          },
          "coloraxis": "coloraxis",
          "pattern": {
           "shape": ""
          }
         },
         "name": "",
         "orientation": "v",
         "showlegend": false,
         "textposition": "auto",
         "type": "bar",
         "x": {
          "bdata": "AAECAwQF",
          "dtype": "i1"
         },
         "xaxis": "x",
         "y": {
          "bdata": "AAAAAMhZBUEJvP2QoL4CQQaebs3flwFBRe5vLTGiAUEAAACAJsUCQQAAAAA0twhB",
          "dtype": "f8"
         },
         "yaxis": "y"
        }
       ],
       "layout": {
        "barmode": "relative",
        "coloraxis": {
         "colorbar": {
          "title": {
           "text": "Average Salary (USD)"
          }
         },
         "colorscale": [
          [
           0,
           "#440154"
          ],
          [
           0.1111111111111111,
           "#482878"
          ],
          [
           0.2222222222222222,
           "#3e4989"
          ],
          [
           0.3333333333333333,
           "#31688e"
          ],
          [
           0.4444444444444444,
           "#26828e"
          ],
          [
           0.5555555555555556,
           "#1f9e89"
          ],
          [
           0.6666666666666666,
           "#35b779"
          ],
          [
           0.7777777777777778,
           "#6ece58"
          ],
          [
           0.8888888888888888,
           "#b5de2b"
          ],
          [
           1,
           "#fde725"
          ]
         ]
        },
        "height": 500,
        "legend": {
         "tracegroupgap": 0
        },
        "template": {
         "data": {
          "bar": [
           {
            "error_x": {
             "color": "#2a3f5f"
            },
            "error_y": {
             "color": "#2a3f5f"
            },
            "marker": {
             "line": {
              "color": "#E5ECF6",
              "width": 0.5
             },
             "pattern": {
              "fillmode": "overlay",
              "size": 10,
              "solidity": 0.2
             }
            },
            "type": "bar"
           }
          ],
          "barpolar": [
           {
            "marker": {
             "line": {
              "color": "#E5ECF6",
              "width": 0.5
             },
             "pattern": {
              "fillmode": "overlay",
              "size": 10,
              "solidity": 0.2
             }
            },
            "type": "barpolar"
           }
          ],
          "carpet": [
           {
            "aaxis": {
             "endlinecolor": "#2a3f5f",
             "gridcolor": "white",
             "linecolor": "white",
             "minorgridcolor": "white",
             "startlinecolor": "#2a3f5f"
            },
            "baxis": {
             "endlinecolor": "#2a3f5f",
             "gridcolor": "white",
             "linecolor": "white",
             "minorgridcolor": "white",
             "startlinecolor": "#2a3f5f"
            },
            "type": "carpet"
           }
          ],
          "choropleth": [
           {
            "colorbar": {
             "outlinewidth": 0,
             "ticks": ""
            },
            "type": "choropleth"
           }
          ],
          "contour": [
           {
            "colorbar": {
             "outlinewidth": 0,
             "ticks": ""
            },
            "colorscale": [
             [
              0,
              "#0d0887"
             ],
             [
              0.1111111111111111,
              "#46039f"
             ],
             [
              0.2222222222222222,
              "#7201a8"
             ],
             [
              0.3333333333333333,
              "#9c179e"
             ],
             [
              0.4444444444444444,
              "#bd3786"
             ],
             [
              0.5555555555555556,
              "#d8576b"
             ],
             [
              0.6666666666666666,
              "#ed7953"
             ],
             [
              0.7777777777777778,
              "#fb9f3a"
             ],
             [
              0.8888888888888888,
              "#fdca26"
             ],
             [
              1,
              "#f0f921"
             ]
            ],
            "type": "contour"
           }
          ],
          "contourcarpet": [
           {
            "colorbar": {
             "outlinewidth": 0,
             "ticks": ""
            },
            "type": "contourcarpet"
           }
          ],
          "heatmap": [
           {
            "colorbar": {
             "outlinewidth": 0,
             "ticks": ""
            },
            "colorscale": [
             [
              0,
              "#0d0887"
             ],
             [
              0.1111111111111111,
              "#46039f"
             ],
             [
              0.2222222222222222,
              "#7201a8"
             ],
             [
              0.3333333333333333,
              "#9c179e"
             ],
             [
              0.4444444444444444,
              "#bd3786"
             ],
             [
              0.5555555555555556,
              "#d8576b"
             ],
             [
              0.6666666666666666,
              "#ed7953"
             ],
             [
              0.7777777777777778,
              "#fb9f3a"
             ],
             [
              0.8888888888888888,
              "#fdca26"
             ],
             [
              1,
              "#f0f921"
             ]
            ],
            "type": "heatmap"
           }
          ],
          "histogram": [
           {
            "marker": {
             "pattern": {
              "fillmode": "overlay",
              "size": 10,
              "solidity": 0.2
             }
            },
            "type": "histogram"
           }
          ],
          "histogram2d": [
           {
            "colorbar": {
             "outlinewidth": 0,
             "ticks": ""
            },
            "colorscale": [
             [
              0,
              "#0d0887"
             ],
             [
              0.1111111111111111,
              "#46039f"
             ],
             [
              0.2222222222222222,
              "#7201a8"
             ],
             [
              0.3333333333333333,
              "#9c179e"
             ],
             [
              0.4444444444444444,
              "#bd3786"
             ],
             [
              0.5555555555555556,
              "#d8576b"
             ],
             [
              0.6666666666666666,
              "#ed7953"
             ],
             [
              0.7777777777777778,
              "#fb9f3a"
             ],
             [
              0.8888888888888888,
              "#fdca26"
             ],
             [
              1,
              "#f0f921"
             ]
            ],
            "type": "histogram2d"
           }
          ],
          "histogram2dcontour": [
           {
            "colorbar": {
             "outlinewidth": 0,
             "ticks": ""
            },
            "colorscale": [
             [
              0,
              "#0d0887"
             ],
             [
              0.1111111111111111,
              "#46039f"
             ],
             [
              0.2222222222222222,
              "#7201a8"
             ],
             [
              0.3333333333333333,
              "#9c179e"
             ],
             [
              0.4444444444444444,
              "#bd3786"
             ],
             [
              0.5555555555555556,
              "#d8576b"
             ],
             [
              0.6666666666666666,
              "#ed7953"
             ],
             [
              0.7777777777777778,
              "#fb9f3a"
             ],
             [
              0.8888888888888888,
              "#fdca26"
             ],
             [
              1,
              "#f0f921"
             ]
            ],
            "type": "histogram2dcontour"
           }
          ],
          "mesh3d": [
           {
            "colorbar": {
             "outlinewidth": 0,
             "ticks": ""
            },
            "type": "mesh3d"
           }
          ],
          "parcoords": [
           {
            "line": {
             "colorbar": {
              "outlinewidth": 0,
              "ticks": ""
             }
            },
            "type": "parcoords"
           }
          ],
          "pie": [
           {
            "automargin": true,
            "type": "pie"
           }
          ],
          "scatter": [
           {
            "fillpattern": {
             "fillmode": "overlay",
             "size": 10,
             "solidity": 0.2
            },
            "type": "scatter"
           }
          ],
          "scatter3d": [
           {
            "line": {
             "colorbar": {
              "outlinewidth": 0,
              "ticks": ""
             }
            },
            "marker": {
             "colorbar": {
              "outlinewidth": 0,
              "ticks": ""
             }
            },
            "type": "scatter3d"
           }
          ],
          "scattercarpet": [
           {
            "marker": {
             "colorbar": {
              "outlinewidth": 0,
              "ticks": ""
             }
            },
            "type": "scattercarpet"
           }
          ],
          "scattergeo": [
           {
            "marker": {
             "colorbar": {
              "outlinewidth": 0,
              "ticks": ""
             }
            },
            "type": "scattergeo"
           }
          ],
          "scattergl": [
           {
            "marker": {
             "colorbar": {
              "outlinewidth": 0,
              "ticks": ""
             }
            },
            "type": "scattergl"
           }
          ],
          "scattermap": [
           {
            "marker": {
             "colorbar": {
              "outlinewidth": 0,
              "ticks": ""
             }
            },
            "type": "scattermap"
           }
          ],
          "scattermapbox": [
           {
            "marker": {
             "colorbar": {
              "outlinewidth": 0,
              "ticks": ""
             }
            },
            "type": "scattermapbox"
           }
          ],
          "scatterpolar": [
           {
            "marker": {
             "colorbar": {
              "outlinewidth": 0,
              "ticks": ""
             }
            },
            "type": "scatterpolar"
           }
          ],
          "scatterpolargl": [
           {
            "marker": {
             "colorbar": {
              "outlinewidth": 0,
              "ticks": ""
             }
            },
            "type": "scatterpolargl"
           }
          ],
          "scatterternary": [
           {
            "marker": {
             "colorbar": {
              "outlinewidth": 0,
              "ticks": ""
             }
            },
            "type": "scatterternary"
           }
          ],
          "surface": [
           {
            "colorbar": {
             "outlinewidth": 0,
             "ticks": ""
            },
            "colorscale": [
             [
              0,
              "#0d0887"
             ],
             [
              0.1111111111111111,
              "#46039f"
             ],
             [
              0.2222222222222222,
              "#7201a8"
             ],
             [
              0.3333333333333333,
              "#9c179e"
             ],
             [
              0.4444444444444444,
              "#bd3786"
             ],
             [
              0.5555555555555556,
              "#d8576b"
             ],
             [
              0.6666666666666666,
              "#ed7953"
             ],
             [
              0.7777777777777778,
              "#fb9f3a"
             ],
             [
              0.8888888888888888,
              "#fdca26"
             ],
             [
              1,
              "#f0f921"
             ]
            ],
            "type": "surface"
           }
          ],
          "table": [
           {
            "cells": {
             "fill": {
              "color": "#EBF0F8"
             },
             "line": {
              "color": "white"
             }
            },
            "header": {
             "fill": {
              "color": "#C8D4E3"
             },
             "line": {
              "color": "white"
             }
            },
            "type": "table"
           }
          ]
         },
         "layout": {
          "annotationdefaults": {
           "arrowcolor": "#2a3f5f",
           "arrowhead": 0,
           "arrowwidth": 1
          },
          "autotypenumbers": "strict",
          "coloraxis": {
           "colorbar": {
            "outlinewidth": 0,
            "ticks": ""
           }
          },
          "colorscale": {
           "diverging": [
            [
             0,
             "#8e0152"
            ],
            [
             0.1,
             "#c51b7d"
            ],
            [
             0.2,
             "#de77ae"
            ],
            [
             0.3,
             "#f1b6da"
            ],
            [
             0.4,
             "#fde0ef"
            ],
            [
             0.5,
             "#f7f7f7"
            ],
            [
             0.6,
             "#e6f5d0"
            ],
            [
             0.7,
             "#b8e186"
            ],
            [
             0.8,
             "#7fbc41"
            ],
            [
             0.9,
             "#4d9221"
            ],
            [
             1,
             "#276419"
            ]
           ],
           "sequential": [
            [
             0,
             "#0d0887"
            ],
            [
             0.1111111111111111,
             "#46039f"
            ],
            [
             0.2222222222222222,
             "#7201a8"
            ],
            [
             0.3333333333333333,
             "#9c179e"
            ],
            [
             0.4444444444444444,
             "#bd3786"
            ],
            [
             0.5555555555555556,
             "#d8576b"
            ],
            [
             0.6666666666666666,
             "#ed7953"
            ],
            [
             0.7777777777777778,
             "#fb9f3a"
            ],
            [
             0.8888888888888888,
             "#fdca26"
            ],
            [
             1,
             "#f0f921"
            ]
           ],
           "sequentialminus": [
            [
             0,
             "#0d0887"
            ],
            [
             0.1111111111111111,
             "#46039f"
            ],
            [
             0.2222222222222222,
             "#7201a8"
            ],
            [
             0.3333333333333333,
             "#9c179e"
            ],
            [
             0.4444444444444444,
             "#bd3786"
            ],
            [
             0.5555555555555556,
             "#d8576b"
            ],
            [
             0.6666666666666666,
             "#ed7953"
            ],
            [
             0.7777777777777778,
             "#fb9f3a"
            ],
            [
             0.8888888888888888,
             "#fdca26"
            ],
            [
             1,
             "#f0f921"
            ]
           ]
          },
          "colorway": [
           "#636efa",
           "#EF553B",
           "#00cc96",
           "#ab63fa",
           "#FFA15A",
           "#19d3f3",
           "#FF6692",
           "#B6E880",
           "#FF97FF",
           "#FECB52"
          ],
          "font": {
           "color": "#2a3f5f"
          },
          "geo": {
           "bgcolor": "white",
           "lakecolor": "white",
           "landcolor": "#E5ECF6",
           "showlakes": true,
           "showland": true,
           "subunitcolor": "white"
          },
          "hoverlabel": {
           "align": "left"
          },
          "hovermode": "closest",
          "mapbox": {
           "style": "light"
          },
          "paper_bgcolor": "white",
          "plot_bgcolor": "#E5ECF6",
          "polar": {
           "angularaxis": {
            "gridcolor": "white",
            "linecolor": "white",
            "ticks": ""
           },
           "bgcolor": "#E5ECF6",
           "radialaxis": {
            "gridcolor": "white",
            "linecolor": "white",
            "ticks": ""
           }
          },
          "scene": {
           "xaxis": {
            "backgroundcolor": "#E5ECF6",
            "gridcolor": "white",
            "gridwidth": 2,
            "linecolor": "white",
            "showbackground": true,
            "ticks": "",
            "zerolinecolor": "white"
           },
           "yaxis": {
            "backgroundcolor": "#E5ECF6",
            "gridcolor": "white",
            "gridwidth": 2,
            "linecolor": "white",
            "showbackground": true,
            "ticks": "",
            "zerolinecolor": "white"
           },
           "zaxis": {
            "backgroundcolor": "#E5ECF6",
            "gridcolor": "white",
            "gridwidth": 2,
            "linecolor": "white",
            "showbackground": true,
            "ticks": "",
            "zerolinecolor": "white"
           }
          },
          "shapedefaults": {
           "line": {
            "color": "#2a3f5f"
           }
          },
          "ternary": {
           "aaxis": {
            "gridcolor": "white",
            "linecolor": "white",
            "ticks": ""
           },
           "baxis": {
            "gridcolor": "white",
            "linecolor": "white",
            "ticks": ""
           },
           "bgcolor": "#E5ECF6",
           "caxis": {
            "gridcolor": "white",
            "linecolor": "white",
            "ticks": ""
           }
          },
          "title": {
           "x": 0.05
          },
          "xaxis": {
           "automargin": true,
           "gridcolor": "white",
           "linecolor": "white",
           "ticks": "",
           "title": {
            "standoff": 15
           },
           "zerolinecolor": "white",
           "zerolinewidth": 2
          },
          "yaxis": {
           "automargin": true,
           "gridcolor": "white",
           "linecolor": "white",
           "ticks": "",
           "title": {
            "standoff": 15
           },
           "zerolinecolor": "white",
           "zerolinewidth": 2
          }
         }
        },
        "title": {
         "text": "Average Salary by Skill Domain Coverage"
        },
        "width": 800,
        "xaxis": {
         "anchor": "y",
         "domain": [
          0,
          1
         ],
         "title": {
          "text": "Number of Skill Domains Covered"
         }
        },
        "yaxis": {
         "anchor": "x",
         "domain": [
          0,
          1
         ],
         "title": {
          "text": "Average Salary (USD)"
         }
        }
       }
      }
     },
     "metadata": {},
     "output_type": "display_data"
    }
   ],
   "source": [
    "# Visualize the relationship between skill domain coverage and salary\n",
    "fig = px.bar(\n",
    "    domain_salary_df,\n",
    "    x='Domains Covered',\n",
    "    y='Average Salary',\n",
    "    title='Average Salary by Skill Domain Coverage',\n",
    "    labels={'Domains Covered': 'Number of Skill Domains Covered', 'Average Salary': 'Average Salary (USD)'},\n",
    "    color='Average Salary',\n",
    "    color_continuous_scale='Viridis'\n",
    ")\n",
    "fig.update_layout(\n",
    "    height=500,\n",
    "    width=800\n",
    ")\n",
    "fig.show()"
   ]
  },
  {
   "cell_type": "markdown",
   "metadata": {},
   "source": [
    "The relationship between skill domain coverage and compensation reveals a fascinating U-shaped pattern that challenges conventional wisdom about skill breadth in the AI job market. While we might expect a linear relationship where more skill domains consistently lead to higher pay, the data shows a more nuanced reality.\n",
    "\n",
    "Most notably, positions requiring coverage of all 5 skill domains command the highest average salary ($202,471), suggesting that true \"full-stack\" AI professionals who can work across programming, ML frameworks, big data, cloud, and visualization domains are highly valued but rare. Interestingly, positions with no classified skill domains also show relatively high compensation ($174,905), potentially representing specialized roles with unique skill requirements outside our defined domains or executive positions where technical skills are complemented by leadership abilities.\n",
    "\n",
    "The middle of the distribution (2-3 domains) shows the lowest average salaries ($144,124 and $144,454 respectively), despite being the most common job configurations as revealed in our previous analysis. This indicates a potential oversupply of professionals with moderate skill breadth, driving down the premium for these profiles despite their popularity in job postings.\n",
    "\n",
    "For STEAMe's workforce development mission, these findings suggest two viable paths to maximize earning potential: either develop deep expertise in a highly specialized niche that falls outside common domain classifications, or invest in comprehensive cross-domain proficiency spanning all major skill areas. The typical approach of developing moderate breadth across 2-3 domains, while providing more job opportunities, appears to yield lower compensation on average. This insight could help learners make more strategic decisions about their skill development pathways based on their career and compensation goals."
   ]
  },
  {
   "cell_type": "markdown",
   "metadata": {},
   "source": [
    "## 2. Skills Premium Analysis on Individual Skills\n",
    "\n",
    "After examining skill combinations, we now focus on individual skills to identify which specific technical capabilities command the highest salary premiums in the AI job market. This analysis will systematically quantify the value of each skill by calculating its frequency in job postings, determining the average salary for positions requiring that skill, and computing the salary differential (premium) it generates. We'll then explore how these premiums vary across experience levels to provide more targeted insights for different career stages. This approach will help STEAMe's users understand which specific skills offer the greatest return on investment for career development and training."
   ]
  },
  {
   "cell_type": "code",
   "execution_count": 39,
   "metadata": {},
   "outputs": [
    {
     "name": "stdout",
     "output_type": "stream",
     "text": [
      "Top skills by frequency:\n"
     ]
    },
    {
     "data": {
      "text/html": [
       "<div>\n",
       "<style scoped>\n",
       "    .dataframe tbody tr th:only-of-type {\n",
       "        vertical-align: middle;\n",
       "    }\n",
       "\n",
       "    .dataframe tbody tr th {\n",
       "        vertical-align: top;\n",
       "    }\n",
       "\n",
       "    .dataframe thead th {\n",
       "        text-align: right;\n",
       "    }\n",
       "</style>\n",
       "<table border=\"1\" class=\"dataframe\">\n",
       "  <thead>\n",
       "    <tr style=\"text-align: right;\">\n",
       "      <th></th>\n",
       "      <th>skill</th>\n",
       "      <th>count</th>\n",
       "      <th>percentage</th>\n",
       "    </tr>\n",
       "  </thead>\n",
       "  <tbody>\n",
       "    <tr>\n",
       "      <th>0</th>\n",
       "      <td>Python</td>\n",
       "      <td>218</td>\n",
       "      <td>30.11</td>\n",
       "    </tr>\n",
       "    <tr>\n",
       "      <th>1</th>\n",
       "      <td>SQL</td>\n",
       "      <td>167</td>\n",
       "      <td>23.07</td>\n",
       "    </tr>\n",
       "    <tr>\n",
       "      <th>2</th>\n",
       "      <td>Kubernetes</td>\n",
       "      <td>155</td>\n",
       "      <td>21.41</td>\n",
       "    </tr>\n",
       "    <tr>\n",
       "      <th>3</th>\n",
       "      <td>TensorFlow</td>\n",
       "      <td>154</td>\n",
       "      <td>21.27</td>\n",
       "    </tr>\n",
       "    <tr>\n",
       "      <th>4</th>\n",
       "      <td>Scala</td>\n",
       "      <td>149</td>\n",
       "      <td>20.58</td>\n",
       "    </tr>\n",
       "    <tr>\n",
       "      <th>5</th>\n",
       "      <td>Linux</td>\n",
       "      <td>141</td>\n",
       "      <td>19.48</td>\n",
       "    </tr>\n",
       "    <tr>\n",
       "      <th>6</th>\n",
       "      <td>PyTorch</td>\n",
       "      <td>132</td>\n",
       "      <td>18.23</td>\n",
       "    </tr>\n",
       "    <tr>\n",
       "      <th>7</th>\n",
       "      <td>Java</td>\n",
       "      <td>129</td>\n",
       "      <td>17.82</td>\n",
       "    </tr>\n",
       "    <tr>\n",
       "      <th>8</th>\n",
       "      <td>Mathematics</td>\n",
       "      <td>120</td>\n",
       "      <td>16.57</td>\n",
       "    </tr>\n",
       "    <tr>\n",
       "      <th>9</th>\n",
       "      <td>Computer Vision</td>\n",
       "      <td>118</td>\n",
       "      <td>16.30</td>\n",
       "    </tr>\n",
       "    <tr>\n",
       "      <th>10</th>\n",
       "      <td>R</td>\n",
       "      <td>116</td>\n",
       "      <td>16.02</td>\n",
       "    </tr>\n",
       "    <tr>\n",
       "      <th>11</th>\n",
       "      <td>Git</td>\n",
       "      <td>113</td>\n",
       "      <td>15.61</td>\n",
       "    </tr>\n",
       "    <tr>\n",
       "      <th>12</th>\n",
       "      <td>MLOps</td>\n",
       "      <td>111</td>\n",
       "      <td>15.33</td>\n",
       "    </tr>\n",
       "    <tr>\n",
       "      <th>13</th>\n",
       "      <td>Azure</td>\n",
       "      <td>111</td>\n",
       "      <td>15.33</td>\n",
       "    </tr>\n",
       "    <tr>\n",
       "      <th>14</th>\n",
       "      <td>Hadoop</td>\n",
       "      <td>110</td>\n",
       "      <td>15.19</td>\n",
       "    </tr>\n",
       "  </tbody>\n",
       "</table>\n",
       "</div>"
      ],
      "text/plain": [
       "              skill  count  percentage\n",
       "0            Python    218       30.11\n",
       "1               SQL    167       23.07\n",
       "2        Kubernetes    155       21.41\n",
       "3        TensorFlow    154       21.27\n",
       "4             Scala    149       20.58\n",
       "5             Linux    141       19.48\n",
       "6           PyTorch    132       18.23\n",
       "7              Java    129       17.82\n",
       "8       Mathematics    120       16.57\n",
       "9   Computer Vision    118       16.30\n",
       "10                R    116       16.02\n",
       "11              Git    113       15.61\n",
       "12            MLOps    111       15.33\n",
       "13            Azure    111       15.33\n",
       "14           Hadoop    110       15.19"
      ]
     },
     "metadata": {},
     "output_type": "display_data"
    }
   ],
   "source": [
    "# 1. Calculate frequency of each skill across the dataset\n",
    "skill_frequency = full_df[skill_cols].sum().sort_values(ascending=False)\n",
    "skill_frequency = skill_frequency.reset_index()\n",
    "skill_frequency.columns = ['skill', 'count']\n",
    "skill_frequency['percentage'] = (skill_frequency['count'] / len(full_df) * 100).round(2)\n",
    "skill_frequency['skill'] = skill_frequency['skill'].str.replace('skill_', '')\n",
    "\n",
    "print(\"Top skills by frequency:\")\n",
    "display(skill_frequency.head(15))"
   ]
  },
  {
   "cell_type": "markdown",
   "metadata": {},
   "source": [
    "Next, we determine the average salary for jobs requiring each skill and compute skill premium."
   ]
  },
  {
   "cell_type": "code",
   "execution_count": 40,
   "metadata": {},
   "outputs": [
    {
     "name": "stdout",
     "output_type": "stream",
     "text": [
      "\n",
      "Top skills by salary premium:\n"
     ]
    },
    {
     "data": {
      "text/html": [
       "<div>\n",
       "<style scoped>\n",
       "    .dataframe tbody tr th:only-of-type {\n",
       "        vertical-align: middle;\n",
       "    }\n",
       "\n",
       "    .dataframe tbody tr th {\n",
       "        vertical-align: top;\n",
       "    }\n",
       "\n",
       "    .dataframe thead th {\n",
       "        text-align: right;\n",
       "    }\n",
       "</style>\n",
       "<table border=\"1\" class=\"dataframe\">\n",
       "  <thead>\n",
       "    <tr style=\"text-align: right;\">\n",
       "      <th></th>\n",
       "      <th>skill</th>\n",
       "      <th>job_count</th>\n",
       "      <th>frequency_pct</th>\n",
       "      <th>avg_salary</th>\n",
       "      <th>median_salary</th>\n",
       "      <th>skill_premium</th>\n",
       "      <th>premium_percentage</th>\n",
       "    </tr>\n",
       "  </thead>\n",
       "  <tbody>\n",
       "    <tr>\n",
       "      <th>7</th>\n",
       "      <td>Java</td>\n",
       "      <td>129</td>\n",
       "      <td>17.817680</td>\n",
       "      <td>158923.542636</td>\n",
       "      <td>140303.0</td>\n",
       "      <td>14711.798098</td>\n",
       "      <td>10.201526</td>\n",
       "    </tr>\n",
       "    <tr>\n",
       "      <th>22</th>\n",
       "      <td>Docker</td>\n",
       "      <td>86</td>\n",
       "      <td>11.878453</td>\n",
       "      <td>159384.732558</td>\n",
       "      <td>141261.0</td>\n",
       "      <td>14243.607166</td>\n",
       "      <td>9.813626</td>\n",
       "    </tr>\n",
       "    <tr>\n",
       "      <th>6</th>\n",
       "      <td>PyTorch</td>\n",
       "      <td>132</td>\n",
       "      <td>18.232044</td>\n",
       "      <td>153904.060606</td>\n",
       "      <td>133486.5</td>\n",
       "      <td>8647.660268</td>\n",
       "      <td>5.953376</td>\n",
       "    </tr>\n",
       "    <tr>\n",
       "      <th>11</th>\n",
       "      <td>Git</td>\n",
       "      <td>113</td>\n",
       "      <td>15.607735</td>\n",
       "      <td>152124.752212</td>\n",
       "      <td>135799.0</td>\n",
       "      <td>6270.369234</td>\n",
       "      <td>4.299061</td>\n",
       "    </tr>\n",
       "    <tr>\n",
       "      <th>20</th>\n",
       "      <td>AWS</td>\n",
       "      <td>91</td>\n",
       "      <td>12.569061</td>\n",
       "      <td>151469.087912</td>\n",
       "      <td>145616.0</td>\n",
       "      <td>5302.519192</td>\n",
       "      <td>3.627724</td>\n",
       "    </tr>\n",
       "    <tr>\n",
       "      <th>16</th>\n",
       "      <td>NLP</td>\n",
       "      <td>105</td>\n",
       "      <td>14.502762</td>\n",
       "      <td>151023.761905</td>\n",
       "      <td>135101.0</td>\n",
       "      <td>4901.580968</td>\n",
       "      <td>3.354440</td>\n",
       "    </tr>\n",
       "    <tr>\n",
       "      <th>9</th>\n",
       "      <td>Computer Vision</td>\n",
       "      <td>118</td>\n",
       "      <td>16.298343</td>\n",
       "      <td>150580.194915</td>\n",
       "      <td>140365.5</td>\n",
       "      <td>4476.792275</td>\n",
       "      <td>3.064126</td>\n",
       "    </tr>\n",
       "    <tr>\n",
       "      <th>4</th>\n",
       "      <td>Scala</td>\n",
       "      <td>149</td>\n",
       "      <td>20.580110</td>\n",
       "      <td>149485.020134</td>\n",
       "      <td>131033.0</td>\n",
       "      <td>3339.181873</td>\n",
       "      <td>2.284829</td>\n",
       "    </tr>\n",
       "    <tr>\n",
       "      <th>19</th>\n",
       "      <td>Data Visualization</td>\n",
       "      <td>96</td>\n",
       "      <td>13.259669</td>\n",
       "      <td>149203.854167</td>\n",
       "      <td>122234.0</td>\n",
       "      <td>2733.225186</td>\n",
       "      <td>1.866057</td>\n",
       "    </tr>\n",
       "    <tr>\n",
       "      <th>21</th>\n",
       "      <td>Deep Learning</td>\n",
       "      <td>89</td>\n",
       "      <td>12.292818</td>\n",
       "      <td>147961.853933</td>\n",
       "      <td>123058.0</td>\n",
       "      <td>1287.019287</td>\n",
       "      <td>0.877464</td>\n",
       "    </tr>\n",
       "    <tr>\n",
       "      <th>5</th>\n",
       "      <td>Linux</td>\n",
       "      <td>141</td>\n",
       "      <td>19.475138</td>\n",
       "      <td>147089.063830</td>\n",
       "      <td>130960.0</td>\n",
       "      <td>317.936900</td>\n",
       "      <td>0.216621</td>\n",
       "    </tr>\n",
       "    <tr>\n",
       "      <th>13</th>\n",
       "      <td>Azure</td>\n",
       "      <td>111</td>\n",
       "      <td>15.331492</td>\n",
       "      <td>147025.774775</td>\n",
       "      <td>136611.0</td>\n",
       "      <td>227.627956</td>\n",
       "      <td>0.155062</td>\n",
       "    </tr>\n",
       "    <tr>\n",
       "      <th>18</th>\n",
       "      <td>Spark</td>\n",
       "      <td>99</td>\n",
       "      <td>13.674033</td>\n",
       "      <td>146259.515152</td>\n",
       "      <td>128063.0</td>\n",
       "      <td>-664.377648</td>\n",
       "      <td>-0.452192</td>\n",
       "    </tr>\n",
       "    <tr>\n",
       "      <th>1</th>\n",
       "      <td>SQL</td>\n",
       "      <td>167</td>\n",
       "      <td>23.066298</td>\n",
       "      <td>146263.137725</td>\n",
       "      <td>125079.0</td>\n",
       "      <td>-740.777895</td>\n",
       "      <td>-0.503917</td>\n",
       "    </tr>\n",
       "    <tr>\n",
       "      <th>3</th>\n",
       "      <td>TensorFlow</td>\n",
       "      <td>154</td>\n",
       "      <td>21.270718</td>\n",
       "      <td>145335.025974</td>\n",
       "      <td>123737.5</td>\n",
       "      <td>-1902.747710</td>\n",
       "      <td>-1.292296</td>\n",
       "    </tr>\n",
       "  </tbody>\n",
       "</table>\n",
       "</div>"
      ],
      "text/plain": [
       "                 skill  job_count  frequency_pct     avg_salary  \\\n",
       "7                 Java        129      17.817680  158923.542636   \n",
       "22              Docker         86      11.878453  159384.732558   \n",
       "6              PyTorch        132      18.232044  153904.060606   \n",
       "11                 Git        113      15.607735  152124.752212   \n",
       "20                 AWS         91      12.569061  151469.087912   \n",
       "16                 NLP        105      14.502762  151023.761905   \n",
       "9      Computer Vision        118      16.298343  150580.194915   \n",
       "4                Scala        149      20.580110  149485.020134   \n",
       "19  Data Visualization         96      13.259669  149203.854167   \n",
       "21       Deep Learning         89      12.292818  147961.853933   \n",
       "5                Linux        141      19.475138  147089.063830   \n",
       "13               Azure        111      15.331492  147025.774775   \n",
       "18               Spark         99      13.674033  146259.515152   \n",
       "1                  SQL        167      23.066298  146263.137725   \n",
       "3           TensorFlow        154      21.270718  145335.025974   \n",
       "\n",
       "    median_salary  skill_premium  premium_percentage  \n",
       "7        140303.0   14711.798098           10.201526  \n",
       "22       141261.0   14243.607166            9.813626  \n",
       "6        133486.5    8647.660268            5.953376  \n",
       "11       135799.0    6270.369234            4.299061  \n",
       "20       145616.0    5302.519192            3.627724  \n",
       "16       135101.0    4901.580968            3.354440  \n",
       "9        140365.5    4476.792275            3.064126  \n",
       "4        131033.0    3339.181873            2.284829  \n",
       "19       122234.0    2733.225186            1.866057  \n",
       "21       123058.0    1287.019287            0.877464  \n",
       "5        130960.0     317.936900            0.216621  \n",
       "13       136611.0     227.627956            0.155062  \n",
       "18       128063.0    -664.377648           -0.452192  \n",
       "1        125079.0    -740.777895           -0.503917  \n",
       "3        123737.5   -1902.747710           -1.292296  "
      ]
     },
     "metadata": {},
     "output_type": "display_data"
    },
    {
     "name": "stdout",
     "output_type": "stream",
     "text": [
      "\n",
      "Bottom skills by salary premium:\n"
     ]
    },
    {
     "data": {
      "text/html": [
       "<div>\n",
       "<style scoped>\n",
       "    .dataframe tbody tr th:only-of-type {\n",
       "        vertical-align: middle;\n",
       "    }\n",
       "\n",
       "    .dataframe tbody tr th {\n",
       "        vertical-align: top;\n",
       "    }\n",
       "\n",
       "    .dataframe thead th {\n",
       "        text-align: right;\n",
       "    }\n",
       "</style>\n",
       "<table border=\"1\" class=\"dataframe\">\n",
       "  <thead>\n",
       "    <tr style=\"text-align: right;\">\n",
       "      <th></th>\n",
       "      <th>skill</th>\n",
       "      <th>job_count</th>\n",
       "      <th>frequency_pct</th>\n",
       "      <th>avg_salary</th>\n",
       "      <th>median_salary</th>\n",
       "      <th>skill_premium</th>\n",
       "      <th>premium_percentage</th>\n",
       "    </tr>\n",
       "  </thead>\n",
       "  <tbody>\n",
       "    <tr>\n",
       "      <th>21</th>\n",
       "      <td>Deep Learning</td>\n",
       "      <td>89</td>\n",
       "      <td>12.292818</td>\n",
       "      <td>147961.853933</td>\n",
       "      <td>123058.0</td>\n",
       "      <td>1287.019287</td>\n",
       "      <td>0.877464</td>\n",
       "    </tr>\n",
       "    <tr>\n",
       "      <th>5</th>\n",
       "      <td>Linux</td>\n",
       "      <td>141</td>\n",
       "      <td>19.475138</td>\n",
       "      <td>147089.063830</td>\n",
       "      <td>130960.0</td>\n",
       "      <td>317.936900</td>\n",
       "      <td>0.216621</td>\n",
       "    </tr>\n",
       "    <tr>\n",
       "      <th>13</th>\n",
       "      <td>Azure</td>\n",
       "      <td>111</td>\n",
       "      <td>15.331492</td>\n",
       "      <td>147025.774775</td>\n",
       "      <td>136611.0</td>\n",
       "      <td>227.627956</td>\n",
       "      <td>0.155062</td>\n",
       "    </tr>\n",
       "    <tr>\n",
       "      <th>18</th>\n",
       "      <td>Spark</td>\n",
       "      <td>99</td>\n",
       "      <td>13.674033</td>\n",
       "      <td>146259.515152</td>\n",
       "      <td>128063.0</td>\n",
       "      <td>-664.377648</td>\n",
       "      <td>-0.452192</td>\n",
       "    </tr>\n",
       "    <tr>\n",
       "      <th>1</th>\n",
       "      <td>SQL</td>\n",
       "      <td>167</td>\n",
       "      <td>23.066298</td>\n",
       "      <td>146263.137725</td>\n",
       "      <td>125079.0</td>\n",
       "      <td>-740.777895</td>\n",
       "      <td>-0.503917</td>\n",
       "    </tr>\n",
       "    <tr>\n",
       "      <th>3</th>\n",
       "      <td>TensorFlow</td>\n",
       "      <td>154</td>\n",
       "      <td>21.270718</td>\n",
       "      <td>145335.025974</td>\n",
       "      <td>123737.5</td>\n",
       "      <td>-1902.747710</td>\n",
       "      <td>-1.292296</td>\n",
       "    </tr>\n",
       "    <tr>\n",
       "      <th>14</th>\n",
       "      <td>Hadoop</td>\n",
       "      <td>110</td>\n",
       "      <td>15.193370</td>\n",
       "      <td>144547.900000</td>\n",
       "      <td>125250.5</td>\n",
       "      <td>-2694.536482</td>\n",
       "      <td>-1.830000</td>\n",
       "    </tr>\n",
       "    <tr>\n",
       "      <th>15</th>\n",
       "      <td>GCP</td>\n",
       "      <td>109</td>\n",
       "      <td>15.055249</td>\n",
       "      <td>144404.055046</td>\n",
       "      <td>129699.0</td>\n",
       "      <td>-2859.494548</td>\n",
       "      <td>-1.941753</td>\n",
       "    </tr>\n",
       "    <tr>\n",
       "      <th>17</th>\n",
       "      <td>Tableau</td>\n",
       "      <td>102</td>\n",
       "      <td>14.088398</td>\n",
       "      <td>143974.078431</td>\n",
       "      <td>128438.5</td>\n",
       "      <td>-3327.800990</td>\n",
       "      <td>-2.259171</td>\n",
       "    </tr>\n",
       "    <tr>\n",
       "      <th>8</th>\n",
       "      <td>Mathematics</td>\n",
       "      <td>120</td>\n",
       "      <td>16.574586</td>\n",
       "      <td>143564.775000</td>\n",
       "      <td>123709.0</td>\n",
       "      <td>-3917.595861</td>\n",
       "      <td>-2.656315</td>\n",
       "    </tr>\n",
       "    <tr>\n",
       "      <th>10</th>\n",
       "      <td>R</td>\n",
       "      <td>116</td>\n",
       "      <td>16.022099</td>\n",
       "      <td>141885.896552</td>\n",
       "      <td>121550.5</td>\n",
       "      <td>-5891.012988</td>\n",
       "      <td>-3.986423</td>\n",
       "    </tr>\n",
       "    <tr>\n",
       "      <th>0</th>\n",
       "      <td>Python</td>\n",
       "      <td>218</td>\n",
       "      <td>30.110497</td>\n",
       "      <td>141294.614679</td>\n",
       "      <td>126288.5</td>\n",
       "      <td>-7924.553305</td>\n",
       "      <td>-5.310681</td>\n",
       "    </tr>\n",
       "    <tr>\n",
       "      <th>12</th>\n",
       "      <td>MLOps</td>\n",
       "      <td>111</td>\n",
       "      <td>15.331492</td>\n",
       "      <td>139974.693694</td>\n",
       "      <td>126294.0</td>\n",
       "      <td>-8100.239422</td>\n",
       "      <td>-5.470365</td>\n",
       "    </tr>\n",
       "    <tr>\n",
       "      <th>2</th>\n",
       "      <td>Kubernetes</td>\n",
       "      <td>155</td>\n",
       "      <td>21.408840</td>\n",
       "      <td>139597.470968</td>\n",
       "      <td>120749.0</td>\n",
       "      <td>-9206.601088</td>\n",
       "      <td>-6.187063</td>\n",
       "    </tr>\n",
       "    <tr>\n",
       "      <th>23</th>\n",
       "      <td>Statistics</td>\n",
       "      <td>73</td>\n",
       "      <td>10.082873</td>\n",
       "      <td>129332.438356</td>\n",
       "      <td>109004.0</td>\n",
       "      <td>-19463.040907</td>\n",
       "      <td>-13.080398</td>\n",
       "    </tr>\n",
       "  </tbody>\n",
       "</table>\n",
       "</div>"
      ],
      "text/plain": [
       "            skill  job_count  frequency_pct     avg_salary  median_salary  \\\n",
       "21  Deep Learning         89      12.292818  147961.853933       123058.0   \n",
       "5           Linux        141      19.475138  147089.063830       130960.0   \n",
       "13          Azure        111      15.331492  147025.774775       136611.0   \n",
       "18          Spark         99      13.674033  146259.515152       128063.0   \n",
       "1             SQL        167      23.066298  146263.137725       125079.0   \n",
       "3      TensorFlow        154      21.270718  145335.025974       123737.5   \n",
       "14         Hadoop        110      15.193370  144547.900000       125250.5   \n",
       "15            GCP        109      15.055249  144404.055046       129699.0   \n",
       "17        Tableau        102      14.088398  143974.078431       128438.5   \n",
       "8     Mathematics        120      16.574586  143564.775000       123709.0   \n",
       "10              R        116      16.022099  141885.896552       121550.5   \n",
       "0          Python        218      30.110497  141294.614679       126288.5   \n",
       "12          MLOps        111      15.331492  139974.693694       126294.0   \n",
       "2      Kubernetes        155      21.408840  139597.470968       120749.0   \n",
       "23     Statistics         73      10.082873  129332.438356       109004.0   \n",
       "\n",
       "    skill_premium  premium_percentage  \n",
       "21    1287.019287            0.877464  \n",
       "5      317.936900            0.216621  \n",
       "13     227.627956            0.155062  \n",
       "18    -664.377648           -0.452192  \n",
       "1     -740.777895           -0.503917  \n",
       "3    -1902.747710           -1.292296  \n",
       "14   -2694.536482           -1.830000  \n",
       "15   -2859.494548           -1.941753  \n",
       "17   -3327.800990           -2.259171  \n",
       "8    -3917.595861           -2.656315  \n",
       "10   -5891.012988           -3.986423  \n",
       "0    -7924.553305           -5.310681  \n",
       "12   -8100.239422           -5.470365  \n",
       "2    -9206.601088           -6.187063  \n",
       "23  -19463.040907          -13.080398  "
      ]
     },
     "metadata": {},
     "output_type": "display_data"
    }
   ],
   "source": [
    "skill_salary_data = []\n",
    "\n",
    "for skill in skill_cols:\n",
    "    skill_name = skill.replace('skill_', '')\n",
    "    jobs_with_skill = full_df[full_df[skill] == 1]\n",
    "    jobs_without_skill = full_df[full_df[skill] == 0]\n",
    "    \n",
    "    if len(jobs_with_skill) > 0 and len(jobs_without_skill) > 0:\n",
    "        avg_salary_with = jobs_with_skill['salary_usd'].mean()\n",
    "        avg_salary_without = jobs_without_skill['salary_usd'].mean()\n",
    "        median_salary_with = jobs_with_skill['salary_usd'].median()\n",
    "        \n",
    "        skill_premium = avg_salary_with - avg_salary_without\n",
    "        premium_percentage = (skill_premium / avg_salary_without) * 100\n",
    "        \n",
    "        skill_salary_data.append({\n",
    "            'skill': skill_name,\n",
    "            'job_count': len(jobs_with_skill),\n",
    "            'frequency_pct': len(jobs_with_skill) / len(full_df) * 100,\n",
    "            'avg_salary': avg_salary_with,\n",
    "            'median_salary': median_salary_with,\n",
    "            'skill_premium': skill_premium,\n",
    "            'premium_percentage': premium_percentage\n",
    "        })\n",
    "\n",
    "skill_salary_df = pd.DataFrame(skill_salary_data)\n",
    "skill_salary_df = skill_salary_df.sort_values('skill_premium', ascending=False)\n",
    "\n",
    "print(\"\\nTop skills by salary premium:\")\n",
    "display(skill_salary_df.head(15))\n",
    "\n",
    "print(\"\\nBottom skills by salary premium:\")\n",
    "display(skill_salary_df.tail(15))"
   ]
  },
  {
   "cell_type": "code",
   "execution_count": 41,
   "metadata": {},
   "outputs": [
    {
     "data": {
      "application/vnd.plotly.v1+json": {
       "config": {
        "plotlyServerURL": "https://plot.ly"
       },
       "data": [
        {
         "customdata": {
          "bdata": "AAAAAAAgYEBFXVFXXGYDQailc14uZyRAAAAAAACAVUAecUfcxXQDQWFxF5WToCNAAAAAAACAYEDCBx98gMkCQUl0redB0BdAAAAAAABAXEDg7YcE5pECQWUOihs9MhFAAAAAAADAVkC0QAu0aH0CQSjcBPuTBQ1AAAAAAABAWkAYhmEYfm8CQTSbAKvk1QpAAAAAAACAXUCUui+PoWECQYTAZHdUgwhAAAAAAACgYkBdIjwpaD8CQYtZKzRURwJAAAAAAAAAWEBVVVXVnjYCQR7i3Wle2/0/AAAAAABAVkBTm9rUzg8CQeHYIvovFOw/AAAAAACgYUAFMbmCiPQBQXX26ps7uss/AAAAAADAW0D7Hb0yjvIBQbdzf0QR2cM/AAAAAADAWEDwwQcfnNoBQVSss3S18Ny/AAAAAADgZEBQVA8audoBQZRprcoWIOC/AAAAAABAY0DB3jE1uL0BQV6ixHY+rfS/",
          "dtype": "f8",
          "shape": "15, 3"
         },
         "hovertemplate": "Skill=%{x}<br>Salary Premium (USD)=%{marker.color}<br>Number of Jobs=%{customdata[0]}<br>avg_salary=%{customdata[1]}<br>Premium (%)=%{customdata[2]}<extra></extra>",
         "legendgroup": "",
         "marker": {
          "color": {
           "bdata": "APURKOa7zEBw/5+3zdHLQLBLq4PU48BA4PcYhl5+uECAcb/phLa0QCC2TbqUJbNAgKSI0sp8sUDAPoEeXRaqQMDFjEtzWqVAAPTyvxMclEAAGPmK/d5zQACo3jYYdGxAAJ+RbAXDhMAA3+0gOSaHwAAWvaf9up3A",
           "dtype": "f8"
          },
          "coloraxis": "coloraxis",
          "pattern": {
           "shape": ""
          }
         },
         "name": "",
         "orientation": "v",
         "showlegend": false,
         "textposition": "auto",
         "type": "bar",
         "x": [
          "Java",
          "Docker",
          "PyTorch",
          "Git",
          "AWS",
          "NLP",
          "Computer Vision",
          "Scala",
          "Data Visualization",
          "Deep Learning",
          "Linux",
          "Azure",
          "Spark",
          "SQL",
          "TensorFlow"
         ],
         "xaxis": "x",
         "y": {
          "bdata": "APURKOa7zEBw/5+3zdHLQLBLq4PU48BA4PcYhl5+uECAcb/phLa0QCC2TbqUJbNAgKSI0sp8sUDAPoEeXRaqQMDFjEtzWqVAAPTyvxMclEAAGPmK/d5zQACo3jYYdGxAAJ+RbAXDhMAA3+0gOSaHwAAWvaf9up3A",
          "dtype": "f8"
         },
         "yaxis": "y"
        }
       ],
       "layout": {
        "barmode": "relative",
        "coloraxis": {
         "colorbar": {
          "title": {
           "text": "Salary Premium (USD)"
          }
         },
         "colorscale": [
          [
           0,
           "#440154"
          ],
          [
           0.1111111111111111,
           "#482878"
          ],
          [
           0.2222222222222222,
           "#3e4989"
          ],
          [
           0.3333333333333333,
           "#31688e"
          ],
          [
           0.4444444444444444,
           "#26828e"
          ],
          [
           0.5555555555555556,
           "#1f9e89"
          ],
          [
           0.6666666666666666,
           "#35b779"
          ],
          [
           0.7777777777777778,
           "#6ece58"
          ],
          [
           0.8888888888888888,
           "#b5de2b"
          ],
          [
           1,
           "#fde725"
          ]
         ]
        },
        "height": 500,
        "legend": {
         "tracegroupgap": 0
        },
        "template": {
         "data": {
          "bar": [
           {
            "error_x": {
             "color": "#2a3f5f"
            },
            "error_y": {
             "color": "#2a3f5f"
            },
            "marker": {
             "line": {
              "color": "#E5ECF6",
              "width": 0.5
             },
             "pattern": {
              "fillmode": "overlay",
              "size": 10,
              "solidity": 0.2
             }
            },
            "type": "bar"
           }
          ],
          "barpolar": [
           {
            "marker": {
             "line": {
              "color": "#E5ECF6",
              "width": 0.5
             },
             "pattern": {
              "fillmode": "overlay",
              "size": 10,
              "solidity": 0.2
             }
            },
            "type": "barpolar"
           }
          ],
          "carpet": [
           {
            "aaxis": {
             "endlinecolor": "#2a3f5f",
             "gridcolor": "white",
             "linecolor": "white",
             "minorgridcolor": "white",
             "startlinecolor": "#2a3f5f"
            },
            "baxis": {
             "endlinecolor": "#2a3f5f",
             "gridcolor": "white",
             "linecolor": "white",
             "minorgridcolor": "white",
             "startlinecolor": "#2a3f5f"
            },
            "type": "carpet"
           }
          ],
          "choropleth": [
           {
            "colorbar": {
             "outlinewidth": 0,
             "ticks": ""
            },
            "type": "choropleth"
           }
          ],
          "contour": [
           {
            "colorbar": {
             "outlinewidth": 0,
             "ticks": ""
            },
            "colorscale": [
             [
              0,
              "#0d0887"
             ],
             [
              0.1111111111111111,
              "#46039f"
             ],
             [
              0.2222222222222222,
              "#7201a8"
             ],
             [
              0.3333333333333333,
              "#9c179e"
             ],
             [
              0.4444444444444444,
              "#bd3786"
             ],
             [
              0.5555555555555556,
              "#d8576b"
             ],
             [
              0.6666666666666666,
              "#ed7953"
             ],
             [
              0.7777777777777778,
              "#fb9f3a"
             ],
             [
              0.8888888888888888,
              "#fdca26"
             ],
             [
              1,
              "#f0f921"
             ]
            ],
            "type": "contour"
           }
          ],
          "contourcarpet": [
           {
            "colorbar": {
             "outlinewidth": 0,
             "ticks": ""
            },
            "type": "contourcarpet"
           }
          ],
          "heatmap": [
           {
            "colorbar": {
             "outlinewidth": 0,
             "ticks": ""
            },
            "colorscale": [
             [
              0,
              "#0d0887"
             ],
             [
              0.1111111111111111,
              "#46039f"
             ],
             [
              0.2222222222222222,
              "#7201a8"
             ],
             [
              0.3333333333333333,
              "#9c179e"
             ],
             [
              0.4444444444444444,
              "#bd3786"
             ],
             [
              0.5555555555555556,
              "#d8576b"
             ],
             [
              0.6666666666666666,
              "#ed7953"
             ],
             [
              0.7777777777777778,
              "#fb9f3a"
             ],
             [
              0.8888888888888888,
              "#fdca26"
             ],
             [
              1,
              "#f0f921"
             ]
            ],
            "type": "heatmap"
           }
          ],
          "histogram": [
           {
            "marker": {
             "pattern": {
              "fillmode": "overlay",
              "size": 10,
              "solidity": 0.2
             }
            },
            "type": "histogram"
           }
          ],
          "histogram2d": [
           {
            "colorbar": {
             "outlinewidth": 0,
             "ticks": ""
            },
            "colorscale": [
             [
              0,
              "#0d0887"
             ],
             [
              0.1111111111111111,
              "#46039f"
             ],
             [
              0.2222222222222222,
              "#7201a8"
             ],
             [
              0.3333333333333333,
              "#9c179e"
             ],
             [
              0.4444444444444444,
              "#bd3786"
             ],
             [
              0.5555555555555556,
              "#d8576b"
             ],
             [
              0.6666666666666666,
              "#ed7953"
             ],
             [
              0.7777777777777778,
              "#fb9f3a"
             ],
             [
              0.8888888888888888,
              "#fdca26"
             ],
             [
              1,
              "#f0f921"
             ]
            ],
            "type": "histogram2d"
           }
          ],
          "histogram2dcontour": [
           {
            "colorbar": {
             "outlinewidth": 0,
             "ticks": ""
            },
            "colorscale": [
             [
              0,
              "#0d0887"
             ],
             [
              0.1111111111111111,
              "#46039f"
             ],
             [
              0.2222222222222222,
              "#7201a8"
             ],
             [
              0.3333333333333333,
              "#9c179e"
             ],
             [
              0.4444444444444444,
              "#bd3786"
             ],
             [
              0.5555555555555556,
              "#d8576b"
             ],
             [
              0.6666666666666666,
              "#ed7953"
             ],
             [
              0.7777777777777778,
              "#fb9f3a"
             ],
             [
              0.8888888888888888,
              "#fdca26"
             ],
             [
              1,
              "#f0f921"
             ]
            ],
            "type": "histogram2dcontour"
           }
          ],
          "mesh3d": [
           {
            "colorbar": {
             "outlinewidth": 0,
             "ticks": ""
            },
            "type": "mesh3d"
           }
          ],
          "parcoords": [
           {
            "line": {
             "colorbar": {
              "outlinewidth": 0,
              "ticks": ""
             }
            },
            "type": "parcoords"
           }
          ],
          "pie": [
           {
            "automargin": true,
            "type": "pie"
           }
          ],
          "scatter": [
           {
            "fillpattern": {
             "fillmode": "overlay",
             "size": 10,
             "solidity": 0.2
            },
            "type": "scatter"
           }
          ],
          "scatter3d": [
           {
            "line": {
             "colorbar": {
              "outlinewidth": 0,
              "ticks": ""
             }
            },
            "marker": {
             "colorbar": {
              "outlinewidth": 0,
              "ticks": ""
             }
            },
            "type": "scatter3d"
           }
          ],
          "scattercarpet": [
           {
            "marker": {
             "colorbar": {
              "outlinewidth": 0,
              "ticks": ""
             }
            },
            "type": "scattercarpet"
           }
          ],
          "scattergeo": [
           {
            "marker": {
             "colorbar": {
              "outlinewidth": 0,
              "ticks": ""
             }
            },
            "type": "scattergeo"
           }
          ],
          "scattergl": [
           {
            "marker": {
             "colorbar": {
              "outlinewidth": 0,
              "ticks": ""
             }
            },
            "type": "scattergl"
           }
          ],
          "scattermap": [
           {
            "marker": {
             "colorbar": {
              "outlinewidth": 0,
              "ticks": ""
             }
            },
            "type": "scattermap"
           }
          ],
          "scattermapbox": [
           {
            "marker": {
             "colorbar": {
              "outlinewidth": 0,
              "ticks": ""
             }
            },
            "type": "scattermapbox"
           }
          ],
          "scatterpolar": [
           {
            "marker": {
             "colorbar": {
              "outlinewidth": 0,
              "ticks": ""
             }
            },
            "type": "scatterpolar"
           }
          ],
          "scatterpolargl": [
           {
            "marker": {
             "colorbar": {
              "outlinewidth": 0,
              "ticks": ""
             }
            },
            "type": "scatterpolargl"
           }
          ],
          "scatterternary": [
           {
            "marker": {
             "colorbar": {
              "outlinewidth": 0,
              "ticks": ""
             }
            },
            "type": "scatterternary"
           }
          ],
          "surface": [
           {
            "colorbar": {
             "outlinewidth": 0,
             "ticks": ""
            },
            "colorscale": [
             [
              0,
              "#0d0887"
             ],
             [
              0.1111111111111111,
              "#46039f"
             ],
             [
              0.2222222222222222,
              "#7201a8"
             ],
             [
              0.3333333333333333,
              "#9c179e"
             ],
             [
              0.4444444444444444,
              "#bd3786"
             ],
             [
              0.5555555555555556,
              "#d8576b"
             ],
             [
              0.6666666666666666,
              "#ed7953"
             ],
             [
              0.7777777777777778,
              "#fb9f3a"
             ],
             [
              0.8888888888888888,
              "#fdca26"
             ],
             [
              1,
              "#f0f921"
             ]
            ],
            "type": "surface"
           }
          ],
          "table": [
           {
            "cells": {
             "fill": {
              "color": "#EBF0F8"
             },
             "line": {
              "color": "white"
             }
            },
            "header": {
             "fill": {
              "color": "#C8D4E3"
             },
             "line": {
              "color": "white"
             }
            },
            "type": "table"
           }
          ]
         },
         "layout": {
          "annotationdefaults": {
           "arrowcolor": "#2a3f5f",
           "arrowhead": 0,
           "arrowwidth": 1
          },
          "autotypenumbers": "strict",
          "coloraxis": {
           "colorbar": {
            "outlinewidth": 0,
            "ticks": ""
           }
          },
          "colorscale": {
           "diverging": [
            [
             0,
             "#8e0152"
            ],
            [
             0.1,
             "#c51b7d"
            ],
            [
             0.2,
             "#de77ae"
            ],
            [
             0.3,
             "#f1b6da"
            ],
            [
             0.4,
             "#fde0ef"
            ],
            [
             0.5,
             "#f7f7f7"
            ],
            [
             0.6,
             "#e6f5d0"
            ],
            [
             0.7,
             "#b8e186"
            ],
            [
             0.8,
             "#7fbc41"
            ],
            [
             0.9,
             "#4d9221"
            ],
            [
             1,
             "#276419"
            ]
           ],
           "sequential": [
            [
             0,
             "#0d0887"
            ],
            [
             0.1111111111111111,
             "#46039f"
            ],
            [
             0.2222222222222222,
             "#7201a8"
            ],
            [
             0.3333333333333333,
             "#9c179e"
            ],
            [
             0.4444444444444444,
             "#bd3786"
            ],
            [
             0.5555555555555556,
             "#d8576b"
            ],
            [
             0.6666666666666666,
             "#ed7953"
            ],
            [
             0.7777777777777778,
             "#fb9f3a"
            ],
            [
             0.8888888888888888,
             "#fdca26"
            ],
            [
             1,
             "#f0f921"
            ]
           ],
           "sequentialminus": [
            [
             0,
             "#0d0887"
            ],
            [
             0.1111111111111111,
             "#46039f"
            ],
            [
             0.2222222222222222,
             "#7201a8"
            ],
            [
             0.3333333333333333,
             "#9c179e"
            ],
            [
             0.4444444444444444,
             "#bd3786"
            ],
            [
             0.5555555555555556,
             "#d8576b"
            ],
            [
             0.6666666666666666,
             "#ed7953"
            ],
            [
             0.7777777777777778,
             "#fb9f3a"
            ],
            [
             0.8888888888888888,
             "#fdca26"
            ],
            [
             1,
             "#f0f921"
            ]
           ]
          },
          "colorway": [
           "#636efa",
           "#EF553B",
           "#00cc96",
           "#ab63fa",
           "#FFA15A",
           "#19d3f3",
           "#FF6692",
           "#B6E880",
           "#FF97FF",
           "#FECB52"
          ],
          "font": {
           "color": "#2a3f5f"
          },
          "geo": {
           "bgcolor": "white",
           "lakecolor": "white",
           "landcolor": "#E5ECF6",
           "showlakes": true,
           "showland": true,
           "subunitcolor": "white"
          },
          "hoverlabel": {
           "align": "left"
          },
          "hovermode": "closest",
          "mapbox": {
           "style": "light"
          },
          "paper_bgcolor": "white",
          "plot_bgcolor": "#E5ECF6",
          "polar": {
           "angularaxis": {
            "gridcolor": "white",
            "linecolor": "white",
            "ticks": ""
           },
           "bgcolor": "#E5ECF6",
           "radialaxis": {
            "gridcolor": "white",
            "linecolor": "white",
            "ticks": ""
           }
          },
          "scene": {
           "xaxis": {
            "backgroundcolor": "#E5ECF6",
            "gridcolor": "white",
            "gridwidth": 2,
            "linecolor": "white",
            "showbackground": true,
            "ticks": "",
            "zerolinecolor": "white"
           },
           "yaxis": {
            "backgroundcolor": "#E5ECF6",
            "gridcolor": "white",
            "gridwidth": 2,
            "linecolor": "white",
            "showbackground": true,
            "ticks": "",
            "zerolinecolor": "white"
           },
           "zaxis": {
            "backgroundcolor": "#E5ECF6",
            "gridcolor": "white",
            "gridwidth": 2,
            "linecolor": "white",
            "showbackground": true,
            "ticks": "",
            "zerolinecolor": "white"
           }
          },
          "shapedefaults": {
           "line": {
            "color": "#2a3f5f"
           }
          },
          "ternary": {
           "aaxis": {
            "gridcolor": "white",
            "linecolor": "white",
            "ticks": ""
           },
           "baxis": {
            "gridcolor": "white",
            "linecolor": "white",
            "ticks": ""
           },
           "bgcolor": "#E5ECF6",
           "caxis": {
            "gridcolor": "white",
            "linecolor": "white",
            "ticks": ""
           }
          },
          "title": {
           "x": 0.05
          },
          "xaxis": {
           "automargin": true,
           "gridcolor": "white",
           "linecolor": "white",
           "ticks": "",
           "title": {
            "standoff": 15
           },
           "zerolinecolor": "white",
           "zerolinewidth": 2
          },
          "yaxis": {
           "automargin": true,
           "gridcolor": "white",
           "linecolor": "white",
           "ticks": "",
           "title": {
            "standoff": 15
           },
           "zerolinecolor": "white",
           "zerolinewidth": 2
          }
         }
        },
        "title": {
         "text": "Top 15 Skills by Salary Premium"
        },
        "width": 900,
        "xaxis": {
         "anchor": "y",
         "categoryorder": "total descending",
         "domain": [
          0,
          1
         ],
         "title": {
          "text": "Skill"
         }
        },
        "yaxis": {
         "anchor": "x",
         "domain": [
          0,
          1
         ],
         "title": {
          "text": "Salary Premium (USD)"
         }
        }
       }
      }
     },
     "metadata": {},
     "output_type": "display_data"
    }
   ],
   "source": [
    "# Visualize skills by premium\n",
    "fig = px.bar(\n",
    "    skill_salary_df.head(15),\n",
    "    x='skill',\n",
    "    y='skill_premium',\n",
    "    color='skill_premium',\n",
    "    hover_data=['job_count', 'avg_salary', 'premium_percentage'],\n",
    "    title='Top 15 Skills by Salary Premium',\n",
    "    labels={\n",
    "        'skill': 'Skill',\n",
    "        'skill_premium': 'Salary Premium (USD)',\n",
    "        'job_count': 'Number of Jobs',\n",
    "        'premium_percentage': 'Premium (%)'\n",
    "    },\n",
    "    color_continuous_scale='Viridis'\n",
    ")\n",
    "fig.update_layout(\n",
    "    xaxis={'categoryorder': 'total descending'},\n",
    "    height=500,\n",
    "    width=900\n",
    ")\n",
    "fig.show()"
   ]
  },
  {
   "cell_type": "markdown",
   "metadata": {},
   "source": [
    "### Top Skills by Salary Premium: Key Insights\n",
    "\n",
    "The analysis of individual skill premiums reveals fascinating patterns about which technical capabilities command the highest value in the AI job market. Most notably, Java stands out with the highest salary premium of $14,712 (10.2%), despite not being traditionally associated as a primary AI language. This suggests that Java's enterprise integration capabilities may be particularly valuable for deploying AI solutions in production environments.\n",
    "\n",
    "Docker follows closely with a premium of $14,244 (9.8%), highlighting the critical importance of containerization skills for AI deployment and scalability. The substantial premiums for both Java and Docker indicate that implementation and operationalization skills may be more financially rewarded than pure algorithmic expertise.\n",
    "\n",
    "Among AI-specific technologies, PyTorch shows the strongest premium at $8,648 (6.0%), significantly outperforming TensorFlow, which actually shows a negative premium of -$1,903 (-1.3%). This suggests a market preference for PyTorch's flexibility and research orientation over TensorFlow's more structured approach.\n",
    "\n",
    "Version control (Git), cloud infrastructure (AWS), and specialized AI domains (NLP, Computer Vision) all command positive premiums in the $4,500-$6,300 range, confirming their value in the ecosystem. Meanwhile, general data technologies like SQL and Spark show slight negative premiums, suggesting these have become baseline expectations rather than differentiating skills.\n",
    "\n",
    "For STEAMe's workforce development initiatives, these findings highlight the importance of including deployment and operationalization skills alongside core AI techniques in training programs, as the highest premiums appear to reward the ability to implement AI solutions in production environments rather than just develop models."
   ]
  },
  {
   "cell_type": "markdown",
   "metadata": {},
   "source": [
    "### Skill Premiums by Experience Level\n",
    "\n",
    "To understand how the value of different skills varies throughout a career, we now examine how salary premiums change across experience levels. The following code analyzes the top 10 skills with the highest overall premiums and calculates their specific premium at each career stage (Entry, Mid-level, Senior, and Executive). This granular analysis will reveal which skills are particularly valuable for professionals at different points in their career trajectory, providing more targeted guidance for STEAMe's workforce development initiatives."
   ]
  },
  {
   "cell_type": "code",
   "execution_count": 42,
   "metadata": {},
   "outputs": [],
   "source": [
    "# 5. Analyze how skill premiums vary by experience level\n",
    "experience_levels = full_df['experience_level'].unique()\n",
    "skill_premium_by_exp = {}\n",
    "\n",
    "# Select top 10 skills with highest premium for the analysis\n",
    "top_skills = skill_salary_df.head(10)['skill'].tolist()\n",
    "\n",
    "for skill in top_skills:\n",
    "    skill_col = f'skill_{skill}'\n",
    "    if skill_col in full_df.columns:\n",
    "        premium_by_exp = []\n",
    "        \n",
    "        for exp in ['EN', 'MI', 'SE', 'EX']:  # Entry, Mid, Senior, Executive\n",
    "            exp_df = full_df[full_df['experience_level'] == exp]\n",
    "            \n",
    "            if len(exp_df) > 0:\n",
    "                with_skill = exp_df[exp_df[skill_col] == 1]\n",
    "                without_skill = exp_df[exp_df[skill_col] == 0]\n",
    "                \n",
    "                if len(with_skill) > 5 and len(without_skill) > 5:  # Ensure enough data points\n",
    "                    avg_with = with_skill['salary_usd'].mean()\n",
    "                    avg_without = without_skill['salary_usd'].mean()\n",
    "                    premium = avg_with - avg_without\n",
    "                    \n",
    "                    premium_by_exp.append({\n",
    "                        'experience_level': exp,\n",
    "                        'premium': premium,\n",
    "                        'avg_with_skill': avg_with,\n",
    "                        'job_count': len(with_skill)\n",
    "                    })\n",
    "        \n",
    "        if premium_by_exp:\n",
    "            premium_df = pd.DataFrame(premium_by_exp)\n",
    "            skill_premium_by_exp[skill] = premium_df\n",
    "\n",
    "# Create a visualization of premium by experience level for top skills\n",
    "premium_by_exp_data = []\n",
    "\n",
    "for skill, premium_df in skill_premium_by_exp.items():\n",
    "    for _, row in premium_df.iterrows():\n",
    "        premium_by_exp_data.append({\n",
    "            'Skill': skill,\n",
    "            'Experience Level': row['experience_level'],\n",
    "            'Premium': row['premium'],\n",
    "            'Job Count': row['job_count']\n",
    "        })\n",
    "\n",
    "premium_by_exp_df = pd.DataFrame(premium_by_exp_data)\n",
    "\n",
    "# Map experience level codes to more readable labels\n",
    "exp_level_map = {\n",
    "    'EN': 'Entry',\n",
    "    'MI': 'Mid-level',\n",
    "    'SE': 'Senior',\n",
    "    'EX': 'Executive'\n",
    "}\n",
    "premium_by_exp_df['Experience Level'] = premium_by_exp_df['Experience Level'].map(exp_level_map)"
   ]
  },
  {
   "cell_type": "code",
   "execution_count": 43,
   "metadata": {},
   "outputs": [
    {
     "data": {
      "application/vnd.plotly.v1+json": {
       "config": {
        "plotlyServerURL": "https://plot.ly"
       },
       "data": [
        {
         "alignmentgroup": "True",
         "customdata": {
          "bdata": "GBQjGBQXFCQUFQ==",
          "dtype": "i1",
          "shape": "10, 1"
         },
         "hovertemplate": "Experience Level=Entry<br>Skill=%{x}<br>Salary Premium (USD)=%{y}<br>Job Count=%{customdata[0]}<extra></extra>",
         "legendgroup": "Entry",
         "marker": {
          "color": "#636efa",
          "pattern": {
           "shape": ""
          }
         },
         "name": "Entry",
         "offsetgroup": "Entry",
         "orientation": "v",
         "showlegend": true,
         "textposition": "auto",
         "type": "bar",
         "x": [
          "Java",
          "Docker",
          "PyTorch",
          "Git",
          "AWS",
          "NLP",
          "Computer Vision",
          "Scala",
          "Data Visualization",
          "Deep Learning"
         ],
         "xaxis": "x",
         "y": {
          "bdata": "gD0K1yNmkEAAgT6iDACaQKDeeuFDwqzAgA102kC0g8AAoQ7qoI+UwFBfQ44WCrTAABzWvmF9lsBgOzDXjuOxQAA0svSQzm1AQG8yY28KlUA=",
          "dtype": "f8"
         },
         "yaxis": "y"
        },
        {
         "alignmentgroup": "True",
         "customdata": {
          "bdata": "HBAeGBYYIiAaFw==",
          "dtype": "i1",
          "shape": "10, 1"
         },
         "hovertemplate": "Experience Level=Mid-level<br>Skill=%{x}<br>Salary Premium (USD)=%{y}<br>Job Count=%{customdata[0]}<extra></extra>",
         "legendgroup": "Mid-level",
         "marker": {
          "color": "#EF553B",
          "pattern": {
           "shape": ""
          }
         },
         "name": "Mid-level",
         "offsetgroup": "Mid-level",
         "orientation": "v",
         "showlegend": true,
         "textposition": "auto",
         "type": "bar",
         "x": [
          "Java",
          "Docker",
          "PyTorch",
          "Git",
          "AWS",
          "NLP",
          "Computer Vision",
          "Scala",
          "Data Visualization",
          "Deep Learning"
         ],
         "xaxis": "x",
         "y": {
          "bdata": "AMQ//EM3qEBgGIZhOJeoQMCAaQyY56RAQERERGQ1mEDQkJi3syG0wKCIiIhIIqJAAJZjMP2ZacCgvIbyiuGwwCCGonwED6vAgNU6+yIig8A=",
          "dtype": "f8"
         },
         "yaxis": "y"
        },
        {
         "alignmentgroup": "True",
         "customdata": {
          "bdata": "IBUaIxcZHSUaEw==",
          "dtype": "i1",
          "shape": "10, 1"
         },
         "hovertemplate": "Experience Level=Senior<br>Skill=%{x}<br>Salary Premium (USD)=%{y}<br>Job Count=%{customdata[0]}<extra></extra>",
         "legendgroup": "Senior",
         "marker": {
          "color": "#00cc96",
          "pattern": {
           "shape": ""
          }
         },
         "name": "Senior",
         "offsetgroup": "Senior",
         "orientation": "v",
         "showlegend": true,
         "textposition": "auto",
         "type": "bar",
         "x": [
          "Java",
          "Docker",
          "PyTorch",
          "Git",
          "AWS",
          "NLP",
          "Computer Vision",
          "Scala",
          "Data Visualization",
          "Deep Learning"
         ],
         "xaxis": "x",
         "y": {
          "bdata": "gAoVKqT2rsCAxTFf9q+wwABaX3y4UZ5AgCyCC1sgoMCwY2RyA2bAQMB/KtV/ULHAAHxtyOkWaUCAFB57E9uzwAAakSxT2KXAQFozKkaYt8A=",
          "dtype": "f8"
         },
         "yaxis": "y"
        },
        {
         "alignmentgroup": "True",
         "customdata": {
          "bdata": "LR0pHhohIywYGg==",
          "dtype": "i1",
          "shape": "10, 1"
         },
         "hovertemplate": "Experience Level=Executive<br>Skill=%{x}<br>Salary Premium (USD)=%{y}<br>Job Count=%{customdata[0]}<extra></extra>",
         "legendgroup": "Executive",
         "marker": {
          "color": "#ab63fa",
          "pattern": {
           "shape": ""
          }
         },
         "name": "Executive",
         "offsetgroup": "Executive",
         "orientation": "v",
         "showlegend": true,
         "textposition": "auto",
         "type": "bar",
         "x": [
          "Java",
          "Docker",
          "PyTorch",
          "Git",
          "AWS",
          "NLP",
          "Computer Vision",
          "Scala",
          "Data Visualization",
          "Deep Learning"
         ],
         "xaxis": "x",
         "y": {
          "bdata": "wG+holjMrsDw1abBIJTAQCBrMrdVgMpAAI4PuCxOtkAAGtkf4fp/wOAP2f2QDbrAcJjhc5g1x8CAxLydgZWzwOAv6/1i4spAgFnQkyDWp8A=",
          "dtype": "f8"
         },
         "yaxis": "y"
        }
       ],
       "layout": {
        "barmode": "group",
        "height": 600,
        "legend": {
         "title": {
          "text": "Experience Level"
         },
         "tracegroupgap": 0
        },
        "template": {
         "data": {
          "bar": [
           {
            "error_x": {
             "color": "#2a3f5f"
            },
            "error_y": {
             "color": "#2a3f5f"
            },
            "marker": {
             "line": {
              "color": "#E5ECF6",
              "width": 0.5
             },
             "pattern": {
              "fillmode": "overlay",
              "size": 10,
              "solidity": 0.2
             }
            },
            "type": "bar"
           }
          ],
          "barpolar": [
           {
            "marker": {
             "line": {
              "color": "#E5ECF6",
              "width": 0.5
             },
             "pattern": {
              "fillmode": "overlay",
              "size": 10,
              "solidity": 0.2
             }
            },
            "type": "barpolar"
           }
          ],
          "carpet": [
           {
            "aaxis": {
             "endlinecolor": "#2a3f5f",
             "gridcolor": "white",
             "linecolor": "white",
             "minorgridcolor": "white",
             "startlinecolor": "#2a3f5f"
            },
            "baxis": {
             "endlinecolor": "#2a3f5f",
             "gridcolor": "white",
             "linecolor": "white",
             "minorgridcolor": "white",
             "startlinecolor": "#2a3f5f"
            },
            "type": "carpet"
           }
          ],
          "choropleth": [
           {
            "colorbar": {
             "outlinewidth": 0,
             "ticks": ""
            },
            "type": "choropleth"
           }
          ],
          "contour": [
           {
            "colorbar": {
             "outlinewidth": 0,
             "ticks": ""
            },
            "colorscale": [
             [
              0,
              "#0d0887"
             ],
             [
              0.1111111111111111,
              "#46039f"
             ],
             [
              0.2222222222222222,
              "#7201a8"
             ],
             [
              0.3333333333333333,
              "#9c179e"
             ],
             [
              0.4444444444444444,
              "#bd3786"
             ],
             [
              0.5555555555555556,
              "#d8576b"
             ],
             [
              0.6666666666666666,
              "#ed7953"
             ],
             [
              0.7777777777777778,
              "#fb9f3a"
             ],
             [
              0.8888888888888888,
              "#fdca26"
             ],
             [
              1,
              "#f0f921"
             ]
            ],
            "type": "contour"
           }
          ],
          "contourcarpet": [
           {
            "colorbar": {
             "outlinewidth": 0,
             "ticks": ""
            },
            "type": "contourcarpet"
           }
          ],
          "heatmap": [
           {
            "colorbar": {
             "outlinewidth": 0,
             "ticks": ""
            },
            "colorscale": [
             [
              0,
              "#0d0887"
             ],
             [
              0.1111111111111111,
              "#46039f"
             ],
             [
              0.2222222222222222,
              "#7201a8"
             ],
             [
              0.3333333333333333,
              "#9c179e"
             ],
             [
              0.4444444444444444,
              "#bd3786"
             ],
             [
              0.5555555555555556,
              "#d8576b"
             ],
             [
              0.6666666666666666,
              "#ed7953"
             ],
             [
              0.7777777777777778,
              "#fb9f3a"
             ],
             [
              0.8888888888888888,
              "#fdca26"
             ],
             [
              1,
              "#f0f921"
             ]
            ],
            "type": "heatmap"
           }
          ],
          "histogram": [
           {
            "marker": {
             "pattern": {
              "fillmode": "overlay",
              "size": 10,
              "solidity": 0.2
             }
            },
            "type": "histogram"
           }
          ],
          "histogram2d": [
           {
            "colorbar": {
             "outlinewidth": 0,
             "ticks": ""
            },
            "colorscale": [
             [
              0,
              "#0d0887"
             ],
             [
              0.1111111111111111,
              "#46039f"
             ],
             [
              0.2222222222222222,
              "#7201a8"
             ],
             [
              0.3333333333333333,
              "#9c179e"
             ],
             [
              0.4444444444444444,
              "#bd3786"
             ],
             [
              0.5555555555555556,
              "#d8576b"
             ],
             [
              0.6666666666666666,
              "#ed7953"
             ],
             [
              0.7777777777777778,
              "#fb9f3a"
             ],
             [
              0.8888888888888888,
              "#fdca26"
             ],
             [
              1,
              "#f0f921"
             ]
            ],
            "type": "histogram2d"
           }
          ],
          "histogram2dcontour": [
           {
            "colorbar": {
             "outlinewidth": 0,
             "ticks": ""
            },
            "colorscale": [
             [
              0,
              "#0d0887"
             ],
             [
              0.1111111111111111,
              "#46039f"
             ],
             [
              0.2222222222222222,
              "#7201a8"
             ],
             [
              0.3333333333333333,
              "#9c179e"
             ],
             [
              0.4444444444444444,
              "#bd3786"
             ],
             [
              0.5555555555555556,
              "#d8576b"
             ],
             [
              0.6666666666666666,
              "#ed7953"
             ],
             [
              0.7777777777777778,
              "#fb9f3a"
             ],
             [
              0.8888888888888888,
              "#fdca26"
             ],
             [
              1,
              "#f0f921"
             ]
            ],
            "type": "histogram2dcontour"
           }
          ],
          "mesh3d": [
           {
            "colorbar": {
             "outlinewidth": 0,
             "ticks": ""
            },
            "type": "mesh3d"
           }
          ],
          "parcoords": [
           {
            "line": {
             "colorbar": {
              "outlinewidth": 0,
              "ticks": ""
             }
            },
            "type": "parcoords"
           }
          ],
          "pie": [
           {
            "automargin": true,
            "type": "pie"
           }
          ],
          "scatter": [
           {
            "fillpattern": {
             "fillmode": "overlay",
             "size": 10,
             "solidity": 0.2
            },
            "type": "scatter"
           }
          ],
          "scatter3d": [
           {
            "line": {
             "colorbar": {
              "outlinewidth": 0,
              "ticks": ""
             }
            },
            "marker": {
             "colorbar": {
              "outlinewidth": 0,
              "ticks": ""
             }
            },
            "type": "scatter3d"
           }
          ],
          "scattercarpet": [
           {
            "marker": {
             "colorbar": {
              "outlinewidth": 0,
              "ticks": ""
             }
            },
            "type": "scattercarpet"
           }
          ],
          "scattergeo": [
           {
            "marker": {
             "colorbar": {
              "outlinewidth": 0,
              "ticks": ""
             }
            },
            "type": "scattergeo"
           }
          ],
          "scattergl": [
           {
            "marker": {
             "colorbar": {
              "outlinewidth": 0,
              "ticks": ""
             }
            },
            "type": "scattergl"
           }
          ],
          "scattermap": [
           {
            "marker": {
             "colorbar": {
              "outlinewidth": 0,
              "ticks": ""
             }
            },
            "type": "scattermap"
           }
          ],
          "scattermapbox": [
           {
            "marker": {
             "colorbar": {
              "outlinewidth": 0,
              "ticks": ""
             }
            },
            "type": "scattermapbox"
           }
          ],
          "scatterpolar": [
           {
            "marker": {
             "colorbar": {
              "outlinewidth": 0,
              "ticks": ""
             }
            },
            "type": "scatterpolar"
           }
          ],
          "scatterpolargl": [
           {
            "marker": {
             "colorbar": {
              "outlinewidth": 0,
              "ticks": ""
             }
            },
            "type": "scatterpolargl"
           }
          ],
          "scatterternary": [
           {
            "marker": {
             "colorbar": {
              "outlinewidth": 0,
              "ticks": ""
             }
            },
            "type": "scatterternary"
           }
          ],
          "surface": [
           {
            "colorbar": {
             "outlinewidth": 0,
             "ticks": ""
            },
            "colorscale": [
             [
              0,
              "#0d0887"
             ],
             [
              0.1111111111111111,
              "#46039f"
             ],
             [
              0.2222222222222222,
              "#7201a8"
             ],
             [
              0.3333333333333333,
              "#9c179e"
             ],
             [
              0.4444444444444444,
              "#bd3786"
             ],
             [
              0.5555555555555556,
              "#d8576b"
             ],
             [
              0.6666666666666666,
              "#ed7953"
             ],
             [
              0.7777777777777778,
              "#fb9f3a"
             ],
             [
              0.8888888888888888,
              "#fdca26"
             ],
             [
              1,
              "#f0f921"
             ]
            ],
            "type": "surface"
           }
          ],
          "table": [
           {
            "cells": {
             "fill": {
              "color": "#EBF0F8"
             },
             "line": {
              "color": "white"
             }
            },
            "header": {
             "fill": {
              "color": "#C8D4E3"
             },
             "line": {
              "color": "white"
             }
            },
            "type": "table"
           }
          ]
         },
         "layout": {
          "annotationdefaults": {
           "arrowcolor": "#2a3f5f",
           "arrowhead": 0,
           "arrowwidth": 1
          },
          "autotypenumbers": "strict",
          "coloraxis": {
           "colorbar": {
            "outlinewidth": 0,
            "ticks": ""
           }
          },
          "colorscale": {
           "diverging": [
            [
             0,
             "#8e0152"
            ],
            [
             0.1,
             "#c51b7d"
            ],
            [
             0.2,
             "#de77ae"
            ],
            [
             0.3,
             "#f1b6da"
            ],
            [
             0.4,
             "#fde0ef"
            ],
            [
             0.5,
             "#f7f7f7"
            ],
            [
             0.6,
             "#e6f5d0"
            ],
            [
             0.7,
             "#b8e186"
            ],
            [
             0.8,
             "#7fbc41"
            ],
            [
             0.9,
             "#4d9221"
            ],
            [
             1,
             "#276419"
            ]
           ],
           "sequential": [
            [
             0,
             "#0d0887"
            ],
            [
             0.1111111111111111,
             "#46039f"
            ],
            [
             0.2222222222222222,
             "#7201a8"
            ],
            [
             0.3333333333333333,
             "#9c179e"
            ],
            [
             0.4444444444444444,
             "#bd3786"
            ],
            [
             0.5555555555555556,
             "#d8576b"
            ],
            [
             0.6666666666666666,
             "#ed7953"
            ],
            [
             0.7777777777777778,
             "#fb9f3a"
            ],
            [
             0.8888888888888888,
             "#fdca26"
            ],
            [
             1,
             "#f0f921"
            ]
           ],
           "sequentialminus": [
            [
             0,
             "#0d0887"
            ],
            [
             0.1111111111111111,
             "#46039f"
            ],
            [
             0.2222222222222222,
             "#7201a8"
            ],
            [
             0.3333333333333333,
             "#9c179e"
            ],
            [
             0.4444444444444444,
             "#bd3786"
            ],
            [
             0.5555555555555556,
             "#d8576b"
            ],
            [
             0.6666666666666666,
             "#ed7953"
            ],
            [
             0.7777777777777778,
             "#fb9f3a"
            ],
            [
             0.8888888888888888,
             "#fdca26"
            ],
            [
             1,
             "#f0f921"
            ]
           ]
          },
          "colorway": [
           "#636efa",
           "#EF553B",
           "#00cc96",
           "#ab63fa",
           "#FFA15A",
           "#19d3f3",
           "#FF6692",
           "#B6E880",
           "#FF97FF",
           "#FECB52"
          ],
          "font": {
           "color": "#2a3f5f"
          },
          "geo": {
           "bgcolor": "white",
           "lakecolor": "white",
           "landcolor": "#E5ECF6",
           "showlakes": true,
           "showland": true,
           "subunitcolor": "white"
          },
          "hoverlabel": {
           "align": "left"
          },
          "hovermode": "closest",
          "mapbox": {
           "style": "light"
          },
          "paper_bgcolor": "white",
          "plot_bgcolor": "#E5ECF6",
          "polar": {
           "angularaxis": {
            "gridcolor": "white",
            "linecolor": "white",
            "ticks": ""
           },
           "bgcolor": "#E5ECF6",
           "radialaxis": {
            "gridcolor": "white",
            "linecolor": "white",
            "ticks": ""
           }
          },
          "scene": {
           "xaxis": {
            "backgroundcolor": "#E5ECF6",
            "gridcolor": "white",
            "gridwidth": 2,
            "linecolor": "white",
            "showbackground": true,
            "ticks": "",
            "zerolinecolor": "white"
           },
           "yaxis": {
            "backgroundcolor": "#E5ECF6",
            "gridcolor": "white",
            "gridwidth": 2,
            "linecolor": "white",
            "showbackground": true,
            "ticks": "",
            "zerolinecolor": "white"
           },
           "zaxis": {
            "backgroundcolor": "#E5ECF6",
            "gridcolor": "white",
            "gridwidth": 2,
            "linecolor": "white",
            "showbackground": true,
            "ticks": "",
            "zerolinecolor": "white"
           }
          },
          "shapedefaults": {
           "line": {
            "color": "#2a3f5f"
           }
          },
          "ternary": {
           "aaxis": {
            "gridcolor": "white",
            "linecolor": "white",
            "ticks": ""
           },
           "baxis": {
            "gridcolor": "white",
            "linecolor": "white",
            "ticks": ""
           },
           "bgcolor": "#E5ECF6",
           "caxis": {
            "gridcolor": "white",
            "linecolor": "white",
            "ticks": ""
           }
          },
          "title": {
           "x": 0.05
          },
          "xaxis": {
           "automargin": true,
           "gridcolor": "white",
           "linecolor": "white",
           "ticks": "",
           "title": {
            "standoff": 15
           },
           "zerolinecolor": "white",
           "zerolinewidth": 2
          },
          "yaxis": {
           "automargin": true,
           "gridcolor": "white",
           "linecolor": "white",
           "ticks": "",
           "title": {
            "standoff": 15
           },
           "zerolinecolor": "white",
           "zerolinewidth": 2
          }
         }
        },
        "title": {
         "text": "Skill Premium by Experience Level"
        },
        "width": 1000,
        "xaxis": {
         "anchor": "y",
         "categoryorder": "total descending",
         "domain": [
          0,
          1
         ],
         "title": {
          "text": "Skill"
         }
        },
        "yaxis": {
         "anchor": "x",
         "domain": [
          0,
          1
         ],
         "title": {
          "text": "Salary Premium (USD)"
         }
        }
       }
      }
     },
     "metadata": {},
     "output_type": "display_data"
    }
   ],
   "source": [
    "# Visualize how premium varies by experience level\n",
    "fig = px.bar(\n",
    "    premium_by_exp_df,\n",
    "    x='Skill',\n",
    "    y='Premium',\n",
    "    color='Experience Level',\n",
    "    barmode='group',\n",
    "    title='Skill Premium by Experience Level',\n",
    "    labels={'Premium': 'Salary Premium (USD)'},\n",
    "    hover_data=['Job Count'],\n",
    "    height=600,\n",
    "    width=1000\n",
    ")\n",
    "fig.update_layout(xaxis={'categoryorder': 'total descending'})\n",
    "fig.show()"
   ]
  },
  {
   "cell_type": "markdown",
   "metadata": {},
   "source": [
    "### Skill Premium by Experience Level: Key Insights\n",
    "\n",
    "The analysis of how skill premiums vary across experience levels reveals striking patterns that challenge the notion of universally valuable skills. Most notably, the value of specific technical capabilities changes dramatically throughout a professional's career path:\n",
    "\n",
    "At the **Executive level**, certain skills command exceptional premiums—PyTorch ($13,569) and Data Visualization ($13,765) stand out as particularly valuable, suggesting that executives who maintain technical proficiency in these areas are highly sought after. Conversely, Computer Vision shows a substantial negative premium (-$11,883) at this level, indicating it may be perceived as overly specialized for executive roles.\n",
    "\n",
    "For **Senior positions**, AWS emerges as the only skill with a substantial positive premium ($8,396), highlighting the value of cloud architecture expertise at this career stage. Most other skills show negative premiums, suggesting that by the senior level, specific technical skills become less differentiating than broader competencies.\n",
    "\n",
    "At **Mid-level**, most skills show modest positive premiums, with Docker ($3,148), Java ($3,100), and PyTorch ($2,676) leading the pack. Interestingly, AWS shows a significant negative premium (-$5,154) at this level despite its value for senior roles.\n",
    "\n",
    "For **Entry-level** positions, Scala shows the highest premium ($4,580), followed by Docker ($1,664) and Deep Learning ($1,347), while PyTorch (-$3,681) and NLP (-$5,130) actually reduce expected compensation.\n",
    "\n",
    "These findings have profound implications for STEAMe's workforce development initiatives, suggesting that optimal skill development pathways should evolve as careers progress. Early-career professionals should prioritize foundational skills like Scala and Docker, mid-career individuals should develop Java and PyTorch expertise, senior professionals should focus on AWS, while executives may benefit from maintaining proficiency in PyTorch and Data Visualization while de-emphasizing Computer Vision."
   ]
  },
  {
   "cell_type": "markdown",
   "metadata": {},
   "source": [
    "## 3. Regression Analysis for Salary Drivers\n",
    "\n",
    "After examining individual skills and their varying premiums across experience levels, we now need a more holistic understanding of salary determinants in the AI job market. While our previous analysis revealed valuable insights about specific skills like PyTorch commanding significant premiums at the executive level or AWS being particularly valuable for senior roles, these bivariate relationships don't account for the complex interplay of multiple factors simultaneously affecting compensation.\n",
    "\n",
    "Regression analysis allows us to move beyond isolated skill premiums to build a comprehensive model that controls for confounding variables and quantifies the relative importance of different factors. By incorporating experience level, education, industry, company size, skill requirements, and other variables into a unified model, we can identify which factors truly drive salary differences when all else is held constant. This approach helps us distinguish correlation from causation and provides a more nuanced understanding of the AI compensation landscape.\n",
    "\n",
    "For STEAMe's workforce development mission, these regression insights will be particularly valuable. They will help learners understand which factors most significantly impact earning potential, enabling more strategic career planning and skill development. Additionally, the model will quantify the expected return on investment for different educational pathways and skill acquisitions, supporting data-driven decision making for both individuals and training providers."
   ]
  },
  {
   "cell_type": "markdown",
   "metadata": {},
   "source": [
    "### Preparation for Regression Analysis\n",
    "\n",
    "Before building our regression model to identify the key determinants of AI job salaries, we must carefully prepare our dataset. This preparation involves selecting relevant features while avoiding multicollinearity, handling categorical variables appropriately, and addressing any outliers that might skew our results. Since our goal is to create an interpretable model that isolates the impact of various factors on compensation, we'll be particularly careful to include variables from our skill premium analysis while ensuring they don't overlap excessively with other predictors. This groundwork will allow us to build a robust model that provides reliable insights into what truly drives salary differences in the AI job market."
   ]
  },
  {
   "cell_type": "code",
   "execution_count": 45,
   "metadata": {},
   "outputs": [
    {
     "name": "stdout",
     "output_type": "stream",
     "text": [
      "Shape of full dataset: (724, 81)\n",
      "No missing values in selected features.\n",
      "Shape after creating dummy variables: (724, 64)\n"
     ]
    }
   ],
   "source": [
    "# Import necessary libraries for regression analysis\n",
    "import statsmodels.api as sm\n",
    "from statsmodels.stats.outliers_influence import variance_inflation_factor\n",
    "from sklearn.preprocessing import StandardScaler\n",
    "from sklearn.linear_model import LinearRegression, Ridge, Lasso\n",
    "from sklearn.model_selection import train_test_split, cross_val_score\n",
    "from sklearn.metrics import mean_squared_error, r2_score\n",
    "import matplotlib.pyplot as plt\n",
    "import numpy as np\n",
    "import pandas as pd\n",
    "import plotly.express as px\n",
    "import plotly.graph_objects as go\n",
    "\n",
    "# Start with our feature-enhanced dataset\n",
    "# Ensure we're working with the most recent version that includes all our derived features\n",
    "print(\"Shape of full dataset:\", full_df.shape)\n",
    "\n",
    "# Select potential predictor variables\n",
    "# Include numerical features\n",
    "numerical_features = [\n",
    "    'years_experience',\n",
    "    'education_level',\n",
    "    'remote_ratio',\n",
    "    'job_description_length',\n",
    "    'benefits_score',\n",
    "    'skill_count',\n",
    "    'skill_domains_count'\n",
    "]\n",
    "\n",
    "# Select categorical features to include\n",
    "categorical_features = [\n",
    "    'experience_level',\n",
    "    'employment_type',\n",
    "    'company_size',\n",
    "    'industry',\n",
    "    'job_title'\n",
    "]\n",
    "\n",
    "# Include top skills from our premium analysis\n",
    "top_skill_cols = [f\"skill_{skill}\" for skill in ['Java', 'Docker', 'PyTorch', 'Git', 'AWS', \n",
    "                                                'NLP', 'Computer Vision', 'Scala', \n",
    "                                                'Data Visualization', 'Deep Learning']]\n",
    "\n",
    "# Include the top skill combination features\n",
    "combo_cols = [col for col in full_df.columns if col.startswith('combo_')][:5]  # Top 5 combinations\n",
    "\n",
    "# Combine all selected features\n",
    "selected_features = numerical_features + categorical_features + top_skill_cols + combo_cols\n",
    "\n",
    "# Check if we have any missing values in these columns\n",
    "missing_values = full_df[selected_features + ['salary_usd']].isnull().sum()\n",
    "if missing_values.sum() > 0:\n",
    "    print(\"Missing values detected:\")\n",
    "    display(missing_values[missing_values > 0])\n",
    "else:\n",
    "    print(\"No missing values in selected features.\")\n",
    "\n",
    "# Create dummy variables for categorical features\n",
    "model_df = pd.get_dummies(\n",
    "    full_df[selected_features + ['salary_usd']], \n",
    "    columns=categorical_features,\n",
    "    drop_first=True  # Remove one category per feature to avoid perfect multicollinearity\n",
    ")\n",
    "\n",
    "# Check the shape after creating dummies\n",
    "print(f\"Shape after creating dummy variables: {model_df.shape}\")"
   ]
  },
  {
   "cell_type": "markdown",
   "metadata": {},
   "source": [
    "### Feature Selection and Preparation\n",
    "\n",
    "In this initial data preparation step, we've carefully selected variables from our enhanced dataset to include in the regression model. We've organized predictors into several categories: numerical features (like years of experience and education level), categorical variables (such as experience level and industry), top individual skills that showed high premiums in our earlier analysis, and the most frequent skill combinations. After confirming no missing values exist in our selected features, we've transformed categorical variables into dummy indicators using one-hot encoding with the drop-first approach to avoid perfect multicollinearity. This transformation expanded our feature space considerably, converting our original variables into a regression-ready format where each categorical level becomes its own binary predictor."
   ]
  },
  {
   "cell_type": "markdown",
   "metadata": {},
   "source": [
    "### Addressing Multicollinearity\n",
    "\n",
    "Before building our regression model, we need to identify and address multicollinearity—a situation where predictor variables are highly correlated with each other. Multicollinearity can destabilize regression coefficients and make it difficult to isolate the true effect of individual variables on salary. To detect this issue, we calculate the Variance Inflation Factor (VIF) for each predictor, which measures how much the variance of a coefficient is inflated due to correlation with other predictors. After converting all variables to numeric format for compatibility with the VIF calculation, we identify and remove features with extreme multicollinearity (VIF > 20), ensuring our final model will provide more reliable and interpretable estimates of each factor's contribution to AI job compensation."
   ]
  },
  {
   "cell_type": "code",
   "execution_count": 48,
   "metadata": {},
   "outputs": [
    {
     "name": "stdout",
     "output_type": "stream",
     "text": [
      "Data type of X_numeric: [dtype('float64')]\n",
      "Features with high multicollinearity (VIF > 10):\n"
     ]
    },
    {
     "data": {
      "text/html": [
       "<div>\n",
       "<style scoped>\n",
       "    .dataframe tbody tr th:only-of-type {\n",
       "        vertical-align: middle;\n",
       "    }\n",
       "\n",
       "    .dataframe tbody tr th {\n",
       "        vertical-align: top;\n",
       "    }\n",
       "\n",
       "    .dataframe thead th {\n",
       "        text-align: right;\n",
       "    }\n",
       "</style>\n",
       "<table border=\"1\" class=\"dataframe\">\n",
       "  <thead>\n",
       "    <tr style=\"text-align: right;\">\n",
       "      <th></th>\n",
       "      <th>Feature</th>\n",
       "      <th>VIF</th>\n",
       "    </tr>\n",
       "  </thead>\n",
       "  <tbody>\n",
       "    <tr>\n",
       "      <th>5</th>\n",
       "      <td>skill_count</td>\n",
       "      <td>44.858827</td>\n",
       "    </tr>\n",
       "    <tr>\n",
       "      <th>0</th>\n",
       "      <td>years_experience</td>\n",
       "      <td>26.273951</td>\n",
       "    </tr>\n",
       "    <tr>\n",
       "      <th>4</th>\n",
       "      <td>benefits_score</td>\n",
       "      <td>21.428173</td>\n",
       "    </tr>\n",
       "    <tr>\n",
       "      <th>22</th>\n",
       "      <td>experience_level_EX</td>\n",
       "      <td>20.970440</td>\n",
       "    </tr>\n",
       "    <tr>\n",
       "      <th>6</th>\n",
       "      <td>skill_domains_count</td>\n",
       "      <td>17.403493</td>\n",
       "    </tr>\n",
       "  </tbody>\n",
       "</table>\n",
       "</div>"
      ],
      "text/plain": [
       "                Feature        VIF\n",
       "5           skill_count  44.858827\n",
       "0      years_experience  26.273951\n",
       "4        benefits_score  21.428173\n",
       "22  experience_level_EX  20.970440\n",
       "6   skill_domains_count  17.403493"
      ]
     },
     "metadata": {},
     "output_type": "display_data"
    },
    {
     "name": "stdout",
     "output_type": "stream",
     "text": [
      "Removing 4 features with extreme multicollinearity\n"
     ]
    }
   ],
   "source": [
    "# Check for multicollinearity using Variance Inflation Factor (VIF)\n",
    "# First, create a dataframe with just the predictor variables\n",
    "X = model_df.drop('salary_usd', axis=1)\n",
    "y = model_df['salary_usd']\n",
    "\n",
    "# Convert all columns to numeric type\n",
    "X_numeric = X.astype(float)\n",
    "\n",
    "# Check if conversion was successful\n",
    "print(f\"Data type of X_numeric: {X_numeric.dtypes.unique()}\")\n",
    "\n",
    "# Calculate VIF for each feature\n",
    "vif_data = pd.DataFrame()\n",
    "vif_data[\"Feature\"] = X_numeric.columns\n",
    "vif_data[\"VIF\"] = [variance_inflation_factor(X_numeric.values, i) for i in range(X_numeric.shape[1])]\n",
    "\n",
    "# Sort by VIF value\n",
    "vif_data = vif_data.sort_values('VIF', ascending=False)\n",
    "\n",
    "# Display features with high multicollinearity (VIF > 10)\n",
    "print(\"Features with high multicollinearity (VIF > 10):\")\n",
    "display(vif_data[vif_data[\"VIF\"] > 10])\n",
    "\n",
    "# Remove features with extreme multicollinearity (VIF > 20)\n",
    "high_vif_features = vif_data[vif_data[\"VIF\"] > 20][\"Feature\"].tolist()\n",
    "if high_vif_features:\n",
    "    print(f\"Removing {len(high_vif_features)} features with extreme multicollinearity\")\n",
    "    X = X.drop(columns=high_vif_features)\n",
    "    # Recalculate X_numeric without high VIF features\n",
    "    X_numeric = X.astype(float)\n",
    "else:\n",
    "    print(\"No features with extreme multicollinearity detected\")"
   ]
  },
  {
   "cell_type": "markdown",
   "metadata": {},
   "source": [
    "### Data Preparation Insights\n",
    "\n",
    "The multicollinearity analysis revealed several highly correlated predictors in our dataset. Most notably, skill_count showed extreme multicollinearity (VIF = 44.86), likely because it's mathematically derived from our individual skill indicators. Similarly, years_experience (VIF = 26.27) and experience_level_EX (VIF = 20.97) exhibited high correlation, as they capture related aspects of professional seniority. By removing these problematic variables with VIF values above 20, we've created a cleaner dataset that will produce more stable and interpretable regression coefficients. This preparation ensures our model can more accurately isolate the unique contribution of each factor to AI job salaries without the distortion that comes from redundant predictors."
   ]
  },
  {
   "cell_type": "markdown",
   "metadata": {},
   "source": [
    "### Checking for Outliers in the Target Variable\n",
    "\n",
    "To ensure our regression model isn't unduly influenced by extreme salary values, we'll identify potential outliers using the interquartile range (IQR) method. This statistical technique defines outliers as values falling below Q1-1.5×IQR or above Q3+1.5×IQR, where Q1 and Q3 are the 25th and 75th percentiles of the salary distribution. By flagging these extreme cases, we can assess their potential impact on our model and consider creating alternative models with and without these observations."
   ]
  },
  {
   "cell_type": "code",
   "execution_count": 49,
   "metadata": {},
   "outputs": [
    {
     "name": "stdout",
     "output_type": "stream",
     "text": [
      "Number of outliers in salary: 12 (1.66% of data)\n"
     ]
    }
   ],
   "source": [
    "# Check for outliers in the target variable\n",
    "Q1 = y.quantile(0.25)\n",
    "Q3 = y.quantile(0.75)\n",
    "IQR = Q3 - Q1\n",
    "lower_bound = Q1 - 1.5 * IQR\n",
    "upper_bound = Q3 + 1.5 * IQR\n",
    "\n",
    "outliers = y[(y < lower_bound) | (y > upper_bound)]\n",
    "print(f\"Number of outliers in salary: {len(outliers)} ({len(outliers)/len(y):.2%} of data)\")"
   ]
  },
  {
   "cell_type": "markdown",
   "metadata": {},
   "source": [
    "Our analysis identified only 12 salary outliers, representing a modest 1.66% of the dataset. This relatively small proportion suggests that while there are some unusually high or low compensation packages in the AI job market, they don't constitute a major part of our data. Since these outliers represent legitimate market phenomena rather than data errors, we'll retain them in our primary analysis while remaining mindful of their potential influence on our model coefficients."
   ]
  },
  {
   "cell_type": "markdown",
   "metadata": {},
   "source": [
    "## Feature Scaling and Train-Test Split\n",
    "\n",
    "As a final preparation step before modeling, we'll standardize our numerical features and divide our dataset into training and testing portions. Standardization transforms features to have zero mean and unit variance, which helps with coefficient interpretability and prevents variables with larger scales from dominating the model. By maintaining both standardized and unstandardized versions of our data, we can choose the most appropriate format for different modeling techniques. The train-test split reserves 20% of our data for model validation, allowing us to assess how well our findings will generalize to new AI job market data."
   ]
  },
  {
   "cell_type": "code",
   "execution_count": 56,
   "metadata": {},
   "outputs": [
    {
     "name": "stdout",
     "output_type": "stream",
     "text": [
      "Training set shape: (579, 59)\n",
      "Testing set shape: (145, 59)\n",
      "\n",
      "First few rows of prepared features:\n"
     ]
    },
    {
     "data": {
      "text/html": [
       "<div>\n",
       "<style scoped>\n",
       "    .dataframe tbody tr th:only-of-type {\n",
       "        vertical-align: middle;\n",
       "    }\n",
       "\n",
       "    .dataframe tbody tr th {\n",
       "        vertical-align: top;\n",
       "    }\n",
       "\n",
       "    .dataframe thead th {\n",
       "        text-align: right;\n",
       "    }\n",
       "</style>\n",
       "<table border=\"1\" class=\"dataframe\">\n",
       "  <thead>\n",
       "    <tr style=\"text-align: right;\">\n",
       "      <th></th>\n",
       "      <th>education_level</th>\n",
       "      <th>remote_ratio</th>\n",
       "      <th>job_description_length</th>\n",
       "      <th>skill_domains_count</th>\n",
       "      <th>skill_Java</th>\n",
       "      <th>skill_Docker</th>\n",
       "      <th>skill_PyTorch</th>\n",
       "      <th>skill_Git</th>\n",
       "      <th>skill_AWS</th>\n",
       "      <th>skill_NLP</th>\n",
       "      <th>...</th>\n",
       "      <th>job_title_Data Scientist</th>\n",
       "      <th>job_title_Deep Learning Engineer</th>\n",
       "      <th>job_title_Head of AI</th>\n",
       "      <th>job_title_ML Ops Engineer</th>\n",
       "      <th>job_title_Machine Learning Engineer</th>\n",
       "      <th>job_title_Machine Learning Researcher</th>\n",
       "      <th>job_title_NLP Engineer</th>\n",
       "      <th>job_title_Principal Data Scientist</th>\n",
       "      <th>job_title_Research Scientist</th>\n",
       "      <th>job_title_Robotics Engineer</th>\n",
       "    </tr>\n",
       "  </thead>\n",
       "  <tbody>\n",
       "    <tr>\n",
       "      <th>0</th>\n",
       "      <td>1</td>\n",
       "      <td>0</td>\n",
       "      <td>625</td>\n",
       "      <td>3</td>\n",
       "      <td>0</td>\n",
       "      <td>0</td>\n",
       "      <td>1</td>\n",
       "      <td>0</td>\n",
       "      <td>0</td>\n",
       "      <td>1</td>\n",
       "      <td>...</td>\n",
       "      <td>False</td>\n",
       "      <td>False</td>\n",
       "      <td>False</td>\n",
       "      <td>False</td>\n",
       "      <td>False</td>\n",
       "      <td>False</td>\n",
       "      <td>False</td>\n",
       "      <td>False</td>\n",
       "      <td>False</td>\n",
       "      <td>False</td>\n",
       "    </tr>\n",
       "    <tr>\n",
       "      <th>1</th>\n",
       "      <td>1</td>\n",
       "      <td>0</td>\n",
       "      <td>761</td>\n",
       "      <td>2</td>\n",
       "      <td>0</td>\n",
       "      <td>0</td>\n",
       "      <td>0</td>\n",
       "      <td>0</td>\n",
       "      <td>0</td>\n",
       "      <td>0</td>\n",
       "      <td>...</td>\n",
       "      <td>True</td>\n",
       "      <td>False</td>\n",
       "      <td>False</td>\n",
       "      <td>False</td>\n",
       "      <td>False</td>\n",
       "      <td>False</td>\n",
       "      <td>False</td>\n",
       "      <td>False</td>\n",
       "      <td>False</td>\n",
       "      <td>False</td>\n",
       "    </tr>\n",
       "    <tr>\n",
       "      <th>2</th>\n",
       "      <td>1</td>\n",
       "      <td>50</td>\n",
       "      <td>2290</td>\n",
       "      <td>2</td>\n",
       "      <td>1</td>\n",
       "      <td>0</td>\n",
       "      <td>0</td>\n",
       "      <td>0</td>\n",
       "      <td>0</td>\n",
       "      <td>0</td>\n",
       "      <td>...</td>\n",
       "      <td>False</td>\n",
       "      <td>False</td>\n",
       "      <td>False</td>\n",
       "      <td>False</td>\n",
       "      <td>False</td>\n",
       "      <td>False</td>\n",
       "      <td>False</td>\n",
       "      <td>False</td>\n",
       "      <td>False</td>\n",
       "      <td>False</td>\n",
       "    </tr>\n",
       "    <tr>\n",
       "      <th>3</th>\n",
       "      <td>0</td>\n",
       "      <td>50</td>\n",
       "      <td>1151</td>\n",
       "      <td>1</td>\n",
       "      <td>0</td>\n",
       "      <td>0</td>\n",
       "      <td>0</td>\n",
       "      <td>0</td>\n",
       "      <td>0</td>\n",
       "      <td>0</td>\n",
       "      <td>...</td>\n",
       "      <td>False</td>\n",
       "      <td>False</td>\n",
       "      <td>False</td>\n",
       "      <td>False</td>\n",
       "      <td>False</td>\n",
       "      <td>False</td>\n",
       "      <td>False</td>\n",
       "      <td>False</td>\n",
       "      <td>False</td>\n",
       "      <td>False</td>\n",
       "    </tr>\n",
       "    <tr>\n",
       "      <th>4</th>\n",
       "      <td>0</td>\n",
       "      <td>100</td>\n",
       "      <td>2028</td>\n",
       "      <td>2</td>\n",
       "      <td>0</td>\n",
       "      <td>1</td>\n",
       "      <td>0</td>\n",
       "      <td>0</td>\n",
       "      <td>0</td>\n",
       "      <td>0</td>\n",
       "      <td>...</td>\n",
       "      <td>False</td>\n",
       "      <td>False</td>\n",
       "      <td>False</td>\n",
       "      <td>False</td>\n",
       "      <td>False</td>\n",
       "      <td>False</td>\n",
       "      <td>False</td>\n",
       "      <td>False</td>\n",
       "      <td>True</td>\n",
       "      <td>False</td>\n",
       "    </tr>\n",
       "  </tbody>\n",
       "</table>\n",
       "<p>5 rows × 59 columns</p>\n",
       "</div>"
      ],
      "text/plain": [
       "   education_level  remote_ratio  job_description_length  skill_domains_count  \\\n",
       "0                1             0                     625                    3   \n",
       "1                1             0                     761                    2   \n",
       "2                1            50                    2290                    2   \n",
       "3                0            50                    1151                    1   \n",
       "4                0           100                    2028                    2   \n",
       "\n",
       "   skill_Java  skill_Docker  skill_PyTorch  skill_Git  skill_AWS  skill_NLP  \\\n",
       "0           0             0              1          0          0          1   \n",
       "1           0             0              0          0          0          0   \n",
       "2           1             0              0          0          0          0   \n",
       "3           0             0              0          0          0          0   \n",
       "4           0             1              0          0          0          0   \n",
       "\n",
       "   ...  job_title_Data Scientist  job_title_Deep Learning Engineer  \\\n",
       "0  ...                     False                             False   \n",
       "1  ...                      True                             False   \n",
       "2  ...                     False                             False   \n",
       "3  ...                     False                             False   \n",
       "4  ...                     False                             False   \n",
       "\n",
       "   job_title_Head of AI  job_title_ML Ops Engineer  \\\n",
       "0                 False                      False   \n",
       "1                 False                      False   \n",
       "2                 False                      False   \n",
       "3                 False                      False   \n",
       "4                 False                      False   \n",
       "\n",
       "   job_title_Machine Learning Engineer  job_title_Machine Learning Researcher  \\\n",
       "0                                False                                  False   \n",
       "1                                False                                  False   \n",
       "2                                False                                  False   \n",
       "3                                False                                  False   \n",
       "4                                False                                  False   \n",
       "\n",
       "   job_title_NLP Engineer  job_title_Principal Data Scientist  \\\n",
       "0                   False                               False   \n",
       "1                   False                               False   \n",
       "2                   False                               False   \n",
       "3                   False                               False   \n",
       "4                   False                               False   \n",
       "\n",
       "   job_title_Research Scientist  job_title_Robotics Engineer  \n",
       "0                         False                        False  \n",
       "1                         False                        False  \n",
       "2                         False                        False  \n",
       "3                         False                        False  \n",
       "4                          True                        False  \n",
       "\n",
       "[5 rows x 59 columns]"
      ]
     },
     "metadata": {},
     "output_type": "display_data"
    }
   ],
   "source": [
    "# Standardize numerical predictors for easier interpretation of coefficients\n",
    "# We'll keep both standardized and unstandardized versions\n",
    "scaler = StandardScaler()\n",
    "numerical_cols = [col for col in X.columns if col in numerical_features]\n",
    "X_std = X.copy()\n",
    "X_std[numerical_cols] = scaler.fit_transform(X[numerical_cols])\n",
    "\n",
    "# Split data into training and testing sets\n",
    "X_train, X_test, y_train, y_test = train_test_split(X, y, test_size=0.2, random_state=42)\n",
    "X_train_std, X_test_std, y_train_std, y_test_std = train_test_split(X_std, y, test_size=0.2, random_state=42)\n",
    "\n",
    "print(f\"Training set shape: {X_train.shape}\")\n",
    "print(f\"Testing set shape: {X_test.shape}\")\n",
    "\n",
    "# Final check of our prepared data\n",
    "print(\"\\nFirst few rows of prepared features:\")\n",
    "display(X.head())"
   ]
  },
  {
   "cell_type": "code",
   "execution_count": 54,
   "metadata": {},
   "outputs": [],
   "source": [
    "# Save the prepared data for the next steps\n",
    "regression_data = {\n",
    "    'X': X,\n",
    "    'y': y,\n",
    "    'X_std': X_std,\n",
    "    'X_train': X_train,\n",
    "    'X_test': X_test,\n",
    "    'y_train': y_train,\n",
    "    'y_test': y_test,\n",
    "    'X_train_std': X_train_std,\n",
    "    'X_test_std': X_test_std,\n",
    "}"
   ]
  },
  {
   "cell_type": "markdown",
   "metadata": {},
   "source": [
    "### Data Preparation Summary\n",
    "\n",
    "We have successfully prepared a robust dataset for our regression analysis of AI job salary drivers. Through careful feature selection, we identified relevant predictors from our enhanced dataset, including numerical variables, categorical factors, and key skills identified in our premium analysis. We addressed multicollinearity by calculating variance inflation factors and removing highly correlated predictors that could destabilize our model. After identifying a small number of salary outliers, standardizing numerical features for better interpretability, and splitting our data into training and testing sets, we've stored all prepared datasets in a dictionary for easy access in the next step. With this thorough preparation, we're now ready to build a multiple linear regression model using statsmodels that will reveal the key factors driving compensation in the AI job market and quantify their relative importance."
   ]
  },
  {
   "cell_type": "markdown",
   "metadata": {},
   "source": [
    "### Build Linear Regression Model\n",
    "\n",
    "Now that we've prepared our data and addressed potential issues like multicollinearity and outliers, we're ready to build a multiple linear regression model to identify the key drivers of AI job salaries. This model will quantify the impact of various factors on compensation while controlling for other variables, allowing us to isolate the unique contribution of each predictor. Unlike our earlier bivariate analyses of skill premiums, regression provides a more comprehensive understanding by simultaneously considering all relevant factors. We'll start with a standard Ordinary Least Squares (OLS) model using statsmodels, which provides detailed statistical outputs including coefficient estimates, confidence intervals, p-values, and overall model fit statistics."
   ]
  },
  {
   "cell_type": "code",
   "execution_count": 63,
   "metadata": {},
   "outputs": [
    {
     "name": "stdout",
     "output_type": "stream",
     "text": [
      "Model Summary:\n",
      "                            OLS Regression Results                            \n",
      "==============================================================================\n",
      "Dep. Variable:                      y   R-squared:                       0.258\n",
      "Model:                            OLS   Adj. R-squared:                  0.174\n",
      "Method:                 Least Squares   F-statistic:                     3.063\n",
      "Date:                Mon, 16 Jun 2025   Prob (F-statistic):           1.00e-11\n",
      "Time:                        19:03:58   Log-Likelihood:                -7172.6\n",
      "No. Observations:                 579   AIC:                         1.447e+04\n",
      "Df Residuals:                     519   BIC:                         1.473e+04\n",
      "Df Model:                          59                                         \n",
      "Covariance Type:            nonrobust                                         \n",
      "==============================================================================\n",
      "                 coef    std err          t      P>|t|      [0.025      0.975]\n",
      "------------------------------------------------------------------------------\n",
      "const       2.054e+05   1.68e+04     12.233      0.000    1.72e+05    2.38e+05\n",
      "x1          -233.1579   2676.522     -0.087      0.931   -5491.307    5024.992\n",
      "x2          3973.0227   2681.635      1.482      0.139   -1295.171    9241.216\n",
      "x3          4195.3203   2707.444      1.550      0.122   -1123.577    9514.217\n",
      "x4           461.9612   3046.522      0.152      0.880   -5523.069    6446.992\n",
      "x5          1.118e+04   7258.979      1.540      0.124   -3081.051    2.54e+04\n",
      "x6          7072.3952   8474.630      0.835      0.404   -9576.399    2.37e+04\n",
      "x7          1333.2104   7134.699      0.187      0.852   -1.27e+04    1.53e+04\n",
      "x8           312.3569   7424.703      0.042      0.966   -1.43e+04    1.49e+04\n",
      "x9          1983.7122   8512.756      0.233      0.816   -1.47e+04    1.87e+04\n",
      "x10          1.62e+04   8188.264      1.978      0.048     109.392    3.23e+04\n",
      "x11         3784.5843   7302.418      0.518      0.604   -1.06e+04    1.81e+04\n",
      "x12         9759.6163   7350.894      1.328      0.185   -4681.549    2.42e+04\n",
      "x13         6710.2523   7614.162      0.881      0.379   -8248.114    2.17e+04\n",
      "x14         3578.1735   8724.835      0.410      0.682   -1.36e+04    2.07e+04\n",
      "x15         8280.9687   1.02e+04      0.814      0.416   -1.17e+04    2.83e+04\n",
      "x16         -2.98e+04   1.53e+04     -1.949      0.052   -5.98e+04     242.202\n",
      "x17         -4.84e+04   1.94e+04     -2.495      0.013   -8.65e+04   -1.03e+04\n",
      "x18        -3.389e+04   1.46e+04     -2.327      0.020   -6.25e+04   -5278.874\n",
      "x19        -7481.5560   1.21e+04     -0.620      0.536   -3.12e+04    1.62e+04\n",
      "x20        -5.384e+04   6411.611     -8.397      0.000   -6.64e+04   -4.12e+04\n",
      "x21        -1.353e+04   6551.875     -2.064      0.039   -2.64e+04    -653.898\n",
      "x22        -1.673e+04   7122.821     -2.349      0.019   -3.07e+04   -2735.949\n",
      "x23        -1.178e+04   7442.290     -1.582      0.114   -2.64e+04    2844.279\n",
      "x24        -5746.7703   7915.233     -0.726      0.468   -2.13e+04    9803.064\n",
      "x25        -2.136e+04   6426.041     -3.324      0.001    -3.4e+04   -8738.365\n",
      "x26        -3.347e+04   6608.352     -5.065      0.000   -4.65e+04   -2.05e+04\n",
      "x27         -472.8938   1.42e+04     -0.033      0.973   -2.83e+04    2.73e+04\n",
      "x28        -1.017e+04   1.44e+04     -0.708      0.479   -3.84e+04    1.81e+04\n",
      "x29        -1.696e+04   1.38e+04     -1.231      0.219    -4.4e+04    1.01e+04\n",
      "x30         1.046e+04   1.55e+04      0.677      0.499   -1.99e+04    4.08e+04\n",
      "x31          370.3397   1.54e+04      0.024      0.981   -2.98e+04    3.05e+04\n",
      "x32         5376.0159   1.44e+04      0.374      0.709   -2.29e+04    3.36e+04\n",
      "x33        -1.265e+04   1.57e+04     -0.807      0.420   -4.34e+04    1.81e+04\n",
      "x34        -2.388e+04   1.48e+04     -1.613      0.107    -5.3e+04    5197.312\n",
      "x35          -79.4707   1.47e+04     -0.005      0.996    -2.9e+04    2.89e+04\n",
      "x36          195.4835   1.43e+04      0.014      0.989   -2.79e+04    2.83e+04\n",
      "x37         1.264e+04   1.37e+04      0.923      0.356   -1.43e+04    3.95e+04\n",
      "x38        -5976.3657   1.43e+04     -0.419      0.676    -3.4e+04    2.21e+04\n",
      "x39        -9374.4932   1.47e+04     -0.637      0.525   -3.83e+04    1.96e+04\n",
      "x40        -2.046e+04   1.42e+04     -1.444      0.149   -4.83e+04    7382.247\n",
      "x41        -1.373e+04   1.72e+04     -0.800      0.424   -4.74e+04       2e+04\n",
      "x42        -2.007e+04   1.62e+04     -1.243      0.215   -5.18e+04    1.17e+04\n",
      "x43        -2.152e+04    1.6e+04     -1.348      0.178   -5.29e+04    9846.554\n",
      "x44        -1.117e+04    1.7e+04     -0.655      0.512   -4.47e+04    2.23e+04\n",
      "x45        -1.369e+04   1.59e+04     -0.861      0.390   -4.49e+04    1.76e+04\n",
      "x46        -4806.0148   1.59e+04     -0.302      0.763   -3.61e+04    2.65e+04\n",
      "x47         -834.9857   1.79e+04     -0.047      0.963    -3.6e+04    3.43e+04\n",
      "x48        -1.841e+04   1.62e+04     -1.139      0.255   -5.01e+04    1.33e+04\n",
      "x49        -4.186e+04   1.65e+04     -2.544      0.011   -7.42e+04   -9537.277\n",
      "x50        -1.834e+04   1.54e+04     -1.190      0.235   -4.86e+04    1.19e+04\n",
      "x51        -3.146e+04   1.66e+04     -1.892      0.059   -6.41e+04    1198.023\n",
      "x52        -1.756e+04   1.64e+04     -1.073      0.284   -4.97e+04    1.46e+04\n",
      "x53        -2.532e+04   1.73e+04     -1.467      0.143   -5.92e+04    8584.574\n",
      "x54        -1.964e+04   1.76e+04     -1.116      0.265   -5.42e+04    1.49e+04\n",
      "x55         3711.0645   1.69e+04      0.220      0.826   -2.95e+04    3.69e+04\n",
      "x56        -7307.4595    1.7e+04     -0.430      0.667   -4.07e+04    2.61e+04\n",
      "x57        -2.926e+04   1.59e+04     -1.842      0.066   -6.05e+04    1941.976\n",
      "x58        -1.087e+04   1.68e+04     -0.647      0.518   -4.39e+04    2.21e+04\n",
      "x59        -1.248e+04   1.59e+04     -0.787      0.432   -4.36e+04    1.87e+04\n",
      "==============================================================================\n",
      "Omnibus:                        8.489   Durbin-Watson:                   1.962\n",
      "Prob(Omnibus):                  0.014   Jarque-Bera (JB):                8.709\n",
      "Skew:                           0.297   Prob(JB):                       0.0128\n",
      "Kurtosis:                       2.915   Cond. No.                         28.6\n",
      "==============================================================================\n",
      "\n",
      "Notes:\n",
      "[1] Standard Errors assume that the covariance matrix of the errors is correctly specified.\n"
     ]
    }
   ],
   "source": [
    "# Build a linear regression model using statsmodels for detailed statistics\n",
    "# We'll use the standardized features for better coefficient interpretability\n",
    "X_train_sm = sm.add_constant(X_train_std)  # Add intercept term\n",
    "model = sm.OLS(np.asarray(y_train.astype(float)), np.asarray(X_train_sm.astype(float)))\n",
    "results = model.fit()\n",
    "\n",
    "# Get model summary statistics\n",
    "print(\"Model Summary:\")\n",
    "print(results.summary())\n",
    "\n",
    "# Extract key model statistics\n",
    "r_squared = results.rsquared\n",
    "adj_r_squared = results.rsquared_adj\n",
    "f_stat = results.fvalue\n",
    "f_pvalue = results.f_pvalue\n",
    "aic = results.aic\n",
    "bic = results.bic\n",
    "\n",
    "# Create a summary of model performance\n",
    "model_stats = pd.DataFrame({\n",
    "    'Metric': ['R-squared', 'Adjusted R-squared', 'F-statistic', 'F p-value', 'AIC', 'BIC'],\n",
    "    'Value': [r_squared, adj_r_squared, f_stat, f_pvalue, aic, bic]\n",
    "})"
   ]
  },
  {
   "cell_type": "markdown",
   "metadata": {},
   "source": [
    "Our multiple linear regression model explains approximately 25.8% of the variation in AI job salaries (R-squared = 0.258), with an adjusted R-squared of 0.174 that accounts for the number of predictors used. While this explanatory power is modest, the model is statistically significant overall (F-statistic p-value < 0.001), indicating that our predictors collectively have meaningful relationships with salary levels.\n",
    "\n",
    "Several individual predictors show statistically significant effects (p < 0.05):\n",
    "- Variable x10 has a positive coefficient (approximately +$16,200), suggesting it increases expected salary\n",
    "- Variables x17, x18, x20, x21, x22, x25, x26, and x49 all have negative coefficients, indicating they're associated with lower expected salaries when controlling for other factors\n",
    "\n",
    "The model satisfies basic regression assumptions, with a Durbin-Watson statistic near 2 (1.962) indicating no significant autocorrelation. However, there's slight evidence of non-normality in the residuals (Omnibus test p-value = 0.014), which may warrant further investigation.\n",
    "\n",
    "The relatively low R-squared suggests that while we've captured some important salary drivers, there are likely additional factors or non-linear relationships not captured by our current model. We should consider examining the significant predictors more closely to understand what specific skills, experience levels, or industry factors are most strongly influencing AI job compensation."
   ]
  },
  {
   "cell_type": "markdown",
   "metadata": {},
   "source": [
    "## Next Steps and Key Compensation Drivers\n",
    "\n",
    "Given the model's modest explanatory power (R-squared = 0.258), we should take several steps to improve our understanding of AI salary determinants:\n",
    "\n",
    "1. **Examine Variable Importance**: Identify which specific factors the significant variables (x10, x17, x18, etc.) represent in our dataset. These numeric placeholders obscure the actual predictors driving compensation differences.\n",
    "\n",
    "2. **Consider Non-Linear Relationships**: The current model assumes linear relationships between predictors and salary. We should explore polynomial terms or interaction effects, particularly between experience level and skills, as our earlier analysis showed skill premiums vary substantially across career stages.\n",
    "\n",
    "3. **Feature Selection Refinement**: Implement a more systematic approach to feature selection, such as stepwise regression or LASSO, to identify the most relevant predictors and create a more useful model.\n",
    "\n",
    "4. **Alternative Modeling Approaches**: Consider more flexible models like random forests or gradient boosting machines that can capture non-linear patterns and complex interactions.\n",
    "\n",
    "Based on our previous analyses, several key factors appear to drive AI compensation:\n",
    "\n",
    "1. **Experience Level**: Executive positions command substantial premiums, particularly when combined with certain technical skills.\n",
    "\n",
    "2. **High-Value Skills**: Java, Docker, and PyTorch showed the highest overall premiums, with PyTorch being particularly valuable at the executive level.\n",
    "\n",
    "3. **Skill Domain Breadth**: Jobs requiring skills across multiple domains or complete coverage of all domains showed higher compensation than those with moderate skill breadth.\n",
    "\n",
    "4. **Industry Variation**: Finance, Gaming, and Retail industries offered higher median salaries than others, suggesting industry-specific factors significantly influence compensation.\n",
    "\n",
    "By refining our modeling approach and focusing on these key drivers, we can develop a more comprehensive understanding of the factors that truly determine compensation in the AI job market, providing STEAMe's users with more actionable intelligence for career planning and skill development."
   ]
  }
 ],
 "metadata": {
  "kernelspec": {
   "display_name": ".venv",
   "language": "python",
   "name": "python3"
  },
  "language_info": {
   "codemirror_mode": {
    "name": "ipython",
    "version": 3
   },
   "file_extension": ".py",
   "mimetype": "text/x-python",
   "name": "python",
   "nbconvert_exporter": "python",
   "pygments_lexer": "ipython3",
   "version": "3.12.4"
  }
 },
 "nbformat": 4,
 "nbformat_minor": 2
}
